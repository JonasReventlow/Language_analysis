{
 "cells": [
  {
   "cell_type": "code",
   "execution_count": 3,
   "metadata": {},
   "outputs": [
    {
     "data": {
      "text/plain": [
       "{1, 2, 3, 4}"
      ]
     },
     "execution_count": 3,
     "metadata": {},
     "output_type": "execute_result"
    }
   ],
   "source": [
    "numbers = [1,2,3,4,2,3]\n",
    "set(numbers)"
   ]
  },
  {
   "cell_type": "markdown",
   "metadata": {},
   "source": [
    "Dubletter bliver skubbet væk\n",
    "\n",
    "I dette tilfælde får man hvilke type tal der er i listen\n",
    "\n",
    "I et set er tallene tilfædige - det betyder fx at hvis man lavede et for loop på et set ved man ikke hvilke tal der bliver taget"
   ]
  },
  {
   "cell_type": "code",
   "execution_count": 4,
   "metadata": {},
   "outputs": [],
   "source": [
    "words = {'of','and','the'}"
   ]
  },
  {
   "cell_type": "code",
   "execution_count": 5,
   "metadata": {},
   "outputs": [
    {
     "data": {
      "text/plain": [
       "set"
      ]
     },
     "execution_count": 5,
     "metadata": {},
     "output_type": "execute_result"
    }
   ],
   "source": [
    "type(words)"
   ]
  },
  {
   "cell_type": "code",
   "execution_count": 6,
   "metadata": {},
   "outputs": [],
   "source": [
    "myset = set()\n",
    "myset = set([])\n",
    "#vigtigt at huske at sådan SKAL man lave et tomt set"
   ]
  },
  {
   "cell_type": "markdown",
   "metadata": {},
   "source": [
    "Ligesom string og lister så er der en række metoder til sets"
   ]
  },
  {
   "cell_type": "markdown",
   "metadata": {},
   "source": [
    "Mængdelære:\n",
    "\n",
    "Fællesmængden = den fælles værdi\n",
    "\n",
    "foreningsmængden = det samlede\n",
    "\n",
    "Komplementærmængden = det samlede plus en sammenligning med noget udefrakommende\n",
    "\n",
    "= dette skal bruge til en kvantitativ tekstanalyse\n",
    "Fx - hvad har alle præsident taler tilfældes."
   ]
  },
  {
   "cell_type": "code",
   "execution_count": 8,
   "metadata": {},
   "outputs": [],
   "source": [
    "ten = set([0,1,2,3,4,5,6,7,8,9])\n",
    "lows = set([0,1,2,3])\n",
    "odds = set([1,3,5,7,9])"
   ]
  },
  {
   "cell_type": "code",
   "execution_count": 9,
   "metadata": {},
   "outputs": [],
   "source": [
    "lows.add(4) "
   ]
  },
  {
   "cell_type": "code",
   "execution_count": 10,
   "metadata": {},
   "outputs": [
    {
     "data": {
      "text/plain": [
       "{0, 1, 2, 3, 4}"
      ]
     },
     "execution_count": 10,
     "metadata": {},
     "output_type": "execute_result"
    }
   ],
   "source": [
    "lows"
   ]
  },
  {
   "cell_type": "code",
   "execution_count": 11,
   "metadata": {},
   "outputs": [
    {
     "data": {
      "text/plain": [
       "{0, 2, 4}"
      ]
     },
     "execution_count": 11,
     "metadata": {},
     "output_type": "execute_result"
    }
   ],
   "source": [
    "lows.difference(odds)"
   ]
  },
  {
   "cell_type": "code",
   "execution_count": 12,
   "metadata": {},
   "outputs": [
    {
     "data": {
      "text/plain": [
       "{1, 3}"
      ]
     },
     "execution_count": 12,
     "metadata": {},
     "output_type": "execute_result"
    }
   ],
   "source": [
    "lows.intersection(odds)"
   ]
  },
  {
   "cell_type": "code",
   "execution_count": 13,
   "metadata": {},
   "outputs": [
    {
     "data": {
      "text/plain": [
       "True"
      ]
     },
     "execution_count": 13,
     "metadata": {},
     "output_type": "execute_result"
    }
   ],
   "source": [
    "lows.issubset(ten)"
   ]
  },
  {
   "cell_type": "code",
   "execution_count": 17,
   "metadata": {},
   "outputs": [],
   "source": [
    "lows.update([0,5])\n",
    "#forskellen fra add er det her er en liste"
   ]
  },
  {
   "cell_type": "code",
   "execution_count": 15,
   "metadata": {},
   "outputs": [
    {
     "data": {
      "text/plain": [
       "{0, 1, 2, 3, 4, 5}"
      ]
     },
     "execution_count": 15,
     "metadata": {},
     "output_type": "execute_result"
    }
   ],
   "source": [
    "lows"
   ]
  },
  {
   "cell_type": "code",
   "execution_count": 18,
   "metadata": {},
   "outputs": [
    {
     "data": {
      "text/plain": [
       "6"
      ]
     },
     "execution_count": 18,
     "metadata": {},
     "output_type": "execute_result"
    }
   ],
   "source": [
    "len(lows)"
   ]
  },
  {
   "cell_type": "code",
   "execution_count": 20,
   "metadata": {},
   "outputs": [
    {
     "name": "stdout",
     "output_type": "stream",
     "text": [
      "0\n",
      "1\n",
      "2\n",
      "3\n",
      "4\n",
      "5\n"
     ]
    }
   ],
   "source": [
    "for number in lows:\n",
    "    print(number)\n",
    "#det kan godt være at tallene ligger numeerisk, men de er tilfældige udlagt i sets - og når man har gjort det \n",
    "    #en gang, så husker den det"
   ]
  },
  {
   "cell_type": "code",
   "execution_count": 22,
   "metadata": {},
   "outputs": [],
   "source": [
    "if '45' in lows:\n",
    "    print('hejhej')"
   ]
  },
  {
   "cell_type": "markdown",
   "metadata": {},
   "source": [
    "in, for loop og len metoder er fulstædige det samme som med strings og lister"
   ]
  },
  {
   "cell_type": "markdown",
   "metadata": {},
   "source": [
    "Øvelser \n",
    "\n",
    "1 lav en funktion som tag er en liste osm input og retunerer listen uden dubletter\n",
    "\n",
    "2 lav et program som undersøger om der er dubletter på en liste\n",
    "\n",
    "3 lav et program som retunerer de elementer som findes i begge lister"
   ]
  },
  {
   "cell_type": "code",
   "execution_count": 23,
   "metadata": {},
   "outputs": [],
   "source": [
    "#1\n",
    "engclass = ['michael','peter','ida','viggo','ida']"
   ]
  },
  {
   "cell_type": "code",
   "execution_count": 24,
   "metadata": {},
   "outputs": [],
   "source": [
    "def noduplicates(items):\n",
    "    return set(items)\n",
    "#man får jo faktisk returetet et set og ikke en liste som vi ville have det --> der for er det ikke den samme \n",
    "    #rækkefælge --> hvis dette skal løses skal man lave det i et for loop"
   ]
  },
  {
   "cell_type": "code",
   "execution_count": 25,
   "metadata": {},
   "outputs": [
    {
     "data": {
      "text/plain": [
       "{'ida', 'michael', 'peter', 'viggo'}"
      ]
     },
     "execution_count": 25,
     "metadata": {},
     "output_type": "execute_result"
    }
   ],
   "source": [
    "noduplicates(engclass)\n",
    "#her er det dog ikke gemt, og vi skal have det ind i et varibel"
   ]
  },
  {
   "cell_type": "code",
   "execution_count": 26,
   "metadata": {},
   "outputs": [],
   "source": [
    "newitems = noduplicates(engclass)\n",
    "#her griber en varibale funktionen --> man kunne også have lavet en tom liste i funktionen"
   ]
  },
  {
   "cell_type": "code",
   "execution_count": 27,
   "metadata": {},
   "outputs": [],
   "source": [
    "#1\n",
    "engclass = ['michael','peter','ida','viggo','ida']"
   ]
  },
  {
   "cell_type": "code",
   "execution_count": 29,
   "metadata": {},
   "outputs": [],
   "source": [
    "def ifduplicates(mylist):\n",
    "    mylist2 = noduplicates(mylist)\n",
    "    if len(mylist)==len(set(mylist)):\n",
    "        print('no duplicates')\n",
    "    else:\n",
    "        print('there are duplicates')"
   ]
  },
  {
   "cell_type": "code",
   "execution_count": 31,
   "metadata": {},
   "outputs": [
    {
     "ename": "NameError",
     "evalue": "name 'math' is not defined",
     "output_type": "error",
     "traceback": [
      "\u001b[0;31m---------------------------------------------------------------------------\u001b[0m",
      "\u001b[0;31mNameError\u001b[0m                                 Traceback (most recent call last)",
      "\u001b[0;32m<ipython-input-31-6dcbd96b46a1>\u001b[0m in \u001b[0;36m<module>\u001b[0;34m\u001b[0m\n\u001b[1;32m      3\u001b[0m \u001b[0mmats\u001b[0m \u001b[0;34m=\u001b[0m \u001b[0mset\u001b[0m\u001b[0;34m(\u001b[0m\u001b[0mmathclass\u001b[0m\u001b[0;34m)\u001b[0m\u001b[0;34m\u001b[0m\u001b[0;34m\u001b[0m\u001b[0m\n\u001b[1;32m      4\u001b[0m \u001b[0meng\u001b[0m \u001b[0;34m=\u001b[0m \u001b[0mset\u001b[0m\u001b[0;34m(\u001b[0m\u001b[0mengclass\u001b[0m\u001b[0;34m)\u001b[0m\u001b[0;34m\u001b[0m\u001b[0;34m\u001b[0m\u001b[0m\n\u001b[0;32m----> 5\u001b[0;31m \u001b[0mprint\u001b[0m\u001b[0;34m(\u001b[0m\u001b[0meng\u001b[0m\u001b[0;34m.\u001b[0m\u001b[0mintersection\u001b[0m\u001b[0;34m(\u001b[0m\u001b[0mmath\u001b[0m\u001b[0;34m)\u001b[0m\u001b[0;34m)\u001b[0m\u001b[0;34m\u001b[0m\u001b[0;34m\u001b[0m\u001b[0m\n\u001b[0m\u001b[1;32m      6\u001b[0m \u001b[0;31m#ville virke hvis jeg har gemt listerne --> kunne ikke nå det\u001b[0m\u001b[0;34m\u001b[0m\u001b[0;34m\u001b[0m\u001b[0;34m\u001b[0m\u001b[0m\n",
      "\u001b[0;31mNameError\u001b[0m: name 'math' is not defined"
     ]
    }
   ],
   "source": [
    "#3\n",
    "mathclass =[]\n",
    "mats = set(mathclass)\n",
    "eng = set(engclass)\n",
    "print(eng.intersection(math))\n",
    "#ville virke hvis jeg har gemt listerne --> kunne ikke nå det\n"
   ]
  },
  {
   "cell_type": "markdown",
   "metadata": {},
   "source": [
    "I jypyter ved den at vi vil printe hele tiden, derfor er det vigtigt at printe, da andre platforme har det som kriterie."
   ]
  },
  {
   "cell_type": "code",
   "execution_count": 35,
   "metadata": {},
   "outputs": [
    {
     "name": "stdout",
     "output_type": "stream",
     "text": [
      "{'ib', 'per', 'viggo', 'eva', 'jan', 'bo', 'tim', 'ulla', 'tom'}\n"
     ]
    }
   ],
   "source": [
    "elements = [['eva','jan','per'],'bo','ib','eva',['eva','tim','tom'],{'ulla','viggo'}]\n",
    "\n",
    "newset = set()\n",
    "for name in elements:\n",
    "    if type(name) == str:\n",
    "        newset.add(name)\n",
    "    else:\n",
    "        newset.update(name)\n",
    "        \n",
    "print(newset)"
   ]
  },
  {
   "cell_type": "markdown",
   "metadata": {},
   "source": [
    "hvis man bare putter navne ind i en update så blander et set alle bogstaverne"
   ]
  },
  {
   "cell_type": "markdown",
   "metadata": {},
   "source": [
    "if statement vil nu for det meste blive erstattet af try og accept statements\n",
    "\n",
    "ved at bruge try og accept slipper man for at skrive hvad statementet er, som man skal i if"
   ]
  },
  {
   "cell_type": "code",
   "execution_count": 36,
   "metadata": {},
   "outputs": [
    {
     "ename": "NameError",
     "evalue": "name 'math' is not defined",
     "output_type": "error",
     "traceback": [
      "\u001b[0;31m---------------------------------------------------------------------------\u001b[0m",
      "\u001b[0;31mNameError\u001b[0m                                 Traceback (most recent call last)",
      "\u001b[0;32m<ipython-input-36-e67b1c9425d8>\u001b[0m in \u001b[0;36m<module>\u001b[0;34m\u001b[0m\n\u001b[1;32m      1\u001b[0m \u001b[0;31m#4 - fjerne en værdi fra et sæt\u001b[0m\u001b[0;34m\u001b[0m\u001b[0;34m\u001b[0m\u001b[0;34m\u001b[0m\u001b[0m\n\u001b[0;32m----> 2\u001b[0;31m \u001b[0mmath\u001b[0m\u001b[0;34m.\u001b[0m\u001b[0mremove\u001b[0m\u001b[0;34m(\u001b[0m\u001b[0;34m'ida'\u001b[0m\u001b[0;34m)\u001b[0m\u001b[0;34m\u001b[0m\u001b[0;34m\u001b[0m\u001b[0m\n\u001b[0m",
      "\u001b[0;31mNameError\u001b[0m: name 'math' is not defined"
     ]
    }
   ],
   "source": [
    "#4 - fjerne en værdi fra et sæt\n",
    "#har ikke fået gemt math\n",
    "math.remove('ida')\n",
    "math.discard('chokolade')\n",
    "math"
   ]
  },
  {
   "cell_type": "markdown",
   "metadata": {},
   "source": [
    "### hashable\n",
    "\n",
    "I python er alle 'immutable' objekter en hasable (strings, boolean, int). Det betyder at værdien ikke ændres i hele objektets levetid. Python opretter en unik værdi for alle hasable objekter.\n",
    "Fx lister kommer ikke ind i en hashable matrix da de ændres i.\n",
    "\n",
    "unhasable datatyper: dict, list og set"
   ]
  },
  {
   "attachments": {
    "image.png": {
     "image/png": "[encoded data removed]"
    }
   },
   "cell_type": "markdown",
   "metadata": {},
   "source": [
    "### Opgaver \n",
    "\n",
    "Bed bruger indtaste et tal. Så længe bruger indtaster noget andet end et tal så giv en fejlmeddelelse\n",
    "\n",
    "Kommunikationen kan se således ud:\n",
    "Please enter a number: hej \n",
    "Oops! That was not a valid number. Try again... \n",
    "\n",
    "Please enter a number: hello \n",
    "Oops! That was not a valid number. Try again... \n",
    "\n",
    "Please enter a number: 45 \n",
    "nice number :)\n",
    "![image.png](attachment:image.png)"
   ]
  },
  {
   "cell_type": "code",
   "execution_count": 1,
   "metadata": {},
   "outputs": [
    {
     "name": "stdout",
     "output_type": "stream",
     "text": [
      "please enter a number: 2d\n",
      "oops! That was not a valid number. Try again...\n",
      "please enter a number: (\n",
      "oops! That was not a valid number. Try again...\n",
      "please enter a number: 1212\n",
      "nice number :)\n"
     ]
    }
   ],
   "source": [
    "while True:\n",
    "    try:\n",
    "        user_input = int(input(\"please enter a number: \"))\n",
    "        print(\"nice number :)\")\n",
    "        break\n",
    "    except ValueError:\n",
    "        print(\"oops! That was not a valid number. Try again...\")"
   ]
  },
  {
   "cell_type": "markdown",
   "metadata": {},
   "source": [
    "### re-modulet\n",
    "\n",
    "(faktisk ikke pensum, men godt at kunne)\n",
    "\n",
    "kan bruges til at lave mønstre for sproget. Hvis man fx gerne vil finde email, hjemmesider, tlfnr, bestemt html-kode, bestemter ordendelser.\n",
    "\n",
    "Der er pgså ulemper ved re-modulet. Svært at læse - kun for indviede.\n",
    "\n",
    "Her forsøger vi at finde alle sætningsafsluttere som IKKE skal opfattes som sætningsafslutter i det pågældende tilfæde. Dvs tilfælde hvor .?! ikke afslutter sætningen. "
   ]
  },
  {
   "cell_type": "markdown",
   "metadata": {},
   "source": [
    "### opgave 3\n",
    "\n",
    "lav et program som tæller sætninger i nedstående fil. Her forsøger via t finde nogle dufordringer som gør det vanskeligt at tælle sætninger korrekt. Man kan sjældens nøjes med bare at tælle.!?"
   ]
  },
  {
   "cell_type": "code",
   "execution_count": 3,
   "metadata": {},
   "outputs": [
    {
     "name": "stdout",
     "output_type": "stream",
     "text": [
      "5366\n",
      "['!\" said', '?\" she', '?\" asked', '!\" she', '!\" said', '?\" she', '!\" said', '?\" the', '!\" said', '?\" said', '?\" asked', '...\" said', '!\" said', '!\" observed', '!\" he', '!\" said', '!\" he', '?\" asked', '!\" said', '!\" said', '!\" as', '!\" said', '!\" remarked', '!\" he', '!\" said', '!\" said', '?\" asked', '!\" was', '!\" whispered', '!\" he', '!\" said', '?\" asked', '?\" asked', '!\" was', '!\" said', '!\" cried', '!\" said', '!\" cried', '?\" she', '?\" asked', '?\" asked', '?\" asked', '!\" she', '?\" asked', '?\" asked', '?\" said', '!\" cried', '!\" moaned', '!\" said', '?\" she', '!\" said', '?\" asked', '!\" said', '?\" asked', '!\" said', '?\" asked', '?\" she', '!\" said', '?\" asked', '?\" asked', '!\" repeated', '!\" said', '!\" and', '!\" said', '!\" said', '?\" asked', '!\" cried', '?\" cried', '!\" said', '!\" cried', '?\" said', '!\" said', '?\" asked', '!\" said', '!\" she', '!\" cried', '!\" the', '!\" or', '!\" said', '?\" asked', '!\" said', '!\" moaned', '?\" asked', '!\" said', '!\" she', '?\" said', '!\" said', '?\" came', '!\" said', '?\" asked', '!\" said', '!\" said', '?\" of', '!\" said', '!\" whispered', '?\" he', '!\" said', '?\" said', '!\" cried', '?\" he', '!\" she', '!\" said', '!\" said', '!\" cried', '!\" cried', '?\" he', '!\" whispered', '!\" said', '!\" cried', '!\" she', '!\" it', '!\" cried', '!\" said', '?\" asked', '!\" said', '?\" repeated', '!\" he', '!\" said', '?\" the', '?\" the', '?\" asked', '!\" said', '!\" said', '!\" said', '!\" cried', '?\" he', '!\" said', '!\" she', '!\" said', '!\" she', '!\" said', '!\" said', '!\" said', '?\" snapped', '!\" cried', '!\" she', '?\" asked', '!\" said', '?\" said', '!\" said', '!\" and', '!\" said', '?\" asked', '?\" asked', '?\" he', '?\" he', '!\" she', '!\" cried', '!\" said', '!\" came', '?\" he', '!\" was', '?\" said', '?\" said', '?\" asked', '!\" cried', '?\" she', '?\" asked', '!\" said', '!\" said', '!\" said', '!\" said', '!\" said', '!\" she', '!\" cried', '!\" said', '!\" cried', '?\" they', '!\" said', '?\" retorted', '!\" was', '!\" screamed', '?\" said', '!\" he', '?\" asked', '?\" echoed', '!\" whispered', '!\" said', '!\" the', '!\" he', '!\" in', '!\" of', '?\" he', '!\" broke', '!\" he', '!\" moaned', '?\" cried', '!\" said', '!\" said', '!\" cried', '?\" asked', '!\" said', '?\" asked', '?\" said', '!\" said', '?\" politeness', '?\" asked', '?\" they', '?\" said', '?\" he', '!\" said', '?\" asked', '!\" he', '!\" cried', '!\" said', '!\" wailed', '?\" said', '?\" whispered', '!\" cried', '!\" said', '!\" said', '?\" says', '?\" he', '?\" he', '!\" said', '?\" was', '?\" asked', '!\" said', '!\" said', '?\" said', '!\" said', '!\" his', '!\" said', '!\" she', '?\" said', '?\" said', '!\" said', '?\" said', '!\" said', '?\" she', '?\" said', '!\" said', '!\" said', '!\" called', '?\" asked', '!\" said', '?\" he', '?\" she', '!\" said', '!\" cried', '!\" said', '?\" said', '?\" said', '?\" she', '!\" said', '!\" said', '!\" cried', '!\" said', '!\" he', '!\" he', '!\" breathed', '!\" some', '?\" the', '!\" cried', '!\" said', '!\" said', '?\" gasped', '!\" said', '!\" said', '!\" she', '?\" the', '!\" said', '!\" said', '!\" said', '!\" said', '?\" said', '?\" replied', '?\" the', '!\" said', '!\" said', '!\" said', '?\" said', '!\" said', '!\" said', '!\" said', '!\" said', '?\" asked', '?\" asked', '?\" asked', '!\" said', '!\" said', '!\" he', '?\" he', '!\" said', '!\" said', '?\" said', '!\" said', '?\" said', '!\" said', '!\" cried', '!\" said', '?\" said', '!\" said', '!\" said', '?\" gasped', '!\" said', '!\" he', '!\" and', '!\" and', '!\" she', '?\" she', '!\" they']\n"
     ]
    }
   ],
   "source": [
    "import urllib.request\n",
    "import re\n",
    "\n",
    "dots = 0\n",
    "\n",
    "question = 0\n",
    "\n",
    "exclamation = 0\n",
    "\n",
    "colon = 0\n",
    "\n",
    "\n",
    "url = 'http://www.gutenberg.org/files/34219/34219-0.txt'\n",
    "\n",
    "with urllib.request.urlopen(url) as webpage:\n",
    "    text = webpage.read()\n",
    "    text = text.decode('utf-8')\n",
    "    index_begin = text.index('CHAPTER I')\n",
    "    index_end = text.index('End of the Project Gutenberg EBook of The Enchanted Castle,')\n",
    "    text = text[index_begin:index_end]\n",
    "#det her er den måde vi skal åbne hjemmesier\n",
    "\n",
    "exclamation = exclamation + text.count('!')\n",
    "dots = dots + text.count('.')\n",
    "question = question + text.count('?')\n",
    "sentencecount = exclamation + dots + question\n",
    "\n",
    "print(sentencecount)\n",
    "\n",
    "#opgaven er ikke løst da der er et problem - sætnigner behøves ikke sluttes af enden '.','!' eller '?'.\n",
    "\n",
    "#løsning: vi kan prøve at tælle dem der ikke skal med, og trække dem fra\n",
    "#sætter den lige i # så den ikke forsyrre kodningen: no_question = text.count('!\" said')\n",
    "#problemet med denne løsning er at den er alt for specifik, og der skulle skrives for megetre.-\n",
    "\n",
    "\n",
    "#re-modulet\n",
    "out = re.findall('[.!?]+\"\\s[a-z]+',text)\n",
    "print(out)\n",
    "#kassen ligner lidt en liste inde i en string, men er ikke rigtigt det samme her\n",
    "#+ betyder at mindst af dem som er kassen skal den finde\n",
    "#\\s betyder plankttegn \n",
    "#vigtigt at vi kun tager små bogstaver, da ellers er det nok en ny sætning\n",
    "\n",
    "#se evt: http://docs.python.org/dev/howto/regex.html\n"
   ]
  },
  {
   "cell_type": "markdown",
   "metadata": {},
   "source": [
    "#### Åbne filer"
   ]
  },
  {
   "cell_type": "code",
   "execution_count": null,
   "metadata": {},
   "outputs": [],
   "source": [
    "#på ens computer\n",
    "\n",
    "with open('alice.txt') as f:\n",
    "#eller\n",
    "with open('alice.txt', encoding='utf-8') as f:\n",
    "#tit bruges på windows da de ikke encoder selv\n",
    "#eller \n",
    "with open('alice.txt', encoding='latin-1 #tror jeg') as f:\n",
    "\n",
    "#kommer an på hvilket format filen har\n",
    "\n",
    "\n",
    "    \n",
    "    "
   ]
  },
  {
   "cell_type": "code",
   "execution_count": 5,
   "metadata": {},
   "outputs": [],
   "source": [
    "with open('alice.txt', encoding='utf-8') as f:\n",
    "    #test som en string\n",
    "    text = f.read()\n",
    "    #teksten som en liste\n",
    "    textlist = text.split()\n",
    "    for index,word in enumerate(textlist):\n",
    "        word = word[:-1]\n",
    "        textlist[index] = word\n",
    "        \n",
    "    #tage hver eneste ord på listen og ændre ordet, og ligge det tilbage i listen\n",
    "    #i dette tilfælde har vi fjernet det sidste bogstav i hvert ord\n",
    "    #\"Vi hiver ordet ud af liste --> fjerner det sidste bogstav --> og smider det tilbage igen\""
   ]
  },
  {
   "cell_type": "code",
   "execution_count": null,
   "metadata": {},
   "outputs": [],
   "source": [
    "#jeg vil gerne åbne en tekst som jeg skal skrive ud i\n",
    "\n",
    "with open('output.txt','w') as fout:\n",
    "    fout.write('hej med dig')\n",
    "#man kan kun write i en string IKKE i en liste --> derfor lav en join før der laves en write\n",
    "\n",
    "with open('output.txt','a') as fout:\n",
    "    fout.write('hej med dig')\n",
    "#a appender istedet"
   ]
  },
  {
   "cell_type": "markdown",
   "metadata": {},
   "source": [
    "### Globale veriable\n",
    "\n",
    "Det er varibale som er defineret uden for alle funktioner - og de kan bruges overalt i programmet. Dvs deres scope er globalt. "
   ]
  },
  {
   "cell_type": "code",
   "execution_count": 7,
   "metadata": {},
   "outputs": [
    {
     "name": "stdout",
     "output_type": "stream",
     "text": [
      "George is 64 years old\n"
     ]
    }
   ],
   "source": [
    "#variablen her er global\n",
    "age = 64\n",
    "name = 'George'\n",
    "\n",
    "def personInfo():\n",
    "    print(name,'is',age,'years old')\n",
    "    \n",
    "personInfo()"
   ]
  },
  {
   "cell_type": "markdown",
   "metadata": {},
   "source": [
    "### Lokale variable\n",
    "\n",
    "Deres scope er inde i funktionen. Hvis vi vil bruge lokale veriables værdier andre steder end i funktioenn, så skal vi tænke over hvordan vi får værdien ud af funktionen"
   ]
  },
  {
   "cell_type": "code",
   "execution_count": 8,
   "metadata": {},
   "outputs": [
    {
     "name": "stdout",
     "output_type": "stream",
     "text": [
      "inside function: a\n"
     ]
    },
    {
     "ename": "NameError",
     "evalue": "name 'letter' is not defined",
     "output_type": "error",
     "traceback": [
      "\u001b[0;31m---------------------------------------------------------------------------\u001b[0m",
      "\u001b[0;31mNameError\u001b[0m                                 Traceback (most recent call last)",
      "\u001b[0;32m<ipython-input-8-355c5e2fefe9>\u001b[0m in \u001b[0;36m<module>\u001b[0;34m\u001b[0m\n\u001b[1;32m      4\u001b[0m \u001b[0;34m\u001b[0m\u001b[0m\n\u001b[1;32m      5\u001b[0m \u001b[0mprint_letter\u001b[0m\u001b[0;34m(\u001b[0m\u001b[0;34m)\u001b[0m\u001b[0;34m\u001b[0m\u001b[0;34m\u001b[0m\u001b[0m\n\u001b[0;32m----> 6\u001b[0;31m \u001b[0mprint\u001b[0m\u001b[0;34m(\u001b[0m\u001b[0;34m'outside function'\u001b[0m\u001b[0;34m,\u001b[0m\u001b[0mletter\u001b[0m\u001b[0;34m)\u001b[0m\u001b[0;34m\u001b[0m\u001b[0;34m\u001b[0m\u001b[0m\n\u001b[0m",
      "\u001b[0;31mNameError\u001b[0m: name 'letter' is not defined"
     ]
    }
   ],
   "source": [
    "\n",
    "def print_letter():\n",
    "    letter ='a'\n",
    "    print('inside function:',letter)\n",
    "    \n",
    "print_letter()\n",
    "print('outside function',letter)"
   ]
  },
  {
   "cell_type": "code",
   "execution_count": 9,
   "metadata": {},
   "outputs": [
    {
     "name": "stdout",
     "output_type": "stream",
     "text": [
      "inside function: a\n",
      "outside function a\n"
     ]
    }
   ],
   "source": [
    "#den printer letter inde i funktionen, men ikke ude for funktionen. \n",
    "\n",
    "#løses ved retuen\n",
    "\n",
    "\n",
    "def print_letter():\n",
    "    letter ='a'\n",
    "    print('inside function:',letter)\n",
    "    return letter\n",
    "    \n",
    "out = print_letter()\n",
    "print('outside function',out)"
   ]
  },
  {
   "cell_type": "code",
   "execution_count": null,
   "metadata": {},
   "outputs": [],
   "source": []
  }
 ],
 "metadata": {
  "kernelspec": {
   "display_name": "Python 3",
   "language": "python",
   "name": "python3"
  },
  "language_info": {
   "codemirror_mode": {
    "name": "ipython",
    "version": 3
   },
   "file_extension": ".py",
   "mimetype": "text/x-python",
   "name": "python",
   "nbconvert_exporter": "python",
   "pygments_lexer": "ipython3",
   "version": "3.8.3"
  }
 },
 "nbformat": 4,
 "nbformat_minor": 4
}
