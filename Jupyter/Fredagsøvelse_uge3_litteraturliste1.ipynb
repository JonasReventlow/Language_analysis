{
 "cells": [
  {
   "cell_type": "markdown",
   "metadata": {},
   "source": [
    "### Øvelse 1: \n",
    "Hent oplysninger om kilde.Denne øvelse minder meget om øvelse 7 fra sidste uge. \n",
    "\n",
    "Du skal lave en funktion get_source()uden parametre, som tager input fra brugeren og returnerer en litteraturliste-kilde som en samlet string.\n",
    "Når funktionen kaldes, skal brugeren få følgende tekst:\n",
    "Indtast din kildes oplysninger.\n",
    "Navn: (input her)\n",
    "Efternavn: (input her)\n",
    "Titel: (input her)\n",
    "Årstal: (input her)\n",
    "Forlag: (input her)\n",
    "Den returnerede string kan se således ud:Andersen, H. C., \"Mit Livs Eventyr\". (2004), Gyldendal.\n",
    "Note: Stringen skal ikke printes til brugeren (endnu).Note: Vælg selv hvordan kilden skal se ud(f.eks. APA), efter hvilken standard du plejer at anvende (referencekonvention)."
   ]
  },
  {
   "cell_type": "code",
   "execution_count": 8,
   "metadata": {},
   "outputs": [],
   "source": [
    "def get_source():\n",
    "    #en funktion som giver brugeren diverse oplysnigner fra litteraturlisten\n",
    "    print(\"Indtast din kildes oplysnignger\")\n",
    "    Navn = input(\"Navn på litteraturkilde: \")\n",
    "    Efternavn = input(\"Efternavn på litteraturkilde: \")\n",
    "    Titel = input(\"Titel på litteraturkilde: \")\n",
    "    Årstal = input(\"Årstal på litteraturkilde: \")\n",
    "    Forlag = input(\"Forlag til litteraturkilde: \")\n",
    "    \n",
    "    return(Efternavn + ', ' + name + ', \"' + Titel + '\". ' + '(' + Årstal + '), ', + Forlag + '.')\n",
    "    "
   ]
  },
  {
   "cell_type": "markdown",
   "metadata": {},
   "source": [
    "Øvelse 2: Tilføj kilde til litteraturliste.Lav en(global)variabelmed en tom liste []i starten af dit program dvs. variablen skal være udenfor funktionen. Den tomme liste vil blive brugt til at opbevare dinlitteraturliste i.\n",
    "\n",
    "Lav derefter en funktion add_source()uden parametre, som tilføjer en kilde til din litteraturliste. Funktionen skal ikke returnere noget, men printer afslutningsvist følgende besked til brugeren:Kilden er nu tilføjet."
   ]
  },
  {
   "cell_type": "code",
   "execution_count": 13,
   "metadata": {},
   "outputs": [],
   "source": [
    "list_litt = []"
   ]
  },
  {
   "cell_type": "code",
   "execution_count": 17,
   "metadata": {},
   "outputs": [],
   "source": [
    "def add_source():\n",
    "    list_litt.append(get_source())\n",
    "    \n",
    "    list_litt.sorted(get_source())\n",
    "    \n",
    "    print(\"Kilden er nu tilføjet\")"
   ]
  },
  {
   "cell_type": "markdown",
   "metadata": {},
   "source": [
    "Note: Brug din funktion get_source()til at hente den kilde, der skal tilføjes til listen.\n",
    "\n",
    "Note: Brug append() til at tilføje kilden til din liste. https://www.w3schools.com/python/ref_list_append.aspNote: \n",
    "\n",
    "Brug evt. sort() til at sortere din liste i alfabetisk rækkefølge. https://www.w3schools.com/python/ref_list_sort.asp"
   ]
  },
  {
   "cell_type": "markdown",
   "metadata": {},
   "source": [
    "Øvelse 3: \n",
    "\n",
    "Fjern kilde fra litteraturliste.Lav en funktion remove_source()uden parametre, som kan fjerne en kilde fra din gemte litteraturliste. \n",
    "\n",
    "Funktionen skal bede brugeren om at taste et tal for den kilde, som skal fjernes (1 for den første, 2 for den anden osv.), og derefter fjerne den valgte kilde fra litteraturlisten. \n",
    "\n",
    "Funktionen skal ikke returnere noget.\n",
    "\n",
    "Når funktionen kaldes, skal brugeren få følgende tekst:Hvilken kilde vil du fjerne?Tast 1 for den første, 2 for den anden, etc.: (input her)\n",
    "\n",
    "Når kilden er fjernet, printes følgende besked:Kilden er nu fjernet.Note: Den første plads (indeks) i en liste er0. \n",
    "\n",
    "Dvs. at den første kilde er gemt på indeks 0 i litteraturlisten. Du skal derfor trække 1 fra brugerens input, så hvis brugeren indtaster 1, skal kildens indeks være 0 osv. \n",
    "\n",
    "Du kan se en illustration af en liste med seks elementer og deres indekser her:https://railsware.com/blog/wp-content/uploads/2018/10/positive-indexes.pngNote: Husk at bruge int()om inputtet.Note: \n",
    "\n",
    "Brug pop()til at fjerne kilden fra den gemte liste. Kildens indeks skal angives som argument. https://www.w3schools.com/python/ref_list_pop.asp"
   ]
  },
  {
   "cell_type": "code",
   "execution_count": 20,
   "metadata": {},
   "outputs": [],
   "source": [
    "def remove_source():\n",
    "    print(\"Hvilken kilde vil du fjerne\")\n",
    "    indeks = int(input(\"Tast 1 for den første, 2 for den anden, etc.: \"))-1\n",
    "    list_litt.pop(indeks)"
   ]
  },
  {
   "cell_type": "markdown",
   "metadata": {},
   "source": [
    "Øvelse 4: \n",
    "Ryd litteraturliste. Lav enfunktion clear_list()uden parametre, som fjerner alle kilder fra din gemte litteraturliste, når den kaldes. \n",
    "\n",
    "Bed brugeren om at bekræfte, at alle kilder skal slettes. \n",
    "\n",
    "Hvis brugerens input er “ja”, slettes alle elementer. Ellers skal der ikke ske noget.\n",
    "\n",
    "Når funktionen kaldes, vil brugeren få følgende tekst:Er du sikker på, at du vil slette alle kilder?Indtast ja/nej: (input her)Følgende besked printes efter kilderne er blevet slettet:\n",
    "\n",
    "alle kilder er nu blevet slettet fra listen.\n",
    "\n",
    "Note: Brug if statement til at se om brugerens input == “ja”Note: Brug clear() til at slette alle kilder fra den gemte liste. https://www.w3schools.com/python/ref_list_clear.asp"
   ]
  },
  {
   "cell_type": "code",
   "execution_count": 40,
   "metadata": {},
   "outputs": [],
   "source": [
    "def clear_list():\n",
    "    clear = input(\"Er du sikker på, at du vil slette alle kilder? Indtast ja/nej: \")\n",
    "    if clear == \"ja\":\n",
    "        list_litt.clear()\n",
    "        print(\"Alle kilder er nu blevet slettet fra listen\")\n",
    "        \n",
    "        \n",
    "   \n",
    "    "
   ]
  },
  {
   "cell_type": "markdown",
   "metadata": {},
   "source": [
    "Denne øvelse vil give dig en kort introduktion til for loops, som du vil lære mere om i næste uge. \n",
    "\n",
    "Start med at læse det første afsnit og kigge på det første eksempel her: https://www.w3schools.com/python/python_for_loops.aspEt for loop kan bruges til at gennemløbe hele litteraturlisten og printe hver kilde enkeltvist. \n",
    "\n",
    "Syntaksen er følgende:for elementin list:print(element)element: brug et valgfrit navn her til at repræsentere elementet. Du kan f.eks. skrive source.list: her skal du skrive navnet på den variabel, hvori du har gemt litteraturlisten.Når du har forstået dette, skal du lave en funktion print_litt_list()uden parametre, som gennemløber din gemte litteraturliste og printer hver kilde."
   ]
  },
  {
   "cell_type": "code",
   "execution_count": null,
   "metadata": {},
   "outputs": [],
   "source": []
  }
 ],
 "metadata": {
  "kernelspec": {
   "display_name": "Python 3",
   "language": "python",
   "name": "python3"
  },
  "language_info": {
   "codemirror_mode": {
    "name": "ipython",
    "version": 3
   },
   "file_extension": ".py",
   "mimetype": "text/x-python",
   "name": "python",
   "nbconvert_exporter": "python",
   "pygments_lexer": "ipython3",
   "version": "3.8.3"
  }
 },
 "nbformat": 4,
 "nbformat_minor": 4
}
