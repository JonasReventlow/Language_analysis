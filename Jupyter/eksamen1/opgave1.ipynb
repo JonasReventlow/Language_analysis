{
 "cells": [
  {
   "cell_type": "code",
   "execution_count": 1,
   "metadata": {},
   "outputs": [],
   "source": [
    "#der laves en funktion til at få skabt et program for at fjerne vokaler\n",
    "def opgave1():\n",
    "    vokaler = \"euaiæøåyoEAÆØÅIUYO\"\n",
    "    #her laves en varible for at få samlet alle vokalerne\n",
    "    tekst = input(\"Indtast din sætning: \")\n",
    "    #denne varibale skrives som input, da det er her brugeren kan skrive sin sætning\n",
    "    for bogstav in tekst:\n",
    "    #vi laver et for loop, for at få ændret i selve bogstaverne i brugeren tekst\n",
    "        if bogstav in vokaler:\n",
    "            tekst = tekst.replace(bogstav,\"\")\n",
    "        #Vi gør det mere specifikt, og vil kun fjerne vokalerne - derfor laver et if loop med metodeden replace,\n",
    "        #som gør at brugerens tekst bliver erstattet med en ny string uden vokaler. I dette tilfælde bliver\n",
    "        #vokalerne erstattet med ingenting\n",
    "        \n",
    "    return tekst"
   ]
  },
  {
   "cell_type": "code",
   "execution_count": 2,
   "metadata": {},
   "outputs": [
    {
     "name": "stdout",
     "output_type": "stream",
     "text": [
      "Indtast din sætning: David og Jonas prøver at kode\n"
     ]
    },
    {
     "data": {
      "text/plain": [
       "'Dvd g Jns prvr t kd'"
      ]
     },
     "execution_count": 2,
     "metadata": {},
     "output_type": "execute_result"
    }
   ],
   "source": [
    "opgave1()"
   ]
  }
 ],
 "metadata": {
  "kernelspec": {
   "display_name": "Python 3",
   "language": "python",
   "name": "python3"
  },
  "language_info": {
   "codemirror_mode": {
    "name": "ipython",
    "version": 3
   },
   "file_extension": ".py",
   "mimetype": "text/x-python",
   "name": "python",
   "nbconvert_exporter": "python",
   "pygments_lexer": "ipython3",
   "version": "3.8.3"
  }
 },
 "nbformat": 4,
 "nbformat_minor": 4
}
