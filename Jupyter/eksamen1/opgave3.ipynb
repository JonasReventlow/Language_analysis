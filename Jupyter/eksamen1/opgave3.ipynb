{
 "cells": [
  {
   "cell_type": "markdown",
   "metadata": {},
   "source": [
    "### Opgave3"
   ]
  },
  {
   "cell_type": "code",
   "execution_count": 1,
   "metadata": {},
   "outputs": [],
   "source": [
    "#Vi laver en def hvor argumenter til sidst skal bestå af en lis1 og en list2\n",
    "def opgave3(list1, list2):\n",
    "    if type(list1)!=list or type(list2)!=list:\n",
    "        print(\"En af indtasningerne er ikke en liste\")\n",
    "    #Vi bruger if for at fortælle programmet funktionenens arguementer i list1 og list2 skal stemme overnes med\n",
    "    #kriteriene for at skrive lister'''\n",
    "    samlet_liste = list2 + list1\n",
    "    #Her samler vi listerne ved at + dem i en variabel\n",
    "    samlet_liste = list(dict.fromkeys(samlet_liste))\n",
    "    #at bruge dict fjerner automatisk dubletter i en liste\n",
    "    return samlet_liste\n",
    "    #at returne samlet_liste betyder at når programmerer bliver kørt - med de indskrevet list1 og list2\n",
    "    #er det samlet_liste varibalen der bliver outputtet"
   ]
  },
  {
   "cell_type": "code",
   "execution_count": 2,
   "metadata": {},
   "outputs": [
    {
     "data": {
      "text/plain": [
       "['ib', 'per', 'tim', 'tom', 'jan', 'lone', 'dorte']"
      ]
     },
     "execution_count": 2,
     "metadata": {},
     "output_type": "execute_result"
    }
   ],
   "source": [
    "opgave3(['tim','tom','lone','dorte'],['ib','per','tim','tom', 'jan'])"
   ]
  }
 ],
 "metadata": {
  "kernelspec": {
   "display_name": "Python 3",
   "language": "python",
   "name": "python3"
  },
  "language_info": {
   "codemirror_mode": {
    "name": "ipython",
    "version": 3
   },
   "file_extension": ".py",
   "mimetype": "text/x-python",
   "name": "python",
   "nbconvert_exporter": "python",
   "pygments_lexer": "ipython3",
   "version": "3.8.3"
  }
 },
 "nbformat": 4,
 "nbformat_minor": 4
}
