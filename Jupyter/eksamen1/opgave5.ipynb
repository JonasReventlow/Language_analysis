{
 "cells": [
  {
   "cell_type": "code",
   "execution_count": 1,
   "metadata": {},
   "outputs": [],
   "source": [
    "def opgave5(words):\n",
    "    tegn = \"!-,.;:/\\><^¨*=?\"\n",
    "    #Da det er tegn vi vil have fjernet, har vi først samlet alle tegn i en varibalet\n",
    "    res=[]\n",
    "    #vi lavet en varibalet med en tom liste, som i sidste ende skal være den outputtet liste\n",
    "    for word in words:\n",
    "        #Vi laver et for loop da det er ord i funktiones arguement vi vil redigerer\n",
    "        for letter in word:\n",
    "            #endnu et for loop laves, da det er hvert bogstav i ordene der skal ændres\n",
    "            if letter in tegn:\n",
    "                word = word.replace(letter, \"\")\n",
    "                #Tegnet vil her blive erstattet af ingenting (\"\"), hvis et ord indeholder et af de tegn \n",
    "                #der indgår i vores varbialet (tegn)\n",
    "        res.append(word)\n",
    "        #metoden append tilføjer hvert ord i arguemntet i def funktione til res listen. if statements kriterier\n",
    "        #påvirker hvert ord der bliver inskrevet\n",
    "    print(res)\n",
    "    #når funktionen bliver udført, bliver res varibablen printet som output"
   ]
  },
  {
   "cell_type": "code",
   "execution_count": 3,
   "metadata": {},
   "outputs": [
    {
     "name": "stdout",
     "output_type": "stream",
     "text": [
      "['Mouse', 'seemed', 'person', 'authority', 'called', 'listen', 'enough', 'middle', 'thought', 'important', 'ready', 'going', '22322', 'Silence', 'decided', 'please']\n"
     ]
    }
   ],
   "source": [
    "opgave5(['Mouse,', 'seemed', 'person', 'authority', 'called', 'listen', 'enough!', 'middle.', 'thought','important', 'ready?', 'going', '22322','Silence', 'decided,', 'please!'])"
   ]
  }
 ],
 "metadata": {
  "kernelspec": {
   "display_name": "Python 3",
   "language": "python",
   "name": "python3"
  },
  "language_info": {
   "codemirror_mode": {
    "name": "ipython",
    "version": 3
   },
   "file_extension": ".py",
   "mimetype": "text/x-python",
   "name": "python",
   "nbconvert_exporter": "python",
   "pygments_lexer": "ipython3",
   "version": "3.8.3"
  }
 },
 "nbformat": 4,
 "nbformat_minor": 4
}
