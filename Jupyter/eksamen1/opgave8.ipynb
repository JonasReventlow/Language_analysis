{
 "cells": [
  {
   "cell_type": "code",
   "execution_count": 1,
   "metadata": {},
   "outputs": [],
   "source": [
    "def skip_header():\n",
    "    file = input(\"hvilken fil vil du gerne arbejde med: \") \n",
    "    #Brugeren får mulighed for at skrive sin fil.\n",
    "    word = input(\"hvilket ord vil du gerne undersøge frekvensen for: \")\n",
    "    tekst = open(file,encoding=\"utf-8\").read() \n",
    "    #filen åbnes, og der sørges for den åbnes i utf-8\n",
    "    start = tekst.find(\"Project Gutenberg's The Adventures of\")\n",
    "    end = tekst.find(\"The Adventure of the Copper Beeches\") + len(\"The Adventure of the Copper Beeches\")\n",
    "    tekst = tekst.replace(tekst[start:end],\"\") \n",
    "    #replace metoder sørger for at filens data fra start varibalen til slut varibablen bliver erstattet af ingenting (\"\")\n",
    "    #med andre ord skaber vi en ny varibal med en ændret version af filen\n",
    "    number_words = len(tekst.split()) \n",
    "    #antal ord defineres\n",
    "    number_signs = len(tekst) \n",
    "    #antal tegn defineres\n",
    "    number_word = 0 \n",
    "    for word_list in tekst.split():\n",
    "        if word_list.lower() == word or word_list.lower() == word + \"s\" or word_list.lower() == word + \".\":\n",
    "            number_word = number_word + 1 \n",
    "            #uanset ordets endelse er anderledes ('s', '.') end det søgte, tæller det med\n",
    "    print(\"samlet antal tegn i teksten:\", number_signs, \n",
    "                 \"\\nsamlet antal ord i teksten:\", number_words,\n",
    "                 \"\\n\", word, \"forekommer\", number_word, \"gange i teksten\")"
   ]
  },
  {
   "cell_type": "code",
   "execution_count": 2,
   "metadata": {},
   "outputs": [
    {
     "name": "stdout",
     "output_type": "stream",
     "text": [
      "hvilken fil vil du gerne arbejde med: sherlock.txt\n",
      "hvilket ord vil du gerne undersøge frekvensen for: deduction\n",
      "samlet antal tegn i teksten: 224511 \n",
      "samlet antal ord i teksten: 41555 \n",
      " deduction forekommer 5 gange i teksten\n"
     ]
    }
   ],
   "source": [
    "skip_header()"
   ]
  }
 ],
 "metadata": {
  "kernelspec": {
   "display_name": "Python 3",
   "language": "python",
   "name": "python3"
  },
  "language_info": {
   "codemirror_mode": {
    "name": "ipython",
    "version": 3
   },
   "file_extension": ".py",
   "mimetype": "text/x-python",
   "name": "python",
   "nbconvert_exporter": "python",
   "pygments_lexer": "ipython3",
   "version": "3.8.3"
  }
 },
 "nbformat": 4,
 "nbformat_minor": 4
}
