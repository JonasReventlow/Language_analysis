{
 "cells": [
  {
   "cell_type": "code",
   "execution_count": 1,
   "metadata": {},
   "outputs": [],
   "source": [
    "def opgave6():\n",
    "    string = input(\"Beskriv filmen: \") \n",
    "    #Brugeren får mulighed for at beskrive filmen \n",
    "    if string.find(\"not\") < string.find(\"bad\"): \n",
    "        #hvis 'not' findes i sætningen og står før 'bad'...\n",
    "        start = string.find(\"not\")\n",
    "        end = string.find(\"bad\") + len(\"bad\")\n",
    "        string = string.replace(string[start:end],\"okay\") \n",
    "        #... så erstat dem med 'okay'\n",
    "    return string"
   ]
  },
  {
   "cell_type": "code",
   "execution_count": 5,
   "metadata": {},
   "outputs": [
    {
     "name": "stdout",
     "output_type": "stream",
     "text": [
      "Beskriv filmen: the film is not at all as bad as expected\n"
     ]
    },
    {
     "data": {
      "text/plain": [
       "'the film is okay as expected'"
      ]
     },
     "execution_count": 5,
     "metadata": {},
     "output_type": "execute_result"
    }
   ],
   "source": [
    "opgave6()"
   ]
  }
 ],
 "metadata": {
  "kernelspec": {
   "display_name": "Python 3",
   "language": "python",
   "name": "python3"
  },
  "language_info": {
   "codemirror_mode": {
    "name": "ipython",
    "version": 3
   },
   "file_extension": ".py",
   "mimetype": "text/x-python",
   "name": "python",
   "nbconvert_exporter": "python",
   "pygments_lexer": "ipython3",
   "version": "3.8.3"
  }
 },
 "nbformat": 4,
 "nbformat_minor": 4
}
