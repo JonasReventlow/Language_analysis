{
 "cells": [
  {
   "cell_type": "code",
   "execution_count": 2,
   "metadata": {},
   "outputs": [],
   "source": [
    "def opgave7():\n",
    "    file = input(\"hvilken fil vil du gerne arbejde med: \") \n",
    "    #Brugeren får mulighed for at indskrive sin fil\n",
    "    word = input(\"hvilket ord vil du gerne undersøge frekvensen for: \")\n",
    "    #Vi skaber først to variabler til de output hvor brugeren kan skrive sin fil og ord\n",
    "    tekst = open(file,encoding=\"utf-8\").read() \n",
    "    #filen åbnes, og der sørges for den åbnes i utf-8\n",
    "    number_words = len(tekst.split()) \n",
    "    #antal ord defineres\n",
    "    number_signs = len(tekst) \n",
    "    #antal tegn defineres\n",
    "    number_word = 0 \n",
    "    #antal af det søgte ord (deduction)\n",
    "    for word_list in tekst.split():\n",
    "        if word_list.lower() == word or word_list.lower() == word + \"s\" or word_list.lower() == word + \".\":\n",
    "            number_word = number_word + 1 \n",
    "        #uanset ordets endelse er anderledes ('s', '.') end det søgte, tæller det med\n",
    "    return print(\"samlet antal tegn i teksten:\", number_signs, \n",
    "                 \"\\nsamlet antal ord i teksten:\", number_words,\n",
    "                 \"\\n\", word, \"forekommer\", number_word, \"gange i teksten\")"
   ]
  },
  {
   "cell_type": "code",
   "execution_count": 3,
   "metadata": {},
   "outputs": [
    {
     "name": "stdout",
     "output_type": "stream",
     "text": [
      "hvilken fil vil du gerne arbejde med: sherlock.txt\n",
      "hvilket ord vil du gerne undersøge frekvensen for: deduction\n",
      "samlet antal tegn i teksten: 225748 \n",
      "samlet antal ord i teksten: 41745 \n",
      " deduction forekommer 5 gange i teksten\n"
     ]
    }
   ],
   "source": [
    "opgave7()"
   ]
  },
  {
   "cell_type": "code",
   "execution_count": null,
   "metadata": {},
   "outputs": [],
   "source": []
  }
 ],
 "metadata": {
  "kernelspec": {
   "display_name": "Python 3",
   "language": "python",
   "name": "python3"
  },
  "language_info": {
   "codemirror_mode": {
    "name": "ipython",
    "version": 3
   },
   "file_extension": ".py",
   "mimetype": "text/x-python",
   "name": "python",
   "nbconvert_exporter": "python",
   "pygments_lexer": "ipython3",
   "version": "3.8.3"
  }
 },
 "nbformat": 4,
 "nbformat_minor": 4
}
