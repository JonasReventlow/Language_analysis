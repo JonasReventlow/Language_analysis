{
 "cells": [
  {
   "cell_type": "code",
   "execution_count": 1,
   "metadata": {},
   "outputs": [],
   "source": [
    "def opgave4(words):\n",
    "    count = 0\n",
    "    #count varibalen kommer til at hjælpe os med at have styr på antal af ord\n",
    "    res_list = []\n",
    "    #res_list giver os mulighed for at få samlet en liste af ord\n",
    "    for word in words:\n",
    "        if word.isalpha() and len(word)>3 and word[0] == word[-1]:\n",
    "            res_list.append(word)\n",
    "            count = count +1\n",
    "        #if stamentet giver nogle kriterier for outputet. I denne sammenhæng er det at ordene skal bestå af\n",
    "        #bogstaver, længden af order skal være længere end 3 værdier og ordets første indeks og sidste indeks \n",
    "        #skal være det samme\n",
    "    print(\"I found\", count, \"words:\", res_list)\n",
    "    #return her gør at når programmet køres, vil der blive printet nogle string og vores to variabler count og res_list"
   ]
  },
  {
   "cell_type": "code",
   "execution_count": 2,
   "metadata": {},
   "outputs": [
    {
     "name": "stdout",
     "output_type": "stream",
     "text": [
      "I found 2 words: ['thought', 'going']\n"
     ]
    }
   ],
   "source": [
    "opgave4(['Mouse,', 'seemed', 'person', 'authority', 'called', 'listen', 'enough!', 'middle.', 'thought','important', 'ready?', 'going', '22322','Silence', 'decided,', 'please!'])"
   ]
  }
 ],
 "metadata": {
  "kernelspec": {
   "display_name": "Python 3",
   "language": "python",
   "name": "python3"
  },
  "language_info": {
   "codemirror_mode": {
    "name": "ipython",
    "version": 3
   },
   "file_extension": ".py",
   "mimetype": "text/x-python",
   "name": "python",
   "nbconvert_exporter": "python",
   "pygments_lexer": "ipython3",
   "version": "3.8.3"
  }
 },
 "nbformat": 4,
 "nbformat_minor": 4
}
