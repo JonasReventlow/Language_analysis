{
 "cells": [
  {
   "cell_type": "code",
   "execution_count": 6,
   "metadata": {},
   "outputs": [],
   "source": [
    "#Vi laver en def funktion for at kunne skabe et program\n",
    "def opgave2():\n",
    "    count=0 \n",
    "    #Denne variabel kommder til at hjælpe os med at holde styr på antal gange brugeren indtaster et password\n",
    "    while count < 5: \n",
    "        #Et while loop hjælper os med at holde programmeret kørende, indtil kriterierne bliver brudt. \n",
    "        #Derudover sætter vi en begrænsning for while loopet på 5 (husk indeks 0 tæller med)\n",
    "        password = input('Indtast password: ')\n",
    "        if password=='23456': \n",
    "            print('Login succesfuld')\n",
    "            break \n",
    "            #indtaster brugeren korrekt password logges man ind og programmet stopper\n",
    "        elif count == 4:\n",
    "            print('du har tastet forkert 5 gange. Derfor stopper programmet')\n",
    "            break\n",
    "            #hvis if kriteriet ikke bliver ramt, vil elif lukke programmet, hvis count overskrider værdien 4\n",
    "        else:\n",
    "            print('du har indtastet forkert password,prøv igen.')\n",
    "            count += 1 \n",
    "            #else her sørger for, at hvis man ikke indtaster det korrekte svar, vil man igennem et while loop\n",
    "            #få tilført en værdi til varibalen count\n"
   ]
  },
  {
   "cell_type": "code",
   "execution_count": 7,
   "metadata": {},
   "outputs": [
    {
     "name": "stdout",
     "output_type": "stream",
     "text": [
      "Indtast password: e2432543\n",
      "du har indtastet forkert password,prøv igen.\n",
      "Indtast password: 43543543\n",
      "du har indtastet forkert password,prøv igen.\n",
      "Indtast password: 324324\n",
      "du har indtastet forkert password,prøv igen.\n",
      "Indtast password: 24345435\n",
      "du har indtastet forkert password,prøv igen.\n",
      "Indtast password: 345435\n",
      "du har tastet forkert 5 gange. Derfor stopper programmet\n"
     ]
    }
   ],
   "source": [
    "opgave2()"
   ]
  },
  {
   "cell_type": "markdown",
   "metadata": {},
   "source": []
  }
 ],
 "metadata": {
  "kernelspec": {
   "display_name": "Python 3",
   "language": "python",
   "name": "python3"
  },
  "language_info": {
   "codemirror_mode": {
    "name": "ipython",
    "version": 3
   },
   "file_extension": ".py",
   "mimetype": "text/x-python",
   "name": "python",
   "nbconvert_exporter": "python",
   "pygments_lexer": "ipython3",
   "version": "3.8.3"
  }
 },
 "nbformat": 4,
 "nbformat_minor": 4
}
