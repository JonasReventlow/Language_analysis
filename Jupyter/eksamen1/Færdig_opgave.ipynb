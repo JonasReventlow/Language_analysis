{
 "cells": [
  {
   "cell_type": "markdown",
   "metadata": {},
   "source": [
    "## Opgave 1"
   ]
  },
  {
   "cell_type": "code",
   "execution_count": 4,
   "metadata": {},
   "outputs": [],
   "source": [
    "def opgave1():\n",
    "    vokaler = \"euaiæøåyoEAÆØÅIUYO\"\n",
    "    tekst = input(\"Indtast din sætning: \")\n",
    "    for abe in tekst:\n",
    "        if  in vokaler:\n",
    "            tekst = tekst.replace(abe,\"\")\n",
    "    return tekst"
   ]
  },
  {
   "cell_type": "code",
   "execution_count": 1,
   "metadata": {},
   "outputs": [
    {
     "ename": "NameError",
     "evalue": "name 'opgave1' is not defined",
     "output_type": "error",
     "traceback": [
      "\u001b[0;31m---------------------------------------------------------------------------\u001b[0m",
      "\u001b[0;31mNameError\u001b[0m                                 Traceback (most recent call last)",
      "\u001b[0;32m<ipython-input-1-1dc2308911c3>\u001b[0m in \u001b[0;36m<module>\u001b[0;34m\u001b[0m\n\u001b[0;32m----> 1\u001b[0;31m \u001b[0mopgave1\u001b[0m\u001b[0;34m(\u001b[0m\u001b[0;34m)\u001b[0m\u001b[0;34m\u001b[0m\u001b[0;34m\u001b[0m\u001b[0m\n\u001b[0m",
      "\u001b[0;31mNameError\u001b[0m: name 'opgave1' is not defined"
     ]
    }
   ],
   "source": [
    "opgave1()"
   ]
  },
  {
   "cell_type": "markdown",
   "metadata": {},
   "source": [
    "## Opgave2"
   ]
  },
  {
   "cell_type": "code",
   "execution_count": 3,
   "metadata": {},
   "outputs": [],
   "source": [
    "def opgave2():\n",
    "    count=0 # vi starter fra 0 i while loopet og sætter dets begrænsening til 5\n",
    "    while count < 5:\n",
    "        password = input(\n",
    "            'Indtast password: ')\n",
    "        if password=='23456': \n",
    "            print('Login succesfuld')\n",
    "            break #indtaster brugeren korrekt password logges man ind og programmet stopper\n",
    "        elif count == 4:\n",
    "            print('du har tastet forkert 5 gange. Derfor stopper programmet')\n",
    "            break #ellers får man fem forsøg, hvorefter programmet da stopper\n",
    "        else:\n",
    "            print('du har indtastet forkert password,prøv igen.')\n",
    "            count += 1 #hvert forsøg giver endnu et tal i whileloopets begrænsningspræmis\n",
    "            "
   ]
  },
  {
   "cell_type": "code",
   "execution_count": 4,
   "metadata": {},
   "outputs": [
    {
     "name": "stdout",
     "output_type": "stream",
     "text": [
      "Indtast password: 343543\n",
      "du har indtastet forkert password,prøv igen.\n",
      "Indtast password: 534532123\n",
      "du har indtastet forkert password,prøv igen.\n",
      "Indtast password: 124324523\n",
      "du har indtastet forkert password,prøv igen.\n",
      "Indtast password: 23213\n",
      "du har indtastet forkert password,prøv igen.\n",
      "Indtast password: 214324325\n",
      "du har tastet forkert 5 gange. Derfor stopper programmet\n"
     ]
    }
   ],
   "source": [
    "opgave2()"
   ]
  },
  {
   "cell_type": "markdown",
   "metadata": {},
   "source": [
    "## Opgave3"
   ]
  },
  {
   "cell_type": "code",
   "execution_count": 4,
   "metadata": {},
   "outputs": [],
   "source": [
    "def opgave3(list1, list2):\n",
    "    if type(list1)!=list or type(list2)!=list:\n",
    "        print(\"One of the inputs is not a list\")\n",
    "    samlet_liste = list2 + list1\n",
    "    samlet_liste = list(dict.fromkeys(samlet_liste))\n",
    "    return samlet_liste"
   ]
  },
  {
   "cell_type": "code",
   "execution_count": 159,
   "metadata": {},
   "outputs": [
    {
     "data": {
      "text/plain": [
       "['ib', 'per', 'tim', 'tom', 'jan', 'lone', 'dorte']"
      ]
     },
     "execution_count": 159,
     "metadata": {},
     "output_type": "execute_result"
    }
   ],
   "source": [
    "opgave3(['tim','tom','lone','dorte'],['ib','per','tim','tom', 'jan'])\n"
   ]
  },
  {
   "cell_type": "markdown",
   "metadata": {},
   "source": [
    "## Opgave4"
   ]
  },
  {
   "cell_type": "code",
   "execution_count": 198,
   "metadata": {},
   "outputs": [],
   "source": [
    "def opgave4(): ###hvordan ved programmet at word er hver værdi i opgave 4 listen?\n",
    "    count = 0\n",
    "    res_list = []\n",
    "    for word in opgave4:  ###kan man skrive opgave 4 istedet for words? Det vil være mere forvirrende fordi det er definitionsnavnet, men er det det samme udfald?\n",
    "        '''\n",
    "        if statement checker om ordet består af bogstaver, \n",
    "        har en længde større end 3 og har samme start og slut bogstav\n",
    "        '''\n",
    "        if word.isalpha() and len(word)>3 and word[0] == word[-1]: ###kan man på en måde bruge endswith.startswith?\n",
    "            res_list.append(word) ##ordet bliver skrevet på listen, hvis det opfylder kriterierne opsat i forloopets \n",
    "            count = count +1\n",
    "    return print(\"I found\", count, \"words:\", res_list)"
   ]
  },
  {
   "cell_type": "code",
   "execution_count": 199,
   "metadata": {},
   "outputs": [
    {
     "name": "stdout",
     "output_type": "stream",
     "text": [
      "I found 2 words: ['thought', 'going']\n"
     ]
    }
   ],
   "source": [
    "opgave4(['Mouse,', 'seemed', 'person', 'authority', 'called', 'listen', 'enough!', 'middle.', 'thought','important', 'ready?', 'going', '22322','Silence', 'decided,', 'please!'])"
   ]
  },
  {
   "cell_type": "markdown",
   "metadata": {},
   "source": [
    "## Opgave5"
   ]
  },
  {
   "cell_type": "code",
   "execution_count": 9,
   "metadata": {},
   "outputs": [],
   "source": [
    "def opgave5(words):\n",
    "    tegn = \"!-,.;:/\\><^¨*=?\"\n",
    "    resultat=[] #resultat indeholder variablerne, der får fjernet eventuelle tegnsætninger\n",
    "    for word in words:\n",
    "        for i in word:\n",
    "            if i in tegn:\n",
    "                word = word.replace(i, \"\")\n",
    "        res.append(word)\n",
    "    print(resultat)\n",
    "    \n",
    "    \n",
    "#rettelse i klassen - fejlen her er at der også bliver replacet tegnesætningen inde i ord, som kan ændre hele\n",
    "    #betydningen. istedet skal man bruge word.strip('tomme liste')"
   ]
  },
  {
   "cell_type": "code",
   "execution_count": 10,
   "metadata": {},
   "outputs": [
    {
     "name": "stdout",
     "output_type": "stream",
     "text": [
      "['Mouse', 'seemed', 'person', 'authority', 'called', 'listen', 'enough', 'middle', 'thought', 'important', 'ready', 'going', '22322', 'Silence', 'decided', 'please']\n"
     ]
    }
   ],
   "source": [
    "opgave5(['Mouse,', 'seemed', 'person', 'authority', 'called', 'listen', 'enough!', 'middle.', 'thought','important', 'ready?', 'going', '22322','Silence', 'decided,', 'please!'])"
   ]
  },
  {
   "cell_type": "markdown",
   "metadata": {},
   "source": [
    "## Opgave6"
   ]
  },
  {
   "cell_type": "code",
   "execution_count": 38,
   "metadata": {},
   "outputs": [],
   "source": [
    "def opgave6():\n",
    "    string = input(\"Beskriv filmen: \") # indtast sætning \n",
    "    if string.find(\"not\") < string.find(\"bad\"): #hvis 'not' findes i sætningen og står før 'bad'...\n",
    "        start = string.find(\"not\")\n",
    "        end = string.find(\"bad\") + len(\"bad\")\n",
    "        string = string.replace(string[start:end],\"okay\") #... så erstat dem med 'okay'\n",
    "    return string"
   ]
  },
  {
   "cell_type": "code",
   "execution_count": 40,
   "metadata": {},
   "outputs": [
    {
     "name": "stdout",
     "output_type": "stream",
     "text": [
      "Beskriv filmenthe film is not at all as bad as expected\n"
     ]
    },
    {
     "data": {
      "text/plain": [
       "'the film is okay as expected'"
      ]
     },
     "execution_count": 40,
     "metadata": {},
     "output_type": "execute_result"
    }
   ],
   "source": [
    "opgave6()"
   ]
  },
  {
   "cell_type": "markdown",
   "metadata": {},
   "source": [
    "## Opgave7"
   ]
  },
  {
   "cell_type": "code",
   "execution_count": 8,
   "metadata": {},
   "outputs": [],
   "source": [
    "def opgave7():\n",
    "    file = input(\"hvilken fil vil du gerne arbejde med: \") #antaget at brugeren skriver sherlock.txt\n",
    "    word = input(\"hvilket ord vil du gerne undersøge frekvensen for: \")\n",
    "    tekst = open(file,encoding=\"utf-8\").read() #filen åbnes, og der sørges for den åbnes i utf-8\n",
    "    number_words = len(tekst.split()) #antal ord defineres\n",
    "    number_signs = len(tekst) #antal tegn defineres\n",
    "    number_word = 0 #antal af det søgte ord (deduction)\n",
    "    for word_list in tekst.split():\n",
    "        if word_list.lower() == word or word_list.lower() == word + \"s\" or word_list.lower() == word + \".\":\n",
    "            number_word = number_word + 1 #uanset ordets endelse er anderledes ('s', '.') end det søgte, tæller det med\n",
    "    return print(\"samlet antal tegn i teksten:\", number_signs, \n",
    "                 \"\\nsamlet antal ord i teksten:\", number_words,\n",
    "                 \"\\n\", word, \"forekommer\", number_word, \"gange i teksten\")\n",
    "\n"
   ]
  },
  {
   "cell_type": "code",
   "execution_count": 9,
   "metadata": {
    "scrolled": true
   },
   "outputs": [
    {
     "name": "stdout",
     "output_type": "stream",
     "text": [
      "hvilken fil vil du gerne arbejde med: sherlock.txt\n",
      "hvilket ord vil du gerne undersøge frekvensen for: deduction\n",
      "samlet antal tegn i teksten: 225748 \n",
      "samlet antal ord i teksten: 41745 \n",
      " deduction forekommer 5 gange i teksten\n"
     ]
    }
   ],
   "source": [
    "opgave7()"
   ]
  },
  {
   "cell_type": "markdown",
   "metadata": {},
   "source": [
    "## Opgave8"
   ]
  },
  {
   "cell_type": "code",
   "execution_count": 41,
   "metadata": {},
   "outputs": [],
   "source": [
    "def skip_header():\n",
    "    file = input(\"hvilken fil vil du gerne arbejde med: \") #antaget at brugeren skriver sherlock.txt\n",
    "    word = input(\"hvilket ord vil du gerne undersøge frekvensen for: \")\n",
    "    tekst = open(file,encoding=\"utf-8\").read() #filen åbnes, og der sørges for den åbnes i utf-8\n",
    "    start = tekst.find(\"Project Gutenberg's The Adventures of\")\n",
    "    end = tekst.find(\"The Adventure of the Copper Beeches\") + len(\"The Adventure of the Copper Beeches\")\n",
    "    tekst = tekst.replace(tekst[start:end],\"\") # samme tilgang som i opgave6\n",
    "    number_words = len(tekst.split()) #antal ord defineres\n",
    "    number_signs = len(tekst) #antal tegn defineres\n",
    "    number_word = 0 \n",
    "    for word_list in tekst.split():\n",
    "        if word_list.lower() == word or word_list.lower() == word + \"s\" or word_list.lower() == word + \".\":\n",
    "            number_word = number_word + 1 #uanset ordets endelse er anderledes ('s', '.') end det søgte, tæller det med\n",
    "    print(\"samlet antal tegn i teksten:\", number_signs, \n",
    "                 \"\\nsamlet antal ord i teksten:\", number_words,\n",
    "                 \"\\n\", word, \"forekommer\", number_word, \"gange i teksten\")\n"
   ]
  },
  {
   "cell_type": "code",
   "execution_count": 42,
   "metadata": {
    "scrolled": true
   },
   "outputs": [
    {
     "name": "stdout",
     "output_type": "stream",
     "text": [
      "hvilken fil vil du gerne arbejde med: sherlock.txt\n",
      "hvilket ord vil du gerne undersøge frekvensen for: deduction\n",
      "samlet antal tegn i teksten: 224511 \n",
      "samlet antal ord i teksten: 41555 \n",
      " deduction forekommer 5 gange i teksten\n"
     ]
    }
   ],
   "source": [
    "skip_header()"
   ]
  }
 ],
 "metadata": {
  "kernelspec": {
   "display_name": "Python 3",
   "language": "python",
   "name": "python3"
  },
  "language_info": {
   "codemirror_mode": {
    "name": "ipython",
    "version": 3
   },
   "file_extension": ".py",
   "mimetype": "text/x-python",
   "name": "python",
   "nbconvert_exporter": "python",
   "pygments_lexer": "ipython3",
   "version": "3.8.3"
  }
 },
 "nbformat": 4,
 "nbformat_minor": 4
}
