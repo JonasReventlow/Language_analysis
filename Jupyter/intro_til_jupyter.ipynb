{
 "cells": [
  {
   "cell_type": "markdown",
   "metadata": {},
   "source": [
    "### Intro til Jupyter notebook\n",
    "Jupyter er et stærkt værktøj til interaktiv kodning i Python (og andre programmeringssprog). Man kan skrive sine Python-programmer i Jupyter notebook i stedet for IDLE (som vi har brugt indtil nu). Nogle kan bedst lidt at bruge Jupyter notebook, andre foretrækker IDLE.  \n",
    "\n",
    "En notebook indeholder både kode, kommentarlinjer og output i ét og samme dokument. Det giver et godt overblik, fordi man har alt samlet på ét sted. Og det kan hjælpe en til hurtigere at finde fejl, når man programmerer.\n",
    "\n",
    "Jupyter er en open-source platform, som efterhånden bruges af rigtig mange udviklere - og af rigtig mange studerende.\n",
    "\n",
    "En notebook kan man vælge at downloade som en .py-fil (hvis man vil), så kan man nemlig også køre filen i IDLE  - du kan downloade dine notebook-filer under File -> Download as "
   ]
  },
  {
   "cell_type": "markdown",
   "metadata": {},
   "source": [
    "### Åbn en eksisterende notebook-fil i Jupyter notebooks\n",
    "Når du skal åbne en Jupyter notebook, kan du ENTEN starte med at åbne terminal/kommandovinduet. I terminal/kommandovinduet skriver du kommandoen \"jupyter notebook\". ELLER du kan åbne Anaconda Navigator og vælge \"Jupyter Notebook\" herfra.\n",
    "\n",
    "Herefter åbner Jupyter i din browser. Det vindue, som kommer frem i browseren, kaldes Jupyters Dashboard. I Jupyters Dashboard kan du se dine mapper. Du kan klikke dig frem til den mappe du vil arbejde i på næsten samme måde som du plejer at klikke dig frem til filer i Windows Stifinder eller Macs Finder.\n",
    "\n",
    "Når du står i den rigtige mappe, kan du åbne de notebooks, som findes her (der er selvfølgelig ingen notebook-filer første gang). En notebook-fil har efternavnet .ipynb\n",
    "\n",
    "Prøv at downloade den .ipynb-fil, som findes på Absalon under uge 3, til din egen computer. Gem .ipynb-filen i den mapppe, hvor den hører til. \n",
    "\n",
    "##### Du kan ikke åbne en notebook-fil (.ipynb-fil) ved at dobbeltklikken på den fra dit Stifinder/Finder vindue, som du sikkert normalt gør, når du skal åbne .docx-filer eller lignende. Du skal altid åbne en notebook-fil som beskrevet ovenfor."
   ]
  },
  {
   "cell_type": "markdown",
   "metadata": {},
   "source": [
    "### Åbn en helt ny notebook-fil i Jupyter notebooks\n",
    "Først skal du åbne Jupyter notebook fra din browser/Anaconda Navigator på samme måde som når du skal åbne en eksisterende notebook-fil. Dvs du skal gøre følgende:\n",
    "ENTEN: I terminal/kommandovinduet skriver du kommandoen \"jupyter notebook\". Herefter åbner Jupyter i din browser. \n",
    "ELLER: Åbn Anaconda Navigator, vælg Jupyter notebook\n",
    "\n",
    "I det vindue som kommer frem i browseren (Jupyters Dashboard), kan du klikke dig frem til den rigtige mappe.\n",
    "\n",
    "Når du står i den rigtige mappe, trykker du New i højre side af skærmen (næsten øverst) og vælger herefter Python 3. Hermed har du skabt en ny notebook fil!\n"
   ]
  },
  {
   "cell_type": "markdown",
   "metadata": {},
   "source": [
    "# Luk Jupyter notebook\n",
    "Når du skal lukke Jupyter notebook, skal du \n",
    "\n",
    "1) trykke File -> Close and halt i selve Jupyter filen. \n",
    "\n",
    "2) trykke CTRL+C i terminalvinduet. \n",
    "\n",
    "Så har du lukket for filen og for serveren. Husk: det er ikke nok kun at lukke browseren - så står serveren nemlig og kører."
   ]
  },
  {
   "cell_type": "markdown",
   "metadata": {},
   "source": [
    "### Jupyter notebook celler\n",
    "En notebook er bygget op omkring celler. Indholdet i celler forventes som udgangspunkt at være kode, men kan også være tekst. Hvis du gerne vil have tekst i en celle vælger du: Cell -> Celltype -> Markdown. Denne celle er fx en Markdown celle og cellerne ovenover er også Markdown celler, mens cellen lige under denne er en kodecelle. \n",
    "\n",
    "Hvor meget kode skal der være i én celle? Der er ingen faste regler, men kodelinjer som hænger meget tæt sammen skal være i én celle (fx skal en funktion ikke deles over to celler).\n",
    "\n",
    "Kør celle + opret ny tom celle: shift+enter\n",
    "\n",
    "Kør celle: ctrl+enter\n",
    "\n",
    "Foran en kodecelle står In[ ] - I de kantede parenteser er angivet et tal, som viser den rækkefølge, du har kørt cellerne i (når de kantede parenteser er tomme, har du ikke kørt cellen endnu). I selve cellen står koden. Umiddelbart under cellen står cellens output. Man kan først se cellens output, når man har kørt cellen.\n",
    "\n",
    "Nedenfor kan du se et eksempel på en kodecelle. Til venstre står In[ ] - derefter selve koden. Når du først markerer cellen (så den får en grøn ramme) og derefter trykker ctrl+enter, kører du koden. Output bliver vist lige under cellen og der kommer et tal til venstre for koden. Hvis du kører samme kode flere gange bliver tallet til venstre hele tiden opdateret.\n"
   ]
  },
  {
   "cell_type": "code",
   "execution_count": 3,
   "metadata": {},
   "outputs": [
    {
     "name": "stdout",
     "output_type": "stream",
     "text": [
      "hvad er dit navn: Jonas\n",
      "hello there Jonas\n"
     ]
    }
   ],
   "source": [
    "name=input('hvad er dit navn: ')\n",
    "print('hello there', name)\n",
    "\n",
    "#Både koden og outputet bliver printet"
   ]
  },
  {
   "cell_type": "markdown",
   "metadata": {},
   "source": [
    "Husk at python kører fra øverst venstre hjørne. Tallene i parentes indikerer hvilket kode/redigering man sidst har kørt. Man skal derfor være opmærkshed hvilke functions man har kørt hvis man fx har redigeret noget tidligere"
   ]
  }
 ],
 "metadata": {
  "kernelspec": {
   "display_name": "Python 3",
   "language": "python",
   "name": "python3"
  },
  "language_info": {
   "codemirror_mode": {
    "name": "ipython",
    "version": 3
   },
   "file_extension": ".py",
   "mimetype": "text/x-python",
   "name": "python",
   "nbconvert_exporter": "python",
   "pygments_lexer": "ipython3",
   "version": "3.8.3"
  }
 },
 "nbformat": 4,
 "nbformat_minor": 2
}
