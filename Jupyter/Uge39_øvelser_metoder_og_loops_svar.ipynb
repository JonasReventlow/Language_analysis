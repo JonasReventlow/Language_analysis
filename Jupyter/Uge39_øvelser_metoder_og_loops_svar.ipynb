{
 "cells": [
  {
   "cell_type": "code",
   "execution_count": 3,
   "metadata": {},
   "outputs": [],
   "source": [
    "words=[\"house\", \"tree\", \"table\", \"chair\", \"even\", \"housde\"]"
   ]
  },
  {
   "cell_type": "markdown",
   "metadata": {},
   "source": [
    "Tæl forekomster af ordet \"house\":"
   ]
  },
  {
   "cell_type": "code",
   "execution_count": 4,
   "metadata": {},
   "outputs": [
    {
     "data": {
      "text/plain": [
       "1"
      ]
     },
     "execution_count": 4,
     "metadata": {},
     "output_type": "execute_result"
    }
   ],
   "source": [
    "words.count(\"house\")"
   ]
  },
  {
   "cell_type": "markdown",
   "metadata": {},
   "source": [
    "Tæl hvor mange ord der indeholder et ‘e’:\n",
    "Brug et forloop til at kigge på hvert ord\n",
    "Tjek om ordet indeholder et ’e’\n",
    "Hvis ordet indeholder et ’e’ lægges 1 til en variabel, som I kan kalde ’count’."
   ]
  },
  {
   "cell_type": "code",
   "execution_count": 21,
   "metadata": {},
   "outputs": [
    {
     "name": "stdout",
     "output_type": "stream",
     "text": [
      "5 ord indeholder bogstavet e.\n"
     ]
    }
   ],
   "source": [
    "counting_e = 0\n",
    "\n",
    "\n",
    "for char in words:\n",
    "    if \"e\" in char:\n",
    "            counting_e = counting_e + 1\n",
    "print(counting_e, \"ord indeholder bogstavet e.\")"
   ]
  },
  {
   "cell_type": "markdown",
   "metadata": {},
   "source": [
    "Tæl hvor mange e’er der er i alt i ovenstående liste (nogle ord har 2 e’er)."
   ]
  },
  {
   "cell_type": "code",
   "execution_count": 35,
   "metadata": {},
   "outputs": [
    {
     "name": "stdout",
     "output_type": "stream",
     "text": [
      "7\n"
     ]
    }
   ],
   "source": [
    "count_e = 0\n",
    "\n",
    "for items in words:\n",
    "    for char in items:\n",
    "        if \"e\" in char:\n",
    "            count_e = count_e +1\n",
    "print(count_e)"
   ]
  },
  {
   "cell_type": "code",
   "execution_count": null,
   "metadata": {},
   "outputs": [],
   "source": [
    "#kortere version uden for loop\n",
    "\n",
    "e_count_total = ' '.join(words).count('e')"
   ]
  },
  {
   "cell_type": "markdown",
   "metadata": {},
   "source": [
    "### Øvelse 2  – loop og indexnummer – ændring af elementer i listen\n",
    "\n",
    "Programmet skal tjekke hvert ord.\n",
    "- Ord som ikke ender på –e skal udskiftes med ‘error’\n",
    "- Hvis ordet er infinitiv (her: hvis ordet ender på -e) skal ordet ændres til bydemåde. Output skal være listen verbs ændret så den har dette indhold:\n",
    "['sid', 'sov', 'error', 'error', ’arbejd', 'error']\n",
    "\n"
   ]
  },
  {
   "cell_type": "code",
   "execution_count": 68,
   "metadata": {},
   "outputs": [],
   "source": [
    "verbs=[\"sidde\", \"sove\", \"radio\", \"hus\", \"arbejde\", \"Gustav\"]"
   ]
  },
  {
   "cell_type": "code",
   "execution_count": 69,
   "metadata": {},
   "outputs": [],
   "source": [
    "for index,verb in enumerate(verbs):\n",
    "    if not verb.endswith(\"e\"):\n",
    "        verbs[index] = \"error\"\n",
    "        "
   ]
  },
  {
   "cell_type": "code",
   "execution_count": 70,
   "metadata": {
    "scrolled": true
   },
   "outputs": [
    {
     "data": {
      "text/plain": [
       "['sidde', 'sove', 'error', 'error', 'arbejde', 'error']"
      ]
     },
     "execution_count": 70,
     "metadata": {},
     "output_type": "execute_result"
    }
   ],
   "source": [
    "verbs"
   ]
  },
  {
   "cell_type": "markdown",
   "metadata": {},
   "source": [
    "### Øvelse 3\n",
    "\n",
    "Lav et program med et while loop. Programmet skal bede brugeren om at indtaste navne (et ad gangen). Hver gang brugeren tilføjer et navn tilføjes dette navn til en liste. Når brugeren vælger at skrive quit skal while loopet stoppe og listen med navne udskrives (husk at med et while loop stopper while loopet så snart betingelsen bliver falsk)."
   ]
  },
  {
   "cell_type": "code",
   "execution_count": 1,
   "metadata": {},
   "outputs": [],
   "source": [
    "name_list = []\n",
    "\n",
    "def name_program():\n",
    "    name =\"\"\n",
    "    while name != \"quit\":\n",
    "        name = input(\"Indtast venligst et navn, der skal tilføjes til listen: \")\n",
    "        name_list.append(name)\n",
    "        if name == \"quit\":\n",
    "            name_list.pop()\n",
    "            print(\"Tak for dine indtastninger. Her er din liste\", name_list)"
   ]
  },
  {
   "cell_type": "code",
   "execution_count": 2,
   "metadata": {},
   "outputs": [
    {
     "name": "stdout",
     "output_type": "stream",
     "text": [
      "Indtast venligst et navn, der skal tilføjes til listen: Hans\n",
      "Indtast venligst et navn, der skal tilføjes til listen: Joseph\n",
      "Indtast venligst et navn, der skal tilføjes til listen: Alex\n",
      "Indtast venligst et navn, der skal tilføjes til listen: Kim\n",
      "Indtast venligst et navn, der skal tilføjes til listen: quit\n",
      "Tak for dine indtastninger. Her er din liste ['Hans', 'Joseph', 'Alex', 'Kim']\n"
     ]
    }
   ],
   "source": [
    "name_program()"
   ]
  },
  {
   "cell_type": "markdown",
   "metadata": {},
   "source": [
    "### Øvelse 4\n",
    "\n",
    "text = ['forestil', 'dig','---' ,'dette','  ','**', 'er', 'indholdet','i', 'en','hel','bog’, 'og','denne’,’bog’, ‘…’]\n",
    "\n",
    "Anvend et loop til at se på hvert element i text\n",
    "Hvis elementet ikke består af bogstaver så skal elementet springes over\n",
    "Hvis elementet består af bogstaver skal elementet lægges over i en ny liste som skal hedde newtext\n",
    "Alle ord som kommer efter første forekomst af ‘bog’ skal ikke med i newtext\n",
    "Til sidst udskrives newtext \n",
    "Uden for loopet udskrives ordet ‘Done!’\n",
    "\n",
    "Output skal se præcis således ud:\n",
    "forestil dig dette er indholdet i en hel bog \n",
    "Done!"
   ]
  },
  {
   "cell_type": "code",
   "execution_count": 4,
   "metadata": {},
   "outputs": [],
   "source": [
    "text = [\"forestil\", \"dig\", \"---\", \"dette\", \"  \", \"**\", \"er\", \"indholdet\", \"i\", \"en\", \"hel\", \"bog\", \"og\", \"denne\", \"bog\", \"…\"]\n"
   ]
  },
  {
   "cell_type": "code",
   "execution_count": 5,
   "metadata": {},
   "outputs": [
    {
     "data": {
      "text/plain": [
       "['forestil',\n",
       " 'dig',\n",
       " '---',\n",
       " 'dette',\n",
       " '  ',\n",
       " '**',\n",
       " 'er',\n",
       " 'indholdet',\n",
       " 'i',\n",
       " 'en',\n",
       " 'hel',\n",
       " 'bog',\n",
       " 'og',\n",
       " 'denne',\n",
       " 'bog',\n",
       " '…']"
      ]
     },
     "execution_count": 5,
     "metadata": {},
     "output_type": "execute_result"
    }
   ],
   "source": [
    "text"
   ]
  },
  {
   "cell_type": "code",
   "execution_count": 50,
   "metadata": {},
   "outputs": [
    {
     "name": "stdout",
     "output_type": "stream",
     "text": [
      "forestil dig dette er indholdet i en hel bog\n",
      "Done!\n"
     ]
    }
   ],
   "source": [
    "newtext = []\n",
    "\n",
    "for element in text:\n",
    "    if not element.isalpha():\n",
    "        continue\n",
    "    if element.isalpha():\n",
    "        newtext.append(element)\n",
    "        if element == \"bog\":\n",
    "            break\n",
    "print(\" \".join(newtext))\n",
    "print(\"Done!\")"
   ]
  }
 ],
 "metadata": {
  "kernelspec": {
   "display_name": "Python 3",
   "language": "python",
   "name": "python3"
  },
  "language_info": {
   "codemirror_mode": {
    "name": "ipython",
    "version": 3
   },
   "file_extension": ".py",
   "mimetype": "text/x-python",
   "name": "python",
   "nbconvert_exporter": "python",
   "pygments_lexer": "ipython3",
   "version": "3.8.3"
  }
 },
 "nbformat": 4,
 "nbformat_minor": 4
}
