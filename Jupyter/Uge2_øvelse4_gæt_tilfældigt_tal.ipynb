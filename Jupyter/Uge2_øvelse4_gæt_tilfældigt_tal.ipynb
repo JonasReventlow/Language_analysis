{
 "cells": [
  {
   "cell_type": "markdown",
   "metadata": {},
   "source": [
    "### Øvelse 4\n",
    "\n",
    "#### Vi skal lave et spil, hvor en bruger skal gætte et tilfældigt udvalgt tal mellem 1 og 10.\n",
    "\n"
   ]
  },
  {
   "cell_type": "markdown",
   "metadata": {},
   "source": [
    "Først importerer vi et bibliotek ved navn random for at kunne lave et tilfældigt tal. Vi importerer også biblioteket sys for at kunne lukke spillet, når vi er færdige."
   ]
  },
  {
   "cell_type": "code",
   "execution_count": 1,
   "metadata": {},
   "outputs": [],
   "source": [
    "import random"
   ]
  },
  {
   "cell_type": "code",
   "execution_count": 2,
   "metadata": {},
   "outputs": [],
   "source": [
    "import sys"
   ]
  },
  {
   "cell_type": "markdown",
   "metadata": {},
   "source": [
    "Så finder vi vores tilfældige tal med funktionen random.randint(1,10), som giver et tifældigt tal mellem 1 og 10. Vi gemmer vores tilfældige tal som random_number."
   ]
  },
  {
   "cell_type": "code",
   "execution_count": 3,
   "metadata": {},
   "outputs": [],
   "source": [
    "random_number = random.randint(1,10)"
   ]
  },
  {
   "cell_type": "markdown",
   "metadata": {},
   "source": [
    "Herefter laver vi en funktion, som vi kalder what_number.\n",
    "\n",
    "Funktionen skal bede brugeren om at vælge et tal, og så fortæller funktionen, om brugerens tal er højere eller lavere end det tilfældigt genererede tal."
   ]
  },
  {
   "cell_type": "code",
   "execution_count": 4,
   "metadata": {},
   "outputs": [],
   "source": [
    "def guess_the_number():\n",
    "    number = int(input('gæt et tal mellem 1 og 10: '))\n",
    "    if number == random_number:\n",
    "        print('Du gættede rigtigt,', name ,'!')\n",
    "        sys.exit()\n",
    "    if number > random_number:\n",
    "        print('Du skal længere ned.')\n",
    "    if number < random_number:\n",
    "        print('Du skal højere op.')\n",
    "    guess_the_number()"
   ]
  },
  {
   "cell_type": "code",
   "execution_count": 5,
   "metadata": {},
   "outputs": [
    {
     "name": "stdout",
     "output_type": "stream",
     "text": [
      "indtast dit navn: Jonas\n"
     ]
    }
   ],
   "source": [
    "name = input('indtast dit navn: ')"
   ]
  },
  {
   "cell_type": "code",
   "execution_count": 6,
   "metadata": {},
   "outputs": [
    {
     "name": "stdout",
     "output_type": "stream",
     "text": [
      "gæt et tal mellem 1 og 10: 2\n",
      "Du skal højere op.\n",
      "gæt et tal mellem 1 og 10: 3\n",
      "Du skal højere op.\n",
      "gæt et tal mellem 1 og 10: 4\n",
      "Du skal højere op.\n",
      "gæt et tal mellem 1 og 10: 5\n",
      "Du skal højere op.\n",
      "gæt et tal mellem 1 og 10: 6\n",
      "Du skal højere op.\n",
      "gæt et tal mellem 1 og 10: 7\n",
      "Du skal højere op.\n",
      "gæt et tal mellem 1 og 10: 8\n",
      "Du skal højere op.\n",
      "gæt et tal mellem 1 og 10: 9\n",
      "Du gættede rigtigt, Jonas !\n"
     ]
    },
    {
     "ename": "SystemExit",
     "evalue": "",
     "output_type": "error",
     "traceback": [
      "An exception has occurred, use %tb to see the full traceback.\n",
      "\u001b[0;31mSystemExit\u001b[0m\n"
     ]
    },
    {
     "name": "stderr",
     "output_type": "stream",
     "text": [
      "/Users/Reventlow/opt/anaconda3/lib/python3.8/site-packages/IPython/core/interactiveshell.py:3351: UserWarning: To exit: use 'exit', 'quit', or Ctrl-D.\n",
      "  warn(\"To exit: use 'exit', 'quit', or Ctrl-D.\", stacklevel=1)\n"
     ]
    }
   ],
   "source": [
    "guess_the_number()"
   ]
  },
  {
   "cell_type": "code",
   "execution_count": null,
   "metadata": {},
   "outputs": [],
   "source": []
  }
 ],
 "metadata": {
  "kernelspec": {
   "display_name": "Python 3",
   "language": "python",
   "name": "python3"
  },
  "language_info": {
   "codemirror_mode": {
    "name": "ipython",
    "version": 3
   },
   "file_extension": ".py",
   "mimetype": "text/x-python",
   "name": "python",
   "nbconvert_exporter": "python",
   "pygments_lexer": "ipython3",
   "version": "3.8.3"
  }
 },
 "nbformat": 4,
 "nbformat_minor": 4
}
