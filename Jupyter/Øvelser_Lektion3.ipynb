{
 "cells": [
  {
   "cell_type": "markdown",
   "metadata": {},
   "source": [
    "## Øvelse 3"
   ]
  },
  {
   "cell_type": "code",
   "execution_count": null,
   "metadata": {},
   "outputs": [],
   "source": [
    "#Øvelse3\n",
    "\n",
    "list1 = [1, 2, 3]\n",
    "list2 = [1, 2, 3, 4, 5]\n",
    "\n",
    "def compare_listlength(list1, list2):\n",
    "    \"\"\"(list, list) -> int\n",
    "    returns how much longer the longer list is\n",
    "    than the shorter list of the two\n",
    "    \"\"\"\n",
    "    \n",
    "    length_list1 = len(list1)\n",
    "    length_list2 = len(list2)\n",
    "    \n",
    "    lists_length = length_list1 - length_list2\n",
    "    \n",
    "    if lists_length > 0:\n",
    "        print(\"Den første liste er længst med\", lists_length, \"tegn.\")\n",
    "        \n",
    "    elif lists_length < 0:\n",
    "        print(\"Den anden liste er længst med\", abs(lists_length), \"tegn.\")\n",
    "        \n",
    "    else:\n",
    "        print(\"Listerne er lige lange\")\n",
    "        \n",
    "compare_listlength(list1, list2)"
   ]
  },
  {
   "cell_type": "markdown",
   "metadata": {},
   "source": [
    "## Øvelse 4"
   ]
  },
  {
   "cell_type": "code",
   "execution_count": 1,
   "metadata": {},
   "outputs": [
    {
     "name": "stdout",
     "output_type": "stream",
     "text": [
      "Indtast dit navn: Johannes\n",
      "Indtast et tal mellem 1 og 10: 5\n",
      "Du har gættet for lavt.\n",
      "Indtast et tal mellem 1 og 10: 8\n",
      "Du har gættet for højt.\n",
      "Indtast et tal mellem 1 og 10: 6\n",
      "Du har gættet for lavt.\n",
      "Indtast et tal mellem 1 og 10: 7\n",
      "Du har gættet rigtigt, Johannes !\n"
     ]
    }
   ],
   "source": [
    "#Øvelse4\n",
    "\n",
    "import random\n",
    "\n",
    "random_int = random.randint(1,10)\n",
    "\n",
    "name = input(\"Indtast dit navn: \")\n",
    "\n",
    "def guess_number(random_int):\n",
    "    \n",
    "    user_number = int(input(\"Indtast et tal mellem 1 og 10: \"))\n",
    "    \n",
    "    user_guess = random_int - user_number\n",
    "    \n",
    "    if user_guess < 0:\n",
    "        print(\"Du har gættet for højt.\")\n",
    "        guess_number(random_int)\n",
    "        \n",
    "    elif user_guess > 0:\n",
    "        print(\"Du har gættet for lavt.\")\n",
    "        guess_number(random_int)\n",
    "        \n",
    "    else:\n",
    "        print(\"Du har gættet rigtigt,\", name, \"!\")\n",
    "        \n",
    "guess_number(random_int)"
   ]
  },
  {
   "cell_type": "markdown",
   "metadata": {},
   "source": [
    "## Øvelse 1"
   ]
  },
  {
   "cell_type": "code",
   "execution_count": 6,
   "metadata": {},
   "outputs": [],
   "source": [
    "#Øvelse1\n",
    "\n",
    "hold = [\"per\", \"ib\", \"bo\", \"eva\", \"ulla\", \"anne\"]"
   ]
  },
  {
   "cell_type": "code",
   "execution_count": 7,
   "metadata": {},
   "outputs": [
    {
     "data": {
      "text/plain": [
       "['per', 'ib', 'bo', 'eva', 'ulla', 'anne']"
      ]
     },
     "execution_count": 7,
     "metadata": {},
     "output_type": "execute_result"
    }
   ],
   "source": [
    "hold"
   ]
  },
  {
   "cell_type": "code",
   "execution_count": 8,
   "metadata": {},
   "outputs": [
    {
     "data": {
      "text/plain": [
       "['anne', 'bo', 'eva', 'ib', 'per', 'ulla']"
      ]
     },
     "execution_count": 8,
     "metadata": {},
     "output_type": "execute_result"
    }
   ],
   "source": [
    "sorted(hold)"
   ]
  },
  {
   "cell_type": "code",
   "execution_count": 27,
   "metadata": {},
   "outputs": [],
   "source": [
    "halvt_hold = hold[:len(hold)//2]\n",
    "halvt_hold2 = hold[len(hold)//2:]\n",
    "\n",
    "#Der skal være to slashes for at få en integer i stedet for en float"
   ]
  },
  {
   "cell_type": "code",
   "execution_count": 29,
   "metadata": {},
   "outputs": [
    {
     "data": {
      "text/plain": [
       "['per', 'ib', 'finn', 'bo']"
      ]
     },
     "execution_count": 29,
     "metadata": {},
     "output_type": "execute_result"
    }
   ],
   "source": [
    "halvt_hold"
   ]
  },
  {
   "cell_type": "code",
   "execution_count": 10,
   "metadata": {},
   "outputs": [],
   "source": [
    "hold1 = hold[:3]"
   ]
  },
  {
   "cell_type": "code",
   "execution_count": 11,
   "metadata": {},
   "outputs": [
    {
     "data": {
      "text/plain": [
       "['per', 'ib', 'bo']"
      ]
     },
     "execution_count": 11,
     "metadata": {},
     "output_type": "execute_result"
    }
   ],
   "source": [
    "hold1"
   ]
  },
  {
   "cell_type": "code",
   "execution_count": 12,
   "metadata": {},
   "outputs": [],
   "source": [
    "hold2 = hold[3:]"
   ]
  },
  {
   "cell_type": "code",
   "execution_count": 13,
   "metadata": {},
   "outputs": [
    {
     "data": {
      "text/plain": [
       "['eva', 'ulla', 'anne']"
      ]
     },
     "execution_count": 13,
     "metadata": {},
     "output_type": "execute_result"
    }
   ],
   "source": [
    "hold2"
   ]
  },
  {
   "cell_type": "code",
   "execution_count": 14,
   "metadata": {},
   "outputs": [],
   "source": [
    "hold = hold1 + hold2"
   ]
  },
  {
   "cell_type": "code",
   "execution_count": 15,
   "metadata": {},
   "outputs": [
    {
     "data": {
      "text/plain": [
       "['per', 'ib', 'bo', 'eva', 'ulla', 'anne']"
      ]
     },
     "execution_count": 15,
     "metadata": {},
     "output_type": "execute_result"
    }
   ],
   "source": [
    "hold"
   ]
  },
  {
   "cell_type": "code",
   "execution_count": 16,
   "metadata": {},
   "outputs": [
    {
     "data": {
      "text/plain": [
       "['anne', 'ulla', 'eva', 'bo', 'ib', 'per']"
      ]
     },
     "execution_count": 16,
     "metadata": {},
     "output_type": "execute_result"
    }
   ],
   "source": [
    "hold[::-1]"
   ]
  },
  {
   "cell_type": "code",
   "execution_count": 18,
   "metadata": {},
   "outputs": [
    {
     "data": {
      "text/plain": [
       "['per', 'ib', 'bo', 'eva', 'ulla', 'anne']"
      ]
     },
     "execution_count": 18,
     "metadata": {},
     "output_type": "execute_result"
    }
   ],
   "source": [
    "hold[0::]"
   ]
  },
  {
   "cell_type": "code",
   "execution_count": 19,
   "metadata": {},
   "outputs": [],
   "source": [
    "hold.append(\"søren\")"
   ]
  },
  {
   "cell_type": "code",
   "execution_count": 20,
   "metadata": {},
   "outputs": [
    {
     "data": {
      "text/plain": [
       "['per', 'ib', 'bo', 'eva', 'ulla', 'anne', 'søren']"
      ]
     },
     "execution_count": 20,
     "metadata": {},
     "output_type": "execute_result"
    }
   ],
   "source": [
    "hold"
   ]
  },
  {
   "cell_type": "code",
   "execution_count": 21,
   "metadata": {},
   "outputs": [],
   "source": [
    "hold.insert(2, \"finn\")"
   ]
  },
  {
   "cell_type": "code",
   "execution_count": 22,
   "metadata": {},
   "outputs": [
    {
     "data": {
      "text/plain": [
       "['per', 'ib', 'finn', 'bo', 'eva', 'ulla', 'anne', 'søren']"
      ]
     },
     "execution_count": 22,
     "metadata": {},
     "output_type": "execute_result"
    }
   ],
   "source": [
    "hold"
   ]
  },
  {
   "cell_type": "markdown",
   "metadata": {},
   "source": [
    "## Øvelse 2"
   ]
  },
  {
   "cell_type": "code",
   "execution_count": null,
   "metadata": {},
   "outputs": [],
   "source": []
  }
 ],
 "metadata": {
  "kernelspec": {
   "display_name": "Python 3",
   "language": "python",
   "name": "python3"
  },
  "language_info": {
   "codemirror_mode": {
    "name": "ipython",
    "version": 3
   },
   "file_extension": ".py",
   "mimetype": "text/x-python",
   "name": "python",
   "nbconvert_exporter": "python",
   "pygments_lexer": "ipython3",
   "version": "3.8.3"
  }
 },
 "nbformat": 4,
 "nbformat_minor": 4
}
