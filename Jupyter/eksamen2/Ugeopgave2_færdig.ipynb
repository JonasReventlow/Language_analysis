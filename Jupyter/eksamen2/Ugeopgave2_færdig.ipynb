{
 "cells": [
  {
   "cell_type": "markdown",
   "metadata": {},
   "source": [
    "# opgave1"
   ]
  },
  {
   "cell_type": "markdown",
   "metadata": {},
   "source": [
    "### opgave 1a+1b\n",
    "\n",
    "Dan en frekvensliste over ordene i hver tekst, dvs. der skal være 2 frekvenslister. Hver liste skal være sorteret med det mest frekvente ord øverst.  "
   ]
  },
  {
   "cell_type": "code",
   "execution_count": 1,
   "metadata": {
    "scrolled": true
   },
   "outputs": [],
   "source": [
    "import os #operatingsystem importeres\n",
    "import string #string importeres\n",
    "from operator import itemgetter #fra operatingsystem importeres itemgetter\n",
    "with open('fit_pos.txt', encoding=\"utf-8\") as fin: #Åbner filen fit_pos\n",
    "    text=fin.read() #Indlæser filen\n",
    "    text=text.split() #splitter filens tekst ind i lister\n",
    "    words=[w.lower().strip(string.punctuation) for w in text] #Alle ord bliver skrevet med små bokstaver -->versaler undgås\n",
    "    d = {w:words.count(w) for w in words} #Ordenes frekvens i listen tælles\n",
    "    sortfreq1=sorted(d.items(),key=itemgetter(1),reverse=True) #Ordene frekvenssorteres, og sorteres fra flest til færrest\n",
    "            \n",
    "\n",
    "with open('fit_neg.txt', encoding=\"utf-8\") as fin:\n",
    "    text=fin.read()\n",
    "    text=text.split()\n",
    "    words=[w.lower().strip(string.punctuation) for w in text]\n",
    "    d = {w:words.count(w) for w in words}\n",
    "    sortfreq2=sorted(d.items(),key=itemgetter(1),reverse=True)\n",
    "\n",
    "with open('freqout1.txt','w', encoding=\"utf-8\") as fout: #filen freqout åbnes og skrives i\n",
    "    fout.write('KVANTITATIV UNDERSØGELSE AF TEKSTERNE FIT_POS.TXT OG FIT_NEG.TXT'+'\\n\\n') #Overskrift for hele filen\n",
    "    fout.write('FREKVENSER for: FIT_POS.TXT MED FREKVENS MIN:25'+'\\n') #Underoverskrift af opgavens resultat\n",
    "    for element in sortfreq1:\n",
    "        if element[1]>24: #for hvert ord i frekvenslisten fra fil1, er kriteriet større end 24\n",
    "            fout.write(str(element[1])+' '+element[0]+'\\n') #opfyldes kriteriet, skrives ordet samt frekvens ind i opgavens resultat i filen\n",
    "    fout.write('\\n\\n'+'FREKVENSER for: FIT_NEG.TXT MED FREKVENS MIN: 25'+'\\n')\n",
    "    for element in sortfreq2:\n",
    "        if element[1]>24:\n",
    "            fout.write(str(element[1])+' '+element[0]+'\\n')"
   ]
  },
  {
   "cell_type": "markdown",
   "metadata": {},
   "source": [
    "# Opgave 1c"
   ]
  },
  {
   "cell_type": "code",
   "execution_count": 2,
   "metadata": {},
   "outputs": [],
   "source": [
    "import os #operatingsystem importeres\n",
    "import string #string importeres\n",
    "from operator import itemgetter #fra operatingsystem importeres itemgetter\n",
    "with open('fit_pos.txt', encoding=\"utf-8\") as fin: #fit_pos filen åbnes\n",
    "    text=fin.read().split() #teksten læses og splittes til liste\n",
    "    words=[w.lower().strip(string.punctuation) for w in text] #ordene i liste skrives alle med små bogstaver\n",
    "    d = {w:words.count(w) for w in words} #Ordenes frekvens i listen tælles\n",
    "    sortfreq1=sorted(d.items(),key=itemgetter(1),reverse=True)#Ordene frekvenssorteres, og sorteres fra flest til færrest\n",
    "            \n",
    "with open('fit_neg.txt', encoding=\"utf-8\") as fin:\n",
    "    text=fin.read().split()\n",
    "    words=[w.lower().strip(string.punctuation) for w in text]\n",
    "    d = {w:words.count(w) for w in words}\n",
    "    sortfreq2=sorted(d.items(),key=itemgetter(1),reverse=True)\n",
    "    \n",
    "with open('stopord.txt', encoding=\"utf-8\") as fin: #filen med stopord åbnes\n",
    "    stopord=fin.read().split() #stopord filen læses og splittes til liste\n",
    "\n",
    "with open('freqout1.txt','w', encoding=\"utf-8\") as fout: #Ny fil af samme navn som sidste opgave, dvs. tidligere fil(er) overskrives\n",
    "    fout.write('KVANTITATIV UNDERSØGELSE AF TEKSTERNE FIT_POS.TXT OG FIT_NEG.TXT'+'\\n\\n') #Overskrift for hele filen\n",
    "    fout.write('FREKVENSER for: FIT_POS.TXT MED FREKVENS MIN:25'+'\\n') #Underoverskrift af opgavens resultat\n",
    "    for element in sortfreq1:\n",
    "        if element[1]>=25 and element[0] not in stopord: #for hvert ord i frekvenslisten fra fil1, er kriteriet 25 eller større samt at ordet ikke må være i stopords filen\n",
    "            fout.write(str(element[1])+' '+element[0]+'\\n') #opfyldes kriterierne, skrives ordet samt frekvens ind i opgavens resultat i filen\n",
    "    fout.write('\\n\\n'+'FREKVENSER for: FIT_NEG.TXT MED FREKVENS MIN: 25'+'\\n')\n",
    "    for element in sortfreq2:\n",
    "        if element[1]>=25 and element[0] not in stopord:\n",
    "            fout.write(str(element[1])+' '+element[0]+'\\n')\n"
   ]
  },
  {
   "cell_type": "markdown",
   "metadata": {},
   "source": [
    "## Opgave 1a + 1b + 1c + 1d"
   ]
  },
  {
   "cell_type": "code",
   "execution_count": 5,
   "metadata": {},
   "outputs": [],
   "source": [
    "import os #operatingsystem importeres\n",
    "import string #\n",
    "from operator import itemgetter #fra operatingsystem importeres itemgetter\n",
    "def opgave1(): #opgaven defineres, så den kan køres til slut\n",
    "    fil1 = input(\"Indtast textfilnavn1: \") #Brugeren indtaster ønskede filer med filnavne\n",
    "    fil2 = input(\"Indtast textfilnavn2: \")\n",
    "    kriterie = int(input(\"Hvilken frekvens skal ordene minimum have i frekvenslisten: \")) #Brugeren indtaster et int input som kriterie for frekvens\n",
    "    \n",
    "    with open(fil1, encoding=\"utf-8\") as fin: #fit_pos filen åbnes\n",
    "        text=fin.read().split() #teksten læses og splittes til liste\n",
    "        words=[w.lower().strip(string.punctuation) for w in text] #ordene i liste skrives alle med små bogstaver\n",
    "        d = {w:words.count(w) for w in words} #Ordenes frekvens i listen tælles\n",
    "        sortfreq1=sorted(d.items(),key=itemgetter(1),reverse=True)#Ordene frekvenssorteres, og sorteres fra flest til færrest\n",
    "            \n",
    "    with open(fil2, encoding=\"utf-8\") as fin: \n",
    "        text=fin.read().split() \n",
    "        words=[w.lower().strip(string.punctuation) for w in text] \n",
    "        d = {w:words.count(w) for w in words} \n",
    "        sortfreq2=sorted(d.items(),key=itemgetter(1),reverse=True) \n",
    "    \n",
    "    with open('stopord.txt', encoding=\"utf-8\") as fin: #Filen med stopord åbnes\n",
    "        stopord=fin.read().split() #filen med stopord læses og splittes til liste\n",
    "\n",
    "    with open('freqout1.txt','w', encoding=\"utf-8\") as fout: # freqoutfilen åbnes og overskriver tidligere af samme navn\n",
    "        fout.write('KVANTITATIV UNDERSØGELSE AF TEKSTERNE FIT_POS.TXT OG FIT_NEG.TXT'+'\\n\\n') #overskrift for hele filen\n",
    "        fout.write('FREKVENSER for: ' + str(fil1).upper() + ' MED FREKVENS MIN:'+ str(kriterie) +'\\n') #underoverskrift for opgavens resultat\n",
    "        for element in sortfreq1:\n",
    "            if element[1]>=kriterie and element[0] not in stopord: #finder hvert ord i filen, der opfylder præmissen om brugens kriterie samt ikke findes i stopord\n",
    "                fout.write(str(element[1])+' '+element[0]+'\\n') #opfyldes kriterierne, skrives ordet samt frekvens ind i opgavens resultat i filen\n",
    "        fout.write('\\n\\n'+'FREKVENSER for: ' + str(fil2).upper() + ' MED FREKVENS MIN:'+ str(kriterie) +'\\n')\n",
    "        for element in sortfreq2:\n",
    "            if element[1]>=kriterie and element[0] not in stopord:\n",
    "                fout.write(str(element[1])+' '+element[0]+'\\n')"
   ]
  },
  {
   "cell_type": "code",
   "execution_count": 6,
   "metadata": {},
   "outputs": [
    {
     "name": "stdout",
     "output_type": "stream",
     "text": [
      "Indtast textfilnavn1: fit_pos.txt\n",
      "Indtast textfilnavn2: fit_neg.txt\n",
      "Hvilken frekvens skal ordene minimum have i frekvenslisten: 25\n"
     ]
    }
   ],
   "source": [
    "opgave1()"
   ]
  },
  {
   "cell_type": "markdown",
   "metadata": {},
   "source": [
    "# Opgave 2"
   ]
  },
  {
   "cell_type": "code",
   "execution_count": 7,
   "metadata": {},
   "outputs": [],
   "source": [
    "import nltk #nltk importeres\n",
    "def opgave2():\n",
    "    fil1 = input(\"Indtast textfilnavn1: \") #brugerens filinput bestemmes \n",
    "    fil2 = input(\"Indtast textfilnavn2: \")\n",
    "    kriterie = int(input(\"Hvilken frekvens skal ordene minimum have i frekvenslisten: \")) #brugerens int input bestemmes \n",
    "    with open(fil1, encoding=\"utf-8\") as fin: #fil1 åbnes \n",
    "        text = fin.read().split() #fil læses og splittes til liste\n",
    "        words=[w.lower().strip(string.punctuation) for w in text] #stripper ord for tegn og versaler for at mindske faldgruber\n",
    "        freqdist1 = nltk.FreqDist(words) #frekvensdistributionen i nltk bruges til at findes ordenes hyppighed\n",
    "        sortfreq1 = freqdist1.most_common(kriterie) #hyppighedskriteriet fra brugeren bruges definitionen om frekvensdistributionens udfald\n",
    "    with open(fil2, encoding=\"utf-8\") as fin:\n",
    "        text = fin.read().split()\n",
    "        words=[w.lower().strip(string.punctuation) for w in text]\n",
    "        freqdist2 = nltk.FreqDist(words)\n",
    "        sortfreq2 = freqdist2.most_common(kriterie)\n",
    "    return sortfreq1, sortfreq2 #griber og returnerer"
   ]
  },
  {
   "cell_type": "code",
   "execution_count": 8,
   "metadata": {},
   "outputs": [
    {
     "name": "stdout",
     "output_type": "stream",
     "text": [
      "textfil-1: fit_pos.txt\n",
      "textfil-2: fit_neg.txt\n",
      "antal: 8\n"
     ]
    },
    {
     "data": {
      "text/plain": [
       "([('og', 228),\n",
       "  ('er', 167),\n",
       "  ('i', 157),\n",
       "  ('at', 134),\n",
       "  ('jeg', 131),\n",
       "  ('det', 92),\n",
       "  ('har', 80),\n",
       "  ('til', 75)],\n",
       " [('at', 296),\n",
       "  ('i', 275),\n",
       "  ('jeg', 270),\n",
       "  ('er', 237),\n",
       "  ('og', 233),\n",
       "  ('ikke', 213),\n",
       "  ('det', 197),\n",
       "  ('på', 179)])"
      ]
     },
     "execution_count": 8,
     "metadata": {},
     "output_type": "execute_result"
    }
   ],
   "source": [
    "opgave2()"
   ]
  },
  {
   "cell_type": "markdown",
   "metadata": {},
   "source": [
    "# opgave 3a"
   ]
  },
  {
   "cell_type": "code",
   "execution_count": 9,
   "metadata": {},
   "outputs": [],
   "source": [
    "import nltk\n",
    "def opgave3():\n",
    "    fil1 = input(\"Indtast textfilnavn1: \") #brugeren indtaster ønskede txtfil\n",
    "    fil2 = input(\"Indtast textfilnavn2: \")\n",
    "    kriterie = int(input(\"Hvilken frekvens skal ordene minimum have i frekvenslisten: \")) #brugeren indtaster ønsket frekvens\n",
    "    \n",
    "    with open(fil1, encoding=\"utf-8\") as fin: #fil åbnes\n",
    "        text=fin.read().split() #fil læses og splittes \n",
    "        words=[w.lower().strip(string.punctuation) for w in text] #ord strippes og alle bogstaverne gøres små\n",
    "        bigrams=nltk.bigrams(words) #bigrammer af ordene laves i nltk\n",
    "        fdist1=nltk.FreqDist(bigrams) #frekvensdistributionen af bigrammerne laves \n",
    "        sortfreq1=fdist1.most_common() #frekvensdistributionen af de hyppigste fremtrækkes\n",
    "    \n",
    "    with open(fil2, encoding=\"utf-8\") as fin:\n",
    "        text=fin.read().split()\n",
    "        words=[w.lower().strip(string.punctuation) for w in text]\n",
    "        bigrams=nltk.bigrams(words)\n",
    "        fdist2=nltk.FreqDist(bigrams)\n",
    "        sortfreq2=fdist2.most_common()\n",
    "\n",
    "    with open('stopord.txt', encoding=\"utf-8\") as fin: #filen med stopord åbnes\n",
    "            stopord=fin.read().split() #filen med stopord læses og splittes til liste\n",
    "\n",
    "    with open('freqout1.txt','a', encoding=\"utf-8\") as fout: #indlæs filen freqout og append til den\n",
    "        fout.write('\\n\\n'+'NEDENSTÅENDE ER BIGRAM FREKVENSER FOR TEKSTFILERNE'+'\\n\\n') #underoverskrift på opgavens formål\n",
    "        fout.write('BIGRAM FREKVENSER FOR: ' + str(fil1).upper() + ' MED FREKVENS MIN:'+ str(kriterie) +'\\n') #underoverskrift på opgavens resultat\n",
    "        for element in sortfreq1:\n",
    "            if element[1]>=kriterie and element[0][0] not in stopord and element[0][1] not in stopord: #hvis frekvensen (element[1]) opfylder kriteriet, og ordene i bigrammerne (element[0][0] og element[0][1]) ikke findes i stopordfilen...\n",
    "                fout.write(str(element[1])+' '+element[0][0]+ ', ' + element[0][1] +'\\n') #... så tilskrives det listen som en str med frekvens først og derefter ordene i bigrammet\n",
    "        fout.write('\\n\\n'+'BIGRAM FREKVENSER FOR: ' + str(fil2).upper() + ' MED FREKVENS MIN:'+ str(kriterie) +'\\n')\n",
    "        for element in sortfreq2:\n",
    "            if element[1]>=kriterie and element[0][0] not in stopord and element[0][1] not in stopord:\n",
    "                fout.write(str(element[1])+' '+element[0][0]+ ', ' + element[0][1] +'\\n')"
   ]
  },
  {
   "cell_type": "code",
   "execution_count": 10,
   "metadata": {},
   "outputs": [
    {
     "name": "stdout",
     "output_type": "stream",
     "text": [
      "Indtast textfilnavn1: fit_neg.txt\n",
      "Indtast textfilnavn2: fit_pos.txt\n",
      "Hvilken frekvens skal ordene minimum have i frekvenslisten: 8\n"
     ]
    }
   ],
   "source": [
    "opgave3()"
   ]
  },
  {
   "cell_type": "markdown",
   "metadata": {},
   "source": [
    "# Opgave 4"
   ]
  },
  {
   "cell_type": "code",
   "execution_count": 11,
   "metadata": {},
   "outputs": [],
   "source": [
    "import nltk #importerer nltk\n",
    "def opgave4():\n",
    "    fil1 = input(\"Indtast textfilnavn1: \") #brugeren indtaster ønskede txtfil\n",
    "    fil2 = input(\"Indtast textfilnavn2: \")\n",
    "    kriterie = int(input(\"Hvilken frekvens skal ordene minimum have i frekvenslisten: \")) #brugeren indtaster ønsket frekvens\n",
    "    \n",
    "    with open(fil1, encoding=\"utf-8\") as fin: #fil1 åbnes\n",
    "        text = fin.read().split() #filen læses og splittes\n",
    "        words1=[w.lower().strip(string.punctuation) for w in text] #den splittede fil strippes og versaler ændres til små bogstaver\n",
    "        freqdist1 = nltk.FreqDist(words1) #frekvensdistributionen af ordene i fil1 defineres\n",
    "        sortfreq1 = freqdist1.most_common() #frekvensen sorteres fra hyppigst til færrest\n",
    "        \n",
    "    with open(fil2, encoding=\"utf-8\") as fin:\n",
    "        text = fin.read().split()\n",
    "        words2=[w.lower().strip(string.punctuation) for w in text]\n",
    "        freqdist2 = nltk.FreqDist(words2)\n",
    "        sortfreq2 = freqdist2.most_common()\n",
    "        \n",
    "    with open('stopord.txt', encoding=\"utf-8\") as fin: #filen med stopord åbnes\n",
    "        stopord=fin.read().split() #filen læses og splittes \n",
    "        \n",
    "    list1 = [] #tom liste laves\n",
    "    list2 = []\n",
    "    \n",
    "    for element in sortfreq1:\n",
    "        if element[1]>=kriterie and element[0] in words2 and element[0] not in stopord: #hvis frekvensen er større end kriteriet og ordet fra fil1 ikke findes i fil2 eller stopord...\n",
    "            list1.append(element[0]) #... så tilføj til list1\n",
    "            \n",
    "    for element in sortfreq2:\n",
    "        if element[1]>=kriterie and element[0] in words1 and element[0] not in stopord:\n",
    "            list2.append(element[0]) \n",
    "            \n",
    "    same_words = list(set(list1) and set(list2)) #Laver en liste, hvor ordene skal være i både \"list1\" OG \"list2\"\n",
    "    \n",
    "    with open('freqout1.txt','a', encoding=\"utf-8\") as fout: #åbner freqout og appender til den\n",
    "        fout.write('\\n\\n' + 'ORD SOM OPTRÆDER I BEGGE FILER (FÆLLESMÆNGDEN) OG HVOR ORDETS FREKVENS I BEGGE FILER ER MIN: '+ str(kriterie) +'\\n') #underoverskrift af opgavens formål\n",
    "        for word in same_words: #ord i same_words skrives til filen freqout\n",
    "            fout.write(word +' ')"
   ]
  },
  {
   "cell_type": "code",
   "execution_count": 12,
   "metadata": {},
   "outputs": [
    {
     "name": "stdout",
     "output_type": "stream",
     "text": [
      "Indtast textfilnavn1: fit_neg.txt\n",
      "Indtast textfilnavn2: fit_pos.txt\n",
      "Hvilken frekvens skal ordene minimum have i frekvenslisten: 5\n"
     ]
    }
   ],
   "source": [
    "opgave4()"
   ]
  },
  {
   "cell_type": "markdown",
   "metadata": {},
   "source": [
    "# Opgave5"
   ]
  },
  {
   "cell_type": "code",
   "execution_count": 13,
   "metadata": {},
   "outputs": [],
   "source": [
    "import re\n",
    "def opgave5():\n",
    "    fil1 = input(\"Indtast textfilnavn1: \") #brugeren indtaster ønsket textfil\n",
    "    fil2 = input(\"Indtast textfilnavn2: \")\n",
    "    with open(fil1, encoding=\"utf-8\") as fin: #filen åbnes\n",
    "            text = fin.read() #indlæser fil\n",
    "            sentences = re.split('[.?!]', text) #split tekst ind i en liste af sætninger. Splitter for hvert . ? og !\n",
    "            count = 0 #Tæller antal sætninger, starter fra 0\n",
    "            count_sentence = 0 #Tæller antal ord i hver sætning\n",
    "            for sentence in sentences: #Lopper over hver sætning i listen af sætninger\n",
    "                count_sentence = count_sentence + len(sentence.strip().split()) # Splitter hver sætning på mellemrum og tæller antal ord i sætningerne\n",
    "                count = count + 1 #Tæller for hvert loop dvs. tæller hvor mange sætninger, der er i listen af sætninger\n",
    "            gennemsnit1 = count_sentence/count #Udregner gennemsnit\n",
    "\n",
    "    with open(fil2, encoding=\"utf-8\") as fin:\n",
    "            text = fin.read()\n",
    "            sentences = re.split('[.?!]', text)\n",
    "            count = 0\n",
    "            count_sentence = 0\n",
    "            for sentence in sentences:\n",
    "                count_sentence = count_sentence + len(sentence.strip().split())\n",
    "                count = count + 1\n",
    "            gennemsnit2 = count_sentence/count\n",
    "    with open('freqout1.txt','a', encoding=\"utf-8\") as fout: #Appender til freqoutfilen\n",
    "        fout.write('\\n\\n' + 'GENNEMSNITLIG SÆTNINGSLÆNGDE I ' + fil1 + ': '+ str(gennemsnit1) +'\\n') #Udregning af gennemsnit på fil1 skrives ind i freqout\n",
    "        fout.write('\\n\\n' + 'GENNEMSNITLIG SÆTNINGSLÆNGDE I ' + fil2 + ': '+ str(gennemsnit2) +'\\n') "
   ]
  },
  {
   "cell_type": "code",
   "execution_count": 14,
   "metadata": {},
   "outputs": [
    {
     "name": "stdout",
     "output_type": "stream",
     "text": [
      "Indtast textfilnavn1: fit_neg.txt\n",
      "Indtast textfilnavn2: fit_pos.txt\n"
     ]
    }
   ],
   "source": [
    "opgave5()"
   ]
  },
  {
   "cell_type": "markdown",
   "metadata": {},
   "source": [
    "# Opgave6"
   ]
  },
  {
   "cell_type": "code",
   "execution_count": 15,
   "metadata": {},
   "outputs": [],
   "source": [
    "import nltk #importerer nltk\n",
    "import string #importerer string\n",
    "def opgave6():\n",
    "    fil1 = input(\"Indtast textfilnavn1: \") #brugeren indtaster ønsket txtfil\n",
    "    fil2 = input(\"Indtast textfilnavn2: \")\n",
    "    kriterie = int(input(\"Hvilken frekvens skal ordene minimum have i frekvenslisten: \")) #Brugeren indtaster frekvenskriterium\n",
    "    \n",
    "    with open(fil1, encoding=\"utf-8\") as fin: #fil åbnes\n",
    "        text = fin.read().split() #tekst i fil læses og splittes\n",
    "        words1=[w.lower().strip(string.punctuation) for w in text] #bogstaverne strippes og gøres små\n",
    "        freqdist1 = nltk.FreqDist(words1) #frekvensdistribution ved brug af nltk for de strippede ord med små bogstaver\n",
    "        sortfreq1 = freqdist1.most_common() #frekvenssorterer de hyppigste \n",
    "        \n",
    "    with open(fil2, encoding=\"utf-8\") as fin:\n",
    "        text = fin.read().split()\n",
    "        words2=[w.lower().strip(string.punctuation) for w in text]\n",
    "        freqdist2 = nltk.FreqDist(words2)\n",
    "        sortfreq2 = freqdist2.most_common()\n",
    "        \n",
    "    with open('stopord.txt', encoding=\"utf-8\") as fin: #stopordfil åbnes\n",
    "        stopord=fin.read().split() #stopord læses og splittes\n",
    "        \n",
    "    list1 = [] #tom liste\n",
    "    list2 = []\n",
    "    \n",
    "    for element in sortfreq1:\n",
    "        if element[1]>=kriterie and element[0] not in words2 and element[0] not in stopord: #hvis frekvenskriteriet er opfyldt og ordet er hverken i den anden fil eller i stopord...\n",
    "            list1.append(element[0]) #... så append til den tomme liste\n",
    "            \n",
    "    for element in sortfreq2:\n",
    "        if element[1]>=kriterie and element[0] not in words1 and element[0] not in stopord:\n",
    "            list2.append(element[0]) \n",
    "    \n",
    "    with open('freqout1.txt','a', encoding=\"utf-8\") as fout: #åben freqout1filen og append til den\n",
    "        fout.write('\\n\\n' + 'ORD SOM OPTRÆDER I '+ str(fil1).upper() +' HVOR ORDETS FREKVENS ER MIN: '+ str(kriterie)+ ' - MENS ORDET IKKE ER I '+ str(fil2).upper() +'\\n') #underoverskift af opgavens resultat\n",
    "        for word in list1:\n",
    "            fout.write(word +' ') #ordet tilføjes\n",
    "        fout.write('\\n\\n' + 'ORD SOM OPTRÆDER I '+ str(fil2).upper() +' HVOR ORDETS FREKVENS ER MIN: '+ str(kriterie)+ ' - MENS ORDET IKKE ER I '+ str(fil1).upper() +'\\n')\n",
    "        for word in list2:\n",
    "            fout.write(word +' ')"
   ]
  },
  {
   "cell_type": "code",
   "execution_count": 17,
   "metadata": {},
   "outputs": [
    {
     "name": "stdout",
     "output_type": "stream",
     "text": [
      "Indtast textfilnavn1: fit_pos.txt\n",
      "Indtast textfilnavn2: fit_neg.txt\n",
      "antal: 5\n"
     ]
    }
   ],
   "source": [
    "opgave6()"
   ]
  }
 ],
 "metadata": {
  "kernelspec": {
   "display_name": "Python 3",
   "language": "python",
   "name": "python3"
  },
  "language_info": {
   "codemirror_mode": {
    "name": "ipython",
    "version": 3
   },
   "file_extension": ".py",
   "mimetype": "text/x-python",
   "name": "python",
   "nbconvert_exporter": "python",
   "pygments_lexer": "ipython3",
   "version": "3.8.3"
  }
 },
 "nbformat": 4,
 "nbformat_minor": 4
}
