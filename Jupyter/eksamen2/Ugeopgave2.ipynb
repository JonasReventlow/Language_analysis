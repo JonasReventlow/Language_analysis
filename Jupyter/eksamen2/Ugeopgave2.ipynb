{
 "cells": [
  {
   "cell_type": "markdown",
   "metadata": {},
   "source": [
    "# opgave1"
   ]
  },
  {
   "cell_type": "markdown",
   "metadata": {},
   "source": [
    "### opgave 1a+1b\n",
    "\n",
    "Dan en frekvensliste over ordene i hver tekst, dvs. der skal være 2 frekvenslister. Hver liste skal være sorteret med det mest frekvente ord øverst.  "
   ]
  },
  {
   "cell_type": "code",
   "execution_count": 1,
   "metadata": {
    "scrolled": true
   },
   "outputs": [],
   "source": [
    "import os\n",
    "import string\n",
    "from operator import itemgetter\n",
    "with open('fit_pos.txt', encoding=\"utf-8\") as fin:\n",
    "    text=fin.read()\n",
    "    text=text.split()\n",
    "    words=[w.lower().strip(string.punctuation) for w in text]\n",
    "    d = {w:words.count(w) for w in words}\n",
    "    sortfreq1=sorted(d.items(),key=itemgetter(1),reverse=True)\n",
    "            \n",
    "\n",
    "with open('fit_neg.txt', encoding=\"utf-8\") as fin:\n",
    "    text=fin.read()\n",
    "    text=text.split()\n",
    "    words=[w.lower().strip(string.punctuation) for w in text]\n",
    "    d = {w:words.count(w) for w in words}\n",
    "    sortfreq2=sorted(d.items(),key=itemgetter(1),reverse=True)\n",
    "\n",
    "with open('freqout1.txt','w', encoding=\"utf-8\") as fout:\n",
    "    fout.write('KVANTITATIV UNDERSØGELSE AF TEKSTERNE FIT_POS.TXT OG FIT_NEG.TXT'+'\\n\\n')\n",
    "    fout.write('FREKVENSER for: FIT_POS.TXT MED FREKVENS MIN:25'+'\\n')\n",
    "    for element in sortfreq1:\n",
    "        if element[1]>24:\n",
    "            fout.write(str(element[1])+' '+element[0]+'\\n')\n",
    "    fout.write('\\n\\n'+'FREKVENSER for: FIT_NEG.TXT MED FREKVENS MIN: 25'+'\\n')\n",
    "    for element in sortfreq2:\n",
    "        if element[1]>24:\n",
    "            fout.write(str(element[1])+' '+element[0]+'\\n')"
   ]
  },
  {
   "cell_type": "markdown",
   "metadata": {},
   "source": [
    "# Opgave 1c"
   ]
  },
  {
   "cell_type": "code",
   "execution_count": 2,
   "metadata": {},
   "outputs": [],
   "source": [
    "import os\n",
    "import string\n",
    "from operator import itemgetter\n",
    "with open('fit_pos.txt', encoding=\"utf-8\") as fin:\n",
    "    text=fin.read().split()\n",
    "    words=[w.lower().strip(string.punctuation) for w in text]\n",
    "    d = {w:words.count(w) for w in words}\n",
    "    sortfreq1=sorted(d.items(),key=itemgetter(1),reverse=True)\n",
    "            \n",
    "with open('fit_neg.txt', encoding=\"utf-8\") as fin:\n",
    "    text=fin.read().split()\n",
    "    words=[w.lower().strip(string.punctuation) for w in text]\n",
    "    d = {w:words.count(w) for w in words}\n",
    "    sortfreq2=sorted(d.items(),key=itemgetter(1),reverse=True)\n",
    "    \n",
    "with open('stopord.txt', encoding=\"utf-8\") as fin:\n",
    "    stopord=fin.read().split()\n",
    "\n",
    "with open('freqout1.txt','w', encoding=\"utf-8\") as fout:\n",
    "    fout.write('KVANTITATIV UNDERSØGELSE AF TEKSTERNE FIT_POS.TXT OG FIT_NEG.TXT'+'\\n\\n')\n",
    "    fout.write('FREKVENSER for: FIT_POS.TXT MED FREKVENS MIN:25'+'\\n')\n",
    "    for element in sortfreq1:\n",
    "        if element[1]>=25 and element[0] not in stopord:\n",
    "            fout.write(str(element[1])+' '+element[0]+'\\n')\n",
    "    fout.write('\\n\\n'+'FREKVENSER for: FIT_NEG.TXT MED FREKVENS MIN: 25'+'\\n')\n",
    "    for element in sortfreq2:\n",
    "        if element[1]>=25 and element[0] not in stopord:\n",
    "            fout.write(str(element[1])+' '+element[0]+'\\n')\n"
   ]
  },
  {
   "cell_type": "markdown",
   "metadata": {},
   "source": [
    "## Opgave 1a + 1b + 1c + 1d"
   ]
  },
  {
   "cell_type": "code",
   "execution_count": 3,
   "metadata": {},
   "outputs": [],
   "source": [
    "import os\n",
    "import string\n",
    "from operator import itemgetter\n",
    "def opgave1():\n",
    "    fil1 = input(\"Indtast textfilnavn1: \")\n",
    "    fil2 = input(\"Indtast textfilnavn2: \")\n",
    "    kriterie = int(input(\"Hvilken frekvens skal ordene minimum have i frekvenslisten: \"))\n",
    "    with open(fil1, encoding=\"utf-8\") as fin:\n",
    "        text=fin.read().split()\n",
    "        words=[w.lower().strip(string.punctuation) for w in text]\n",
    "        d = {w:words.count(w) for w in words}\n",
    "        sortfreq1=sorted(d.items(),key=itemgetter(1),reverse=True)\n",
    "            \n",
    "    with open(fil2, encoding=\"utf-8\") as fin:\n",
    "        text=fin.read().split()\n",
    "        words=[w.lower().strip(string.punctuation) for w in text]\n",
    "        d = {w:words.count(w) for w in words}\n",
    "        sortfreq2=sorted(d.items(),key=itemgetter(1),reverse=True)\n",
    "    \n",
    "    with open('stopord.txt', encoding=\"utf-8\") as fin:\n",
    "        stopord=fin.read().split()\n",
    "\n",
    "    with open('freqout1.txt','w', encoding=\"utf-8\") as fout:\n",
    "        fout.write('KVANTITATIV UNDERSØGELSE AF TEKSTERNE FIT_POS.TXT OG FIT_NEG.TXT'+'\\n\\n')\n",
    "        fout.write('FREKVENSER for: ' + str(fil1).upper() + ' MED FREKVENS MIN:'+ str(kriterie) +'\\n')\n",
    "        for element in sortfreq1:\n",
    "            if element[1]>=kriterie and element[0] not in stopord:\n",
    "                fout.write(str(element[1])+' '+element[0]+'\\n')\n",
    "        fout.write('\\n\\n'+'FREKVENSER for: ' + str(fil2).upper() + ' MED FREKVENS MIN:'+ str(kriterie) +'\\n')\n",
    "        for element in sortfreq2:\n",
    "            if element[1]>=kriterie and element[0] not in stopord:\n",
    "                fout.write(str(element[1])+' '+element[0]+'\\n')"
   ]
  },
  {
   "cell_type": "code",
   "execution_count": 5,
   "metadata": {},
   "outputs": [
    {
     "name": "stdout",
     "output_type": "stream",
     "text": [
      "Indtast textfilnavn1: fit_neg.txt\n",
      "Indtast textfilnavn2: fit_pos.txt\n",
      "Hvilken frekvens skal ordene minimum have i frekvenslisten: 25\n"
     ]
    }
   ],
   "source": [
    "opgave1()"
   ]
  },
  {
   "cell_type": "markdown",
   "metadata": {},
   "source": [
    "# Opgave 2"
   ]
  },
  {
   "cell_type": "code",
   "execution_count": 5,
   "metadata": {},
   "outputs": [],
   "source": [
    "import nltk\n",
    "def opgave2():\n",
    "    fil1 = input(\"textfil-1: \")\n",
    "    fil2 = input(\"textfil-2: \")\n",
    "    kriterie = int(input(\"antal: \"))\n",
    "    with open(fil1, encoding=\"utf-8\") as fin:\n",
    "        text = fin.read().split()\n",
    "        words=[w.lower().strip(string.punctuation) for w in text]\n",
    "        freqdist1 = nltk.FreqDist(words)\n",
    "        sortfreq1 = freqdist1.most_common(kriterie)\n",
    "    with open(fil2, encoding=\"utf-8\") as fin:\n",
    "        text = fin.read().split()\n",
    "        words=[w.lower().strip(string.punctuation) for w in text]\n",
    "        freqdist2 = nltk.FreqDist(words)\n",
    "        sortfreq2 = freqdist2.most_common(kriterie)\n",
    "    return sortfreq1, sortfreq2"
   ]
  },
  {
   "cell_type": "code",
   "execution_count": 6,
   "metadata": {},
   "outputs": [
    {
     "name": "stdout",
     "output_type": "stream",
     "text": [
      "textfil-1: fit_neg.txt\n",
      "textfil-2: fit_pos.txt\n",
      "antal: 25\n"
     ]
    }
   ],
   "source": [
    "sort1, sort2 = opgave2()"
   ]
  },
  {
   "cell_type": "code",
   "execution_count": 8,
   "metadata": {},
   "outputs": [
    {
     "name": "stdout",
     "output_type": "stream",
     "text": [
      "textfil-1: fit_neg.txt\n",
      "textfil-2: fit_pos.txt\n",
      "antal: 25\n"
     ]
    },
    {
     "data": {
      "text/plain": [
       "([('at', 296),\n",
       "  ('i', 275),\n",
       "  ('jeg', 270),\n",
       "  ('er', 237),\n",
       "  ('og', 233),\n",
       "  ('ikke', 213),\n",
       "  ('det', 197),\n",
       "  ('på', 179),\n",
       "  ('har', 168),\n",
       "  ('der', 159),\n",
       "  ('til', 138),\n",
       "  ('for', 131),\n",
       "  ('en', 121),\n",
       "  ('de', 108),\n",
       "  ('så', 92),\n",
       "  ('med', 88),\n",
       "  ('af', 83),\n",
       "  ('man', 75),\n",
       "  ('men', 68),\n",
       "  ('kan', 60),\n",
       "  ('mig', 58),\n",
       "  ('et', 56),\n",
       "  ('', 56),\n",
       "  ('som', 54),\n",
       "  ('fitness', 52)],\n",
       " [('og', 228),\n",
       "  ('er', 167),\n",
       "  ('i', 157),\n",
       "  ('at', 134),\n",
       "  ('jeg', 131),\n",
       "  ('det', 92),\n",
       "  ('har', 80),\n",
       "  ('til', 75),\n",
       "  ('der', 64),\n",
       "  ('med', 62),\n",
       "  ('fitness', 61),\n",
       "  ('gode', 57),\n",
       "  ('altid', 55),\n",
       "  ('af', 55),\n",
       "  ('for', 55),\n",
       "  ('world', 50),\n",
       "  ('godt', 49),\n",
       "  ('center', 49),\n",
       "  ('de', 46),\n",
       "  ('en', 45),\n",
       "  ('på', 44),\n",
       "  ('god', 43),\n",
       "  ('et', 42),\n",
       "  ('personale', 41),\n",
       "  ('hold', 38)])"
      ]
     },
     "execution_count": 8,
     "metadata": {},
     "output_type": "execute_result"
    }
   ],
   "source": [
    "opgave2()"
   ]
  },
  {
   "cell_type": "markdown",
   "metadata": {},
   "source": [
    "# opgave 3a"
   ]
  },
  {
   "cell_type": "code",
   "execution_count": 6,
   "metadata": {},
   "outputs": [],
   "source": [
    "#opgave 3a\n",
    "\n",
    "import nltk\n",
    "def opgave3():\n",
    "    fil1 = input(\"Indtast textfilnavn1: \")\n",
    "    fil2 = input(\"Indtast textfilnavn2: \")\n",
    "    kriterie = int(input(\"Hvilken frekvens skal ordene minimum have i frekvenslisten: \"))\n",
    "    \n",
    "    with open(fil1, encoding=\"utf-8\") as fin:\n",
    "        text=fin.read().split()\n",
    "        words=[w.lower().strip(string.punctuation) for w in text]\n",
    "        bigrams=nltk.bigrams(words)\n",
    "        fdist1=nltk.FreqDist(bigrams)\n",
    "        sortfreq1=fdist1.most_common()\n",
    "    \n",
    "    with open(fil2, encoding=\"utf-8\") as fin:\n",
    "        text=fin.read().split()\n",
    "        words=[w.lower().strip(string.punctuation) for w in text]\n",
    "        bigrams=nltk.bigrams(words)\n",
    "        fdist2=nltk.FreqDist(bigrams)\n",
    "        sortfreq2=fdist2.most_common()\n",
    "\n",
    "    with open('stopord.txt', encoding=\"utf-8\") as fin:\n",
    "            stopord=fin.read().split()\n",
    "\n",
    "    with open('freqout1.txt','a', encoding=\"utf-8\") as fout:\n",
    "        fout.write('\\n\\n'+'NEDENSTÅENDE ER BIGRAM FREKVENSER FOR TEKSTFILERNE'+'\\n\\n')\n",
    "        fout.write('BIGRAM FREKVENSER FOR: ' + str(fil1).upper() + ' MED FREKVENS MIN:'+ str(kriterie) +'\\n')\n",
    "        for element in sortfreq1:\n",
    "                if element[1]>=kriterie and element[0][0] not in stopord and element[0][1] not in stopord:\n",
    "                    fout.write(str(element[1])+' '+element[0][0]+ ', ' + element[0][1] +'\\n')\n",
    "        fout.write('\\n\\n'+'BIGRAM FREKVENSER FOR: ' + str(fil2).upper() + ' MED FREKVENS MIN:'+ str(kriterie) +'\\n')\n",
    "        for element in sortfreq2:\n",
    "                if element[1]>=kriterie and element[0][0] not in stopord and element[0][1] not in stopord:\n",
    "                    fout.write(str(element[1])+' '+element[0][0]+ ', ' + element[0][1] +'\\n')"
   ]
  },
  {
   "cell_type": "code",
   "execution_count": 7,
   "metadata": {},
   "outputs": [
    {
     "name": "stdout",
     "output_type": "stream",
     "text": [
      "Indtast textfilnavn1: fit_neg.txt\n",
      "Indtast textfilnavn2: fit_pos.txt\n",
      "Hvilken frekvens skal ordene minimum have i frekvenslisten: 8\n"
     ]
    }
   ],
   "source": [
    "opgave3()"
   ]
  },
  {
   "cell_type": "markdown",
   "metadata": {},
   "source": [
    "# Opave 4"
   ]
  },
  {
   "cell_type": "code",
   "execution_count": 8,
   "metadata": {},
   "outputs": [],
   "source": [
    "import nltk\n",
    "import string\n",
    "def opgave4():\n",
    "    fil1 = input(\"Indtast textfilnavn1: \")\n",
    "    fil2 = input(\"Indtast textfilnavn2: \")\n",
    "    kriterie = int(input(\"antal: \"))\n",
    "    \n",
    "    with open(fil1, encoding=\"utf-8\") as fin:\n",
    "        text = fin.read().split()\n",
    "        words1=[w.lower().strip(string.punctuation) for w in text]\n",
    "        freqdist1 = nltk.FreqDist(words1)\n",
    "        sortfreq1 = freqdist1.most_common()\n",
    "        \n",
    "    with open(fil2, encoding=\"utf-8\") as fin:\n",
    "        text = fin.read().split()\n",
    "        words2=[w.lower().strip(string.punctuation) for w in text]\n",
    "        freqdist2 = nltk.FreqDist(words2)\n",
    "        sortfreq2 = freqdist2.most_common()\n",
    "        \n",
    "    with open('stopord.txt', encoding=\"utf-8\") as fin:\n",
    "        stopord=fin.read().split()\n",
    "        \n",
    "    list1 = []\n",
    "    list2 = []\n",
    "    \n",
    "    for element in sortfreq1:\n",
    "        if element[1]>=kriterie and element[0] in words2 and element[0] not in stopord:\n",
    "            list1.append(element[0])\n",
    "            \n",
    "    for element in sortfreq2:\n",
    "        if element[1]>=kriterie and element[0] in words1 and element[0] not in stopord:\n",
    "            list2.append(element[0]) \n",
    "            \n",
    "    same_words = list(set(list1) & set(list2)) #Laver en liste, hvor orderne skal være i både \"list1\" OG \"list2\"\n",
    "    \n",
    "    with open('freqout1.txt','a', encoding=\"utf-8\") as fout:\n",
    "        fout.write('\\n\\n' + 'ORD SOM OPTRÆDER I BEGGE FILER (FÆLLESMÆNGDEN) OG HVOR ORDETS FREKVENS I BEGGE FILER ER MIN: '+ str(kriterie) +'\\n')\n",
    "        for word in same_words:\n",
    "            fout.write(word +' ')"
   ]
  },
  {
   "cell_type": "code",
   "execution_count": 9,
   "metadata": {},
   "outputs": [
    {
     "name": "stdout",
     "output_type": "stream",
     "text": [
      "Indtast textfilnavn1: fit_neg.txt\n",
      "Indtast textfilnavn2: fit_pos.txt\n",
      "antal: 5\n"
     ]
    }
   ],
   "source": [
    "opgave4()"
   ]
  },
  {
   "cell_type": "markdown",
   "metadata": {},
   "source": [
    "# Opgave5"
   ]
  },
  {
   "cell_type": "code",
   "execution_count": 10,
   "metadata": {},
   "outputs": [],
   "source": [
    "import re\n",
    "def opgave5():\n",
    "    fil1 = input(\"textfil-1: \")\n",
    "    fil2 = input(\"textfil-2: \")\n",
    "    with open(fil1, encoding=\"utf-8\") as fin:\n",
    "            text = fin.read() #indlæser fil\n",
    "            sentences = re.split('[.?!]', text) #split tekst ind i en liste af sætninger. Splitter for hvert . ? og !\n",
    "            count = 0 #Tæller antal sætninger\n",
    "            count_sentence = 0 #Tæller antal ord i hver sætning\n",
    "            for sentence in sentences: #Lopper over hver sætning i listen af sætninger\n",
    "                count_sentence = count_sentence + len(sentence.strip().split()) # Splitter hver sætning på mellemrum og tæller antal ord i sætningerne\n",
    "                count = count + 1 #Tæller for hvert loop dvs tæller hvor mange sætninger, der er i listen af sætninger (listen hedder sentences)\n",
    "            gennemsnit1 = count_sentence/count #Udregner gennemsnit\n",
    "\n",
    "    with open(fil2, encoding=\"utf-8\") as fin:\n",
    "            text = fin.read()\n",
    "            sentences = re.split('[.?!]', text)\n",
    "            count = 0\n",
    "            count_sentence = 0\n",
    "            for sentence in sentences:\n",
    "                count_sentence = count_sentence + len(sentence.strip().split())\n",
    "                count = count + 1\n",
    "            gennemsnit2 = count_sentence/count\n",
    "    with open('freqout1.txt','a', encoding=\"utf-8\") as fout:\n",
    "        fout.write('\\n\\n' + 'GENNEMSNITLIG SÆTNINGSLÆNGDE I ' + fil1 + ': '+ str(gennemsnit1) +'\\n')\n",
    "        fout.write('\\n\\n' + 'GENNEMSNITLIG SÆTNINGSLÆNGDE I ' + fil2 + ': '+ str(gennemsnit2) +'\\n')"
   ]
  },
  {
   "cell_type": "code",
   "execution_count": 11,
   "metadata": {},
   "outputs": [
    {
     "name": "stdout",
     "output_type": "stream",
     "text": [
      "textfil-1: fit_neg.txt\n",
      "textfil-2: fit_pos.txt\n"
     ]
    }
   ],
   "source": [
    "opgave5()"
   ]
  },
  {
   "cell_type": "markdown",
   "metadata": {},
   "source": [
    "# Opgave6"
   ]
  },
  {
   "cell_type": "code",
   "execution_count": 14,
   "metadata": {},
   "outputs": [],
   "source": [
    "import nltk\n",
    "import string\n",
    "def opgave6():\n",
    "    fil1 = input(\"Indtast textfilnavn1: \")\n",
    "    fil2 = input(\"Indtast textfilnavn2: \")\n",
    "    kriterie = int(input(\"antal: \"))\n",
    "    \n",
    "    with open(fil1, encoding=\"utf-8\") as fin:\n",
    "        text = fin.read().split()\n",
    "        words1=[w.lower().strip(string.punctuation) for w in text]\n",
    "        freqdist1 = nltk.FreqDist(words1)\n",
    "        sortfreq1 = freqdist1.most_common()\n",
    "        \n",
    "    with open(fil2, encoding=\"utf-8\") as fin:\n",
    "        text = fin.read().split()\n",
    "        words2=[w.lower().strip(string.punctuation) for w in text]\n",
    "        freqdist2 = nltk.FreqDist(words2)\n",
    "        sortfreq2 = freqdist2.most_common()\n",
    "        \n",
    "    with open('stopord.txt', encoding=\"utf-8\") as fin:\n",
    "        stopord=fin.read().split()\n",
    "        \n",
    "    list1 = []\n",
    "    list2 = []\n",
    "    \n",
    "    for element in sortfreq1:\n",
    "        if element[1]>=kriterie and element[0] not in words2 and element[0] not in stopord:\n",
    "            list1.append(element[0])\n",
    "            \n",
    "    for element in sortfreq2:\n",
    "        if element[1]>=kriterie and element[0] not in words1 and element[0] not in stopord:\n",
    "            list2.append(element[0]) \n",
    "    \n",
    "    with open('freqout1.txt','a', encoding=\"utf-8\") as fout:\n",
    "        fout.write('\\n\\n' + 'ORD SOM OPTRÆDER I '+ str(fil1).upper() +' HVOR ORDETS FREKVENS ER MIN: '+ str(kriterie)+ ' - MENS ORDET IKKE ER I '+ str(fil2).upper() +'\\n')\n",
    "        for word in list1:\n",
    "            fout.write(word +' ')\n",
    "        fout.write('\\n\\n' + 'ORD SOM OPTRÆDER I '+ str(fil2).upper() +' HVOR ORDETS FREKVENS ER MIN: '+ str(kriterie)+ ' - MENS ORDET IKKE ER I '+ str(fil1).upper() +'\\n')\n",
    "        for word in list2:\n",
    "            fout.write(word +' ')"
   ]
  },
  {
   "cell_type": "code",
   "execution_count": 13,
   "metadata": {},
   "outputs": [
    {
     "name": "stdout",
     "output_type": "stream",
     "text": [
      "Indtast textfilnavn1: fit_neg.txt\n",
      "Indtast textfilnavn2: fit_neg.txt\n",
      "antal: 5\n"
     ]
    }
   ],
   "source": [
    "opgave6()"
   ]
  },
  {
   "cell_type": "code",
   "execution_count": null,
   "metadata": {},
   "outputs": [],
   "source": []
  }
 ],
 "metadata": {
  "kernelspec": {
   "display_name": "Python 3",
   "language": "python",
   "name": "python3"
  },
  "language_info": {
   "codemirror_mode": {
    "name": "ipython",
    "version": 3
   },
   "file_extension": ".py",
   "mimetype": "text/x-python",
   "name": "python",
   "nbconvert_exporter": "python",
   "pygments_lexer": "ipython3",
   "version": "3.8.3"
  }
 },
 "nbformat": 4,
 "nbformat_minor": 4
}
