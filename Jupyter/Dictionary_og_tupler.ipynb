{
 "cells": [
  {
   "cell_type": "markdown",
   "metadata": {},
   "source": [
    "### Tupler og dict\n",
    "\n",
    "To frekvenstyper (vi har lært indtil videre:\n",
    "Lister: mutable\n",
    "Strings: inmutable\n",
    "\n",
    "Nye frekvenstyper:\n",
    "Tupler: inmutable - den omkranses () - de kan slices og loope over dem\n",
    "\n",
    "\n",
    "dette er nok noget det man bruger aller mest i forhold til en tekstanalyse\n",
    "\n",
    "bruges især i frekvensanalyser\n",
    "\n",
    "i dictionaries arbejder man altid med keys og values"
   ]
  },
  {
   "cell_type": "code",
   "execution_count": 4,
   "metadata": {},
   "outputs": [],
   "source": [
    "letters = ('A','B','C','D')"
   ]
  },
  {
   "cell_type": "code",
   "execution_count": 5,
   "metadata": {},
   "outputs": [
    {
     "data": {
      "text/plain": [
       "tuple"
      ]
     },
     "execution_count": 5,
     "metadata": {},
     "output_type": "execute_result"
    }
   ],
   "source": [
    "type(letters)"
   ]
  },
  {
   "cell_type": "code",
   "execution_count": 6,
   "metadata": {},
   "outputs": [
    {
     "name": "stdout",
     "output_type": "stream",
     "text": [
      "('A', 'B', 'C', 'D')\n"
     ]
    }
   ],
   "source": [
    "print(letters)"
   ]
  },
  {
   "cell_type": "code",
   "execution_count": 2,
   "metadata": {},
   "outputs": [],
   "source": [
    "#en tupel som kun indeholder et element skal have et trailing koma --> ellers er det en string\n",
    "letter = ('A',)"
   ]
  },
  {
   "cell_type": "code",
   "execution_count": 3,
   "metadata": {},
   "outputs": [
    {
     "data": {
      "text/plain": [
       "tuple"
      ]
     },
     "execution_count": 3,
     "metadata": {},
     "output_type": "execute_result"
    }
   ],
   "source": [
    "type(letter)"
   ]
  },
  {
   "cell_type": "code",
   "execution_count": 7,
   "metadata": {},
   "outputs": [],
   "source": [
    "#tupler bruges til at lagre relaterede data --> data der har meget med hinanden at gøre\n",
    "#tupler giver os mulighed for at samle info, så det kan bruges som en samlet ting\n",
    "\n",
    "julia = ('Julia','Roberts',1967,'Duplicity',2009,'Actress','Atlanta,Georgia')"
   ]
  },
  {
   "cell_type": "code",
   "execution_count": 9,
   "metadata": {},
   "outputs": [
    {
     "data": {
      "text/plain": [
       "1967"
      ]
     },
     "execution_count": 9,
     "metadata": {},
     "output_type": "execute_result"
    }
   ],
   "source": [
    "julia[2]"
   ]
  },
  {
   "cell_type": "markdown",
   "metadata": {},
   "source": [
    "### Tuple assignment\n",
    "\n",
    "et assigment statement hvor vi laver 7 assignment på én gang"
   ]
  },
  {
   "cell_type": "code",
   "execution_count": 14,
   "metadata": {},
   "outputs": [],
   "source": [
    "name, surname, birth, movie, movie_year, prefession, birthplace = julia\n",
    "#lig mærke til at man ikke behøves at have en tuple når man skriver en tuple"
   ]
  },
  {
   "cell_type": "code",
   "execution_count": 15,
   "metadata": {},
   "outputs": [
    {
     "data": {
      "text/plain": [
       "'Julia'"
      ]
     },
     "execution_count": 15,
     "metadata": {},
     "output_type": "execute_result"
    }
   ],
   "source": [
    "name"
   ]
  },
  {
   "cell_type": "code",
   "execution_count": 13,
   "metadata": {},
   "outputs": [
    {
     "data": {
      "text/plain": [
       "1967"
      ]
     },
     "execution_count": 13,
     "metadata": {},
     "output_type": "execute_result"
    }
   ],
   "source": [
    "birth"
   ]
  },
  {
   "cell_type": "code",
   "execution_count": 16,
   "metadata": {},
   "outputs": [],
   "source": [
    "def letters():\n",
    "    letter1 = 'a'\n",
    "    letter2 = 'b'\n",
    "    return letter1,letter2\n",
    "    #det her det er en tuple\n",
    "    \n",
    "out1,out2 = letters()\n",
    "#ved return skal denne tuple jo gribes uden for funktionen --> det gøres med en varible/assigment statement"
   ]
  },
  {
   "cell_type": "code",
   "execution_count": 17,
   "metadata": {},
   "outputs": [
    {
     "name": "stdout",
     "output_type": "stream",
     "text": [
      "('a', 'b')\n"
     ]
    }
   ],
   "source": [
    "print(letters())"
   ]
  },
  {
   "cell_type": "code",
   "execution_count": 19,
   "metadata": {},
   "outputs": [
    {
     "data": {
      "text/plain": [
       "tuple"
      ]
     },
     "execution_count": 19,
     "metadata": {},
     "output_type": "execute_result"
    }
   ],
   "source": [
    "type(letters())"
   ]
  },
  {
   "cell_type": "markdown",
   "metadata": {},
   "source": [
    "### Dictionaries\n",
    "\n",
    "dicts er IKKE en sekvens, de er en mapping --> en pose --> ligesom sets er rækkefølgen uordnet\n",
    "\n",
    "#### dictionaries sammenlignet med lister"
   ]
  },
  {
   "cell_type": "code",
   "execution_count": 26,
   "metadata": {},
   "outputs": [],
   "source": [
    "# en liste har indexer\n",
    "name = ['bo', 'ib', 'ib'] #indexer 0,1,2\n",
    "grades = [10,7,12] #indexer 0,1,2\n",
    "\n",
    "#en dict har keys\n",
    "names_grades = {'per':12,'bo':10,'ib':7}\n",
    "#per, bo og ib er her keys --> der kan der fx ikke komme en 'per' mere\n",
    "#talene er her kaldt værdier\n",
    "# hvis der var flere i klassen der hedder per, skal karakteren være keys\n"
   ]
  },
  {
   "cell_type": "code",
   "execution_count": 27,
   "metadata": {},
   "outputs": [],
   "source": [
    "#den tomme dict og den tomme liste\n",
    "d = {}\n",
    "l = []"
   ]
  },
  {
   "cell_type": "code",
   "execution_count": 40,
   "metadata": {},
   "outputs": [],
   "source": [
    "#tilføj til liste\n",
    "names = ['bo', 'ib', 'per']\n",
    "names.append('viggo')\n",
    "names[2] = 'tina'"
   ]
  },
  {
   "cell_type": "code",
   "execution_count": 41,
   "metadata": {},
   "outputs": [
    {
     "data": {
      "text/plain": [
       "['bo', 'ib', 'tina', 'viggo']"
      ]
     },
     "execution_count": 41,
     "metadata": {},
     "output_type": "execute_result"
    }
   ],
   "source": [
    "names"
   ]
  },
  {
   "cell_type": "code",
   "execution_count": 44,
   "metadata": {},
   "outputs": [],
   "source": [
    "#tilføj til dict\n",
    "names_grades = {'per':12,'bo':10,'ib':7}\n",
    "names_grades['viggo'] = 12"
   ]
  },
  {
   "cell_type": "code",
   "execution_count": 45,
   "metadata": {},
   "outputs": [
    {
     "data": {
      "text/plain": [
       "{'per': 12, 'bo': 10, 'ib': 7, 'viggo': 12}"
      ]
     },
     "execution_count": 45,
     "metadata": {},
     "output_type": "execute_result"
    }
   ],
   "source": [
    "names_grades"
   ]
  },
  {
   "cell_type": "markdown",
   "metadata": {},
   "source": [
    "### Andre almindelige operationer på en dict"
   ]
  },
  {
   "cell_type": "code",
   "execution_count": 46,
   "metadata": {},
   "outputs": [
    {
     "data": {
      "text/plain": [
       "4"
      ]
     },
     "execution_count": 46,
     "metadata": {},
     "output_type": "execute_result"
    }
   ],
   "source": [
    "len(names_grades)"
   ]
  },
  {
   "cell_type": "code",
   "execution_count": 48,
   "metadata": {},
   "outputs": [],
   "source": [
    "del names_grades['viggo']"
   ]
  },
  {
   "cell_type": "code",
   "execution_count": 49,
   "metadata": {},
   "outputs": [
    {
     "data": {
      "text/plain": [
       "12"
      ]
     },
     "execution_count": 49,
     "metadata": {},
     "output_type": "execute_result"
    }
   ],
   "source": [
    "names_grades['per']"
   ]
  },
  {
   "cell_type": "code",
   "execution_count": 50,
   "metadata": {},
   "outputs": [
    {
     "data": {
      "text/plain": [
       "True"
      ]
     },
     "execution_count": 50,
     "metadata": {},
     "output_type": "execute_result"
    }
   ],
   "source": [
    "'per' in names_grades"
   ]
  },
  {
   "cell_type": "code",
   "execution_count": 52,
   "metadata": {},
   "outputs": [],
   "source": [
    "words = {'the':70, 'and':35, 'of':28}"
   ]
  },
  {
   "cell_type": "code",
   "execution_count": 53,
   "metadata": {},
   "outputs": [
    {
     "data": {
      "text/plain": [
       "70"
      ]
     },
     "execution_count": 53,
     "metadata": {},
     "output_type": "execute_result"
    }
   ],
   "source": [
    "#find værdien når du kender key\n",
    "words['the']"
   ]
  },
  {
   "cell_type": "code",
   "execution_count": 63,
   "metadata": {},
   "outputs": [
    {
     "name": "stdout",
     "output_type": "stream",
     "text": [
      "the\n"
     ]
    }
   ],
   "source": [
    "#find key når du kender værdi\n",
    "for word in words:\n",
    "    if words[word] == 70:\n",
    "        print(word)\n",
    "    "
   ]
  },
  {
   "cell_type": "code",
   "execution_count": 64,
   "metadata": {},
   "outputs": [],
   "source": [
    "#fra 2 lister til dict\n",
    "\n",
    "words = ['the', 'and', 'of']\n",
    "freq = [70,35,28]\n",
    "\n",
    "words_freq = zip(words,freq)\n",
    "#zip fungerer som en lynlås --> der låser to lister sammen --> det skal dog sættes i den rigtige rækkefølge"
   ]
  },
  {
   "cell_type": "code",
   "execution_count": 65,
   "metadata": {},
   "outputs": [
    {
     "data": {
      "text/plain": [
       "<zip at 0x7fdd55c0a300>"
      ]
     },
     "execution_count": 65,
     "metadata": {},
     "output_type": "execute_result"
    }
   ],
   "source": [
    "words_freq\n",
    "#betyder at vi har et zipobjekt "
   ]
  },
  {
   "cell_type": "code",
   "execution_count": 66,
   "metadata": {},
   "outputs": [],
   "source": [
    "words_freq = dict(words_freq)"
   ]
  },
  {
   "cell_type": "code",
   "execution_count": 67,
   "metadata": {},
   "outputs": [
    {
     "name": "stdout",
     "output_type": "stream",
     "text": [
      "{'the': 70, 'and': 35, 'of': 28}\n"
     ]
    }
   ],
   "source": [
    "print(words_freq)"
   ]
  },
  {
   "cell_type": "markdown",
   "metadata": {},
   "source": [
    "#### Øvelse \n",
    "\n",
    "phrase = 'hair conditioner'\n",
    "char_freq = {}\n",
    "\n",
    "vi skal lave en dict som tager hvert bogstav i phrase og lægger det ind i dict sammen med en frekvens.\n",
    "\n",
    "Dvs. første gang vi møder et bogstav lægges bogstaves ind i dict sammen med frekvensen 1, når vi så møder samme bogstav igen, så lægges 1 til frekvensen. \n",
    "\n",
    "Så output skal være: {'a':1, ' ':1, 'i':3....."
   ]
  },
  {
   "cell_type": "code",
   "execution_count": 77,
   "metadata": {},
   "outputs": [
    {
     "name": "stdout",
     "output_type": "stream",
     "text": [
      "{'h': 1, 'a': 1, 'i': 3, 'r': 2, ' ': 1, 'c': 1, 'o': 2, 'n': 2, 'd': 1, 't': 1, 'e': 1}\n"
     ]
    }
   ],
   "source": [
    "phrase = 'hair conditioner'\n",
    "char_freq = {}\n",
    "\n",
    "for char in phrase:\n",
    "    if char not in char_freq:\n",
    "        char_freq[char] = 1\n",
    "        \n",
    "    else:\n",
    "        char_freq[char]+=1\n",
    "        \n",
    "print(char_freq)\n",
    "    \n",
    "        \n",
    "    \n",
    "    "
   ]
  },
  {
   "cell_type": "markdown",
   "metadata": {},
   "source": [
    "##### metoder"
   ]
  },
  {
   "cell_type": "code",
   "execution_count": 73,
   "metadata": {},
   "outputs": [
    {
     "data": {
      "text/plain": [
       "dict_keys(['h', 'a', 'i', 'r', ' ', 'c', 'o', 'n', 'd', 't', 'e'])"
      ]
     },
     "execution_count": 73,
     "metadata": {},
     "output_type": "execute_result"
    }
   ],
   "source": [
    "char_freq.keys()"
   ]
  },
  {
   "cell_type": "code",
   "execution_count": 75,
   "metadata": {},
   "outputs": [
    {
     "data": {
      "text/plain": [
       "dict_values([1, 1, 1, 1, 1, 1, 1, 1, 1, 1, 1])"
      ]
     },
     "execution_count": 75,
     "metadata": {},
     "output_type": "execute_result"
    }
   ],
   "source": [
    "char_freq.values()"
   ]
  },
  {
   "cell_type": "code",
   "execution_count": 79,
   "metadata": {},
   "outputs": [],
   "source": [
    "words = {'the':70, 'and':35, 'of':28}\n",
    "words_items = words.items()\n",
    "words_items = list(words.items())\n",
    "#får en dict til at blive en liste hvor værdierne er tupler"
   ]
  },
  {
   "cell_type": "code",
   "execution_count": 80,
   "metadata": {},
   "outputs": [
    {
     "name": "stdout",
     "output_type": "stream",
     "text": [
      "[('the', 70), ('and', 35), ('of', 28)]\n"
     ]
    }
   ],
   "source": [
    "print(words_items)"
   ]
  },
  {
   "cell_type": "code",
   "execution_count": 81,
   "metadata": {},
   "outputs": [],
   "source": [
    "# når man looper på en dict, så lopper man i udgangspunkt på key\n",
    "\n",
    "#for key in in dict"
   ]
  },
  {
   "cell_type": "code",
   "execution_count": 85,
   "metadata": {},
   "outputs": [
    {
     "name": "stdout",
     "output_type": "stream",
     "text": [
      "the 70\n",
      "and 35\n",
      "of 28\n"
     ]
    }
   ],
   "source": [
    "words = {'the':70, 'and':35, 'of':28}\n",
    "for word in words:\n",
    "    print(word, words[word])"
   ]
  },
  {
   "cell_type": "code",
   "execution_count": 83,
   "metadata": {},
   "outputs": [
    {
     "name": "stdout",
     "output_type": "stream",
     "text": [
      "the 70\n",
      "and 35\n",
      "of 28\n"
     ]
    }
   ],
   "source": [
    "for word, freq in words.items():\n",
    "    print(word,freq)"
   ]
  },
  {
   "cell_type": "markdown",
   "metadata": {},
   "source": [
    "Lav et lille program: åbn alice.txt og læg hvert ord fra alice.txt i en dict (fjern evt. tegnsætning første gang et lægges lægges ind i dict gøres det sammen med frekvensen 1. for hver gang vi møder samme ord igen, lægges yderligere 1 til frekvensen. "
   ]
  },
  {
   "cell_type": "code",
   "execution_count": 86,
   "metadata": {},
   "outputs": [
    {
     "name": "stdout",
     "output_type": "stream",
     "text": [
      "{'\\ufeffProject': 1, \"Gutenberg's\": 2, \"Alice's\": 12, 'Adventures': 3, 'in': 350, 'Wonderland,': 3, 'by': 58, 'Lewis': 2, 'Carroll': 2, '***': 2, 'START': 1, 'OF': 4, 'THIS': 1, 'PROJECT': 1, 'GUTENBERG': 1, 'EBOOK': 1, \"ALICE'S\": 3, 'ADVENTURES': 2, 'IN': 4, 'WONDERLAND': 2, \"ALICE'S·ADVENTURES\": 1, 'IN·WONDERLAND': 1, 'BY·LEWIS·CARROLL': 1, 'ILLUSTRATED·BY': 1, 'ARTHUR·RACKHAM': 1, 'WITH': 1, 'A': 14, 'PROEM': 1, 'BY': 3, 'AUSTIN': 2, 'DOBSON': 1, 'LONDON·WILLIAM·HEINEMANN': 1, 'NEW·YORK·DOUBLEDAY·PAGE·&·Co]': 1, 'PRINTED': 2, 'ENGLAND': 1, \"'Tis\": 2, 'two': 23, 'score': 1, 'years': 1, 'since': 5, \"CARROLL'S\": 1, 'art,': 1, 'With': 3, 'topsy-turvy': 1, 'magic,': 1, 'Sent': 1, 'ALICE': 2, 'wondering': 8, 'through': 15, 'a': 621, 'part': 3, 'Half-comic': 1, 'and': 726, 'half-tragic.': 1, 'Enchanting': 1, 'ALICE!': 1, 'Black-and-white': 1, 'Has': 2, 'made': 30, 'your': 61, 'deeds': 1, 'perennial;': 1, 'And': 59, 'naught': 1, 'save': 2, '\"Chaos': 1, 'old': 14, 'Night\"': 1, 'Can': 1, 'you': 268, 'now': 25, 'from': 37, 'TENNIEL;': 1, 'But': 16, 'still': 13, 'are': 45, 'Type,': 1, 'based': 1, 'In': 12, 'Truth,': 1, 'like': 75, 'LEAR': 1, 'HAMLET;': 1, 'Types': 1, 'may': 13, 'be': 140, 're-draped': 1, 'to': 714, 'taste': 3, 'cloth-of-gold': 1, 'or': 70, 'camlet.': 1, 'Here': 6, 'comes': 3, 'afresh': 1, 'Costumier,': 1, 'then;': 2, 'That': 7, 'Taste': 1, 'gain': 1, 'wrinkle': 1, 'From': 1, 'him': 27, 'who': 51, 'drew': 8, 'with': 179, 'such': 43, 'deft': 1, 'pen': 1, 'The': 97, 'rags': 1, 'of': 497, 'RIP': 1, 'VAN': 1, 'WINKLE!': 1, 'DOBSON.': 1, 'All': 5, 'the': 1530, 'golden': 8, 'afternoon': 1, 'Full': 1, 'leisurely': 1, 'we': 17, 'glide;': 1, 'For': 10, 'both': 15, 'our': 8, 'oars,': 1, 'little': 123, 'skill,': 1, 'By': 4, 'arms': 6, 'plied,': 1, 'While': 7, 'hands': 7, 'make': 26, 'vain': 1, 'pretence': 1, 'Our': 2, 'wanderings': 1, 'guide.': 1, 'Ah,': 2, 'cruel': 1, 'Three!': 1, 'an': 53, 'hour,': 1, 'Beneath': 2, 'dreamy': 2, 'weather,': 1, 'To': 4, 'beg': 9, 'tale': 5, 'breath': 3, 'too': 23, 'weak': 3, 'stir': 1, 'tiniest': 1, 'feather!': 1, 'Yet': 4, 'what': 96, 'can': 32, 'one': 84, 'poor': 26, 'voice': 19, 'avail': 1, 'Against': 1, 'three': 24, 'tongues': 1, 'together?': 1, 'Imperious': 1, 'Prima': 1, 'flashes': 1, 'forth': 1, 'Her': 4, 'edict': 1, '\"to': 5, 'begin': 8, 'it\"--': 1, 'gentler': 1, 'tone': 9, 'Secunda': 1, 'hopes': 1, '\"There': 6, 'will': 29, 'nonsense': 2, 'it!\"--': 1, 'Tertia': 1, 'interrupts': 1, 'Not': 1, 'more': 40, 'than': 24, 'once': 19, 'minute.': 2, 'Anon,': 1, 'sudden': 6, 'silence': 5, 'won,': 2, 'fancy': 5, 'they': 110, 'pursue': 1, 'dream-child': 1, 'moving': 4, 'land': 2, 'Of': 1, 'wonders': 1, 'wild': 3, 'new,': 1, 'friendly': 1, 'chat': 1, 'bird': 2, 'beast--': 1, 'half': 22, 'believe': 9, 'it': 357, 'true.': 1, 'ever,': 1, 'as': 236, 'story': 4, 'drained': 1, 'wells': 1, 'dry.': 1, 'faintly': 2, 'strove': 1, 'that': 226, 'weary': 1, 'put': 32, 'subject': 3, 'by,': 1, '\"The': 16, 'rest': 10, 'next': 22, 'time--\"': 1, '\"It': 25, 'is': 74, 'time!\"': 1, 'happy': 2, 'voices': 3, 'cry.': 1, 'Thus': 2, 'grew': 2, 'Wonderland:': 1, 'slowly,': 3, 'one,': 8, 'Its': 1, 'quaint': 1, 'events': 1, 'were': 82, 'hammered': 1, 'out--': 1, 'done,': 2, 'home': 2, 'steer,': 1, 'merry': 1, 'crew,': 1, 'setting': 2, 'sun.': 2, 'Alice!': 4, 'childish': 1, 'take,': 1, 'gentle': 1, 'hand': 12, 'Lay': 1, 'where': 8, \"Childhood's\": 1, 'dreams': 1, 'twined': 1, \"Memory's\": 1, 'mystic': 1, 'band,': 1, 'Like': 2, \"pilgrim's\": 1, \"wither'd\": 1, 'wreath': 1, 'flowers': 3, \"Pluck'd\": 1, 'far-off': 1, 'land.': 1, 'CONTENTS': 1, 'PAGE': 1, 'I.': 1, 'DOWN': 1, 'THE': 14, 'RABBIT-HOLE': 1, '1': 1, 'II.': 1, 'POOL': 1, 'TEARS': 1, '13': 1, 'III.': 1, 'CAUCUS-RACE': 1, 'AND': 4, 'LONG': 1, 'TALE': 1, '24': 1, 'IV.': 1, 'RABBIT': 1, 'SENDS': 1, 'LITTLE': 1, 'BILL': 1, '35': 1, 'V.': 1, 'ADVICE': 1, 'FROM': 1, 'CATERPILLAR': 1, '49': 1, 'VI.': 1, 'PIG': 1, 'PEPPER': 1, '64': 1, 'VII.': 1, 'MAD': 1, 'TEA-PARTY': 1, '82': 1, 'VIII.': 1, \"QUEEN'S\": 1, 'CROQUET-GROUND': 1, '96': 1, 'IX.': 1, 'MOCK': 1, \"TURTLE'S\": 1, 'STORY': 1, '111': 1, 'X.': 1, 'LOBSTER': 1, 'QUADRILLE': 1, '126': 1, 'XI.': 1, 'WHO': 1, 'STOLE': 1, 'TARTS?': 1, '139': 1, 'XII.': 1, 'EVIDENCE': 1, '150': 1, 'LIST': 1, 'PLATES': 1, 'face': 11, 'page': 1, 'Alice': 224, 'Frontispiece': 1, 'Pool': 3, 'Tears': 3, '22': 1, 'They': 10, 'all': 156, 'crowded': 7, 'round': 32, 'panting': 2, 'asking,': 2, '\"But': 22, 'has': 8, 'won?\"': 3, '28': 1, '\"Why,': 12, 'Mary': 5, 'Ann,': 4, 'doing': 5, 'out': 102, 'here?\"': 5, '36': 1, 'Advice': 3, 'Caterpillar': 12, '50': 1, 'An': 6, 'unusually': 3, 'large': 33, 'saucepan': 3, 'flew': 3, 'close': 14, 'it,': 39, 'very': 141, 'nearly': 12, 'carried': 6, 'off': 44, '70': 1, 'It': 17, 'grunted': 5, 'again': 16, 'so': 106, 'violently': 4, 'she': 490, 'looked': 47, 'down': 81, 'into': 72, 'its': 59, 'some': 51, 'alarm': 3, '74': 1, 'Mad': 3, 'Tea-Party': 1, '84': 1, 'Queen': 38, 'turned': 18, 'angrily': 4, 'away': 16, 'said': 423, 'Knave,': 3, '\"Turn': 4, 'them': 52, 'over\"': 2, '100': 1, 'never': 41, 'left': 15, 'quarrelling': 4, 'other': 28, 'players,': 4, 'shouting': 4, '\"Off': 12, 'his': 96, 'head!\"': 10, 'or,': 2, 'her': 209, '116': 1, 'Mock': 58, 'Turtle': 37, 'long': 31, 'said,': 27, '\"That\\'s': 16, 'curious\"': 2, '132': 1, 'Who': 7, 'stole': 3, 'Tarts?': 2, '140': 1, 'At': 11, 'this': 93, 'whole': 15, 'pack': 6, 'rose': 3, 'up': 84, 'air,': 6, 'came': 40, 'flying': 3, 'upon': 28, '158': 1, 'CHAPTER': 12, 'I': 266, '[Sidenote:': 12, 'Down': 1, 'Rabbit-Hole': 1, ']': 22, 'was': 334, 'beginning': 11, 'get': 43, 'tired': 7, 'sitting': 10, 'sister': 5, 'on': 138, 'bank,': 2, 'having': 10, 'nothing': 21, 'do:': 1, 'twice': 1, 'had': 177, 'peeped': 3, 'book': 3, 'reading,': 1, 'but': 101, 'no': 65, 'pictures': 4, 'conversations': 1, '\"and': 38, 'use': 17, 'book,\"': 2, 'thought': 62, 'Alice,': 73, '\"without': 1, 'conversations?\"': 1, 'So': 23, 'considering': 3, 'own': 9, 'mind': 4, '(as': 2, 'well': 28, 'could,': 7, 'for': 122, 'hot': 4, 'day': 11, 'feel': 8, 'sleepy': 3, 'stupid)': 1, 'whether': 11, 'pleasure': 2, 'making': 8, 'daisy-chain': 1, 'would': 75, 'worth': 4, 'trouble': 4, 'getting': 21, 'picking': 2, 'daisies,': 1, 'when': 66, 'suddenly': 9, 'White': 21, 'Rabbit': 29, 'pink': 1, 'eyes': 18, 'ran': 13, 'her.': 13, 'There': 19, 'remarkable': 2, 'that;': 1, 'nor': 2, 'did': 49, 'think': 40, 'much': 40, 'way': 38, 'hear': 14, 'say': 34, 'itself,': 4, '\"Oh': 2, 'dear!': 8, 'Oh': 4, 'shall': 21, 'late!\"': 1, '(when': 1, 'over': 31, 'afterwards,': 1, 'occurred': 2, 'ought': 13, 'have': 76, 'wondered': 1, 'at': 193, 'this,': 17, 'time': 45, 'seemed': 27, 'quite': 55, 'natural);': 1, 'actually': 1, 'took': 24, 'watch': 7, 'waistcoat-pocket': 1, ',': 8, 'then': 51, 'hurried': 10, 'on,': 24, 'started': 2, 'feet,': 6, 'flashed': 1, 'across': 5, 'before': 20, 'seen': 12, 'rabbit': 1, 'either': 5, 'waistcoat-pocket,': 1, 'take': 18, 'burning': 1, 'curiosity,': 2, 'field': 1, 'after': 35, 'just': 43, 'see': 49, 'pop': 1, 'rabbit-hole': 2, 'under': 16, 'hedge.': 1, 'another': 22, 'moment': 20, 'went': 77, 'how': 36, 'world': 6, 'again.': 16, 'straight': 2, 'tunnel': 1, 'way,': 7, 'dipped': 2, 'down,': 11, 'not': 111, 'about': 84, 'stopping': 1, 'herself': 40, 'found': 28, 'falling': 2, 'deep': 5, 'well.': 2, '[Illustration]': 14, 'Either': 1, 'deep,': 2, 'fell': 6, 'plenty': 2, 'look': 25, 'her,': 18, 'wonder': 15, 'going': 25, 'happen': 5, 'next.': 3, 'First,': 4, 'tried': 18, 'coming': 6, 'to,': 3, 'dark': 3, 'anything;': 2, 'sides': 4, 'noticed': 7, 'filled': 3, 'cupboards': 2, 'book-shelves:': 1, 'here': 16, 'there': 45, 'saw': 13, 'maps': 1, 'hung': 1, 'pegs.': 1, 'She': 34, 'jar': 2, 'shelves': 1, 'passed;': 1, 'labelled': 1, '\"ORANGE': 1, 'MARMALADE,\"': 1, 'disappointment': 1, 'empty;': 1, 'drop': 1, 'fear': 4, 'killing': 1, 'somebody': 5, 'underneath,': 1, 'managed': 3, 'past': 1, 'it.': 17, '\"Well!\"': 1, 'herself.': 9, '\"After': 2, 'fall': 6, 'tumbling': 2, 'stairs!': 1, 'How': 12, 'brave': 1, \"they'll\": 4, 'me': 49, 'home!': 1, 'Why,': 7, \"wouldn't\": 11, 'anything': 15, 'even': 16, 'if': 68, 'top': 7, 'house!\"': 1, '(Which': 2, 'likely': 4, 'true.)': 1, 'Down,': 2, 'down.': 3, 'Would': 3, 'come': 22, 'end?': 1, '\"I': 120, 'many': 12, 'miles': 3, \"I've\": 21, 'fallen': 4, 'time?\"': 1, 'aloud.': 3, 'must': 43, 'somewhere': 2, 'near': 14, 'centre': 1, 'earth.': 2, 'Let': 6, 'see:': 3, 'four': 6, 'thousand': 2, 'think--\"': 2, '(for,': 1, 'see,': 9, 'learnt': 2, 'several': 4, 'things': 19, 'sort': 14, 'lessons': 4, 'schoolroom,': 1, 'though': 6, 'good': 23, 'opportunity': 8, 'showing': 2, 'knowledge,': 1, 'listen': 4, 'practice': 1, 'over)': 1, '\"--yes,': 1, \"that's\": 15, 'right': 20, 'distance--but': 1, 'Latitude': 2, 'Longitude': 2, 'got': 45, 'to?\"': 3, '(Alice': 4, 'idea': 15, 'was,': 13, 'either,': 2, 'nice': 6, 'grand': 2, 'words': 14, 'say.)': 1, 'Presently': 2, 'began': 47, 'earth!': 1, 'funny': 3, \"it'll\": 5, 'seem': 8, 'among': 12, 'people': 10, 'walk': 4, 'their': 51, 'heads': 7, 'downwards!': 1, 'Antipathies,': 1, '(she': 9, 'rather': 26, 'glad': 11, 'listening,': 2, 'time,': 7, \"didn't\": 11, 'sound': 3, 'word)': 1, '\"--but': 1, 'ask': 7, 'name': 8, 'country': 1, 'is,': 15, 'know.': 8, 'Please,': 1, \"Ma'am,\": 1, 'New': 1, 'Zealand': 1, 'Australia?\"': 1, '(and': 1, 'curtsey': 1, 'spoke--fancy': 1, 'curtseying': 1, \"you're\": 14, 'air!': 1, 'Do': 5, 'could': 67, 'manage': 6, 'it?)': 1, '\"And': 18, 'ignorant': 1, 'girl': 3, \"she'll\": 2, 'me!': 4, 'No,': 4, 'do': 46, 'ask:': 1, 'perhaps': 12, 'written': 6, 'somewhere.\"': 1, 'else': 8, 'do,': 8, 'soon': 23, 'talking': 12, '\"Dinah\\'ll': 1, 'miss': 1, 'to-night,': 1, 'should': 28, 'think!\"': 1, '(Dinah': 1, 'cat.)': 1, 'hope': 3, 'remember': 12, 'saucer': 1, 'milk': 1, 'tea-time.': 1, 'Dinah,': 4, 'my': 55, 'dear,': 7, 'wish': 21, 'mice': 2, \"I'm\": 39, 'afraid,': 2, 'might': 27, 'catch': 3, 'bat,': 1, 'mouse,': 3, 'cats': 9, 'eat': 16, 'bats,': 1, 'wonder?\"': 3, 'sleepy,': 1, 'saying': 11, 'herself,': 30, '\"Do': 8, 'bats?': 1, 'bats?\"': 1, 'sometimes,': 1, 'bats': 1, 'cats?\"': 1, 'for,': 2, \"couldn't\": 9, 'answer': 6, 'question,': 4, 'matter': 9, 'which': 38, 'felt': 23, 'dozing': 1, 'off,': 14, 'begun': 6, 'dream': 3, 'walking': 5, 'earnestly,': 1, '\"Now,': 3, 'tell': 26, 'truth:': 1, 'ever': 18, 'bat?\"': 1, 'suddenly,': 1, 'thump!': 2, 'heap': 1, 'sticks': 1, 'dry': 7, 'leaves,': 2, 'over.': 2, 'bit': 9, 'hurt,': 1, 'jumped': 5, 'feet': 11, 'moment:': 1, 'up,': 9, 'overhead;': 1, 'passage,': 2, 'sight,': 4, 'hurrying': 1, 'lost:': 1, 'wind,': 2, 'say,': 5, 'corner,': 2, 'ears': 4, 'whiskers,': 1, 'late': 3, \"it's\": 25, 'getting!\"': 1, 'behind': 12, 'longer': 2, 'seen:': 1, 'long,': 1, 'low': 9, 'hall,': 5, 'lit': 1, 'row': 2, 'lamps': 1, 'hanging': 3, 'roof.': 1, 'doors': 2, 'locked;': 1, 'been': 36, 'side': 12, 'other,': 5, 'trying': 11, 'every': 12, 'door,': 8, 'walked': 10, 'sadly': 2, 'middle,': 3, 'Suddenly': 1, 'three-legged': 2, 'table,': 5, 'solid': 1, 'glass;': 1, 'tiny': 4, 'key,': 3, 'first': 29, 'belong': 1, 'hall;': 1, 'but,': 6, 'alas!': 2, 'locks': 1, 'large,': 1, 'key': 5, 'small,': 1, 'any': 37, 'rate': 4, 'open': 6, 'them.': 2, 'However,': 13, 'second': 4, 'round,': 7, 'curtain': 1, 'before,': 11, 'door': 16, 'fifteen': 1, 'inches': 6, 'high:': 3, 'lock,': 1, 'great': 37, 'delight': 1, 'fitted!': 1, 'opened': 9, 'led': 4, 'small': 8, 'larger': 3, 'rat-hole:': 1, 'knelt': 1, 'along': 5, 'passage': 1, 'loveliest': 1, 'garden': 5, 'saw.': 1, 'longed': 2, 'wander': 1, 'those': 9, 'beds': 1, 'bright': 7, 'cool': 2, 'fountains,': 1, 'head': 28, 'doorway;': 1, 'go': 39, 'through,\"': 1, '\"it': 5, 'without': 24, 'shoulders.': 1, 'Oh,': 4, 'shut': 4, 'telescope!': 1, 'only': 43, 'knew': 13, 'begin.\"': 3, 'For,': 1, 'out-of-the-way': 3, 'happened': 3, 'lately,': 1, 'few': 9, 'indeed': 3, 'really': 9, 'impossible.': 1, 'waiting': 7, 'back': 30, 'hoping': 3, 'find': 20, 'rules': 3, 'shutting': 2, 'telescopes:': 1, 'bottle': 7, '(\"which': 1, 'certainly': 8, 'before,\"': 3, 'Alice,)': 2, 'tied': 2, 'neck': 6, 'paper': 3, 'label,': 1, '\"DRINK': 2, 'ME\"': 2, 'beautifully': 2, 'printed': 1, 'letters.': 1, '\"Drink': 1, 'me,\"': 5, 'wise': 2, 'hurry.': 3, '\"No,': 9, \"I'll\": 24, 'first,\"': 2, 'marked': 5, \"'\": 9, 'poison': 1, 'not;\"': 1, 'read': 10, 'stories': 1, 'children': 6, 'burnt,': 1, 'eaten': 1, 'beasts,': 2, 'unpleasant': 2, 'things,': 2, 'because': 11, 'simple': 5, 'friends': 2, 'taught': 4, 'them:': 1, 'as,': 2, 'red-hot': 1, 'poker': 1, 'burn': 2, 'hold': 6, 'long;': 1, 'that,': 6, 'cut': 5, 'finger': 3, 'deeply': 1, 'knife,': 1, 'usually': 2, 'bleeds;': 1, 'forgotten': 6, 'drink': 4, '\"poison,\"': 2, 'almost': 6, 'certain': 2, 'disagree': 1, 'you,': 25, 'sooner': 2, 'later.': 1, 'ventured': 5, 'finding': 3, '(it': 4, 'had,': 1, 'fact,': 4, 'mixed': 2, 'flavour': 1, 'cherry-tart,': 1, 'custard,': 1, 'pineapple,': 1, 'roast': 1, 'turkey,': 1, 'coffee,': 1, 'buttered': 1, 'toast,)': 1, 'finished': 6, 'off.': 4, '*': 15, '\"What': 33, 'curious': 16, 'feeling!\"': 1, 'Alice.': 58, 'telescope.\"': 1, 'indeed:': 1, 'ten': 5, 'high,': 3, 'brightened': 2, 'size': 6, 'lovely': 2, 'garden.': 3, 'however,': 6, 'waited': 9, 'minutes': 7, 'shrink': 1, 'further:': 1, 'nervous': 4, 'this:': 3, '\"for': 6, 'end,': 1, 'know,\"': 8, '\"in': 3, 'altogether,': 2, 'candle.': 1, 'then?\"': 1, 'flame': 1, 'candle': 2, 'looks': 1, 'blown': 1, 'out,': 9, 'thing.': 1, 'After': 5, 'while,': 4, 'happened,': 2, 'decided': 3, 'once;': 2, 'alas': 1, 'table': 7, 'possibly': 3, 'reach': 4, 'it:': 8, 'plainly': 1, 'glass,': 2, 'best': 9, 'climb': 1, 'legs': 3, 'slippery;': 1, 'trying,': 1, 'thing': 35, 'sat': 16, 'cried.': 2, '\"Come,': 9, \"there's\": 15, 'crying': 2, 'that!\"': 7, 'sharply.': 2, 'advise': 1, 'leave': 7, 'minute!\"': 1, 'generally': 5, 'gave': 15, 'advice': 1, '(though': 1, 'seldom': 1, 'followed': 8, 'it),': 2, 'sometimes': 3, 'scolded': 1, 'severely': 2, 'bring': 2, 'tears': 4, 'eyes;': 1, 'remembered': 5, 'box': 3, 'cheated': 1, 'game': 6, 'croquet': 3, 'playing': 2, 'against': 9, 'child': 3, 'fond': 3, 'pretending': 1, 'people.': 1, 'now,\"': 4, 'pretend': 1, 'people!': 1, 'Why': 1, 'hardly': 11, 'enough': 10, 'respectable': 1, 'person!\"': 1, 'Soon': 1, 'eye': 4, 'glass': 4, 'lying': 8, 'table:': 1, 'cake,': 2, '\"EAT': 1, 'currants.': 1, '\"Well,': 20, 'it,\"': 19, 'makes': 11, 'grow': 13, 'larger,': 3, 'key;': 1, 'smaller,': 3, 'creep': 1, 'door;': 1, 'garden,': 5, \"don't\": 49, 'care': 4, 'happens!\"': 1, 'ate': 1, 'bit,': 1, 'anxiously': 13, '\"Which': 3, 'way?': 1, 'Which': 3, 'way?\"': 1, 'holding': 2, 'growing,': 4, 'surprised': 6, 'remained': 3, 'same': 21, 'size;': 2, 'sure,': 1, 'happens': 2, 'eats': 1, 'expecting': 3, 'happen,': 1, 'dull': 2, 'stupid': 1, 'life': 2, 'common': 1, 'way.': 3, 'set': 15, 'work,': 1, 'cake.': 1, 'II': 1, '\"CURIOUSER': 1, 'curiouser!\"': 1, 'cried': 18, 'surprised,': 1, 'forgot': 2, 'speak': 8, 'English);': 1, '\"now': 1, 'opening': 3, 'largest': 1, 'telescope': 1, 'was!': 1, 'Good-bye,': 1, 'feet!\"': 1, '(for': 1, 'far': 9, 'off).': 1, '\"Oh,': 19, 'shoes': 5, 'stockings': 1, 'now,': 6, 'dears?': 1, 'sure': 17, \"sha'n't\": 3, 'able!': 1, 'deal': 11, 'myself': 3, 'you:': 1, 'can--but': 1, 'kind': 6, 'them,\"': 3, '\"or': 5, \"won't\": 21, 'want': 8, 'go!': 1, 'give': 9, 'new': 4, 'pair': 5, 'boots': 3, 'Christmas.\"': 1, 'planning': 1, '\"They': 9, 'carrier,\"': 1, 'thought;': 1, 'seem,': 1, 'sending': 2, 'presents': 2, \"one's\": 1, 'feet!': 1, 'odd': 1, 'directions': 1, 'look!': 1, 'Right': 1, 'Foot,': 1, 'Esq.': 1, 'Hearthrug,': 1, 'Fender,': 1, '(with': 2, 'love).': 1, 'talking!\"': 1, 'Just': 5, 'struck': 2, 'roof': 5, 'hall:': 1, 'fact': 2, 'nine': 4, 'door.': 2, 'Poor': 1, 'side,': 3, 'eye;': 2, 'hopeless': 1, 'ever:': 1, 'cry': 3, '\"You': 29, 'ashamed': 2, 'yourself,\"': 1, '\"a': 2, 'you\"': 1, 'this),': 1, 'way!': 1, 'Stop': 1, 'moment,': 6, 'you!\"': 3, 'same,': 2, 'shedding': 1, 'gallons': 1, 'tears,': 3, 'until': 4, 'pool': 6, 'reaching': 1, 'hall.': 1, '[Illustration:': 12, 'CURIOUSER': 1, 'CURIOUSER]': 1, 'heard': 29, 'pattering': 3, 'distance,': 4, 'hastily': 8, 'dried': 1, 'coming.': 2, 'returning,': 1, 'splendidly': 1, 'dressed,': 1, 'white': 6, 'kid': 5, 'gloves': 5, 'fan': 8, 'other:': 3, 'he': 94, 'trotting': 2, 'hurry,': 1, 'muttering': 3, 'himself': 4, 'came,': 2, '\"Oh!': 2, 'Duchess,': 8, 'Duchess!': 3, 'Oh!': 1, 'savage': 3, 'kept': 13, 'waiting!\"': 1, 'desperate': 1, 'ready': 7, 'help': 9, 'one;': 2, 'so,': 7, 'began,': 6, 'low,': 4, 'timid': 3, 'voice,': 15, '\"If': 14, 'please,': 3, 'sir----\"': 1, 'violently,': 2, 'dropped': 4, 'fan,': 1, 'scurried': 1, 'darkness': 1, 'hard': 9, 'go.': 1, 'gloves,': 3, 'and,': 21, 'hall': 1, 'hot,': 1, 'fanning': 1, 'talking!': 1, '\"Dear,': 1, 'queer': 9, 'everything': 8, 'to-day!': 1, 'yesterday': 2, 'usual.': 2, 'changed': 7, 'during': 1, 'night?': 1, 'think:': 1, 'morning?': 1, 'feeling': 6, 'different.': 1, 'question': 7, 'am': 13, 'I?': 1, 'puzzle!\"': 1, 'thinking': 10, 'age': 2, '\"I\\'m': 19, 'Ada,\"': 1, 'hair': 5, 'goes': 7, 'ringlets,': 1, 'mine': 5, \"doesn't\": 16, 'ringlets': 1, 'all;': 2, \"can't\": 23, 'Mabel,': 3, 'know': 45, 'sorts': 3, 'she,': 4, 'oh!': 2, 'knows': 2, 'little!': 1, 'Besides,': 1, \"she's\": 4, 'I,': 1, 'and--oh': 2, 'puzzling': 4, 'is!': 1, 'try': 11, 'used': 12, 'times': 6, 'five': 1, 'twelve,': 1, 'six': 2, 'thirteen,': 1, 'seven': 1, 'is--oh': 1, 'twenty': 1, 'rate!': 1, 'Multiplication': 1, 'Table': 1, 'signify:': 1, \"let's\": 3, 'Geography.': 1, 'London': 1, 'capital': 4, 'Paris,': 1, 'Paris': 1, 'Rome,': 1, 'Rome--no,': 1, 'wrong,': 2, 'certain!': 1, 'Mabel!': 1, 'doth': 3, 'little----': 1, '\\'\"': 1, 'crossed': 3, 'lap': 2, 'lessons,': 1, 'repeat': 6, 'sounded': 5, 'hoarse': 2, 'strange,': 1, 'do:--': 1, '\"How': 15, 'crocodile': 1, 'Improve': 1, 'shining': 1, 'tail,': 3, 'pour': 1, 'waters': 1, 'Nile': 1, 'On': 4, 'scale!': 1, 'cheerfully': 1, 'seems': 4, 'grin,': 3, 'neatly': 2, 'spreads': 1, 'claws,': 1, 'welcomes': 1, 'fishes': 1, 'in,': 1, 'gently': 3, 'smiling': 2, 'jaws!\"': 1, 'words,\"': 1, 'on.': 9, 'all,': 3, 'live': 7, 'poky': 1, 'house,': 9, 'toys': 1, 'play': 8, 'with,': 1, 'learn!': 2, 'it;': 8, 'stay': 4, 'here!': 2, \"It'll\": 1, 'putting': 3, 'saying,': 3, \"'Come\": 1, 'again,': 30, \"dear!'\": 1, \"'Who\": 1, 'then?': 1, 'Tell': 3, 'first,': 7, 'then,': 6, 'being': 19, 'person,': 1, 'up:': 1, 'not,': 9, 'till': 20, \"else'--but,\": 1, 'oh': 1, 'dear!\"': 3, 'burst': 1, 'down!': 2, 'alone': 2, 'here!\"': 1, 'As': 12, 'hands,': 5, \"Rabbit's\": 3, 'while': 15, 'talking.': 2, 'done': 10, 'that?\"': 6, 'thought.': 2, 'growing': 6, 'again.\"': 2, 'measure': 1, 'guess,': 1, 'shrinking': 4, 'rapidly:': 1, 'cause': 2, 'holding,': 1, 'hastily,': 4, 'avoid': 1, 'altogether.': 1, '\"That': 6, 'narrow': 1, 'escape!\"': 1, 'frightened': 7, 'change,': 2, 'existence;': 1, 'garden!\"': 1, 'speed': 1, 'door:': 1, 'worse': 2, 'ever,\"': 2, 'child,': 1, 'never!': 1, 'declare': 1, 'bad,': 1, 'is!\"': 3, 'these': 13, 'foot': 6, 'slipped,': 1, 'splash!': 1, 'chin': 4, 'salt': 2, 'water.': 1, 'somehow': 1, 'sea,': 3, 'case': 4, 'railway,\"': 1, 'seaside': 1, 'life,': 2, 'general': 3, 'conclusion,': 1, 'wherever': 2, 'English': 1, 'coast': 1, 'number': 4, 'bathing': 1, 'machines': 1, 'digging': 2, 'sand': 1, 'wooden': 1, 'spades,': 1, 'lodging': 1, 'houses,': 1, 'railway': 1, 'station.)': 1, 'wept': 1, 'high.': 3, \"hadn't\": 7, 'much!\"': 2, 'swam': 5, 'about,': 6, 'out.': 2, 'punished': 1, 'suppose,': 1, 'drowned': 1, 'tears!': 1, 'thing,': 4, 'sure!': 1, 'to-day.\"': 1, 'something': 15, 'splashing': 2, 'nearer': 4, 'was:': 2, 'walrus': 1, 'hippopotamus,': 1, 'mouse': 3, 'slipped': 2, '\"Would': 5, 'mouse?': 1, 'Everything': 1, 'here,': 6, 'talk:': 1, 'rate,': 2, 'harm': 1, 'trying.\"': 1, 'began:': 1, '\"O': 1, 'Mouse,': 9, 'pool?': 1, 'swimming': 2, 'O': 1, 'Mouse!\"': 1, 'speaking': 2, 'mouse;': 1, \"brother's\": 1, 'Latin': 1, 'Grammar,': 1, '\"A': 9, 'mouse--of': 1, 'mouse--to': 1, 'mouse--a': 1, 'mouse--O': 1, 'mouse!\")': 1, 'Mouse': 17, 'inquisitively,': 1, 'wink': 2, 'eyes,': 5, 'nothing.': 3, '\"Perhaps': 3, 'understand': 4, 'English,\"': 1, 'Alice;': 12, 'daresay': 2, 'French': 3, 'William': 5, 'Conqueror.\"': 1, '(For,': 1, 'knowledge': 1, 'history,': 4, 'clear': 2, 'notion': 3, 'ago': 1, 'happened.)': 1, 'again:': 6, '\"Où': 1, 'est': 1, 'ma': 1, 'chatte?\"': 1, 'sentence': 5, 'lesson-book.': 1, 'leap': 1, 'water,': 1, 'quiver': 1, 'fright.': 1, 'pardon!\"': 4, 'afraid': 9, 'hurt': 2, \"animal's\": 1, 'feelings.': 1, 'cats.\"': 1, '\"Not': 9, 'cats!\"': 1, 'shrill,': 2, 'passionate': 1, 'voice.': 10, 'me?\"': 2, 'not,\"': 6, 'soothing': 1, 'tone:': 3, '\"don\\'t': 2, 'angry': 4, 'yet': 7, 'show': 3, 'cat': 7, 'Dinah:': 1, \"you'd\": 8, 'dear': 6, 'quiet': 2, 'thing,\"': 3, 'lazily': 1, 'pool,': 2, 'sits': 1, 'purring': 1, 'nicely': 2, 'fire,': 3, 'licking': 1, 'paws': 2, 'washing': 2, 'face--and': 1, 'soft': 1, 'nurse--and': 1, 'catching': 2, 'mice----oh,': 1, 'bristling': 1, 'over,': 2, 'offended.': 1, '\"We': 7, 'talk': 10, 'not.\"': 2, '\"We,': 1, 'indeed!\"': 6, 'trembling': 6, 'end': 12, 'tail.': 2, '\"As': 3, 'subject!': 1, 'family': 1, 'always': 11, 'hated': 1, 'cats:': 1, 'nasty,': 1, 'vulgar': 1, 'things!': 1, \"Don't\": 4, 'let': 7, 'again!\"': 7, 'hurry': 4, 'change': 9, 'conversation.': 5, '\"Are': 5, 'you--are': 1, 'fond--of--of': 1, 'dogs?\"': 1, 'answer,': 1, 'eagerly:': 1, 'dog': 2, 'house': 8, 'you!': 2, 'bright-eyed': 1, 'terrier,': 1, 'know,': 7, 'oh,': 3, 'curly': 1, 'brown': 1, 'hair!': 1, 'fetch': 4, 'throw': 3, 'them,': 20, 'sit': 6, 'dinner,': 1, 'things--I': 1, 'them--and': 2, 'belongs': 2, 'farmer,': 1, 'says': 4, 'useful,': 2, 'hundred': 1, 'pounds!': 1, 'He': 14, 'kills': 1, 'rats': 1, 'sorrowful': 2, 'tone,': 16, 'offended': 6, 'go,': 4, 'commotion': 1, 'went.': 2, 'called': 16, 'softly': 1, '\"Mouse': 1, 'dogs': 1, 'them!\"': 5, 'When': 7, 'slowly': 6, 'her:': 5, 'pale': 2, 'passion,': 2, 'thought),': 1, '\"Let': 3, 'us': 9, 'shore,': 2, \"you'll\": 4, 'why': 7, 'hate': 1, 'dogs.\"': 1, 'high': 4, 'birds': 7, 'animals': 3, 'Duck': 1, 'Dodo,': 3, 'Lory': 3, 'Eaglet,': 1, 'creatures.': 1, 'party': 7, 'shore.': 1, 'III': 1, 'Caucus-race': 1, 'Long': 1, 'Tale': 1, 'THEY': 1, 'queer-looking': 1, 'assembled': 2, 'bank--the': 1, 'draggled': 1, 'feathers,': 1, 'fur': 2, 'clinging': 1, 'dripping': 1, 'wet,': 1, 'cross,': 1, 'uncomfortable.': 2, 'course': 11, 'consultation': 1, 'natural': 3, 'familiarly': 1, 'known': 1, 'life.': 2, 'Indeed,': 1, 'argument': 4, 'Lory,': 3, 'last': 26, 'sulky,': 1, 'older': 2, 'better;\"': 1, 'allow': 1, 'knowing': 2, 'positively': 1, 'refused': 1, 'age,': 2, 'said.': 4, 'person': 2, 'authority': 2, '\"Sit': 1, 'enough!\"': 1, 'once,': 5, 'ring,': 2, 'middle.': 1, 'fixed': 1, 'bad': 1, 'cold': 1, 'soon.': 1, '\"Ahem!\"': 1, 'important': 3, 'air.': 6, 'ready?': 1, 'This': 14, 'driest': 1, 'Silence': 1, 'please!': 1, \"'William\": 1, 'Conqueror,': 1, 'whose': 2, 'favoured': 1, 'pope,': 1, 'submitted': 1, 'English,': 1, 'wanted': 4, 'leaders,': 1, 'accustomed': 1, 'usurpation': 1, 'conquest.': 1, 'Edwin': 1, 'Morcar,': 2, 'earls': 2, 'Mercia': 2, 'Northumbria--\\'\"': 1, '\"Ugh!\"': 1, 'shiver.': 1, 'frowning,': 1, 'politely.': 1, '\"Did': 3, 'speak?\"': 1, 'I!\"': 2, 'hastily.': 3, 'did,\"': 3, '\"--I': 1, 'proceed.': 1, \"'Edwin\": 1, 'Northumbria,': 1, 'declared': 1, 'him:': 3, 'Stigand,': 1, 'patriotic': 1, 'Archbishop': 1, 'Canterbury,': 1, 'advisable--\\'\"': 1, '\"Found': 2, '?\"': 9, 'Duck.': 1, ',\"': 14, 'replied': 13, 'crossly:': 1, '\"of': 1, \"'it'\": 2, 'means.\"': 1, 'means': 2, 'enough,': 2, 'Duck;': 1, '\"it\\'s': 6, 'frog': 1, 'worm.': 1, 'archbishop': 1, 'find?\"': 1, 'notice': 5, 'hurriedly': 2, '\"\\'--found': 1, 'advisable': 1, 'Edgar': 1, 'Atheling': 1, 'meet': 2, 'offer': 2, 'crown.': 1, \"William's\": 1, 'conduct': 1, 'moderate.': 1, 'insolence': 1, \"Normans--'\": 1, 'dear?\"': 1, 'continued,': 2, 'turning': 12, 'spoke.': 6, 'wet': 1, 'melancholy': 6, 'tone;': 3, '\"doesn\\'t': 1, 'all.\"': 2, '\"In': 5, 'case,\"': 1, 'Dodo': 9, 'solemnly,': 1, 'rising': 1, 'move': 2, 'meeting': 1, 'adjourn,': 1, 'immediate': 1, 'adoption': 1, 'energetic': 1, 'remedies----\"': 1, '\"Speak': 2, 'English!\"': 1, 'Eaglet.': 1, 'meaning': 7, 'words,': 1, \"what's\": 2, 'more,': 4, 'either!\"': 1, 'Eaglet': 1, 'bent': 1, 'hide': 1, 'smile:': 1, 'tittered': 1, 'audibly.': 1, 'say,\"': 4, '\"was': 1, 'Caucus-race.\"': 1, 'Caucus-race?\"': 1, 'paused': 1, 'speak,': 2, 'inclined': 1, 'anything.': 1, '\"Why,\"': 2, '\"the': 5, 'explain': 8, 'it.\"': 8, '(And,': 1, 'yourself': 6, 'winter': 1, 'day,': 4, 'it.)': 2, 'First': 2, 'race-course,': 1, 'circle,': 1, '(\"the': 1, 'exact': 1, 'shape': 1, 'matter,\"': 1, 'said,)': 1, 'placed': 1, 'course,': 5, 'there.': 2, '\"One,': 2, 'two,': 9, 'three,': 1, 'away,\"': 1, 'running': 8, 'liked,': 2, 'easy': 2, 'race': 2, 'hour': 2, 'over!\"': 3, 'panting,': 2, 'asking': 4, 'thought,': 6, 'stood': 8, 'pressed': 3, 'forehead': 2, '(the': 1, 'position': 2, 'Shakespeare,': 1, 'him),': 1, 'silence.': 5, '\"': 20, 'Everybody': 2, 'prizes.\"': 1, 'prizes?\"': 1, 'chorus': 2, 'asked.': 8, 'course,\"': 6, 'pointing': 3, 'finger;': 1, 'calling': 1, 'confused': 3, '\"Prizes!': 1, 'Prizes!\"': 1, 'despair': 1, 'pocket,': 2, 'pulled': 1, 'comfits': 1, '(luckily': 1, 'water': 2, 'handed': 3, 'prizes.': 1, 'exactly': 5, 'apiece': 1, 'round.': 3, 'prize': 1, 'Mouse.': 1, '\"Of': 11, 'gravely.': 1, 'pocket?\"': 1, '\"Only': 2, 'thimble,\"': 1, 'sadly.': 2, '\"Hand': 1, 'here,\"': 4, 'Dodo.': 1, 'Then': 9, 'solemnly': 2, 'presented': 1, 'thimble,': 2, 'acceptance': 1, 'elegant': 1, 'thimble;\"': 1, 'short': 4, 'speech,': 1, 'cheered.': 1, 'absurd,': 1, 'grave': 3, 'dare': 4, 'laugh;': 1, 'simply': 2, 'bowed,': 1, 'looking': 30, 'solemn': 3, 'could.': 4, 'comfits;': 1, 'caused': 2, 'noise': 3, 'confusion,': 2, 'complained': 1, 'theirs,': 1, 'ones': 1, 'choked': 3, 'patted': 1, 'back.': 2, 'last,': 5, 'begged': 1, 'more.': 1, 'promised': 1, 'hate--C': 1, 'D,\"': 1, 'added': 17, 'whisper,': 1, '\"Mine': 1, 'sad': 2, 'tale!\"': 1, 'sighing.': 1, 'certainly,\"': 3, \"Mouse's\": 1, 'tail;': 1, '\"but': 19, 'call': 5, 'sad?\"': 1, 'speaking,': 3, 'this:--': 2, '\"Fury': 1, 'met': 3, \"'Let\": 1, 'law:': 1, 'prose-': 1, 'cute': 1, '.--': 1, 'Come,': 1, 'de-': 1, 'nial:': 1, 'We': 2, 'trial;': 1, 'morn-': 1, 'ing': 2, \"do.'\": 1, 'Said': 3, 'cur,': 1, \"'Such\": 1, 'trial,': 1, 'sir,': 4, 'jury': 9, 'judge,': 3, 'wast-': 1, \"breath.'\": 1, \"'I'll\": 2, \"jury,'\": 1, 'cun-': 1, 'ning': 1, 'Fury:': 1, 'cause,': 1, 'con-': 1, 'demn': 1, \"death.'\": 1, 'attending!\"': 1, 'severely.': 1, 'of?\"': 3, 'pardon,\"': 1, 'humbly:': 1, '\"you': 8, 'fifth': 1, 'bend,': 1, 'think?\"': 2, '!\"': 3, 'angrily.': 3, 'knot!\"': 1, 'undo': 1, 'it!\"': 7, 'sort,\"': 1, 'away.': 3, 'insult': 1, 'nonsense!\"': 2, 'mean': 7, 'pleaded': 3, 'easily': 3, 'offended,': 1, 'know!\"': 2, 'growled': 1, 'reply.': 3, '\"Please': 3, 'finish': 4, 'story!\"': 2, 'others': 4, 'joined': 2, 'chorus,': 1, '\"Yes,': 8, 'please': 9, 'do!\"': 3, 'shook': 9, 'impatiently': 1, 'quicker.': 1, 'pity': 1, 'stay!\"': 1, 'sighed': 5, 'sight;': 1, 'Crab': 1, 'daughter,': 1, '\"Ah,': 2, 'lesson': 1, 'lose': 1, 'temper!\"': 1, '\"Hold': 3, 'tongue,': 1, 'Ma!\"': 1, 'young': 5, 'Crab,': 1, 'snappishly.': 1, '\"You\\'re': 6, 'patience': 1, 'oyster!\"': 1, 'Dinah': 4, 'aloud,': 1, 'addressing': 1, 'nobody': 3, 'particular.': 1, '\"She\\'d': 1, 'back!\"': 2, 'venture': 3, 'question?\"': 1, 'Lory.': 1, 'eagerly,': 3, 'pet:': 1, '\"Dinah\\'s': 1, 'cat.': 1, 'mice,': 1, \"ca'n't\": 4, 'think!': 1, 'birds!': 1, 'speech': 1, 'sensation': 1, 'party.': 1, 'Some': 2, 'Magpie': 1, 'wrapping': 1, 'itself': 8, 'carefully,': 3, 'remarking': 3, 'home;': 1, 'night-air': 1, 'suit': 3, 'throat!\"': 1, 'Canary': 1, '\"Come': 6, 'away,': 3, 'dears!': 1, \"It's\": 6, 'bed!\"': 1, 'various': 1, 'pretexts': 1, 'moved': 4, 'alone.': 1, 'mentioned': 3, 'Dinah!\"': 1, 'tone.': 10, '\"Nobody': 2, 'world!': 1, 'Dinah!': 1, 'more!\"': 1, 'lonely': 2, 'low-spirited.': 1, 'footsteps': 1, 'mind,': 2, 'story.': 1, 'IV': 1, 'sends': 1, 'Little': 1, 'Bill': 2, 'IT': 1, 'Rabbit,': 8, 'went,': 2, 'lost': 1, 'something;': 1, 'paws!': 1, 'whiskers!': 1, \"She'll\": 1, 'executed,': 2, 'ferrets': 1, 'ferrets!': 1, 'Where': 3, 'guessed': 3, 'good-naturedly': 1, 'hunting': 3, 'nowhere': 2, 'seen--everything': 1, 'swim': 3, 'vanished': 3, 'completely.': 1, 'Very': 1, 'here?': 3, 'Run': 1, 'fan!': 1, 'Quick,': 1, 'now!\"': 3, 'direction': 2, 'pointed': 1, 'mistake': 2, 'made.': 1, '\"He': 5, 'housemaid,\"': 1, 'ran.': 1, \"he'll\": 1, 'finds': 1, 'am!': 1, \"I'd\": 7, 'better': 11, 'gloves--that': 1, 'them.\"': 2, 'neat': 1, 'brass': 1, 'plate': 2, '\"W.': 1, 'RABBIT\"': 1, 'engraved': 1, 'knocking,': 1, 'stairs,': 1, 'lest': 1, 'real': 3, 'gloves.': 1, '\"]': 1, 'seems,\"': 1, 'messages': 2, 'rabbit!': 1, 'suppose': 8, \"Dinah'll\": 1, 'next!\"': 1, 'fancying': 1, 'happen:': 1, '\"\\'Miss': 1, 'Come': 4, 'directly,': 1, \"walk!'\": 1, \"'Coming\": 1, 'minute,': 4, 'nurse!': 1, 'mouse-hole': 1, 'back,': 4, \"out.'\": 1, 'Only': 1, 'think,\"': 2, '\"that': 7, \"they'd\": 3, 'stop': 3, 'ordering': 2, 'tidy': 1, 'room': 8, 'window,': 5, 'hoped)': 1, 'pairs': 1, 'gloves:': 1, 'room,': 1, 'looking-glass.': 1, 'label': 1, 'ME,\"': 1, 'nevertheless': 1, 'uncorked': 1, 'lips.': 1, 'interesting': 3, 'happen,\"': 1, '\"whenever': 1, 'does.': 1, 'thing!\"': 6, 'indeed,': 1, 'expected:': 1, 'drunk': 2, 'bottle,': 2, 'pressing': 1, 'ceiling,': 1, 'stoop': 1, 'broken.': 1, 'enough--I': 1, 'more--As': 1, 'door--I': 1, 'Alas!': 1, 'that!': 2, 'kneel': 1, 'floor:': 1, 'minute': 15, 'effect': 1, 'elbow': 2, 'arm': 7, 'curled': 2, 'head.': 5, 'Still': 1, 'resource,': 1, 'chimney,': 2, '\"Now': 5, 'whatever': 2, 'happens.': 1, 'What': 6, 'become': 6, 'Luckily': 1, 'magic': 1, 'full': 6, 'effect,': 1, 'larger:': 1, 'uncomfortable,': 1, 'chance': 4, 'unhappy.': 1, 'pleasanter': 1, 'home,\"': 1, '\"when': 2, \"wasn't\": 11, 'ordered': 2, 'rabbits.': 1, 'gone': 8, 'rabbit-hole--and': 1, 'yet--and': 1, \"yet--it's\": 1, 'curious,': 1, 'life!': 1, 'fairy-tales,': 1, 'fancied': 2, 'middle': 3, 'one!': 1, 'me,': 3, 'ought!': 1, 'write': 5, 'one--but': 1, 'grown': 7, '\"at': 2, 'least': 7, '.\"': 6, 'then,\"': 6, '\"shall': 1, 'now?': 1, \"That'll\": 1, 'comfort,': 1, 'way--never': 1, 'woman--but': 1, 'then--always': 1, \"shouldn't\": 5, 'foolish': 1, 'Alice!\"': 1, 'answered': 3, 'learn': 4, 'lesson-books!\"': 1, 'taking': 5, 'conversation': 4, 'altogether;': 1, 'outside,': 1, 'stopped': 3, 'listen.': 2, '\"Mary': 1, 'Ann!': 1, 'Ann!\"': 1, '\"Fetch': 1, 'moment!\"': 1, 'stairs.': 1, 'trembled': 2, 'forgetting': 3, 'reason': 8, 'inwards,': 1, 'attempt': 2, 'proved': 2, 'failure.': 1, '\"Then': 11, 'window.\"': 1, 'won\\'t\"': 1, 'spread': 2, 'hand,': 5, 'snatch': 2, 'anything,': 1, 'shriek': 3, 'fall,': 1, 'crash': 1, 'broken': 5, 'concluded': 2, 'possible': 1, 'cucumber-frame,': 1, 'sort.': 1, 'Next': 2, 'voice--the': 1, 'Rabbit\\'s--\"Pat!': 1, 'Pat!': 1, 'you?\"': 6, '\"Sure': 1, 'Digging': 1, 'apples,': 2, 'yer': 4, 'honour!\"': 1, '\"Digging': 1, '\"Here!': 2, '(Sounds': 1, 'glass.)': 1, 'Pat,': 1, 'window?\"': 1, '\"Sure,': 3, 'arm,': 5, 'honour.\"': 1, '(He': 1, 'pronounced': 1, '\"arrum.\")': 1, '\"An': 1, 'goose!': 1, 'size?': 1, 'fills': 1, 'window!\"': 1, 'does,': 1, 'honour?': 1, 'that.\"': 3, 'business': 2, 'there,': 1, 'rate:': 1, 'away!\"': 2, 'whispers': 1, 'honour,': 1, 'all!\"': 1, 'coward!\"': 1, 'shrieks,': 1, 'sounds': 3, 'glass.': 1, 'cucumber-frames': 1, 'be!\"': 1, 'next!': 2, 'pulling': 1, '!': 1, 'longer!\"': 1, 'hearing': 3, 'more:': 1, 'rumbling': 1, 'cart-wheels,': 1, 'together:': 1, 'words:': 3, '\"Where\\'s': 1, 'ladder?--Why': 1, \"Bill's\": 4, 'other--Bill!': 1, 'Fetch': 1, 'lad!--Here,': 1, \"'em\": 3, 'corner--No,': 1, 'tie': 1, 'together': 2, 'first--they': 1, 'yet--Oh!': 1, 'enough;': 2, 'particular--Here,': 1, 'Bill!': 3, 'rope--Will': 1, 'bear?--Mind': 1, 'loose': 1, 'slate--Oh,': 1, 'Heads': 1, 'below!\"': 1, '(a': 1, 'loud': 3, 'crash)--\"Now,': 1, 'that?--It': 1, 'Bill,': 3, \"fancy--Who's\": 1, 'chimney?--Nay,': 1, \"sha'n't!\": 1, 'You': 9, 'it!--': 1, \"won't,\": 1, 'then!': 1, 'down--Here,': 1, 'master': 2, \"you've\": 6, 'chimney!\"': 1, 'he?\"': 1, 'place': 6, 'deal:': 1, 'fireplace': 1, 'narrow,': 1, 'sure;': 1, 'kick': 2, 'little!\"': 1, 'chimney': 2, 'animal': 1, 'guess': 2, 'was)': 1, 'scratching': 1, 'scrambling': 1, 'above': 3, '\"This': 2, 'Bill,\"': 2, 'sharp': 6, 'kick,': 1, 'Bill!\"': 1, 'alone--\"Catch': 1, 'him,': 4, 'hedge!\"': 1, 'silence,': 2, 'confusion': 3, 'voices--\"Hold': 1, 'head--Brandy': 1, \"now--Don't\": 1, 'choke': 1, 'him--How': 1, 'fellow?': 1, 'you?': 3, 'feeble,': 1, 'squeaking': 2, '(\"That\\'s': 1, 'know--No': 1, 'thank': 1, 'ye;': 1, 'now--but': 1, 'flustered': 1, 'you--all': 1, 'Jack-in-the-box,': 1, 'sky-rocket!\"': 1, '\"So': 4, 'did,': 3, 'fellow!\"': 1, 'others.': 2, 'down!\"': 1, 'dead': 5, 'instantly,': 2, 'If': 4, 'sense,': 2, 'off.\"': 1, 'barrowful': 2, 'with.\"': 1, 'doubt,': 2, 'shower': 2, 'pebbles': 2, 'rattling': 2, 'hit': 2, 'face.': 3, '\"I\\'ll': 5, 'this,\"': 1, 'shouted': 9, '\"You\\'d': 1, 'produced': 1, 'surprise': 1, 'cakes': 1, 'lay': 4, 'floor,': 2, 'cakes,\"': 1, 'suppose.\"': 1, 'swallowed': 1, 'cakes,': 1, 'delighted': 2, 'directly.': 1, 'crowd': 4, 'outside.': 1, 'Lizard,': 2, 'held': 4, 'guinea-pigs,': 2, 'giving': 2, 'bottle.': 1, 'rush': 2, 'appeared;': 1, 'safe': 2, 'thick': 1, 'wood.': 3, 'do,\"': 4, 'wandered': 2, 'wood,': 1, '\"is': 1, 'again;': 2, 'plan.\"': 1, 'excellent': 2, 'plan,': 1, 'arranged;': 1, 'difficulty': 3, 'smallest': 2, 'peering': 1, 'trees,': 2, 'bark': 2, 'enormous': 1, 'puppy': 5, 'feebly': 1, 'stretching': 1, 'paw,': 2, 'touch': 1, '\"Poor': 1, 'coaxing': 1, 'whistle': 1, 'terribly': 1, 'hungry,': 1, 'spite': 1, 'coaxing.': 1, 'Hardly': 1, 'picked': 3, 'stick,': 4, 'puppy;': 1, 'whereupon': 1, 'air': 2, 'yelp': 1, 'delight,': 2, 'rushed': 1, 'worry': 1, 'dodged': 1, 'thistle,': 1, 'keep': 8, 'run': 3, 'over;': 1, 'appeared': 3, 'tumbled': 1, 'heels': 1, 'cart-horse,': 1, 'trampled': 1, 'thistle': 1, 'series': 1, 'charges': 1, 'forwards': 1, 'each': 7, 'barking': 1, 'hoarsely': 1, 'tongue': 1, 'mouth,': 2, 'shut.': 1, 'escape;': 1, 'breath,': 3, \"puppy's\": 1, 'faint': 1, 'distance.': 2, 'was!\"': 1, 'leant': 1, 'buttercup': 1, 'fanned': 1, 'leaves.': 2, 'liked': 3, 'teaching': 1, 'tricks': 1, 'much,': 2, 'if--if': 1, 'it!': 1, 'again!': 1, 'see--how': 1, 'managed?': 1, 'other;': 2, 'what?\"': 1, 'what?': 1, 'blades': 1, 'grass,': 2, 'circumstances.': 1, 'mushroom': 4, 'height': 4, 'herself;': 3, 'stretched': 2, 'tiptoe,': 2, 'edge': 3, 'mushroom,': 3, 'immediately': 3, 'blue': 1, 'caterpillar,': 1, 'folded,': 2, 'quietly': 4, 'smoking': 2, 'hookah,': 1, 'else.': 2, 'V': 1, 'silence:': 1, 'hookah': 4, 'addressed': 2, 'languid,': 1, '\"Who': 6, 'Caterpillar.': 12, 'encouraging': 2, 'replied,': 5, 'shyly,': 1, 'present--at': 1, 'morning,': 2, 'then.\"': 2, 'sternly.': 1, '\"Explain': 2, 'yourself!\"': 1, 'sir,\"': 2, '\"because': 3, 'myself,': 1, 'see.\"': 1, 'see,\"': 1, 'clearly,\"': 1, 'politely,': 3, 'with;': 1, 'different': 4, 'sizes': 1, 'confusing.\"': 1, 'isn\\'t,\"': 1, \"haven't\": 7, 'yet,\"': 4, 'turn': 6, 'chrysalis--you': 1, 'know--and': 1, 'butterfly,': 1, 'queer,': 1, 'bit,\"': 2, 'feelings': 1, 'different,\"': 1, '\"all': 1, '\"You!\"': 1, 'contemptuously.': 2, 'brought': 3, 'irritated': 1, \"Caterpillar's\": 1, 'remarks,': 1, 'gravely,': 2, 'are,': 2, 'first.\"': 1, '\"Why?\"': 2, 'question;': 1, 'reason,': 1, 'state': 1, '\"I\\'ve': 13, 'say!\"': 1, 'promising,': 1, 'certainly:': 2, '\"Keep': 1, 'temper,\"': 1, '\"Is': 3, 'all?\"': 2, 'swallowing': 1, 'anger': 1, '\"No,\"': 2, 'wait,': 1, 'hearing.': 1, 'puffed': 1, 'unfolded': 2, 'arms,': 1, 'mouth': 7, 'changed,': 1, 'am,': 1, 'used--and': 1, 'together!\"': 1, '\"Can\\'t': 1, 'things?\"': 1, 'busy': 2, 'bee': 1, \",'\": 2, 'different!\"': 2, '\"Repeat': 1, 'old,': 3, 'Father': 4, ',\\'\"': 3, 'folded': 1, 'began:--': 1, 'William,\"': 1, 'man': 1, 'white;': 1, 'incessantly': 1, 'stand': 4, 'head--': 1, 'think,': 1, 'right?\"': 1, 'youth,\"': 3, 'son,': 1, 'feared': 1, 'injure': 1, 'brain;': 1, 'But,': 2, 'perfectly': 4, 'none,': 1, 'old,\"': 3, 'youth,': 3, '\"as': 4, 'most': 8, 'uncommonly': 1, 'fat;': 1, 'back-somersault': 1, 'door--': 1, 'Pray,': 2, 'sage,': 1, 'grey': 1, 'locks,': 1, 'limbs': 1, 'supple': 1, 'ointment--one': 1, 'shilling': 1, 'box--': 1, 'Allow': 1, 'sell': 1, 'couple?\"': 1, 'jaws': 1, 'tougher': 1, 'suet;': 1, 'goose,': 1, 'bones': 1, 'beak--': 1, 'it?\"': 11, 'father,': 1, 'law': 1, 'argued': 1, 'wife;': 1, 'muscular': 1, 'strength,': 1, 'jaw,': 1, 'lasted': 1, 'life.\"': 2, '\"one': 1, 'steady': 1, 'ever;': 1, 'balanced': 1, 'eel': 1, 'nose--': 1, 'awfully': 1, 'clever?\"': 1, 'questions,': 1, 'enough,\"': 1, 'father;': 1, 'airs!': 1, 'stuff?': 1, 'Be': 1, 'stairs!\"': 1, 'right,\"': 3, 'right,': 3, 'afraid,\"': 1, 'timidly;': 1, '\"some': 1, 'altered.\"': 1, 'wrong': 2, 'end,\"': 1, 'Caterpillar,': 3, 'decidedly,': 3, 'minutes.': 2, 'speak.': 1, 'be?\"': 2, 'particular': 1, 'size,\"': 1, 'replied;': 4, '\"only': 2, 'changing': 2, 'often,': 2, 'know.\"': 9, 'nothing:': 1, 'contradicted': 1, 'losing': 1, 'temper.': 1, 'content': 1, 'now?\"': 2, 'mind,\"': 1, 'Alice:': 7, '\"three': 1, 'wretched': 2, 'be.\"': 1, 'angrily,': 3, 'rearing': 1, 'upright': 1, 'spoke': 4, 'high).': 1, 'piteous': 1, 'creatures': 6, 'offended!\"': 1, '\"You\\'ll': 2, 'time,\"': 5, 'Caterpillar;': 1, 'patiently': 1, 'chose': 1, 'yawned': 2, 'twice,': 3, 'itself.': 1, 'crawled': 1, 'merely': 2, '\"One': 2, 'taller,': 1, 'shorter.\"': 1, '?': 1, 'mushroom,\"': 1, 'asked': 9, 'aloud;': 1, 'sight.': 1, 'thoughtfully': 1, 'difficult': 2, 'question.': 3, 'broke': 2, 'hand.': 1, 'which?\"': 1, 'nibbled': 2, 'right-hand': 2, 'effect:': 1, 'violent': 2, 'blow': 2, 'underneath': 1, 'chin:': 1, 'foot!': 1, 'lost,': 1, 'rapidly;': 1, 'work': 7, 'bit.': 2, 'closely': 1, 'mouth;': 1, 'swallow': 1, 'morsel': 1, 'left-hand': 2, \"head's\": 1, 'free': 2, 'last!\"': 1, 'shoulders': 2, 'found:': 1, 'immense': 1, 'length': 1, 'neck,': 1, 'rise': 1, 'stalk': 1, 'sea': 2, 'green': 3, 'leaves': 2, 'below': 1, 'stuff': 1, 'to?': 1, 'spoke,': 5, 'result': 1, 'follow,': 1, 'except': 3, 'shaking': 3, 'distant': 2, 'head,': 4, 'bend': 1, 'direction,': 1, 'serpent.': 1, 'succeeded': 3, 'curving': 1, 'graceful': 1, 'zigzag,': 1, 'dive': 1, 'tops': 1, 'trees': 5, 'wandering,': 1, 'hiss': 1, 'draw': 4, 'hurry:': 2, 'pigeon': 1, 'flown': 1, 'face,': 3, 'beating': 1, 'wings.': 1, '\"Serpent!\"': 1, 'screamed': 4, 'Pigeon.': 2, 'serpent!\"': 1, 'indignantly.': 3, 'alone!\"': 1, '\"Serpent,': 1, 'repeated': 8, 'Pigeon,': 2, 'subdued': 1, 'sob,': 1, 'about,\"': 1, 'roots': 1, 'banks,': 1, 'hedges,\"': 1, 'Pigeon': 5, 'attending': 2, 'her;': 3, 'serpents!': 1, \"There's\": 1, 'pleasing': 1, 'puzzled,': 1, 'finished.': 1, 'hatching': 1, 'eggs,\"': 1, 'Pigeon;': 2, 'look-out': 1, 'serpents': 2, 'night': 1, 'day!': 1, 'sleep': 4, 'weeks!\"': 1, 'sorry': 1, 'annoyed,\"': 1, 'meaning.': 1, 'taken': 4, 'highest': 1, 'tree': 3, 'wood,\"': 1, 'continued': 5, 'raising': 1, 'shriek,': 2, 'needs': 1, 'wriggling': 1, 'sky!': 1, 'Ugh,': 1, 'Serpent!\"': 1, 'serpent,': 2, 'a----': 1, '----\"': 2, '\"Well!': 2, 'invent': 1, 'something!\"': 1, '\"I--I\\'m': 1, 'girl,\"': 1, 'doubtfully,': 1, 'changes': 2, 'day.': 3, 'deepest': 1, 'contempt.': 1, 'girls': 3, 'no!': 2, \"You're\": 2, 'serpent;': 1, 'denying': 1, 'telling': 2, 'tasted': 2, 'egg!\"': 1, 'eggs,': 3, 'truthful': 1, 'child;': 1, 'eggs': 1, \"they're\": 9, 'say.\"': 2, 'silent': 3, 'adding,': 1, 'does': 4, 'serpent?\"': 1, 'matters': 2, 'hastily;': 1, 'happens;': 1, 'yours': 2, ':': 2, 'raw.\"': 1, 'then!\"': 2, 'sulky': 2, 'settled': 3, 'nest.': 1, 'crouched': 1, 'entangled': 2, 'branches,': 1, 'untwist': 1, 'pieces': 2, 'nibbling': 3, 'taller': 1, 'shorter,': 1, 'bringing': 3, 'usual': 1, 'height.': 1, 'size,': 1, 'strange': 4, 'first;': 2, 'minutes,': 2, 'plan': 1, 'now!': 1, 'are!': 1, 'be,': 2, 'another!': 1, 'size:': 2, 'beautiful': 8, 'garden--how': 1, 'place,': 2, '\"Whoever': 1, 'lives': 1, 'there,\"': 2, '\"it\\'ll': 1, 'why,': 2, 'frighten': 1, 'wits!\"': 1, 'VI': 1, 'Pig': 1, 'Pepper': 1, 'FOR': 1, 'next,': 2, 'footman': 3, 'livery': 1, 'wood--(she': 1, 'considered': 3, 'livery:': 1, 'otherwise,': 1, 'judging': 1, 'only,': 1, 'fish)--and': 1, 'rapped': 1, 'loudly': 2, 'knuckles.': 1, 'livery,': 1, 'frog;': 1, 'footmen,': 1, 'noticed,': 1, 'powdered': 1, 'heads.': 1, 'crept': 1, 'wood': 2, 'Fish-Footman': 2, 'producing': 1, 'letter,': 2, 'himself,': 1, '\"For': 1, 'Duchess.': 3, 'invitation': 2, 'croquet.\"': 2, 'Frog-Footman': 1, 'repeated,': 1, 'order': 2, 'little,': 3, '\"From': 1, 'Queen.': 10, 'Duchess': 15, 'bowed': 3, 'curls': 1, 'together.': 2, 'laughed': 1, 'gone,': 4, 'ground': 2, 'staring': 3, 'stupidly': 1, 'sky.': 2, 'timidly': 2, 'knocked.': 1, '\"There\\'s': 7, 'knocking,\"': 2, 'Footman,': 2, 'reasons.': 1, 'are;': 1, 'secondly,': 2, 'inside,': 1, 'you.\"': 1, 'extraordinary': 2, 'within--a': 1, 'constant': 2, 'howling': 3, 'sneezing,': 1, 'crash,': 1, 'dish': 3, 'kettle': 1, 'pieces.': 1, '\"Please,': 1, '\"how': 1, 'in?\"': 3, 'sense': 1, 'Footman': 4, '\"if': 7, 'between': 5, 'us.': 1, 'instance,': 3, 'inside': 1, 'knock,': 1, 'sky': 1, 'decidedly': 1, 'uncivil.': 1, 'herself:': 1, '\"his': 1, 'questions.': 1, 'remarked,': 1, '\"till': 2, 'to-morrow----\"': 1, 'opened,': 1, 'skimming': 1, \"Footman's\": 1, 'head:': 1, 'grazed': 1, 'nose,': 3, 'him.': 2, '\"----or': 1, 'maybe,\"': 1, 'happened.': 1, 'louder': 1, 'Are': 1, 'Footman.': 1, 'doubt:': 1, 'told': 6, 'so.': 3, '\"It\\'s': 17, 'dreadful,\"': 1, 'muttered': 2, 'argue.': 1, 'drive': 1, 'crazy!\"': 1, 'consider': 2, 'repeating': 3, 'remark,': 3, 'variations.': 1, '\"on': 1, 'days': 2, 'days.\"': 1, 'do?\"': 1, '\"Anything': 1, 'like,\"': 3, 'whistling.': 1, 'him,\"': 2, 'desperately:': 1, '\"he\\'s': 1, 'idiotic!\"': 1, 'in.': 1, 'kitchen,': 1, 'smoke': 1, 'stool': 1, 'nursing': 3, 'baby,': 3, 'cook': 8, 'leaning': 2, 'stirring': 2, 'cauldron': 2, 'soup.': 1, 'pepper': 5, 'soup!\"': 1, 'sneezing.': 1, 'Even': 1, 'sneezed': 1, 'occasionally;': 1, 'baby': 7, 'sneezing': 4, 'alternately': 1, \"moment's\": 2, 'pause.': 1, 'kitchen': 2, 'sneeze,': 1, 'cook,': 2, 'hearth': 1, 'grinning': 1, 'ear': 2, 'ear.': 3, 'timidly,': 4, 'manners': 1, '\"why': 2, 'grins': 1, 'Cheshire': 6, 'cat,\"': 1, 'why.': 1, 'Pig!\"': 1, 'word': 7, 'violence': 1, 'jumped;': 1, 'courage,': 1, 'grinned;': 1, 'grin.\"': 1, 'can,\"': 1, 'Duchess;': 4, 'do.\"': 2, 'pleased': 5, 'much,\"': 5, 'fact.\"': 1, 'introduce': 2, 'fix': 1, 'soup': 1, 'throwing': 2, 'within': 1, 'baby--the': 1, 'fire-irons': 1, 'saucepans,': 1, 'plates,': 1, 'dishes.': 1, 'already,': 1, 'impossible': 2, 'blows': 1, 'not.': 2, 'doing!\"': 1, 'jumping': 4, 'agony': 1, 'terror.': 1, 'precious': 1, 'nose\";': 1, 'everybody': 5, 'minded': 1, 'business,\"': 1, 'growl,': 2, 'faster': 1, 'does.\"': 1, 'advantage,\"': 1, 'knowledge.': 1, '\"Just': 2, 'night!': 1, 'earth': 1, 'takes': 2, 'twenty-four': 1, 'hours': 3, 'axis----\"': 1, '\"Talking': 1, 'axes,\"': 1, '\"chop': 1, 'head.\"': 1, 'glanced': 1, 'meant': 4, 'hint;': 1, 'busily': 4, 'engaged': 2, 'soup,': 1, '\"Twenty-four': 1, 'hours,': 1, ';': 1, 'twelve?': 1, 'I----\"': 1, 'bother': 1, 'abide': 1, 'figures!\"': 1, 'singing': 2, 'lullaby': 1, 'shake': 1, 'line:': 1, 'roughly': 1, 'boy,': 2, 'beat': 4, 'sneezes:': 1, 'annoy,': 1, 'Because': 1, 'teases.\"': 1, 'CHORUS': 1, '(In': 1, 'joined):': 1, '\"Wow!': 2, 'wow!': 2, 'wow!\"': 2, 'sang': 2, 'verse': 1, 'song,': 4, 'tossing': 3, 'howled': 1, 'sneezes;': 1, 'thoroughly': 2, 'enjoy': 1, 'pleases!\"': 1, 'CHORUS.': 1, 'nurse': 1, 'like!\"': 1, 'flinging': 1, 'Queen,\"': 1, 'room.': 1, 'threw': 2, 'frying-pan': 1, 'missed': 2, 'caught': 3, 'difficulty,': 1, 'queer-shaped': 1, 'creature,': 2, 'directions,': 2, '\"just': 1, 'star-fish,\"': 1, 'snorting': 1, 'steam-engine': 1, 'doubling': 1, 'straightening': 1, 'proper': 3, '(which': 1, 'twist': 2, 'knot,': 1, 'tight': 1, 'foot,': 1, 'prevent': 1, 'undoing': 1, 'itself,)': 1, '\"they\\'re': 1, 'kill': 1, 'two:': 1, 'murder': 1, 'behind?\"': 1, 'loud,': 2, 'reply': 1, 'time).': 2, '\"Don\\'t': 4, 'grunt,\"': 1, '\"that\\'s': 1, 'expressing': 1, 'yourself.\"': 2, 'doubt': 1, 'turn-up': 1, 'snout': 1, 'nose;': 1, 'also': 1, 'extremely': 1, 'baby:': 1, 'altogether': 1, 'all.': 4, 'sobbing,\"': 1, 'tears.': 2, 'pig,': 4, 'dear,\"': 1, 'seriously,': 1, 'you.': 1, 'Mind': 1, 'sobbed': 1, '(or': 1, 'grunted,': 1, 'which),': 1, 'creature': 2, 'home?\"': 1, 'alarm.': 1, 'neither': 2, 'less': 4, 'absurd': 1, 'carry': 1, 'further.': 1, 'relieved': 1, 'trot': 1, 'up,\"': 2, 'dreadfully': 6, 'ugly': 1, 'child:': 1, 'handsome': 1, 'think.\"': 1, 'knew,': 1, 'pigs,': 1, 'them----\"': 1, 'startled': 2, 'seeing': 1, 'Cat': 9, 'bough': 1, 'yards': 1, 'grinned': 2, 'good-natured,': 1, 'thought:': 1, 'claws': 1, 'teeth,': 1, 'treated': 1, 'respect.': 1, '\"Cheshire': 1, 'Puss,\"': 1, 'name:': 1, 'wider.': 1, 'far,\"': 2, 'depends': 1, 'to,\"': 1, 'Cat.': 5, 'where----\"': 1, 'go,\"': 2, '\"----': 1, 'explanation.': 1, 'that,\"': 9, 'Cat,': 6, 'enough.\"': 1, 'denied,': 1, 'direction,\"': 2, 'waving': 5, 'paw': 1, '\"lives': 2, 'Hatter:': 5, 'March': 31, 'Hare.': 11, 'Visit': 1, 'like:': 1, 'mad.\"': 3, 'mad': 5, 'people,\"': 1, 'remarked.': 5, 'Cat:': 2, '\"we\\'re': 1, 'here.': 2, 'mad.': 2, 'mad?\"': 2, 'be,\"': 3, 'here.\"': 2, '\"To': 1, 'with,\"': 2, \"dog's\": 1, 'grant': 1, 'so,\"': 6, 'growls': 1, 'angry,': 1, 'wags': 1, 'tail': 3, 'pleased.': 1, 'Now': 2, 'growl': 1, 'pleased,': 1, 'wag': 1, 'angry.': 1, 'Therefore': 1, 'purring,': 1, 'growling,\"': 1, '\"Call': 4, 'to-day?\"': 1, 'invited': 1, 'yet.\"': 2, 'vanished.': 1, 'happening.': 1, 'been,': 1, '\"By-the-bye,': 1, 'became': 2, 'baby?\"': 1, '\"I\\'d': 4, 'ask.\"': 1, 'pig,\"': 2, 'would,\"': 1, 'appear,': 1, 'Hare': 16, 'live.': 1, 'hatters': 1, 'interesting,': 1, 'May,': 1, 'raving': 2, 'mad--at': 1, 'March.\"': 1, 'branch': 1, 'tree.': 1, 'fig?\"': 1, 'appearing': 1, 'vanishing': 1, 'suddenly:': 2, 'giddy.\"': 2, '\"All': 2, 'Cat;': 1, 'ending': 1, 'gone.': 1, 'often': 3, 'grin,\"': 1, 'grin': 1, 'cat!': 1, 'farther': 1, 'sight': 2, 'Hare:': 1, 'chimneys': 1, 'shaped': 2, 'thatched': 1, 'fur.': 1, 'raised': 2, 'towards': 1, '\"Suppose': 2, 'all!': 1, 'Hatter': 24, 'instead!\"': 1, 'VII': 1, 'Tea-party': 1, 'THERE': 1, 'front': 2, 'tea': 4, 'Dormouse': 23, 'fast': 4, 'asleep,': 2, 'using': 2, 'cushion': 1, 'resting': 2, 'elbows': 1, '\"Very': 3, 'uncomfortable': 1, 'Dormouse,\"': 2, 'mind.\"': 1, 'corner': 1, '\"No': 1, 'room!': 1, 'No': 2, 'room!\"': 2, 'indignantly,': 1, 'arm-chair': 1, 'table.': 3, '\"Have': 3, 'wine,\"': 2, 'tea.': 1, \"isn't\": 6, 'any,\"': 1, 'civil': 2, 'invited,\"': 1, 'table,\"': 1, 'laid': 2, 'three.\"': 1, '\"Your': 2, 'wants': 2, 'cutting,\"': 1, 'Hatter.': 13, 'speech.': 1, 'personal': 2, 'remarks,\"': 1, 'severity;': 1, 'rude.\"': 1, 'wide': 1, 'this;': 1, '\"Why': 6, 'raven': 1, 'writing-desk?\"': 1, 'fun': 1, \"they've\": 1, 'riddles.--I': 1, '\"Exactly': 2, 'mean,\"': 2, 'least--at': 1, \"say--that's\": 1, 'bit!\"': 1, \"'I\": 6, \"eat'\": 1, 'see\\'!\"': 1, 'Hare,': 2, \"get'\": 1, 'like\\'!\"': 1, 'Dormouse,': 6, 'sleep,': 1, 'breathe': 1, \"sleep'\": 1, 'breathe\\'!\"': 1, 'you,\"': 4, 'Hatter;': 3, 'dropped,': 1, 'ravens': 1, 'writing-desks,': 1, 'much.': 1, 'Tea': 1, 'Party': 1, 'break': 1, 'month': 1, 'uneasily,': 1, 'fourth.\"': 1, '\"Two': 2, 'wrong!\"': 1, 'butter': 1, 'works!\"': 1, 'added,': 5, 'butter,\"': 1, 'meekly': 1, 'replied.': 4, 'crumbs': 1, 'well,\"': 2, 'grumbled:': 1, 'bread-knife.\"': 1, 'gloomily:': 1, 'cup': 1, 'tea,': 1, 'butter,': 1, 'shoulder': 3, 'curiosity.': 3, 'watch!\"': 1, 'tells': 2, 'month,': 1, \"o'clock\": 3, '\"Does': 2, 'year': 2, 'is?\"': 1, 'readily:': 1, 'stays': 1, 'together.\"': 1, 'puzzled.': 2, \"Hatter's\": 1, 'remark': 3, 'English.': 1, 'understand,\"': 1, 'politely': 1, 'asleep': 4, 'again,\"': 1, 'Hatter,': 9, 'poured': 1, 'nose.': 1, 'impatiently,': 1, 'course;': 1, 'myself.\"': 1, 'riddle': 1, 'yet?\"': 2, 'replied:': 3, '\"what\\'s': 1, 'answer?\"': 1, 'slightest': 1, 'idea,\"': 1, '\"Nor': 1, 'I,\"': 1, 'wearily.': 1, '\"than': 1, 'wasting': 2, 'riddles': 1, 'answers.\"': 1, 'Time': 1, '.': 3, 'don\\'t!\"': 1, 'Time!\"': 1, 'cautiously': 2, 'music.\"': 2, '\"Ah!': 2, 'accounts': 1, 'beating.': 1, 'Now,': 1, 'terms': 1, \"he'd\": 1, 'clock.': 1, 'lessons:': 1, 'whisper': 1, 'hint': 1, 'Time,': 1, 'clock': 1, 'twinkling!': 1, 'Half-past': 1, 'dinner!\"': 1, '(\"I': 2, 'was,\"': 3, 'whisper.)': 1, 'grand,': 1, 'thoughtfully:': 1, 'then--I': 1, 'hungry': 2, 'perhaps,\"': 1, 'half-past': 1, 'liked.\"': 1, 'manage?\"': 1, 'mournfully.': 1, 'quarrelled': 1, 'March----just': 1, 'mad,': 1, 'know----\"': 4, '(pointing': 1, 'teaspoon': 1, 'Hare),': 1, 'concert': 1, 'given': 1, 'Hearts,': 5, 'sing': 3, \"'Twinkle,\": 1, 'twinkle,': 3, 'bat!': 1, \"at!'\": 1, 'perhaps?\"': 1, 'way:--': 1, \"'Up\": 1, 'fly,': 1, 'tea-tray': 1, 'Twinkle,': 2, 'twinkle----\\'\"': 1, 'twinkle': 1, 'pinch': 1, 'stop.': 1, 'verse,\"': 2, 'bawled': 1, \"'He's\": 1, 'murdering': 1, 'time!': 2, 'Off': 2, 'head!\\'\"': 1, 'savage!\"': 1, 'exclaimed': 4, 'mournful': 1, '\"he': 2, 'ask!': 1, 'now.\"': 4, 'tea-things': 1, 'sigh:': 2, 'tea-time,': 1, \"we've\": 2, 'wash': 2, 'whiles.\"': 1, 'suppose?\"': 2, 'up.\"': 2, 'again?\"': 2, 'ask.': 1, 'subject,\"': 1, 'interrupted,': 2, 'yawning.': 1, 'this.': 1, 'vote': 1, 'lady': 2, 'story.\"': 1, 'one,\"': 3, 'alarmed': 1, 'proposal.': 1, 'shall!\"': 1, '\"Wake': 2, 'Dormouse!\"': 1, 'pinched': 2, 'once.': 2, 'eyes.': 3, 'asleep,\"': 1, 'hoarse,': 1, 'feeble': 1, 'voice:': 2, 'fellows': 1, 'saying.\"': 1, '\"Tell': 2, 'quick': 1, 'done.\"': 1, '\"Once': 1, 'sisters,\"': 1, 'hurry;': 1, 'names': 1, 'Elsie,': 1, 'Lacie,': 1, 'Tillie;': 1, 'lived': 3, 'bottom': 4, 'well----\"': 1, 'on?\"': 2, 'interest': 1, 'questions': 2, 'eating': 1, 'drinking.': 1, 'treacle,\"': 1, 'two.': 1, 'remarked;': 1, '\"they\\'d': 1, 'ill.\"': 2, 'were,\"': 2, 'Dormouse;': 3, 'living': 1, 'like,': 2, 'puzzled': 5, 'on:': 2, 'well?\"': 2, '\"Take': 2, 'tea,\"': 3, 'earnestly.': 1, '\"so': 3, 'more.\"': 1, 'nothing.\"': 1, 'opinion,\"': 1, '\"Who\\'s': 1, 'remarks': 1, 'triumphantly.': 1, 'helped': 1, 'bread-and-butter,': 2, 'treacle-well.\"': 1, '\"Sh!': 1, 'sh!\"': 1, 'sulkily': 2, 'remarked:': 2, 'civil,': 1, 'on!\"': 6, 'humbly.': 1, 'interrupt': 1, 'consented': 1, 'sisters--they': 1, 'learning': 2, 'draw,': 1, 'draw?\"': 1, 'promise.': 1, '\"Treacle,\"': 2, 'time.': 2, 'clean': 1, 'cup,\"': 1, 'interrupted': 5, '\"let\\'s': 1, 'on.\"': 2, \"Dormouse's\": 1, 'unwillingly': 1, 'advantage': 2, 'change:': 1, 'upset': 2, 'milk-jug': 1, 'plate.': 1, 'offend': 1, 'cautiously:': 1, 'understand.': 1, 'treacle': 2, 'from?\"': 1, 'water-well,\"': 1, 'treacle-well--eh,': 1, 'stupid!\"': 1, 'choosing': 1, 'remark.': 4, '\"----well': 1, 'in.\"': 1, 'interrupting': 2, 'draw,\"': 1, 'yawning': 1, 'rubbing': 2, 'sleepy;': 1, 'manner': 1, 'things--everything': 1, 'begins': 4, 'M----\"': 1, 'M?\"': 1, 'not?\"': 1, 'silent.': 2, 'closed': 2, 'dose;': 1, 'woke': 1, '\"----that': 1, 'M,': 1, 'mouse-traps,': 1, 'moon,': 1, 'memory,': 1, 'muchness--you': 1, \"'much\": 1, \"muchness'--did\": 1, 'drawing': 1, 'muchness?\"': 1, '\"Really,': 2, 'confused,': 1, 'think----\"': 1, 'talk,\"': 1, 'piece': 5, 'rudeness': 1, 'bear:': 1, 'disgust': 1, 'off;': 1, 'going,': 1, 'teapot.': 1, '\"At': 1, 'stupidest': 1, 'tea-party': 1, 'life!\"': 1, 'leading': 1, 'curious!\"': 1, \"everything's\": 1, 'to-day.': 1, 'once.\"': 2, 'Once': 1, 'unlocking': 1, 'pocket)': 1, 'passage:': 1, '--she': 1, 'flower-beds': 1, 'fountains.': 1, 'VIII': 1, \"Queen's\": 7, 'Croquet-Ground': 1, 'LARGE': 1, 'rose-tree': 1, 'entrance': 1, 'garden:': 1, 'roses': 1, 'white,': 1, 'gardeners': 4, 'painting': 2, 'red.': 1, '\"Look': 1, 'Five!': 2, 'paint': 1, 'Five,': 2, '\"Seven': 1, 'jogged': 1, 'elbow.\"': 1, 'Seven': 3, 'Always': 1, 'blame': 1, 'others!\"': 1, \"You'd\": 1, 'talk!\"': 1, 'Five.': 2, 'deserved': 1, 'beheaded!\"': 2, 'for?\"': 2, 'spoken.': 1, 'none': 3, 'business,': 1, 'Two!\"': 1, 'Seven.': 1, 'business!\"': 2, 'him--it': 1, 'tulip-roots': 1, 'instead': 2, 'onions.\"': 1, 'flung': 1, 'brush,': 1, 'unjust': 1, 'things----\"': 1, 'chanced': 1, 'watching': 3, 'checked': 3, 'also,': 1, 'low.': 1, 'roses?\"': 1, 'Five': 1, 'nothing,': 2, 'Two.': 1, 'Two': 1, 'Miss,': 2, 'red': 1, 'rose-tree,': 2, 'mistake;': 1, \"we're\": 1, 'best,': 2, 'afore': 1, 'comes,': 1, 'to----\"': 1, 'Queen!': 1, 'Queen!\"': 1, 'instantly': 3, 'themselves': 2, 'flat': 1, 'faces.': 1, 'footsteps,': 1, 'eager': 3, 'soldiers': 8, 'carrying': 2, 'clubs;': 1, 'gardeners,': 4, 'oblong': 1, 'flat,': 1, 'corners:': 1, 'courtiers;': 1, 'ornamented': 2, 'diamonds,': 1, 'did.': 1, 'royal': 2, 'children;': 1, 'dears': 1, 'merrily': 1, 'couples;': 1, 'hearts.': 1, 'guests,': 1, 'mostly': 1, 'Kings': 1, 'Queens,': 1, 'recognised': 1, 'Rabbit:': 1, 'hurried,': 1, 'manner,': 1, 'noticing': 1, 'Knave': 7, \"King's\": 2, 'crown': 2, 'crimson': 2, 'velvet': 1, 'cushion;': 1, 'procession,': 2, 'KING': 1, 'QUEEN': 1, 'HEARTS.': 1, 'doubtful': 2, 'lie': 2, 'rule': 2, 'processions;': 1, 'besides,': 1, 'procession,\"': 1, 'faces,': 2, 'waited.': 2, 'procession': 2, 'opposite': 1, 'severely,': 1, 'this?\"': 1, 'smiled': 2, '\"Idiot!\"': 1, 'Queen,': 17, 'impatiently;': 1, '\"What\\'s': 2, 'name,': 1, 'child?\"': 1, '\"My': 2, 'Majesty,\"': 7, 'politely;': 1, 'cards,': 1, \"needn't\": 3, 'rose-tree;': 1, 'pattern': 1, 'backs': 1, 'pack,': 1, 'soldiers,': 2, 'courtiers,': 1, 'children.': 1, 'know?\"': 2, 'courage.': 1, 'fury,': 1, 'glaring': 1, 'beast,': 1, 'head!': 1, 'Off----\"': 1, '\"Nonsense!\"': 1, 'King': 27, '\"Consider': 3, 'dear:': 1, 'child!\"': 2, 'foot.': 1, '\"Get': 2, 'up!\"': 1, 'bowing': 1, 'King,': 14, 'children,': 2, '\"Leave': 1, '\"May': 1, 'Two,': 1, 'humble': 1, 'knee': 1, '\"we': 3, 'trying----\"': 1, 'see!\"': 1, 'meanwhile': 1, 'examining': 1, 'roses.': 1, 'heads!\"': 1, 'remaining': 1, 'execute': 1, 'unfortunate': 3, 'protection.': 1, \"shan't\": 1, 'flower-pot': 1, 'near.': 1, 'marched': 1, 'off?\"': 1, '\"Their': 1, 'Majesty!\"': 2, 'right!\"': 1, '\"Can': 1, 'croquet?\"': 1, 'silent,': 2, 'evidently': 1, '\"Yes!\"': 1, 'roared': 1, '\"It\\'s--it\\'s': 1, 'fine': 2, 'day!\"': 1, 'side.': 2, 'peeping': 1, '\"Very,\"': 1, '\"----where\\'s': 1, 'Duchess?\"': 1, '\"Hush!': 1, 'Hush!\"': 1, 'ear,': 1, 'whispered': 4, '\"She\\'s': 2, 'execution.\"': 1, \"'What\": 2, 'pity!\\'?\"': 1, 'didn\\'t,\"': 1, 'pity.': 1, 'for?\\'\"': 1, '\"She': 2, 'boxed': 1, 'ears--\"': 1, 'began.': 3, 'scream': 1, 'laughter.': 1, 'hush!\"': 1, 'late,': 1, 'said----\"': 3, 'places!\"': 1, 'thunder,': 1, 'croquet-ground': 1, 'life;': 1, 'ridges': 1, 'furrows;': 1, 'balls': 1, 'hedgehogs,': 1, 'mallets': 1, 'flamingoes,': 1, 'double': 1, 'arches.': 1, 'chief': 1, 'managing': 1, 'flamingo;': 1, 'body': 2, 'tucked': 3, 'comfortably': 1, 'generally,': 2, 'straightened': 1, 'hedgehog': 5, 'expression': 1, 'bursting': 1, 'laughing:': 1, 'provoking': 1, 'unrolled': 2, 'act': 1, 'crawling': 1, 'away:': 1, 'besides': 1, 'ridge': 1, 'furrow': 1, 'send': 1, 'doubled-up': 1, 'parts': 1, 'ground,': 1, 'conclusion': 1, 'indeed.': 1, 'players': 2, 'played': 1, 'turns,': 2, 'fighting': 1, 'hedgehogs;': 1, 'furious': 1, 'stamping': 2, 'uneasy:': 1, 'dispute': 2, '\"what': 2, 'me?': 1, \"They're\": 1, 'beheading': 1, 'here:': 1, 'alive!\"': 1, 'escape,': 1, 'seen,': 1, 'appearance': 1, 'air:': 1, 'to.\"': 1, 'with.': 1, 'appeared,': 3, 'nodded.': 1, 'come,': 2, 'flamingo,': 1, 'account': 1, 'game,': 2, 'appeared.': 1, 'fairly,\"': 1, 'complaining': 1, 'quarrel': 1, 'oneself': 1, 'speak--and': 1, 'particular;': 1, 'least,': 1, 'attends': 1, 'confusing': 2, 'alive;': 1, 'arch': 1, 'ground--and': 1, 'croqueted': 1, 'coming!\"': 1, 'Queen?\"': 1, 'all,\"': 3, '\"she\\'s': 1, 'extremely----\"': 1, 'listening:': 1, '\"----likely': 1, 'win,': 1, 'finishing': 1, 'game.\"': 1, 'passed': 4, \"Cat's\": 2, 'friend': 2, 'mine--a': 1, 'Cat,\"': 1, '\"allow': 1, 'King:': 2, '\"however,': 1, 'kiss': 1, 'likes.\"': 1, 'impertinent,\"': 1, 'king,\"': 1, 'book,': 2, 'where.\"': 1, 'removed,\"': 1, 'passing': 1, 'removed!\"': 1, 'settling': 1, 'difficulties,': 1, 'small.': 1, 'executioner': 3, 'myself,\"': 2, 'screaming': 1, 'passion.': 1, 'already': 1, 'executed': 3, 'search': 1, 'hedgehog.': 1, 'fight': 2, 'hedgehog,': 1, 'croqueting': 1, 'flamingo': 2, 'helpless': 1, 'fly': 1, 'trees.': 1, 'hedgehogs': 1, 'sight:': 2, 'arches': 3, 'ground.\"': 1, 'escape': 1, 'friend.': 1, 'collected': 2, 'executioner,': 1, 'appealed': 1, 'settle': 1, 'arguments': 1, 'though,': 1, \"executioner's\": 1, 'unless': 1, 'from:': 1, 'beheaded,': 1, \"weren't\": 1, 'nonsense.': 1, \"she'd\": 1, '(It': 1, 'anxious.)': 1, 'Duchess:': 4, 'prison,\"': 1, 'executioner;': 1, '\"fetch': 1, 'arrow.': 1, 'fading': 1, 'entirely': 2, 'disappeared;': 1, 'wildly': 2, 'game.': 1, 'IX': 1, \"Turtle's\": 2, 'Story': 1, '\"YOU': 1, 'affectionately': 1, \"Alice's,\": 1, 'pleasant': 1, 'temper,': 1, 'kitchen.': 1, '\"When': 3, 'Duchess,\"': 1, '(not': 1, 'hopeful': 1, 'though),': 1, 'Soup': 5, 'without--Maybe': 1, 'hot-tempered,\"': 1, 'rule,': 1, 'vinegar': 1, 'sour--and': 1, 'camomile': 1, 'bitter--and--barley-sugar': 1, 'sweet-tempered.': 1, 'stingy': 1, 'something,': 1, 'forget': 2, 'talk.': 1, 'moral': 6, 'bit.\"': 1, \"hasn't\": 2, '\"Tut,': 1, 'tut,': 1, '\"Every': 1, \"thing's\": 1, 'moral,': 1, 'squeezed': 1, 'closer': 1, 'keeping': 2, 'ugly;': 1, 'shoulder,': 1, 'uncomfortably': 1, 'chin.': 2, 'rude,': 1, 'bore': 1, \"game's\": 1, 'little.': 1, '\"\\'Tis': 2, \"is--'Oh,\": 1, \"'tis\": 2, 'love,': 2, 'round!\\'\"': 1, '\"Somebody': 1, 'said,\"': 1, 'whispered,': 1, 'minding': 1, 'well!': 1, \"is--'Take\": 1, 'themselves.\\'\"': 1, 'morals': 1, 'things!\"': 4, 'waist,\"': 1, 'pause:': 1, 'temper': 1, 'flamingo.': 1, 'Shall': 1, 'experiment?\"': 1, 'bite,\"': 1, 'anxious': 2, 'experiment': 1, 'tried.': 1, 'true,\"': 1, '\"flamingoes': 1, 'mustard': 2, 'bite.': 1, \"is--'Birds\": 1, 'feather': 1, 'flock': 1, 'together.\\'\"': 1, 'bird,\"': 1, '\"Right,': 1, 'usual,\"': 1, 'mineral,': 1, 'is,\"': 2, 'agree': 2, 'said:': 4, '\"there\\'s': 1, 'mustard-mine': 1, \"is--'The\": 1, 'mine,': 1, 'yours.\\'\"': 1, 'attended': 1, 'vegetable.': 1, 'is.\"': 3, \"is--'Be\": 1, \"be'--or\": 1, \"simply--'Never\": 1, 'imagine': 1, 'otherwise': 2, 'appear': 1, 'otherwise.\\'\"': 1, 'better,\"': 1, 'down:': 1, 'follow': 1, 'chose,\"': 1, '\"Pray': 1, 'trouble!\"': 1, 'present': 1, 'cheap': 1, 'present!\"': 1, 'birthday': 1, 'loud.': 1, '\"Thinking': 1, 'dig': 1, 'sharply,': 1, 'worried.': 1, 'pigs': 1, 'fly;': 1, 'm----\"': 1, 'surprise,': 2, \"Duchess's\": 2, 'died': 1, 'favourite': 1, '\"moral,\"': 1, 'linked': 1, 'hers': 3, 'tremble.': 1, 'frowning': 3, 'thunderstorm.': 1, 'fair': 1, 'warning,\"': 1, 'spoke;': 1, '\"either': 1, 'Take': 1, 'choice!\"': 1, 'choice,': 1, 'moment.': 1, '\"Let\\'s': 1, 'game,\"': 1, 'word,': 2, 'croquet-ground.': 1, 'guests': 2, 'absence,': 1, 'shade:': 1, 'delay': 1, 'cost': 1, 'lives.': 1, 'Those': 1, 'whom': 1, 'sentenced': 1, 'custody': 2, 'left,': 1, 'execution.': 1, 'from,\"': 1, 'history.\"': 1, 'together,': 1, 'company': 1, 'pardoned.\"': 1, 'unhappy': 1, 'executions': 2, 'ordered.': 1, 'Gryphon,': 14, '(If': 1, 'Gryphon': 20, 'picture.)': 1, '\"Up,': 1, 'lazy': 1, 'Turtle,': 7, 'history.': 1, 'ordered,\"': 1, 'leaving': 1, 'Gryphon.': 17, 'Queen:': 2, 'rubbed': 1, 'eyes:': 1, 'watched': 2, 'chuckled.': 1, 'fun!\"': 1, 'fun?\"': 1, 'fancy,': 2, 'that:': 2, 'executes': 1, 'nobody,': 2, '\"Everybody': 1, \"'come\": 1, \"on!'\": 1, 'never!\"': 1, 'ledge': 1, 'rock,': 1, 'nearer,': 1, 'sighing': 2, 'heart': 2, 'break.': 1, 'pitied': 1, 'deeply.': 1, 'sorrow?\"': 1, 'answered,': 1, 'sorrow,': 1, 'lady,\"': 1, '\"she': 1, 'her,\"': 1, 'hollow': 1, '\"sit': 1, 'finished.\"': 1, 'finish,': 1, 'patiently.': 1, '\"Once,\"': 1, 'sigh,': 1, 'Turtle.\"': 1, 'These': 1, 'occasional': 1, 'exclamation': 1, '\"Hjckrrh!\"': 1, 'heavy': 2, 'sobbing': 2, 'Turtle.': 9, '\"Thank': 3, 'story,\"': 1, 'little,\"': 1, 'calmly,': 1, 'school': 4, 'sea.': 3, 'Turtle--we': 1, 'Tortoise----\"': 1, 'Tortoise,': 1, 'one?\"': 1, 'Tortoise': 1, 'us,\"': 1, 'angrily:': 1, '\"really': 1, 'dull!\"': 1, 'question,\"': 1, 'Gryphon;': 1, 'sink': 1, '\"Drive': 1, 'fellow.': 1, \"mayn't\": 1, 'it----\"': 1, 'didn\\'t!\"': 2, 'tongue!\"': 2, 'on:--': 1, 'educations--in': 1, 'day----\"': 1, 'day-school,': 1, 'too,\"': 1, 'proud': 2, '\"With': 1, 'extras?\"': 1, 'anxiously.': 1, '\"Yes,\"': 3, 'learned': 1, 'washing?\"': 1, '\"Certainly': 1, 'not!\"': 1, 'school,\"': 1, 'relief.': 2, 'ours': 1, 'bill,': 1, \"'French,\": 1, 'music,': 1, '--extra.\\'\"': 1, '\"living': 1, 'sea.\"': 1, 'afford': 1, 'sigh.': 1, 'regular': 2, 'course.\"': 1, 'inquired': 1, '\"Reeling': 1, 'Writhing,': 1, 'branches': 1, 'Arithmetic--Ambition,': 1, 'Distraction,': 1, 'Uglification,': 1, 'Derision.\"': 1, '\\'Uglification,\\'\"': 1, 'say.': 1, 'lifted': 1, 'surprise.': 2, '\"Never': 2, 'uglifying!\"': 1, 'exclaimed.': 1, 'beautify': 1, 'doubtfully:': 1, 'means--to--make--anything--prettier.\"': 1, 'uglify': 1, 'simpleton.\"': 1, 'encouraged': 1, 'learn?\"': 1, 'Mystery,\"': 1, 'counting': 1, 'subjects': 1, 'flappers,': 1, '\"--Mystery,': 1, 'ancient': 1, 'modern,': 1, 'Seaography:': 1, 'Drawling--the': 1, 'Drawling-master': 1, 'conger-eel,': 1, 'week:': 1, 'Drawling,': 1, 'Stretching,': 1, 'Fainting': 1, 'Coils.\"': 1, 'like?\"': 1, 'stiff.': 1, '\"Hadn\\'t': 1, 'Gryphon:': 3, 'Classical': 1, 'master,': 1, 'though.': 1, 'crab,': 1, 'was.\"': 1, 'Laughing': 1, 'Grief,': 1, 'turn;': 1, 'hid': 1, 'faces': 2, 'paws.': 1, 'lessons?\"': 1, 'subject.': 2, '\"Ten': 1, 'day,\"': 1, 'Turtle:': 4, '\"nine': 1, 'plan!\"': 1, 'lessons,\"': 2, 'lessen': 1, 'day.\"': 1, 'eleventh': 1, 'holiday.\"': 1, 'twelfth?\"': 1, 'eagerly.': 1, '\"tell': 1, 'games': 1, 'X': 1, 'Lobster': 4, 'Quadrille': 2, 'deeply,': 2, 'flapper': 1, 'sobs': 2, '\"Same': 1, 'bone': 1, 'throat,\"': 1, 'punching': 1, 'recovered': 2, 'cheeks,': 1, 'sea--\"': 1, 'haven\\'t,\"': 1, 'Alice)': 1, 'introduced': 1, 'lobster--\"': 1, 'tasted----\"': 1, 'never\")': 1, '\"--so': 1, 'delightful': 2, 'indeed,\"': 2, 'dance': 2, 'form': 1, 'line': 1, 'sea-shore----\"': 1, 'lines!\"': 1, '\"Seals,': 1, 'turtles,': 1, 'on;': 1, 'cleared': 1, 'jelly-fish': 1, 'way----\"': 1, '\"--you': 1, 'advance': 1, 'twice----\"': 1, '\"Each': 1, 'lobster': 1, 'partner!\"': 1, '\"advance': 1, 'partners----\"': 1, '\"--change': 1, 'lobsters,': 3, 'retire': 1, 'order,\"': 1, '\"Then,': 1, 'the----\"': 1, 'lobsters!\"': 1, 'bound': 1, '\"--as': 1, 'can----\"': 1, '\"Swim,': 1, 'somersault': 1, 'sea!\"': 2, 'capering': 1, 'about.': 1, '\"Change': 1, 'lobsters': 3, 'yelled': 1, '\"Back': 1, \"and--that's\": 1, 'figure,\"': 1, 'dropping': 1, 'voice;': 1, 'creatures,': 1, 'quietly,': 1, 'pretty': 1, 'dance,\"': 1, 'timidly.': 1, 'figure!\"': 1, 'sing?\"': 1, 'sing,\"': 1, 'words.\"': 1, 'dancing': 1, 'treading': 2, 'toes': 1, 'close,': 1, 'forepaws': 1, 'mark': 2, 'sadly:--': 1, '\"Will': 1, 'faster?\"': 1, 'whiting': 3, 'snail,': 2, 'porpoise': 1, 'us,': 2, \"he's\": 1, 'See': 1, 'eagerly': 3, 'turtles': 1, 'advance!': 1, 'shingle--will': 1, 'join': 9, 'dance?': 4, 'Will': 4, 'snail': 1, '\"Too': 1, 'far,': 1, 'far!\"': 1, 'askance--': 1, 'thanked': 1, 'kindly,': 1, 'dance.': 5, 'go?\"': 1, 'scaly': 1, 'further': 1, 'England': 1, 'France--': 1, 'pale,': 2, 'beloved': 1, 'dance?\"': 1, 'watch,\"': 1, 'last:': 1, 'song': 1, 'whiting!\"': 1, 'whiting,\"': 2, '\"they--you\\'ve': 1, 'course?\"': 1, 'dinn----\"': 1, 'Dinn': 1, 'like.\"': 1, 'thoughtfully.': 2, 'tails': 3, 'mouths--and': 1, 'crumbs.\"': 1, 'crumbs,\"': 1, '\"crumbs': 1, 'mouths;': 1, 'is--\"': 1, 'thrown': 1, 'mouths.': 1, \"That's\": 1, 'interesting.': 1, 'before.\"': 1, 'whiting?\"': 1, 'solemnly.': 1, 'shoes!\"': 1, 'with?\"': 1, 'mean,': 1, 'shiny?\"': 1, 'answer.': 1, '\"They\\'re': 2, 'blacking,': 1, 'believe.\"': 1, '\"Boots': 1, 'sea,\"': 1, '\"are': 1, 'whiting.': 1, '\"Soles': 1, 'eels,': 1, 'impatiently:': 1, '\"any': 1, 'shrimp': 1, 'thoughts': 2, 'porpoise,': 1, \"'Keep\": 1, 'please:': 1, 'us!\\'\"': 1, 'obliged': 3, '\"no': 1, 'fish': 2, 'anywhere': 1, 'porpoise.\"': 1, '\"Wouldn\\'t': 1, 'really?\"': 1, '\"why,': 1, 'journey,': 1, \"'With\": 1, 'porpoise?\\'\"': 1, '\\'purpose\\'?\"': 1, 'adventures.\"': 1, 'adventures--beginning': 1, 'morning,\"': 1, 'timidly:': 1, 'yesterday,': 1, 'adventures': 2, 'impatient': 1, '\"explanations': 1, 'dreadful': 1, 'time.\"': 1, 'Rabbit.': 1, 'mouths': 1, 'wide,': 1, 'gained': 1, 'courage': 1, 'listeners': 1, 'different,': 1, 'curious.\"': 1, 'now.': 1, '\"Stand': 1, 'sluggard': 1, 'lessons!\"': 1, 'Quadrille,': 1, 'indeed:--': 1, 'Lobster;': 1, 'declare,': 1, \"'You\": 1, 'baked': 1, 'brown,': 1, 'sugar': 1, \"hair.'\": 1, 'duck': 1, 'eyelids,': 1, 'nose': 1, 'Trims': 1, 'belt': 1, 'buttons,': 1, 'turns': 1, 'toes.': 1, 'sands': 1, 'dry,': 1, 'gay': 1, 'lark,': 1, 'contemptuous': 1, 'tones': 2, 'Shark:': 1, 'tide': 1, 'rises': 1, 'sharks': 1, 'around,': 1, 'His': 1, 'tremulous': 1, 'sound.\"': 1, 'child,\"': 1, 'uncommon': 1, 'nonsense.\"': 1, 'nothing;': 1, 'explained,\"': 1, '\"Go': 2, 'verse.\"': 1, 'toes?\"': 1, 'persisted.': 1, 'dancing,\"': 1, 'said;': 1, 'repeated:': 1, '.\\'\"': 1, 'disobey,': 1, 'marked,': 1, 'eye,': 1, 'Owl': 2, 'Panther': 3, 'sharing': 1, 'pie:': 1, 'pie-crust,': 1, 'gravy,': 1, 'meat,': 1, 'share': 1, 'treat.': 1, 'pie': 1, 'finished,': 2, 'Owl,': 1, 'boon,': 1, 'Was': 1, 'kindly': 1, 'permitted': 1, 'pocket': 1, 'spoon:': 1, 'received': 1, 'knife': 1, 'fork': 1, 'banquet': 1, 'by----\"': 1, 'stuff,\"': 1, 'on?': 1, 'heard!\"': 1, 'off,\"': 1, '\"Shall': 1, 'figure': 1, 'Quadrille?\"': 1, '\"Or': 1, 'song?\"': 1, 'kind,\"': 1, '\"H\\'m!': 1, 'accounting': 1, 'tastes!': 1, 'Sing': 1, 'fellow?\"': 1, 'sobs,': 1, '\"Beautiful': 2, 'Soup,': 1, 'rich': 1, 'green,': 1, 'Waiting': 1, 'tureen!': 1, 'dainties': 1, 'stoop?': 1, 'evening,': 2, 'Soup!': 4, 'Beau--ootiful': 4, 'Soo--oop!': 4, 'Soo--oop': 2, 'e--e--evening,': 3, 'Beautiful,': 3, 'cares': 2, 'fish,': 1, 'Game,': 1, 'dish?': 1, 'Pennyworth': 2, 'Soup?': 2, 'beauti--FUL': 1, 'SOUP!\"': 1, '\"Chorus': 1, \"trial's\": 3, 'beginning!\"': 1, 'song.': 1, 'trial': 4, 'panted': 1, 'ran;': 1, 'faster,': 1, 'breeze': 1, 'words:--': 1, '\"Soo--oop': 1, 'Soup!\"': 1, 'XI': 1, 'Stole': 1, 'Hearts': 1, 'seated': 1, 'throne': 1, 'arrived,': 1, 'them--all': 1, 'cards:': 1, 'standing': 1, 'chains,': 1, 'soldier': 1, 'guard': 1, 'him;': 1, 'trumpet': 1, 'scroll': 1, 'parchment': 2, 'other.': 2, 'court': 5, 'tarts': 3, 'good,': 1, 'them--\"I': 1, 'done,\"': 2, 'refreshments!\"': 1, 'pass': 1, 'justice': 1, 'books,': 1, 'judge,\"': 1, 'wig.\"': 1, 'King;': 4, 'wore': 1, 'wig,': 1, 'comfortable,': 1, 'becoming.': 1, 'jury-box,\"': 1, 'twelve': 2, 'creatures,\"': 1, '\"creatures,\"': 1, 'animals,': 1, 'birds,)': 1, 'jurors.\"': 1, 'rightly': 1, 'too,': 1, '\"jurymen\"': 1, 'jurors': 3, 'writing': 4, 'slates.': 1, 'doing?\"': 1, 'yet,': 3, 'begun.\"': 1, 'tarts?': 1, 'names,\"': 1, 'reply,': 1, 'trial.\"': 1, '\"Stupid': 1, 'indignant': 1, '\"Silence': 1, 'court!\"': 1, 'spectacles': 1, 'shoulders,': 1, '\"stupid': 1, 'slates,': 4, 'spell': 1, '\"stupid,\"': 1, 'neighbour': 1, 'muddle': 1, 'slates': 2, 'One': 1, 'pencil': 1, 'squeaked.': 1, 'This,': 1, 'stand,': 1, 'quickly': 2, 'juror': 1, 'Lizard)': 1, 'day;': 1, 'use,': 1, 'slate.': 1, '\"Herald,': 1, 'accusation!\"': 1, 'King.': 12, 'blew': 2, 'blasts': 2, 'trumpet,': 2, 'scroll,': 1, 'follows:': 1, 'tarts,': 3, 'summer': 2, 'day:': 1, 'verdict,\"': 3, 'jury.': 2, 'yet!\"': 1, 'interrupted.': 1, 'witness,\"': 1, '\"First': 1, 'witness!\"': 2, 'witness': 4, 'teacup': 3, 'bread-and-butter': 2, 'pardon,': 1, 'in;': 1, 'sent': 2, 'for.\"': 1, 'finished,\"': 1, 'begin?\"': 1, 'court,': 6, 'arm-in-arm': 1, 'Dormouse.': 3, '\"Fourteenth': 1, 'March,': 1, '\"Fifteenth,\"': 1, '\"Sixteenth,\"': 1, '\"Write': 1, 'down,\"': 3, 'jury,': 4, 'wrote': 3, 'dates': 1, 'reduced': 1, 'shillings': 1, 'pence.': 1, 'hat,\"': 1, 'mine,\"': 1, 'Stolen!': 1, 'exclaimed,': 1, 'memorandum': 1, 'fact.': 1, 'sell,\"': 1, 'explanation:': 1, 'own.': 1, 'hatter.\"': 1, 'spectacles,': 1, 'fidgeted.': 1, '\"Give': 3, 'evidence,\"': 3, 'nervous,': 1, 'spot.\"': 1, 'encourage': 1, 'all:': 2, 'shifting': 1, 'uneasily': 1, 'bread-and-butter.': 1, 'sensation,': 1, 'court;': 1, 'remain': 1, 'squeeze': 1, 'breathe.\"': 1, 'meekly:': 1, 'growing.\"': 1, '\"You\\'ve': 1, 'nonsense,\"': 1, 'boldly:': 1, 'too.\"': 1, 'reasonable': 1, 'pace,\"': 1, '\"not': 2, 'ridiculous': 1, 'fashion.\"': 1, 'court.': 4, 'officers': 3, '\"Bring': 1, 'list': 2, 'singers': 1, 'concert!\"': 1, 'shoes.': 1, 'man,': 2, '\"--and': 2, 'tea--not': 1, 'week': 2, 'so--and': 1, 'thin--and': 1, 'twinkling': 3, 'tea----\"': 1, 'T!\"': 1, 'dunce?': 1, 'Go': 1, 'man,\"': 1, 'twinkled': 1, 'that--only': 1, 'did!\"': 1, 'deny': 2, 'denies': 1, '\"leave': 1, 'part.\"': 1, 'too:': 1, 'denied': 1, 'asleep.': 1, 'bread-and-butter----\"': 1, 'say?\"': 1, 'remember,\"': 2, 'remarked': 1, 'executed.\"': 1, 'miserable': 2, 'knee.': 1, 'speaker': 1, 'guinea-pigs': 1, 'cheered,': 2, 'suppressed': 3, '(As': 1, 'done.': 1, 'canvas': 1, 'bag,': 1, 'strings:': 1, 'guinea-pig,': 1, 'newspapers,': 1, 'trials,': 1, \"'There\": 1, 'applause,': 1, \"court,'\": 1, 'understood': 1, 'lower,\"': 1, 'guinea-pig': 1, 'suppressed.': 1, 'finishes': 1, 'guinea-pigs!\"': 1, 'better.\"': 1, 'reading': 2, 'singers.': 1, 'outside,\"': 1, 'officers;': 1, 'officer': 1, 'cook.': 3, 'pepper-box': 1, '\"Sha\\'n\\'t,\"': 1, 'Majesty': 2, 'cross-examine': 2, 'witness.\"': 2, 'must,': 1, 'must,\"': 1, 'folding': 1, '\"Pepper,': 1, 'mostly,\"': 1, '\"Collar': 1, 'shrieked': 1, '\"Behead': 1, 'Dormouse!': 1, 'Turn': 1, 'court!': 1, 'Suppress': 1, 'him!': 2, 'Pinch': 1, 'whiskers.\"': 1, 'disappeared.': 1, 'mind!\"': 1, 'undertone': 1, 'witness.': 1, 'ache!\"': 1, 'fumbled': 1, 'list,': 1, '\"--for': 1, 'evidence': 3, 'Imagine': 1, 'shrill': 3, '\"Alice!\"': 1, 'XII': 1, 'Evidence': 1, '\"HERE!\"': 1, 'flurry': 1, 'tipped': 1, 'jury-box': 1, 'skirt,': 1, 'upsetting': 1, 'jurymen': 2, 'below,': 1, 'sprawling': 1, 'reminding': 1, 'globe': 1, 'gold-fish': 2, 'accidentally': 1, 'before.': 2, 'dismay,': 1, 'accident': 1, 'vague': 1, 'jury-box,': 2, 'die.': 1, 'cannot': 1, 'proceed,\"': 1, '\"until': 1, 'places--': 1, 'emphasis,': 1, 'haste,': 1, 'Lizard': 2, 'downwards,': 1, 'unable': 1, 'move.': 1, 'right;': 1, 'signifies': 1, 'other.\"': 1, 'shock': 1, 'upset,': 1, 'pencils': 1, 'diligently': 1, 'history': 1, 'accident,': 1, 'overcome': 1, 'open,': 1, 'gazing': 1, 'business?\"': 1, '\"Nothing,\"': 1, '\"Nothing': 3, 'persisted': 1, 'whatever,\"': 1, 'important,\"': 1, 'interrupted:': 1, 'Un': 2, 'important,': 2, 'means,': 1, 'respectful': 1, 'meant,\"': 1, 'undertone,\"important--unimportant--unimportant--important----\"': 1, 'best.': 1, '\"important,\"': 1, '\"unimportant.\"': 1, 'slates;': 1, 'note-book,': 1, '\"Silence!\"': 1, '\"Rule': 1, 'Forty-two.': 1, 'persons': 1, 'mile': 2, 'high,\"': 2, 'are,\"': 1, '\"Nearly': 1, 'rate,\"': 1, '\"besides,': 1, 'rule:': 1, 'invented': 1, 'oldest': 1, 'Number': 1, 'One,\"': 1, 'note-book': 1, '\"this': 1, 'prisoner': 1, 'to--to': 1, 'somebody.\"': 1, '\"unless': 1, 'usual,': 1, 'directed': 2, 'jurymen.': 2, 'Rabbit;': 1, 'outside': 1, 'letter': 1, 'verses.\"': 1, \"prisoner's\": 1, 'handwriting?\"': 1, 'queerest': 1, '(The': 3, 'puzzled.)': 1, 'imitated': 1, \"else's\": 1, 'hand,\"': 1, 'again.)': 1, 'prove': 2, 'did:': 1, 'signed': 2, 'end.\"': 1, 'sign': 1, 'worse.': 1, 'mischief,': 1, 'honest': 1, 'man.\"': 1, 'clapping': 1, 'clever': 1, 'proves': 1, 'guilt,': 1, '\"so,': 1, 'with----\"': 1, 'sort!\"': 1, 'about!\"': 1, '\"Read': 1, 'spectacles.': 1, '\"Where': 1, 'begin,': 1, 'Majesty?\"': 1, '\"Begin': 1, 'beginning,\"': 1, 'end;': 1, 'stop.\"': 1, 'whilst': 1, 'verses:--': 1, 'character,': 1, 'swim.': 1, '(We': 1, 'true):': 1, 'push': 2, 'more;': 1, 'returned': 2, 'Though': 1, 'Involved': 1, 'affair,': 1, 'trusts': 1, 'free,': 1, 'Exactly': 1, 'were.': 1, 'My': 1, '(Before': 1, 'fit)': 1, 'obstacle': 1, 'Him,': 1, 'ourselves,': 1, 'secret,': 1, 'rest,': 1, 'Between': 1, 'me.\"': 1, 'hands;': 1, 'jury----\"': 1, 'him,)': 1, 'sixpence.': 1, 'atom': 2, 'attempted': 1, 'paper.': 1, 'saves': 1, 'trouble,': 1, 'any.': 1, 'spreading': 1, 'verses': 2, 'knee,': 3, \"'----\": 1, \"--'\": 4, 'Knave.': 1, 'cardboard.)': 1, 'himself:': 1, '\"\\'': 1, 'true': 1, \"course--'\": 1, \"'--that\": 1, \"Queen--'\": 1, \"'--What,\": 1, \"indeed!--'\": 1, 'are!\"': 1, 'triumphantly,': 1, 'clearer': 1, \"again--'\": 1, 'fit': 2, 'fits': 1, '\"Never!\"': 1, 'furiously,': 1, 'inkstand': 1, 'slate': 1, 'finger,': 1, 'mark;': 1, 'ink,': 1, 'trickling': 1, 'lasted.)': 1, 'smile.': 1, 'pun!\"': 1, 'laughed.': 1, 'twentieth': 1, 'no!\"': 1, '\"Sentence': 1, 'first--verdict': 1, 'afterwards.\"': 1, '\"Stuff': 1, 'loudly.': 1, 'first!\"': 1, 'purple.': 1, 'won\\'t!\"': 1, 'Nobody': 1, 'moved.': 1, 'cards!\"': 1, 'scream,': 1, 'fright': 1, 'anger,': 1, 'sister,': 2, 'brushing': 1, 'fluttered': 1, 'sister.': 1, 'had!\"': 1, 'dream!\"': 1, 'about;': 1, 'kissed': 1, 'dream,': 1, 'tea;': 1, 'late.\"': 1, 'ran,': 1, 'might,': 1, 'wonderful': 2, 'been.': 1, 'BUT': 1, 'sun,': 1, 'Adventures,': 1, 'dreaming': 1, 'fashion,': 1, 'dream:': 1, 'dreamed': 1, 'clasped': 1, 'hers--she': 1, 'toss': 1, 'wandering': 1, 'eyes--and': 1, 'listened,': 1, 'listen,': 1, 'around': 2, 'alive': 1, \"sister's\": 1, 'dream.': 1, 'grass': 2, 'rustled': 1, 'by--the': 1, 'splashed': 1, 'neighbouring': 1, 'pool--she': 1, 'rattle': 1, 'teacups': 2, 'shared': 1, 'never-ending': 1, 'meal,': 1, 'execution--once': 1, 'pig-baby': 1, \"Duchess'\": 1, 'plates': 1, 'dishes': 1, 'crashed': 1, 'it--once': 1, \"Lizard's\": 1, 'slate-pencil,': 1, 'choking': 1, 'believed': 1, 'reality--the': 1, 'rustling': 1, 'rippling': 1, 'reeds--the': 1, 'tinkling': 1, 'sheep-bells,': 1, 'cries': 1, 'shepherd': 1, 'boy--and': 1, 'sneeze': 1, 'noises,': 1, 'knew)': 1, 'clamour': 1, 'farm-yard--while': 1, 'lowing': 1, 'cattle': 1, 'distance': 1, 'sobs.': 1, 'Lastly,': 1, 'pictured': 1, 'would,': 1, 'after-time,': 1, 'woman;': 1, 'keep,': 1, 'riper': 1, 'years,': 1, 'loving': 1, 'childhood:': 1, 'gather': 1, 'tale,': 1, 'Wonderland': 1, 'ago:': 1, 'sorrows,': 1, 'joys,': 1, 'remembering': 1, 'child-life,': 1, 'days.': 1, 'END': 1, 'ILLUSTRATIONS': 1, 'REPRODUCED': 1, 'HENTSCHEL': 1, 'COLOURTYPE': 1, 'TEXT': 1, 'BALLANTYNE': 2, '&': 1, 'COMPANY': 1, 'LTD': 1, 'AT': 1, 'PRESS': 1, 'TAVISTOCK': 1, 'STREET': 1, 'LONDON': 1, 'End': 1, 'Project': 1}\n"
     ]
    }
   ],
   "source": [
    "with open('alice.txt') as fin:\n",
    "    word_freq = {}\n",
    "    text = fin.read()\n",
    "    text = text.split()\n",
    "    for word in text:\n",
    "        if word not in word_freq:\n",
    "            word_freq[word] = 1\n",
    "            \n",
    "        else:\n",
    "            word_freq[word]+=1\n",
    "            \n",
    "print(word_freq)\n",
    "   \n",
    "        "
   ]
  },
  {
   "cell_type": "code",
   "execution_count": 87,
   "metadata": {},
   "outputs": [],
   "source": [
    "#i en dict bliver der dog ikke sorteret"
   ]
  },
  {
   "cell_type": "code",
   "execution_count": 89,
   "metadata": {},
   "outputs": [
    {
     "data": {
      "text/plain": [
       "[('the', 1530),\n",
       " ('and', 726),\n",
       " ('to', 714),\n",
       " ('a', 621),\n",
       " ('of', 497),\n",
       " ('she', 490),\n",
       " ('said', 423),\n",
       " ('it', 357),\n",
       " ('in', 350),\n",
       " ('was', 334),\n",
       " ('you', 268),\n",
       " ('I', 266),\n",
       " ('as', 236),\n",
       " ('that', 226),\n",
       " ('Alice', 224),\n",
       " ('her', 209),\n",
       " ('at', 193),\n",
       " ('with', 179),\n",
       " ('had', 177),\n",
       " ('all', 156),\n",
       " ('very', 141),\n",
       " ('be', 140),\n",
       " ('on', 138),\n",
       " ('little', 123),\n",
       " ('for', 122),\n",
       " ('\"I', 120),\n",
       " ('not', 111),\n",
       " ('they', 110),\n",
       " ('so', 106),\n",
       " ('out', 102),\n",
       " ('but', 101),\n",
       " ('The', 97),\n",
       " ('what', 96),\n",
       " ('his', 96),\n",
       " ('he', 94),\n",
       " ('this', 93),\n",
       " ('one', 84),\n",
       " ('up', 84),\n",
       " ('about', 84),\n",
       " ('were', 82),\n",
       " ('down', 81),\n",
       " ('went', 77),\n",
       " ('have', 76),\n",
       " ('like', 75),\n",
       " ('would', 75),\n",
       " ('is', 74),\n",
       " ('Alice,', 73),\n",
       " ('into', 72),\n",
       " ('or', 70),\n",
       " ('if', 68),\n",
       " ('could', 67),\n",
       " ('when', 66),\n",
       " ('no', 65),\n",
       " ('thought', 62),\n",
       " ('your', 61),\n",
       " ('And', 59),\n",
       " ('its', 59),\n",
       " ('by', 58),\n",
       " ('Mock', 58),\n",
       " ('Alice.', 58),\n",
       " ('quite', 55),\n",
       " ('my', 55),\n",
       " ('an', 53),\n",
       " ('them', 52),\n",
       " ('who', 51),\n",
       " ('some', 51),\n",
       " ('then', 51),\n",
       " ('their', 51),\n",
       " ('did', 49),\n",
       " ('see', 49),\n",
       " ('me', 49),\n",
       " (\"don't\", 49),\n",
       " ('looked', 47),\n",
       " ('began', 47),\n",
       " ('do', 46),\n",
       " ('are', 45),\n",
       " ('time', 45),\n",
       " ('there', 45),\n",
       " ('got', 45),\n",
       " ('know', 45),\n",
       " ('off', 44),\n",
       " ('such', 43),\n",
       " ('get', 43),\n",
       " ('just', 43),\n",
       " ('must', 43),\n",
       " ('only', 43),\n",
       " ('never', 41),\n",
       " ('more', 40),\n",
       " ('came', 40),\n",
       " ('think', 40),\n",
       " ('much', 40),\n",
       " ('herself', 40),\n",
       " ('it,', 39),\n",
       " (\"I'm\", 39),\n",
       " ('go', 39),\n",
       " ('Queen', 38),\n",
       " ('\"and', 38),\n",
       " ('way', 38),\n",
       " ('which', 38),\n",
       " ('from', 37),\n",
       " ('Turtle', 37),\n",
       " ('any', 37),\n",
       " ('great', 37),\n",
       " ('how', 36),\n",
       " ('been', 36),\n",
       " ('after', 35),\n",
       " ('thing', 35),\n",
       " ('say', 34),\n",
       " ('She', 34),\n",
       " ('large', 33),\n",
       " ('\"What', 33),\n",
       " ('can', 32),\n",
       " ('put', 32),\n",
       " ('round', 32),\n",
       " ('long', 31),\n",
       " ('over', 31),\n",
       " ('March', 31),\n",
       " ('made', 30),\n",
       " ('herself,', 30),\n",
       " ('back', 30),\n",
       " ('again,', 30),\n",
       " ('looking', 30),\n",
       " ('will', 29),\n",
       " ('Rabbit', 29),\n",
       " ('first', 29),\n",
       " ('\"You', 29),\n",
       " ('heard', 29),\n",
       " ('other', 28),\n",
       " ('upon', 28),\n",
       " ('well', 28),\n",
       " ('found', 28),\n",
       " ('should', 28),\n",
       " ('head', 28),\n",
       " ('him', 27),\n",
       " ('said,', 27),\n",
       " ('seemed', 27),\n",
       " ('might', 27),\n",
       " ('King', 27),\n",
       " ('make', 26),\n",
       " ('poor', 26),\n",
       " ('rather', 26),\n",
       " ('tell', 26),\n",
       " ('last', 26),\n",
       " ('now', 25),\n",
       " ('\"It', 25),\n",
       " ('look', 25),\n",
       " ('going', 25),\n",
       " (\"it's\", 25),\n",
       " ('you,', 25),\n",
       " ('three', 24),\n",
       " ('than', 24),\n",
       " ('took', 24),\n",
       " ('on,', 24),\n",
       " ('without', 24),\n",
       " (\"I'll\", 24),\n",
       " ('Hatter', 24),\n",
       " ('two', 23),\n",
       " ('too', 23),\n",
       " ('So', 23),\n",
       " ('good', 23),\n",
       " ('soon', 23),\n",
       " ('felt', 23),\n",
       " (\"can't\", 23),\n",
       " ('Dormouse', 23),\n",
       " ('half', 22),\n",
       " ('next', 22),\n",
       " ('\"But', 22),\n",
       " (']', 22),\n",
       " ('another', 22),\n",
       " ('come', 22),\n",
       " ('nothing', 21),\n",
       " ('getting', 21),\n",
       " ('White', 21),\n",
       " ('shall', 21),\n",
       " (\"I've\", 21),\n",
       " ('wish', 21),\n",
       " ('same', 21),\n",
       " (\"won't\", 21),\n",
       " ('and,', 21),\n",
       " ('before', 20),\n",
       " ('moment', 20),\n",
       " ('right', 20),\n",
       " ('find', 20),\n",
       " ('\"Well,', 20),\n",
       " ('till', 20),\n",
       " ('them,', 20),\n",
       " ('\"', 20),\n",
       " ('Gryphon', 20),\n",
       " ('voice', 19),\n",
       " ('once', 19),\n",
       " ('There', 19),\n",
       " ('things', 19),\n",
       " ('it,\"', 19),\n",
       " ('\"Oh,', 19),\n",
       " ('\"I\\'m', 19),\n",
       " ('being', 19),\n",
       " ('\"but', 19),\n",
       " ('turned', 18),\n",
       " ('eyes', 18),\n",
       " ('take', 18),\n",
       " ('her,', 18),\n",
       " ('tried', 18),\n",
       " ('\"And', 18),\n",
       " ('ever', 18),\n",
       " ('cried', 18),\n",
       " ('we', 17),\n",
       " ('It', 17),\n",
       " ('use', 17),\n",
       " ('this,', 17),\n",
       " ('it.', 17),\n",
       " ('sure', 17),\n",
       " ('Mouse', 17),\n",
       " ('added', 17),\n",
       " ('\"It\\'s', 17),\n",
       " ('Queen,', 17),\n",
       " ('Gryphon.', 17),\n",
       " ('But', 16),\n",
       " ('\"The', 16),\n",
       " ('again', 16),\n",
       " ('away', 16),\n",
       " ('\"That\\'s', 16),\n",
       " ('under', 16),\n",
       " ('again.', 16),\n",
       " ('here', 16),\n",
       " ('even', 16),\n",
       " ('eat', 16),\n",
       " ('door', 16),\n",
       " ('curious', 16),\n",
       " ('sat', 16),\n",
       " (\"doesn't\", 16),\n",
       " ('tone,', 16),\n",
       " ('called', 16),\n",
       " ('Hare', 16),\n",
       " ('through', 15),\n",
       " ('both', 15),\n",
       " ('left', 15),\n",
       " ('whole', 15),\n",
       " ('wonder', 15),\n",
       " ('anything', 15),\n",
       " (\"that's\", 15),\n",
       " ('idea', 15),\n",
       " ('is,', 15),\n",
       " ('*', 15),\n",
       " (\"there's\", 15),\n",
       " ('gave', 15),\n",
       " ('set', 15),\n",
       " ('voice,', 15),\n",
       " ('\"How', 15),\n",
       " ('while', 15),\n",
       " ('something', 15),\n",
       " ('minute', 15),\n",
       " ('Duchess', 15),\n",
       " ('A', 14),\n",
       " ('old', 14),\n",
       " ('THE', 14),\n",
       " ('close', 14),\n",
       " ('hear', 14),\n",
       " ('[Illustration]', 14),\n",
       " ('near', 14),\n",
       " ('sort', 14),\n",
       " ('words', 14),\n",
       " (\"you're\", 14),\n",
       " ('off,', 14),\n",
       " ('\"If', 14),\n",
       " ('He', 14),\n",
       " ('This', 14),\n",
       " (',\"', 14),\n",
       " ('King,', 14),\n",
       " ('Gryphon,', 14),\n",
       " ('still', 13),\n",
       " ('may', 13),\n",
       " ('ran', 13),\n",
       " ('her.', 13),\n",
       " ('ought', 13),\n",
       " ('saw', 13),\n",
       " ('was,', 13),\n",
       " ('However,', 13),\n",
       " ('knew', 13),\n",
       " ('grow', 13),\n",
       " ('anxiously', 13),\n",
       " ('kept', 13),\n",
       " ('am', 13),\n",
       " ('these', 13),\n",
       " ('replied', 13),\n",
       " ('\"I\\'ve', 13),\n",
       " ('Hatter.', 13),\n",
       " (\"Alice's\", 12),\n",
       " ('In', 12),\n",
       " ('hand', 12),\n",
       " ('\"Why,', 12),\n",
       " ('Caterpillar', 12),\n",
       " ('nearly', 12),\n",
       " ('\"Off', 12),\n",
       " ('CHAPTER', 12),\n",
       " ('[Sidenote:', 12),\n",
       " ('seen', 12),\n",
       " ('How', 12),\n",
       " ('many', 12),\n",
       " ('among', 12),\n",
       " ('perhaps', 12),\n",
       " ('talking', 12),\n",
       " ('remember', 12),\n",
       " ('behind', 12),\n",
       " ('side', 12),\n",
       " ('every', 12),\n",
       " ('[Illustration:', 12),\n",
       " ('used', 12),\n",
       " ('As', 12),\n",
       " ('Alice;', 12),\n",
       " ('end', 12),\n",
       " ('turning', 12),\n",
       " ('Caterpillar.', 12),\n",
       " ('King.', 12),\n",
       " ('face', 11),\n",
       " ('At', 11),\n",
       " ('beginning', 11),\n",
       " ('day', 11),\n",
       " ('whether', 11),\n",
       " ('down,', 11),\n",
       " (\"wouldn't\", 11),\n",
       " ('glad', 11),\n",
       " (\"didn't\", 11),\n",
       " ('saying', 11),\n",
       " ('feet', 11),\n",
       " ('trying', 11),\n",
       " ('before,', 11),\n",
       " ('because', 11),\n",
       " ('hardly', 11),\n",
       " ('makes', 11),\n",
       " ('deal', 11),\n",
       " ('try', 11),\n",
       " ('always', 11),\n",
       " ('course', 11),\n",
       " ('\"Of', 11),\n",
       " ('better', 11),\n",
       " (\"wasn't\", 11),\n",
       " ('\"Then', 11),\n",
       " ('it?\"', 11),\n",
       " ('Hare.', 11),\n",
       " ('For', 10),\n",
       " ('rest', 10),\n",
       " ('They', 10),\n",
       " ('head!\"', 10),\n",
       " ('sitting', 10),\n",
       " ('having', 10),\n",
       " ('hurried', 10),\n",
       " ('people', 10),\n",
       " ('walked', 10),\n",
       " ('read', 10),\n",
       " ('enough', 10),\n",
       " ('thinking', 10),\n",
       " ('done', 10),\n",
       " ('voice.', 10),\n",
       " ('talk', 10),\n",
       " ('tone.', 10),\n",
       " ('Queen.', 10),\n",
       " ('beg', 9),\n",
       " ('tone', 9),\n",
       " ('believe', 9),\n",
       " ('own', 9),\n",
       " ('suddenly', 9),\n",
       " ('herself.', 9),\n",
       " ('see,', 9),\n",
       " ('(she', 9),\n",
       " ('cats', 9),\n",
       " (\"couldn't\", 9),\n",
       " ('matter', 9),\n",
       " ('bit', 9),\n",
       " ('up,', 9),\n",
       " ('low', 9),\n",
       " ('opened', 9),\n",
       " ('those', 9),\n",
       " ('few', 9),\n",
       " ('really', 9),\n",
       " ('\"No,', 9),\n",
       " (\"'\", 9),\n",
       " ('waited', 9),\n",
       " ('out,', 9),\n",
       " ('best', 9),\n",
       " ('\"Come,', 9),\n",
       " ('against', 9),\n",
       " ('far', 9),\n",
       " ('give', 9),\n",
       " ('\"They', 9),\n",
       " ('help', 9),\n",
       " ('hard', 9),\n",
       " ('queer', 9),\n",
       " ('on.', 9),\n",
       " ('house,', 9),\n",
       " ('not,', 9),\n",
       " ('Mouse,', 9),\n",
       " ('\"A', 9),\n",
       " ('afraid', 9),\n",
       " ('\"Not', 9),\n",
       " ('change', 9),\n",
       " ('us', 9),\n",
       " ('?\"', 9),\n",
       " ('Dodo', 9),\n",
       " ('two,', 9),\n",
       " ('Then', 9),\n",
       " ('jury', 9),\n",
       " ('please', 9),\n",
       " ('shook', 9),\n",
       " ('You', 9),\n",
       " ('shouted', 9),\n",
       " ('know.\"', 9),\n",
       " ('asked', 9),\n",
       " (\"they're\", 9),\n",
       " ('Cat', 9),\n",
       " ('that,\"', 9),\n",
       " ('Hatter,', 9),\n",
       " ('Turtle.', 9),\n",
       " ('join', 9),\n",
       " ('wondering', 8),\n",
       " ('drew', 8),\n",
       " ('golden', 8),\n",
       " ('our', 8),\n",
       " ('begin', 8),\n",
       " ('one,', 8),\n",
       " ('where', 8),\n",
       " ('has', 8),\n",
       " ('feel', 8),\n",
       " ('making', 8),\n",
       " ('dear!', 8),\n",
       " (',', 8),\n",
       " ('opportunity', 8),\n",
       " ('seem', 8),\n",
       " ('name', 8),\n",
       " ('know.', 8),\n",
       " ('else', 8),\n",
       " ('do,', 8),\n",
       " ('\"Do', 8),\n",
       " ('door,', 8),\n",
       " ('small', 8),\n",
       " ('certainly', 8),\n",
       " ('know,\"', 8),\n",
       " ('it:', 8),\n",
       " ('followed', 8),\n",
       " ('lying', 8),\n",
       " ('speak', 8),\n",
       " ('want', 8),\n",
       " ('hastily', 8),\n",
       " ('fan', 8),\n",
       " ('Duchess,', 8),\n",
       " ('everything', 8),\n",
       " ('play', 8),\n",
       " ('it;', 8),\n",
       " (\"you'd\", 8),\n",
       " ('house', 8),\n",
       " ('explain', 8),\n",
       " ('it.\"', 8),\n",
       " ('running', 8),\n",
       " ('stood', 8),\n",
       " ('asked.', 8),\n",
       " ('\"you', 8),\n",
       " ('\"Yes,', 8),\n",
       " ('itself', 8),\n",
       " ('Rabbit,', 8),\n",
       " ('suppose', 8),\n",
       " ('room', 8),\n",
       " ('gone', 8),\n",
       " ('reason', 8),\n",
       " ('keep', 8),\n",
       " ('most', 8),\n",
       " ('repeated', 8),\n",
       " ('beautiful', 8),\n",
       " ('cook', 8),\n",
       " ('soldiers', 8),\n",
       " ('That', 7),\n",
       " ('While', 7),\n",
       " ('hands', 7),\n",
       " ('crowded', 7),\n",
       " ('Who', 7),\n",
       " ('tired', 7),\n",
       " ('could,', 7),\n",
       " ('watch', 7),\n",
       " ('way,', 7),\n",
       " ('noticed', 7),\n",
       " ('Why,', 7),\n",
       " ('top', 7),\n",
       " ('heads', 7),\n",
       " ('time,', 7),\n",
       " ('ask', 7),\n",
       " ('dear,', 7),\n",
       " ('dry', 7),\n",
       " ('round,', 7),\n",
       " ('bright', 7),\n",
       " ('waiting', 7),\n",
       " ('bottle', 7),\n",
       " ('minutes', 7),\n",
       " ('table', 7),\n",
       " ('that!\"', 7),\n",
       " ('leave', 7),\n",
       " ('ready', 7),\n",
       " ('so,', 7),\n",
       " ('changed', 7),\n",
       " ('question', 7),\n",
       " ('goes', 7),\n",
       " ('live', 7),\n",
       " ('first,', 7),\n",
       " ('frightened', 7),\n",
       " (\"hadn't\", 7),\n",
       " ('yet', 7),\n",
       " ('cat', 7),\n",
       " ('\"We', 7),\n",
       " ('let', 7),\n",
       " ('again!\"', 7),\n",
       " ('know,', 7),\n",
       " ('When', 7),\n",
       " ('why', 7),\n",
       " ('birds', 7),\n",
       " ('party', 7),\n",
       " ('meaning', 7),\n",
       " ('it!\"', 7),\n",
       " ('mean', 7),\n",
       " (\"I'd\", 7),\n",
       " ('\"that', 7),\n",
       " ('arm', 7),\n",
       " ('grown', 7),\n",
       " ('least', 7),\n",
       " ('each', 7),\n",
       " (\"haven't\", 7),\n",
       " ('mouth', 7),\n",
       " ('Alice:', 7),\n",
       " ('work', 7),\n",
       " ('\"There\\'s', 7),\n",
       " ('\"if', 7),\n",
       " ('baby', 7),\n",
       " ('word', 7),\n",
       " (\"Queen's\", 7),\n",
       " ('Knave', 7),\n",
       " ('Majesty,\"', 7),\n",
       " ('Turtle,', 7),\n",
       " ('Here', 6),\n",
       " ('arms', 6),\n",
       " ('\"There', 6),\n",
       " ('sudden', 6),\n",
       " ('An', 6),\n",
       " ('carried', 6),\n",
       " ('pack', 6),\n",
       " ('air,', 6),\n",
       " ('feet,', 6),\n",
       " ('world', 6),\n",
       " ('fell', 6),\n",
       " ('coming', 6),\n",
       " ('fall', 6),\n",
       " ('Let', 6),\n",
       " ('four', 6),\n",
       " ('though', 6),\n",
       " ('nice', 6),\n",
       " ('manage', 6),\n",
       " ('written', 6),\n",
       " ('answer', 6),\n",
       " ('begun', 6),\n",
       " ('but,', 6),\n",
       " ('open', 6),\n",
       " ('inches', 6),\n",
       " ('neck', 6),\n",
       " ('children', 6),\n",
       " ('hold', 6),\n",
       " ('that,', 6),\n",
       " ('forgotten', 6),\n",
       " ('almost', 6),\n",
       " ('finished', 6),\n",
       " ('size', 6),\n",
       " ('however,', 6),\n",
       " ('\"for', 6),\n",
       " ('game', 6),\n",
       " ('surprised', 6),\n",
       " ('now,', 6),\n",
       " ('kind', 6),\n",
       " ('moment,', 6),\n",
       " ('pool', 6),\n",
       " ('white', 6),\n",
       " ('began,', 6),\n",
       " ('feeling', 6),\n",
       " ('times', 6),\n",
       " ('repeat', 6),\n",
       " ('then,', 6),\n",
       " ('that?\"', 6),\n",
       " ('growing', 6),\n",
       " ('\"That', 6),\n",
       " ('foot', 6),\n",
       " ('about,', 6),\n",
       " ('here,', 6),\n",
       " ('again:', 6),\n",
       " ('not,\"', 6),\n",
       " ('dear', 6),\n",
       " ('indeed!\"', 6),\n",
       " ('trembling', 6),\n",
       " ('sit', 6),\n",
       " ('offended', 6),\n",
       " ('slowly', 6),\n",
       " ('air.', 6),\n",
       " ('\"it\\'s', 6),\n",
       " ('spoke.', 6),\n",
       " ('melancholy', 6),\n",
       " ('yourself', 6),\n",
       " ('thought,', 6),\n",
       " ('course,\"', 6),\n",
       " ('\"You\\'re', 6),\n",
       " ('\"Come', 6),\n",
       " (\"It's\", 6),\n",
       " ('thing!\"', 6),\n",
       " ('What', 6),\n",
       " ('become', 6),\n",
       " ('full', 6),\n",
       " ('.\"', 6),\n",
       " ('then,\"', 6),\n",
       " ('you?\"', 6),\n",
       " (\"you've\", 6),\n",
       " ('place', 6),\n",
       " ('sharp', 6),\n",
       " ('\"Who', 6),\n",
       " ('turn', 6),\n",
       " ('creatures', 6),\n",
       " ('told', 6),\n",
       " ('Cheshire', 6),\n",
       " ('dreadfully', 6),\n",
       " ('Cat,', 6),\n",
       " ('so,\"', 6),\n",
       " (\"isn't\", 6),\n",
       " ('\"Why', 6),\n",
       " (\"'I\", 6),\n",
       " ('Dormouse,', 6),\n",
       " ('on!\"', 6),\n",
       " ('moral', 6),\n",
       " ('court,', 6),\n",
       " ('since', 5),\n",
       " ('All', 5),\n",
       " ('tale', 5),\n",
       " ('\"to', 5),\n",
       " ('silence', 5),\n",
       " ('fancy', 5),\n",
       " ('Mary', 5),\n",
       " ('doing', 5),\n",
       " ('here?\"', 5),\n",
       " ('grunted', 5),\n",
       " ('sister', 5),\n",
       " ('across', 5),\n",
       " ('either', 5),\n",
       " ('deep', 5),\n",
       " ('happen', 5),\n",
       " ('somebody', 5),\n",
       " (\"it'll\", 5),\n",
       " ('Do', 5),\n",
       " ('walking', 5),\n",
       " ('jumped', 5),\n",
       " ('say,', 5),\n",
       " ('hall,', 5),\n",
       " ('other,', 5),\n",
       " ('table,', 5),\n",
       " ('key', 5),\n",
       " ('along', 5),\n",
       " ('garden', 5),\n",
       " ('\"it', 5),\n",
       " ('me,\"', 5),\n",
       " ('marked', 5),\n",
       " ('simple', 5),\n",
       " ('cut', 5),\n",
       " ('ventured', 5),\n",
       " ('ten', 5),\n",
       " ('After', 5),\n",
       " ('generally', 5),\n",
       " ('remembered', 5),\n",
       " ('garden,', 5),\n",
       " ('shoes', 5),\n",
       " ('\"or', 5),\n",
       " ('pair', 5),\n",
       " ('Just', 5),\n",
       " ('roof', 5),\n",
       " ('kid', 5),\n",
       " ('gloves', 5),\n",
       " ('hair', 5),\n",
       " ('mine', 5),\n",
       " ('sounded', 5),\n",
       " ('hands,', 5),\n",
       " ('swam', 5),\n",
       " ('\"Would', 5),\n",
       " ('eyes,', 5),\n",
       " ('William', 5),\n",
       " ('sentence', 5),\n",
       " ('conversation.', 5),\n",
       " ('\"Are', 5),\n",
       " ('them!\"', 5),\n",
       " ('her:', 5),\n",
       " ('once,', 5),\n",
       " ('notice', 5),\n",
       " ('\"In', 5),\n",
       " ('\"the', 5),\n",
       " ('course,', 5),\n",
       " ('silence.', 5),\n",
       " ('exactly', 5),\n",
       " ('last,', 5),\n",
       " ('call', 5),\n",
       " ('sighed', 5),\n",
       " ('young', 5),\n",
       " ('\"He', 5),\n",
       " ('window,', 5),\n",
       " ('head.', 5),\n",
       " ('\"Now', 5),\n",
       " ('write', 5),\n",
       " (\"shouldn't\", 5),\n",
       " ('taking', 5),\n",
       " ('hand,', 5),\n",
       " ('broken', 5),\n",
       " ('arm,', 5),\n",
       " ('dead', 5),\n",
       " ('\"I\\'ll', 5),\n",
       " ('puppy', 5),\n",
       " ('replied,', 5),\n",
       " ('time,\"', 5),\n",
       " ('spoke,', 5),\n",
       " ('trees', 5),\n",
       " ('Pigeon', 5),\n",
       " ('continued', 5),\n",
       " ('between', 5),\n",
       " ('pepper', 5),\n",
       " ('pleased', 5),\n",
       " ('much,\"', 5),\n",
       " ('everybody', 5),\n",
       " ('Cat.', 5),\n",
       " ('waving', 5),\n",
       " ('Hatter:', 5),\n",
       " ('mad', 5),\n",
       " ('remarked.', 5),\n",
       " ('added,', 5),\n",
       " ('Hearts,', 5),\n",
       " ('puzzled', 5),\n",
       " ('interrupted', 5),\n",
       " ('piece', 5),\n",
       " ('hedgehog', 5),\n",
       " ('Soup', 5),\n",
       " ('dance.', 5),\n",
       " ('court', 5),\n",
       " ('OF', 4),\n",
       " ('IN', 4),\n",
       " ('By', 4),\n",
       " ('To', 4),\n",
       " ('Yet', 4),\n",
       " ('Her', 4),\n",
       " ('moving', 4),\n",
       " ('story', 4),\n",
       " ('Alice!', 4),\n",
       " ('AND', 4),\n",
       " ('Ann,', 4),\n",
       " ('violently', 4),\n",
       " ('angrily', 4),\n",
       " ('\"Turn', 4),\n",
       " ('quarrelling', 4),\n",
       " ('players,', 4),\n",
       " ('shouting', 4),\n",
       " ('pictures', 4),\n",
       " ('mind', 4),\n",
       " ('hot', 4),\n",
       " ('worth', 4),\n",
       " ('trouble', 4),\n",
       " ('itself,', 4),\n",
       " ('Oh', 4),\n",
       " ('First,', 4),\n",
       " ('sides', 4),\n",
       " ('fear', 4),\n",
       " (\"they'll\", 4),\n",
       " ('likely', 4),\n",
       " ('fallen', 4),\n",
       " ('several', 4),\n",
       " ('lessons', 4),\n",
       " ('listen', 4),\n",
       " ('(Alice', 4),\n",
       " ('walk', 4),\n",
       " ('me!', 4),\n",
       " ('No,', 4),\n",
       " ('Dinah,', 4),\n",
       " ('question,', 4),\n",
       " ('sight,', 4),\n",
       " ('ears', 4),\n",
       " ('tiny', 4),\n",
       " ('rate', 4),\n",
       " ('second', 4),\n",
       " ('led', 4),\n",
       " ('Oh,', 4),\n",
       " ('shut', 4),\n",
       " ('taught', 4),\n",
       " ('drink', 4),\n",
       " ('(it', 4),\n",
       " ('fact,', 4),\n",
       " ('off.', 4),\n",
       " ('nervous', 4),\n",
       " ('while,', 4),\n",
       " ('reach', 4),\n",
       " ('tears', 4),\n",
       " ('now,\"', 4),\n",
       " ('eye', 4),\n",
       " ('glass', 4),\n",
       " ('care', 4),\n",
       " ('growing,', 4),\n",
       " ('new', 4),\n",
       " ('nine', 4),\n",
       " ('until', 4),\n",
       " ('distance,', 4),\n",
       " ('himself', 4),\n",
       " ('low,', 4),\n",
       " ('dropped', 4),\n",
       " ('she,', 4),\n",
       " (\"she's\", 4),\n",
       " ('puzzling', 4),\n",
       " ('capital', 4),\n",
       " ('On', 4),\n",
       " ('seems', 4),\n",
       " ('stay', 4),\n",
       " ('shrinking', 4),\n",
       " ('hastily,', 4),\n",
       " ('chin', 4),\n",
       " ('case', 4),\n",
       " ('number', 4),\n",
       " ('thing,', 4),\n",
       " ('nearer', 4),\n",
       " ('understand', 4),\n",
       " ('history,', 4),\n",
       " ('pardon!\"', 4),\n",
       " ('angry', 4),\n",
       " (\"Don't\", 4),\n",
       " ('hurry', 4),\n",
       " ('fetch', 4),\n",
       " ('says', 4),\n",
       " ('go,', 4),\n",
       " (\"you'll\", 4),\n",
       " ('high', 4),\n",
       " ('argument', 4),\n",
       " ('said.', 4),\n",
       " ('wanted', 4),\n",
       " ('more,', 4),\n",
       " ('say,\"', 4),\n",
       " ('day,', 4),\n",
       " ('asking', 4),\n",
       " ('here,\"', 4),\n",
       " ('short', 4),\n",
       " ('dare', 4),\n",
       " ('could.', 4),\n",
       " ('sir,', 4),\n",
       " ('finish', 4),\n",
       " ('others', 4),\n",
       " ('Dinah', 4),\n",
       " (\"ca'n't\", 4),\n",
       " ('moved', 4),\n",
       " ('Come', 4),\n",
       " ('minute,', 4),\n",
       " ('back,', 4),\n",
       " ('chance', 4),\n",
       " ('learn', 4),\n",
       " ('conversation', 4),\n",
       " ('yer', 4),\n",
       " (\"Bill's\", 4),\n",
       " ('him,', 4),\n",
       " ('\"So', 4),\n",
       " ('If', 4),\n",
       " ('lay', 4),\n",
       " ('crowd', 4),\n",
       " ('held', 4),\n",
       " ('do,\"', 4),\n",
       " ('stick,', 4),\n",
       " ('mushroom', 4),\n",
       " ('height', 4),\n",
       " ('quietly', 4),\n",
       " ('hookah', 4),\n",
       " ('different', 4),\n",
       " ('yet,\"', 4),\n",
       " ('Father', 4),\n",
       " ('stand', 4),\n",
       " ('perfectly', 4),\n",
       " ('\"as', 4),\n",
       " ('replied;', 4),\n",
       " ('spoke', 4),\n",
       " ('head,', 4),\n",
       " ('draw', 4),\n",
       " ('screamed', 4),\n",
       " ('sleep', 4),\n",
       " ('taken', 4),\n",
       " ('does', 4),\n",
       " ('strange', 4),\n",
       " ('gone,', 4),\n",
       " ('Footman', 4),\n",
       " ('sneezing', 4),\n",
       " ('timidly,', 4),\n",
       " ('Duchess;', 4),\n",
       " ('jumping', 4),\n",
       " ('meant', 4),\n",
       " ('busily', 4),\n",
       " ('beat', 4),\n",
       " ('song,', 4),\n",
       " ('\"Don\\'t', 4),\n",
       " ('all.', 4),\n",
       " ('pig,', 4),\n",
       " ('less', 4),\n",
       " ('\"Call', 4),\n",
       " ('\"I\\'d', 4),\n",
       " ('tea', 4),\n",
       " ('fast', 4),\n",
       " ('you,\"', 4),\n",
       " ('replied.', 4),\n",
       " ('asleep', 4),\n",
       " ('know----\"', 4),\n",
       " ('exclaimed', 4),\n",
       " ('now.\"', 4),\n",
       " ('bottom', 4),\n",
       " ('remark.', 4),\n",
       " ('begins', 4),\n",
       " ('gardeners', 4),\n",
       " ('gardeners,', 4),\n",
       " ('whispered', 4),\n",
       " ('passed', 4),\n",
       " ('Duchess:', 4),\n",
       " ('things!\"', 4),\n",
       " ('said:', 4),\n",
       " ('school', 4),\n",
       " ('Turtle:', 4),\n",
       " ('Lobster', 4),\n",
       " ('dance?', 4),\n",
       " ('Will', 4),\n",
       " ('Soup!', 4),\n",
       " ('Beau--ootiful', 4),\n",
       " ('Soo--oop!', 4),\n",
       " ('trial', 4),\n",
       " ('King;', 4),\n",
       " ('writing', 4),\n",
       " ('slates,', 4),\n",
       " ('witness', 4),\n",
       " ('jury,', 4),\n",
       " ('court.', 4),\n",
       " (\"--'\", 4),\n",
       " ('Adventures', 3),\n",
       " ('Wonderland,', 3),\n",
       " (\"ALICE'S\", 3),\n",
       " ('BY', 3),\n",
       " ('With', 3),\n",
       " ('part', 3),\n",
       " ('taste', 3),\n",
       " ('comes', 3),\n",
       " ('breath', 3),\n",
       " ('weak', 3),\n",
       " ('wild', 3),\n",
       " ('subject', 3),\n",
       " ('voices', 3),\n",
       " ('slowly,', 3),\n",
       " ('flowers', 3),\n",
       " ('Pool', 3),\n",
       " ('Tears', 3),\n",
       " ('won?\"', 3),\n",
       " ('Advice', 3),\n",
       " ('unusually', 3),\n",
       " ('saucepan', 3),\n",
       " ('flew', 3),\n",
       " ('alarm', 3),\n",
       " ('Mad', 3),\n",
       " ('Knave,', 3),\n",
       " ('stole', 3),\n",
       " ('rose', 3),\n",
       " ('flying', 3),\n",
       " ('peeped', 3),\n",
       " ('book', 3),\n",
       " ('considering', 3),\n",
       " ('sleepy', 3),\n",
       " ('next.', 3),\n",
       " ('to,', 3),\n",
       " ('dark', 3),\n",
       " ('filled', 3),\n",
       " ('managed', 3),\n",
       " ('down.', 3),\n",
       " ('Would', 3),\n",
       " ('miles', 3),\n",
       " ('aloud.', 3),\n",
       " ('see:', 3),\n",
       " ('to?\"', 3),\n",
       " ('funny', 3),\n",
       " ('sound', 3),\n",
       " ('girl', 3),\n",
       " ('hope', 3),\n",
       " ('catch', 3),\n",
       " ('mouse,', 3),\n",
       " ('wonder?\"', 3),\n",
       " ('dream', 3),\n",
       " ('\"Now,', 3),\n",
       " ('late', 3),\n",
       " ('hanging', 3),\n",
       " ('middle,', 3),\n",
       " ('key,', 3),\n",
       " ('high:', 3),\n",
       " ('larger', 3),\n",
       " ('begin.\"', 3),\n",
       " ('out-of-the-way', 3),\n",
       " ('happened', 3),\n",
       " ('indeed', 3),\n",
       " ('hoping', 3),\n",
       " ('rules', 3),\n",
       " ('before,\"', 3),\n",
       " ('paper', 3),\n",
       " ('hurry.', 3),\n",
       " ('finger', 3),\n",
       " ('finding', 3),\n",
       " ('high,', 3),\n",
       " ...]"
      ]
     },
     "execution_count": 89,
     "metadata": {},
     "output_type": "execute_result"
    }
   ],
   "source": [
    "from operator import itemgetter\n",
    "#sorted(listen der skal sorteres, key=funktion der giver rækkefælgen, omvendt/eller ej)\n",
    "sorted(word_freq.items(),key=itemgetter(1), reverse=True)"
   ]
  },
  {
   "cell_type": "markdown",
   "metadata": {},
   "source": [
    "Lav ændringer til overstående alice-program så frekvensanalysen udskrivet til en txt-fil sorteret efter frekvensen, så indholdet i txt-filen starter sådan"
   ]
  },
  {
   "cell_type": "code",
   "execution_count": 91,
   "metadata": {},
   "outputs": [
    {
     "name": "stdout",
     "output_type": "stream",
     "text": [
      "{'\\ufeffProject': 1, \"Gutenberg's\": 2, \"Alice's\": 12, 'Adventures': 3, 'in': 350, 'Wonderland,': 3, 'by': 58, 'Lewis': 2, 'Carroll': 2, '***': 2, 'START': 1, 'OF': 4, 'THIS': 1, 'PROJECT': 1, 'GUTENBERG': 1, 'EBOOK': 1, \"ALICE'S\": 3, 'ADVENTURES': 2, 'IN': 4, 'WONDERLAND': 2, \"ALICE'S·ADVENTURES\": 1, 'IN·WONDERLAND': 1, 'BY·LEWIS·CARROLL': 1, 'ILLUSTRATED·BY': 1, 'ARTHUR·RACKHAM': 1, 'WITH': 1, 'A': 14, 'PROEM': 1, 'BY': 3, 'AUSTIN': 2, 'DOBSON': 1, 'LONDON·WILLIAM·HEINEMANN': 1, 'NEW·YORK·DOUBLEDAY·PAGE·&·Co]': 1, 'PRINTED': 2, 'ENGLAND': 1, \"'Tis\": 2, 'two': 23, 'score': 1, 'years': 1, 'since': 5, \"CARROLL'S\": 1, 'art,': 1, 'With': 3, 'topsy-turvy': 1, 'magic,': 1, 'Sent': 1, 'ALICE': 2, 'wondering': 8, 'through': 15, 'a': 621, 'part': 3, 'Half-comic': 1, 'and': 726, 'half-tragic.': 1, 'Enchanting': 1, 'ALICE!': 1, 'Black-and-white': 1, 'Has': 2, 'made': 30, 'your': 61, 'deeds': 1, 'perennial;': 1, 'And': 59, 'naught': 1, 'save': 2, '\"Chaos': 1, 'old': 14, 'Night\"': 1, 'Can': 1, 'you': 268, 'now': 25, 'from': 37, 'TENNIEL;': 1, 'But': 16, 'still': 13, 'are': 45, 'Type,': 1, 'based': 1, 'In': 12, 'Truth,': 1, 'like': 75, 'LEAR': 1, 'HAMLET;': 1, 'Types': 1, 'may': 13, 'be': 140, 're-draped': 1, 'to': 714, 'taste': 3, 'cloth-of-gold': 1, 'or': 70, 'camlet.': 1, 'Here': 6, 'comes': 3, 'afresh': 1, 'Costumier,': 1, 'then;': 2, 'That': 7, 'Taste': 1, 'gain': 1, 'wrinkle': 1, 'From': 1, 'him': 27, 'who': 51, 'drew': 8, 'with': 179, 'such': 43, 'deft': 1, 'pen': 1, 'The': 97, 'rags': 1, 'of': 497, 'RIP': 1, 'VAN': 1, 'WINKLE!': 1, 'DOBSON.': 1, 'All': 5, 'the': 1530, 'golden': 8, 'afternoon': 1, 'Full': 1, 'leisurely': 1, 'we': 17, 'glide;': 1, 'For': 10, 'both': 15, 'our': 8, 'oars,': 1, 'little': 123, 'skill,': 1, 'By': 4, 'arms': 6, 'plied,': 1, 'While': 7, 'hands': 7, 'make': 26, 'vain': 1, 'pretence': 1, 'Our': 2, 'wanderings': 1, 'guide.': 1, 'Ah,': 2, 'cruel': 1, 'Three!': 1, 'an': 53, 'hour,': 1, 'Beneath': 2, 'dreamy': 2, 'weather,': 1, 'To': 4, 'beg': 9, 'tale': 5, 'breath': 3, 'too': 23, 'weak': 3, 'stir': 1, 'tiniest': 1, 'feather!': 1, 'Yet': 4, 'what': 96, 'can': 32, 'one': 84, 'poor': 26, 'voice': 19, 'avail': 1, 'Against': 1, 'three': 24, 'tongues': 1, 'together?': 1, 'Imperious': 1, 'Prima': 1, 'flashes': 1, 'forth': 1, 'Her': 4, 'edict': 1, '\"to': 5, 'begin': 8, 'it\"--': 1, 'gentler': 1, 'tone': 9, 'Secunda': 1, 'hopes': 1, '\"There': 6, 'will': 29, 'nonsense': 2, 'it!\"--': 1, 'Tertia': 1, 'interrupts': 1, 'Not': 1, 'more': 40, 'than': 24, 'once': 19, 'minute.': 2, 'Anon,': 1, 'sudden': 6, 'silence': 5, 'won,': 2, 'fancy': 5, 'they': 110, 'pursue': 1, 'dream-child': 1, 'moving': 4, 'land': 2, 'Of': 1, 'wonders': 1, 'wild': 3, 'new,': 1, 'friendly': 1, 'chat': 1, 'bird': 2, 'beast--': 1, 'half': 22, 'believe': 9, 'it': 357, 'true.': 1, 'ever,': 1, 'as': 236, 'story': 4, 'drained': 1, 'wells': 1, 'dry.': 1, 'faintly': 2, 'strove': 1, 'that': 226, 'weary': 1, 'put': 32, 'subject': 3, 'by,': 1, '\"The': 16, 'rest': 10, 'next': 22, 'time--\"': 1, '\"It': 25, 'is': 74, 'time!\"': 1, 'happy': 2, 'voices': 3, 'cry.': 1, 'Thus': 2, 'grew': 2, 'Wonderland:': 1, 'slowly,': 3, 'one,': 8, 'Its': 1, 'quaint': 1, 'events': 1, 'were': 82, 'hammered': 1, 'out--': 1, 'done,': 2, 'home': 2, 'steer,': 1, 'merry': 1, 'crew,': 1, 'setting': 2, 'sun.': 2, 'Alice!': 4, 'childish': 1, 'take,': 1, 'gentle': 1, 'hand': 12, 'Lay': 1, 'where': 8, \"Childhood's\": 1, 'dreams': 1, 'twined': 1, \"Memory's\": 1, 'mystic': 1, 'band,': 1, 'Like': 2, \"pilgrim's\": 1, \"wither'd\": 1, 'wreath': 1, 'flowers': 3, \"Pluck'd\": 1, 'far-off': 1, 'land.': 1, 'CONTENTS': 1, 'PAGE': 1, 'I.': 1, 'DOWN': 1, 'THE': 14, 'RABBIT-HOLE': 1, '1': 1, 'II.': 1, 'POOL': 1, 'TEARS': 1, '13': 1, 'III.': 1, 'CAUCUS-RACE': 1, 'AND': 4, 'LONG': 1, 'TALE': 1, '24': 1, 'IV.': 1, 'RABBIT': 1, 'SENDS': 1, 'LITTLE': 1, 'BILL': 1, '35': 1, 'V.': 1, 'ADVICE': 1, 'FROM': 1, 'CATERPILLAR': 1, '49': 1, 'VI.': 1, 'PIG': 1, 'PEPPER': 1, '64': 1, 'VII.': 1, 'MAD': 1, 'TEA-PARTY': 1, '82': 1, 'VIII.': 1, \"QUEEN'S\": 1, 'CROQUET-GROUND': 1, '96': 1, 'IX.': 1, 'MOCK': 1, \"TURTLE'S\": 1, 'STORY': 1, '111': 1, 'X.': 1, 'LOBSTER': 1, 'QUADRILLE': 1, '126': 1, 'XI.': 1, 'WHO': 1, 'STOLE': 1, 'TARTS?': 1, '139': 1, 'XII.': 1, 'EVIDENCE': 1, '150': 1, 'LIST': 1, 'PLATES': 1, 'face': 11, 'page': 1, 'Alice': 224, 'Frontispiece': 1, 'Pool': 3, 'Tears': 3, '22': 1, 'They': 10, 'all': 156, 'crowded': 7, 'round': 32, 'panting': 2, 'asking,': 2, '\"But': 22, 'has': 8, 'won?\"': 3, '28': 1, '\"Why,': 12, 'Mary': 5, 'Ann,': 4, 'doing': 5, 'out': 102, 'here?\"': 5, '36': 1, 'Advice': 3, 'Caterpillar': 12, '50': 1, 'An': 6, 'unusually': 3, 'large': 33, 'saucepan': 3, 'flew': 3, 'close': 14, 'it,': 39, 'very': 141, 'nearly': 12, 'carried': 6, 'off': 44, '70': 1, 'It': 17, 'grunted': 5, 'again': 16, 'so': 106, 'violently': 4, 'she': 490, 'looked': 47, 'down': 81, 'into': 72, 'its': 59, 'some': 51, 'alarm': 3, '74': 1, 'Mad': 3, 'Tea-Party': 1, '84': 1, 'Queen': 38, 'turned': 18, 'angrily': 4, 'away': 16, 'said': 423, 'Knave,': 3, '\"Turn': 4, 'them': 52, 'over\"': 2, '100': 1, 'never': 41, 'left': 15, 'quarrelling': 4, 'other': 28, 'players,': 4, 'shouting': 4, '\"Off': 12, 'his': 96, 'head!\"': 10, 'or,': 2, 'her': 209, '116': 1, 'Mock': 58, 'Turtle': 37, 'long': 31, 'said,': 27, '\"That\\'s': 16, 'curious\"': 2, '132': 1, 'Who': 7, 'stole': 3, 'Tarts?': 2, '140': 1, 'At': 11, 'this': 93, 'whole': 15, 'pack': 6, 'rose': 3, 'up': 84, 'air,': 6, 'came': 40, 'flying': 3, 'upon': 28, '158': 1, 'CHAPTER': 12, 'I': 266, '[Sidenote:': 12, 'Down': 1, 'Rabbit-Hole': 1, ']': 22, 'was': 334, 'beginning': 11, 'get': 43, 'tired': 7, 'sitting': 10, 'sister': 5, 'on': 138, 'bank,': 2, 'having': 10, 'nothing': 21, 'do:': 1, 'twice': 1, 'had': 177, 'peeped': 3, 'book': 3, 'reading,': 1, 'but': 101, 'no': 65, 'pictures': 4, 'conversations': 1, '\"and': 38, 'use': 17, 'book,\"': 2, 'thought': 62, 'Alice,': 73, '\"without': 1, 'conversations?\"': 1, 'So': 23, 'considering': 3, 'own': 9, 'mind': 4, '(as': 2, 'well': 28, 'could,': 7, 'for': 122, 'hot': 4, 'day': 11, 'feel': 8, 'sleepy': 3, 'stupid)': 1, 'whether': 11, 'pleasure': 2, 'making': 8, 'daisy-chain': 1, 'would': 75, 'worth': 4, 'trouble': 4, 'getting': 21, 'picking': 2, 'daisies,': 1, 'when': 66, 'suddenly': 9, 'White': 21, 'Rabbit': 29, 'pink': 1, 'eyes': 18, 'ran': 13, 'her.': 13, 'There': 19, 'remarkable': 2, 'that;': 1, 'nor': 2, 'did': 49, 'think': 40, 'much': 40, 'way': 38, 'hear': 14, 'say': 34, 'itself,': 4, '\"Oh': 2, 'dear!': 8, 'Oh': 4, 'shall': 21, 'late!\"': 1, '(when': 1, 'over': 31, 'afterwards,': 1, 'occurred': 2, 'ought': 13, 'have': 76, 'wondered': 1, 'at': 193, 'this,': 17, 'time': 45, 'seemed': 27, 'quite': 55, 'natural);': 1, 'actually': 1, 'took': 24, 'watch': 7, 'waistcoat-pocket': 1, ',': 8, 'then': 51, 'hurried': 10, 'on,': 24, 'started': 2, 'feet,': 6, 'flashed': 1, 'across': 5, 'before': 20, 'seen': 12, 'rabbit': 1, 'either': 5, 'waistcoat-pocket,': 1, 'take': 18, 'burning': 1, 'curiosity,': 2, 'field': 1, 'after': 35, 'just': 43, 'see': 49, 'pop': 1, 'rabbit-hole': 2, 'under': 16, 'hedge.': 1, 'another': 22, 'moment': 20, 'went': 77, 'how': 36, 'world': 6, 'again.': 16, 'straight': 2, 'tunnel': 1, 'way,': 7, 'dipped': 2, 'down,': 11, 'not': 111, 'about': 84, 'stopping': 1, 'herself': 40, 'found': 28, 'falling': 2, 'deep': 5, 'well.': 2, '[Illustration]': 14, 'Either': 1, 'deep,': 2, 'fell': 6, 'plenty': 2, 'look': 25, 'her,': 18, 'wonder': 15, 'going': 25, 'happen': 5, 'next.': 3, 'First,': 4, 'tried': 18, 'coming': 6, 'to,': 3, 'dark': 3, 'anything;': 2, 'sides': 4, 'noticed': 7, 'filled': 3, 'cupboards': 2, 'book-shelves:': 1, 'here': 16, 'there': 45, 'saw': 13, 'maps': 1, 'hung': 1, 'pegs.': 1, 'She': 34, 'jar': 2, 'shelves': 1, 'passed;': 1, 'labelled': 1, '\"ORANGE': 1, 'MARMALADE,\"': 1, 'disappointment': 1, 'empty;': 1, 'drop': 1, 'fear': 4, 'killing': 1, 'somebody': 5, 'underneath,': 1, 'managed': 3, 'past': 1, 'it.': 17, '\"Well!\"': 1, 'herself.': 9, '\"After': 2, 'fall': 6, 'tumbling': 2, 'stairs!': 1, 'How': 12, 'brave': 1, \"they'll\": 4, 'me': 49, 'home!': 1, 'Why,': 7, \"wouldn't\": 11, 'anything': 15, 'even': 16, 'if': 68, 'top': 7, 'house!\"': 1, '(Which': 2, 'likely': 4, 'true.)': 1, 'Down,': 2, 'down.': 3, 'Would': 3, 'come': 22, 'end?': 1, '\"I': 120, 'many': 12, 'miles': 3, \"I've\": 21, 'fallen': 4, 'time?\"': 1, 'aloud.': 3, 'must': 43, 'somewhere': 2, 'near': 14, 'centre': 1, 'earth.': 2, 'Let': 6, 'see:': 3, 'four': 6, 'thousand': 2, 'think--\"': 2, '(for,': 1, 'see,': 9, 'learnt': 2, 'several': 4, 'things': 19, 'sort': 14, 'lessons': 4, 'schoolroom,': 1, 'though': 6, 'good': 23, 'opportunity': 8, 'showing': 2, 'knowledge,': 1, 'listen': 4, 'practice': 1, 'over)': 1, '\"--yes,': 1, \"that's\": 15, 'right': 20, 'distance--but': 1, 'Latitude': 2, 'Longitude': 2, 'got': 45, 'to?\"': 3, '(Alice': 4, 'idea': 15, 'was,': 13, 'either,': 2, 'nice': 6, 'grand': 2, 'words': 14, 'say.)': 1, 'Presently': 2, 'began': 47, 'earth!': 1, 'funny': 3, \"it'll\": 5, 'seem': 8, 'among': 12, 'people': 10, 'walk': 4, 'their': 51, 'heads': 7, 'downwards!': 1, 'Antipathies,': 1, '(she': 9, 'rather': 26, 'glad': 11, 'listening,': 2, 'time,': 7, \"didn't\": 11, 'sound': 3, 'word)': 1, '\"--but': 1, 'ask': 7, 'name': 8, 'country': 1, 'is,': 15, 'know.': 8, 'Please,': 1, \"Ma'am,\": 1, 'New': 1, 'Zealand': 1, 'Australia?\"': 1, '(and': 1, 'curtsey': 1, 'spoke--fancy': 1, 'curtseying': 1, \"you're\": 14, 'air!': 1, 'Do': 5, 'could': 67, 'manage': 6, 'it?)': 1, '\"And': 18, 'ignorant': 1, 'girl': 3, \"she'll\": 2, 'me!': 4, 'No,': 4, 'do': 46, 'ask:': 1, 'perhaps': 12, 'written': 6, 'somewhere.\"': 1, 'else': 8, 'do,': 8, 'soon': 23, 'talking': 12, '\"Dinah\\'ll': 1, 'miss': 1, 'to-night,': 1, 'should': 28, 'think!\"': 1, '(Dinah': 1, 'cat.)': 1, 'hope': 3, 'remember': 12, 'saucer': 1, 'milk': 1, 'tea-time.': 1, 'Dinah,': 4, 'my': 55, 'dear,': 7, 'wish': 21, 'mice': 2, \"I'm\": 39, 'afraid,': 2, 'might': 27, 'catch': 3, 'bat,': 1, 'mouse,': 3, 'cats': 9, 'eat': 16, 'bats,': 1, 'wonder?\"': 3, 'sleepy,': 1, 'saying': 11, 'herself,': 30, '\"Do': 8, 'bats?': 1, 'bats?\"': 1, 'sometimes,': 1, 'bats': 1, 'cats?\"': 1, 'for,': 2, \"couldn't\": 9, 'answer': 6, 'question,': 4, 'matter': 9, 'which': 38, 'felt': 23, 'dozing': 1, 'off,': 14, 'begun': 6, 'dream': 3, 'walking': 5, 'earnestly,': 1, '\"Now,': 3, 'tell': 26, 'truth:': 1, 'ever': 18, 'bat?\"': 1, 'suddenly,': 1, 'thump!': 2, 'heap': 1, 'sticks': 1, 'dry': 7, 'leaves,': 2, 'over.': 2, 'bit': 9, 'hurt,': 1, 'jumped': 5, 'feet': 11, 'moment:': 1, 'up,': 9, 'overhead;': 1, 'passage,': 2, 'sight,': 4, 'hurrying': 1, 'lost:': 1, 'wind,': 2, 'say,': 5, 'corner,': 2, 'ears': 4, 'whiskers,': 1, 'late': 3, \"it's\": 25, 'getting!\"': 1, 'behind': 12, 'longer': 2, 'seen:': 1, 'long,': 1, 'low': 9, 'hall,': 5, 'lit': 1, 'row': 2, 'lamps': 1, 'hanging': 3, 'roof.': 1, 'doors': 2, 'locked;': 1, 'been': 36, 'side': 12, 'other,': 5, 'trying': 11, 'every': 12, 'door,': 8, 'walked': 10, 'sadly': 2, 'middle,': 3, 'Suddenly': 1, 'three-legged': 2, 'table,': 5, 'solid': 1, 'glass;': 1, 'tiny': 4, 'key,': 3, 'first': 29, 'belong': 1, 'hall;': 1, 'but,': 6, 'alas!': 2, 'locks': 1, 'large,': 1, 'key': 5, 'small,': 1, 'any': 37, 'rate': 4, 'open': 6, 'them.': 2, 'However,': 13, 'second': 4, 'round,': 7, 'curtain': 1, 'before,': 11, 'door': 16, 'fifteen': 1, 'inches': 6, 'high:': 3, 'lock,': 1, 'great': 37, 'delight': 1, 'fitted!': 1, 'opened': 9, 'led': 4, 'small': 8, 'larger': 3, 'rat-hole:': 1, 'knelt': 1, 'along': 5, 'passage': 1, 'loveliest': 1, 'garden': 5, 'saw.': 1, 'longed': 2, 'wander': 1, 'those': 9, 'beds': 1, 'bright': 7, 'cool': 2, 'fountains,': 1, 'head': 28, 'doorway;': 1, 'go': 39, 'through,\"': 1, '\"it': 5, 'without': 24, 'shoulders.': 1, 'Oh,': 4, 'shut': 4, 'telescope!': 1, 'only': 43, 'knew': 13, 'begin.\"': 3, 'For,': 1, 'out-of-the-way': 3, 'happened': 3, 'lately,': 1, 'few': 9, 'indeed': 3, 'really': 9, 'impossible.': 1, 'waiting': 7, 'back': 30, 'hoping': 3, 'find': 20, 'rules': 3, 'shutting': 2, 'telescopes:': 1, 'bottle': 7, '(\"which': 1, 'certainly': 8, 'before,\"': 3, 'Alice,)': 2, 'tied': 2, 'neck': 6, 'paper': 3, 'label,': 1, '\"DRINK': 2, 'ME\"': 2, 'beautifully': 2, 'printed': 1, 'letters.': 1, '\"Drink': 1, 'me,\"': 5, 'wise': 2, 'hurry.': 3, '\"No,': 9, \"I'll\": 24, 'first,\"': 2, 'marked': 5, \"'\": 9, 'poison': 1, 'not;\"': 1, 'read': 10, 'stories': 1, 'children': 6, 'burnt,': 1, 'eaten': 1, 'beasts,': 2, 'unpleasant': 2, 'things,': 2, 'because': 11, 'simple': 5, 'friends': 2, 'taught': 4, 'them:': 1, 'as,': 2, 'red-hot': 1, 'poker': 1, 'burn': 2, 'hold': 6, 'long;': 1, 'that,': 6, 'cut': 5, 'finger': 3, 'deeply': 1, 'knife,': 1, 'usually': 2, 'bleeds;': 1, 'forgotten': 6, 'drink': 4, '\"poison,\"': 2, 'almost': 6, 'certain': 2, 'disagree': 1, 'you,': 25, 'sooner': 2, 'later.': 1, 'ventured': 5, 'finding': 3, '(it': 4, 'had,': 1, 'fact,': 4, 'mixed': 2, 'flavour': 1, 'cherry-tart,': 1, 'custard,': 1, 'pineapple,': 1, 'roast': 1, 'turkey,': 1, 'coffee,': 1, 'buttered': 1, 'toast,)': 1, 'finished': 6, 'off.': 4, '*': 15, '\"What': 33, 'curious': 16, 'feeling!\"': 1, 'Alice.': 58, 'telescope.\"': 1, 'indeed:': 1, 'ten': 5, 'high,': 3, 'brightened': 2, 'size': 6, 'lovely': 2, 'garden.': 3, 'however,': 6, 'waited': 9, 'minutes': 7, 'shrink': 1, 'further:': 1, 'nervous': 4, 'this:': 3, '\"for': 6, 'end,': 1, 'know,\"': 8, '\"in': 3, 'altogether,': 2, 'candle.': 1, 'then?\"': 1, 'flame': 1, 'candle': 2, 'looks': 1, 'blown': 1, 'out,': 9, 'thing.': 1, 'After': 5, 'while,': 4, 'happened,': 2, 'decided': 3, 'once;': 2, 'alas': 1, 'table': 7, 'possibly': 3, 'reach': 4, 'it:': 8, 'plainly': 1, 'glass,': 2, 'best': 9, 'climb': 1, 'legs': 3, 'slippery;': 1, 'trying,': 1, 'thing': 35, 'sat': 16, 'cried.': 2, '\"Come,': 9, \"there's\": 15, 'crying': 2, 'that!\"': 7, 'sharply.': 2, 'advise': 1, 'leave': 7, 'minute!\"': 1, 'generally': 5, 'gave': 15, 'advice': 1, '(though': 1, 'seldom': 1, 'followed': 8, 'it),': 2, 'sometimes': 3, 'scolded': 1, 'severely': 2, 'bring': 2, 'tears': 4, 'eyes;': 1, 'remembered': 5, 'box': 3, 'cheated': 1, 'game': 6, 'croquet': 3, 'playing': 2, 'against': 9, 'child': 3, 'fond': 3, 'pretending': 1, 'people.': 1, 'now,\"': 4, 'pretend': 1, 'people!': 1, 'Why': 1, 'hardly': 11, 'enough': 10, 'respectable': 1, 'person!\"': 1, 'Soon': 1, 'eye': 4, 'glass': 4, 'lying': 8, 'table:': 1, 'cake,': 2, '\"EAT': 1, 'currants.': 1, '\"Well,': 20, 'it,\"': 19, 'makes': 11, 'grow': 13, 'larger,': 3, 'key;': 1, 'smaller,': 3, 'creep': 1, 'door;': 1, 'garden,': 5, \"don't\": 49, 'care': 4, 'happens!\"': 1, 'ate': 1, 'bit,': 1, 'anxiously': 13, '\"Which': 3, 'way?': 1, 'Which': 3, 'way?\"': 1, 'holding': 2, 'growing,': 4, 'surprised': 6, 'remained': 3, 'same': 21, 'size;': 2, 'sure,': 1, 'happens': 2, 'eats': 1, 'expecting': 3, 'happen,': 1, 'dull': 2, 'stupid': 1, 'life': 2, 'common': 1, 'way.': 3, 'set': 15, 'work,': 1, 'cake.': 1, 'II': 1, '\"CURIOUSER': 1, 'curiouser!\"': 1, 'cried': 18, 'surprised,': 1, 'forgot': 2, 'speak': 8, 'English);': 1, '\"now': 1, 'opening': 3, 'largest': 1, 'telescope': 1, 'was!': 1, 'Good-bye,': 1, 'feet!\"': 1, '(for': 1, 'far': 9, 'off).': 1, '\"Oh,': 19, 'shoes': 5, 'stockings': 1, 'now,': 6, 'dears?': 1, 'sure': 17, \"sha'n't\": 3, 'able!': 1, 'deal': 11, 'myself': 3, 'you:': 1, 'can--but': 1, 'kind': 6, 'them,\"': 3, '\"or': 5, \"won't\": 21, 'want': 8, 'go!': 1, 'give': 9, 'new': 4, 'pair': 5, 'boots': 3, 'Christmas.\"': 1, 'planning': 1, '\"They': 9, 'carrier,\"': 1, 'thought;': 1, 'seem,': 1, 'sending': 2, 'presents': 2, \"one's\": 1, 'feet!': 1, 'odd': 1, 'directions': 1, 'look!': 1, 'Right': 1, 'Foot,': 1, 'Esq.': 1, 'Hearthrug,': 1, 'Fender,': 1, '(with': 2, 'love).': 1, 'talking!\"': 1, 'Just': 5, 'struck': 2, 'roof': 5, 'hall:': 1, 'fact': 2, 'nine': 4, 'door.': 2, 'Poor': 1, 'side,': 3, 'eye;': 2, 'hopeless': 1, 'ever:': 1, 'cry': 3, '\"You': 29, 'ashamed': 2, 'yourself,\"': 1, '\"a': 2, 'you\"': 1, 'this),': 1, 'way!': 1, 'Stop': 1, 'moment,': 6, 'you!\"': 3, 'same,': 2, 'shedding': 1, 'gallons': 1, 'tears,': 3, 'until': 4, 'pool': 6, 'reaching': 1, 'hall.': 1, '[Illustration:': 12, 'CURIOUSER': 1, 'CURIOUSER]': 1, 'heard': 29, 'pattering': 3, 'distance,': 4, 'hastily': 8, 'dried': 1, 'coming.': 2, 'returning,': 1, 'splendidly': 1, 'dressed,': 1, 'white': 6, 'kid': 5, 'gloves': 5, 'fan': 8, 'other:': 3, 'he': 94, 'trotting': 2, 'hurry,': 1, 'muttering': 3, 'himself': 4, 'came,': 2, '\"Oh!': 2, 'Duchess,': 8, 'Duchess!': 3, 'Oh!': 1, 'savage': 3, 'kept': 13, 'waiting!\"': 1, 'desperate': 1, 'ready': 7, 'help': 9, 'one;': 2, 'so,': 7, 'began,': 6, 'low,': 4, 'timid': 3, 'voice,': 15, '\"If': 14, 'please,': 3, 'sir----\"': 1, 'violently,': 2, 'dropped': 4, 'fan,': 1, 'scurried': 1, 'darkness': 1, 'hard': 9, 'go.': 1, 'gloves,': 3, 'and,': 21, 'hall': 1, 'hot,': 1, 'fanning': 1, 'talking!': 1, '\"Dear,': 1, 'queer': 9, 'everything': 8, 'to-day!': 1, 'yesterday': 2, 'usual.': 2, 'changed': 7, 'during': 1, 'night?': 1, 'think:': 1, 'morning?': 1, 'feeling': 6, 'different.': 1, 'question': 7, 'am': 13, 'I?': 1, 'puzzle!\"': 1, 'thinking': 10, 'age': 2, '\"I\\'m': 19, 'Ada,\"': 1, 'hair': 5, 'goes': 7, 'ringlets,': 1, 'mine': 5, \"doesn't\": 16, 'ringlets': 1, 'all;': 2, \"can't\": 23, 'Mabel,': 3, 'know': 45, 'sorts': 3, 'she,': 4, 'oh!': 2, 'knows': 2, 'little!': 1, 'Besides,': 1, \"she's\": 4, 'I,': 1, 'and--oh': 2, 'puzzling': 4, 'is!': 1, 'try': 11, 'used': 12, 'times': 6, 'five': 1, 'twelve,': 1, 'six': 2, 'thirteen,': 1, 'seven': 1, 'is--oh': 1, 'twenty': 1, 'rate!': 1, 'Multiplication': 1, 'Table': 1, 'signify:': 1, \"let's\": 3, 'Geography.': 1, 'London': 1, 'capital': 4, 'Paris,': 1, 'Paris': 1, 'Rome,': 1, 'Rome--no,': 1, 'wrong,': 2, 'certain!': 1, 'Mabel!': 1, 'doth': 3, 'little----': 1, '\\'\"': 1, 'crossed': 3, 'lap': 2, 'lessons,': 1, 'repeat': 6, 'sounded': 5, 'hoarse': 2, 'strange,': 1, 'do:--': 1, '\"How': 15, 'crocodile': 1, 'Improve': 1, 'shining': 1, 'tail,': 3, 'pour': 1, 'waters': 1, 'Nile': 1, 'On': 4, 'scale!': 1, 'cheerfully': 1, 'seems': 4, 'grin,': 3, 'neatly': 2, 'spreads': 1, 'claws,': 1, 'welcomes': 1, 'fishes': 1, 'in,': 1, 'gently': 3, 'smiling': 2, 'jaws!\"': 1, 'words,\"': 1, 'on.': 9, 'all,': 3, 'live': 7, 'poky': 1, 'house,': 9, 'toys': 1, 'play': 8, 'with,': 1, 'learn!': 2, 'it;': 8, 'stay': 4, 'here!': 2, \"It'll\": 1, 'putting': 3, 'saying,': 3, \"'Come\": 1, 'again,': 30, \"dear!'\": 1, \"'Who\": 1, 'then?': 1, 'Tell': 3, 'first,': 7, 'then,': 6, 'being': 19, 'person,': 1, 'up:': 1, 'not,': 9, 'till': 20, \"else'--but,\": 1, 'oh': 1, 'dear!\"': 3, 'burst': 1, 'down!': 2, 'alone': 2, 'here!\"': 1, 'As': 12, 'hands,': 5, \"Rabbit's\": 3, 'while': 15, 'talking.': 2, 'done': 10, 'that?\"': 6, 'thought.': 2, 'growing': 6, 'again.\"': 2, 'measure': 1, 'guess,': 1, 'shrinking': 4, 'rapidly:': 1, 'cause': 2, 'holding,': 1, 'hastily,': 4, 'avoid': 1, 'altogether.': 1, '\"That': 6, 'narrow': 1, 'escape!\"': 1, 'frightened': 7, 'change,': 2, 'existence;': 1, 'garden!\"': 1, 'speed': 1, 'door:': 1, 'worse': 2, 'ever,\"': 2, 'child,': 1, 'never!': 1, 'declare': 1, 'bad,': 1, 'is!\"': 3, 'these': 13, 'foot': 6, 'slipped,': 1, 'splash!': 1, 'chin': 4, 'salt': 2, 'water.': 1, 'somehow': 1, 'sea,': 3, 'case': 4, 'railway,\"': 1, 'seaside': 1, 'life,': 2, 'general': 3, 'conclusion,': 1, 'wherever': 2, 'English': 1, 'coast': 1, 'number': 4, 'bathing': 1, 'machines': 1, 'digging': 2, 'sand': 1, 'wooden': 1, 'spades,': 1, 'lodging': 1, 'houses,': 1, 'railway': 1, 'station.)': 1, 'wept': 1, 'high.': 3, \"hadn't\": 7, 'much!\"': 2, 'swam': 5, 'about,': 6, 'out.': 2, 'punished': 1, 'suppose,': 1, 'drowned': 1, 'tears!': 1, 'thing,': 4, 'sure!': 1, 'to-day.\"': 1, 'something': 15, 'splashing': 2, 'nearer': 4, 'was:': 2, 'walrus': 1, 'hippopotamus,': 1, 'mouse': 3, 'slipped': 2, '\"Would': 5, 'mouse?': 1, 'Everything': 1, 'here,': 6, 'talk:': 1, 'rate,': 2, 'harm': 1, 'trying.\"': 1, 'began:': 1, '\"O': 1, 'Mouse,': 9, 'pool?': 1, 'swimming': 2, 'O': 1, 'Mouse!\"': 1, 'speaking': 2, 'mouse;': 1, \"brother's\": 1, 'Latin': 1, 'Grammar,': 1, '\"A': 9, 'mouse--of': 1, 'mouse--to': 1, 'mouse--a': 1, 'mouse--O': 1, 'mouse!\")': 1, 'Mouse': 17, 'inquisitively,': 1, 'wink': 2, 'eyes,': 5, 'nothing.': 3, '\"Perhaps': 3, 'understand': 4, 'English,\"': 1, 'Alice;': 12, 'daresay': 2, 'French': 3, 'William': 5, 'Conqueror.\"': 1, '(For,': 1, 'knowledge': 1, 'history,': 4, 'clear': 2, 'notion': 3, 'ago': 1, 'happened.)': 1, 'again:': 6, '\"Où': 1, 'est': 1, 'ma': 1, 'chatte?\"': 1, 'sentence': 5, 'lesson-book.': 1, 'leap': 1, 'water,': 1, 'quiver': 1, 'fright.': 1, 'pardon!\"': 4, 'afraid': 9, 'hurt': 2, \"animal's\": 1, 'feelings.': 1, 'cats.\"': 1, '\"Not': 9, 'cats!\"': 1, 'shrill,': 2, 'passionate': 1, 'voice.': 10, 'me?\"': 2, 'not,\"': 6, 'soothing': 1, 'tone:': 3, '\"don\\'t': 2, 'angry': 4, 'yet': 7, 'show': 3, 'cat': 7, 'Dinah:': 1, \"you'd\": 8, 'dear': 6, 'quiet': 2, 'thing,\"': 3, 'lazily': 1, 'pool,': 2, 'sits': 1, 'purring': 1, 'nicely': 2, 'fire,': 3, 'licking': 1, 'paws': 2, 'washing': 2, 'face--and': 1, 'soft': 1, 'nurse--and': 1, 'catching': 2, 'mice----oh,': 1, 'bristling': 1, 'over,': 2, 'offended.': 1, '\"We': 7, 'talk': 10, 'not.\"': 2, '\"We,': 1, 'indeed!\"': 6, 'trembling': 6, 'end': 12, 'tail.': 2, '\"As': 3, 'subject!': 1, 'family': 1, 'always': 11, 'hated': 1, 'cats:': 1, 'nasty,': 1, 'vulgar': 1, 'things!': 1, \"Don't\": 4, 'let': 7, 'again!\"': 7, 'hurry': 4, 'change': 9, 'conversation.': 5, '\"Are': 5, 'you--are': 1, 'fond--of--of': 1, 'dogs?\"': 1, 'answer,': 1, 'eagerly:': 1, 'dog': 2, 'house': 8, 'you!': 2, 'bright-eyed': 1, 'terrier,': 1, 'know,': 7, 'oh,': 3, 'curly': 1, 'brown': 1, 'hair!': 1, 'fetch': 4, 'throw': 3, 'them,': 20, 'sit': 6, 'dinner,': 1, 'things--I': 1, 'them--and': 2, 'belongs': 2, 'farmer,': 1, 'says': 4, 'useful,': 2, 'hundred': 1, 'pounds!': 1, 'He': 14, 'kills': 1, 'rats': 1, 'sorrowful': 2, 'tone,': 16, 'offended': 6, 'go,': 4, 'commotion': 1, 'went.': 2, 'called': 16, 'softly': 1, '\"Mouse': 1, 'dogs': 1, 'them!\"': 5, 'When': 7, 'slowly': 6, 'her:': 5, 'pale': 2, 'passion,': 2, 'thought),': 1, '\"Let': 3, 'us': 9, 'shore,': 2, \"you'll\": 4, 'why': 7, 'hate': 1, 'dogs.\"': 1, 'high': 4, 'birds': 7, 'animals': 3, 'Duck': 1, 'Dodo,': 3, 'Lory': 3, 'Eaglet,': 1, 'creatures.': 1, 'party': 7, 'shore.': 1, 'III': 1, 'Caucus-race': 1, 'Long': 1, 'Tale': 1, 'THEY': 1, 'queer-looking': 1, 'assembled': 2, 'bank--the': 1, 'draggled': 1, 'feathers,': 1, 'fur': 2, 'clinging': 1, 'dripping': 1, 'wet,': 1, 'cross,': 1, 'uncomfortable.': 2, 'course': 11, 'consultation': 1, 'natural': 3, 'familiarly': 1, 'known': 1, 'life.': 2, 'Indeed,': 1, 'argument': 4, 'Lory,': 3, 'last': 26, 'sulky,': 1, 'older': 2, 'better;\"': 1, 'allow': 1, 'knowing': 2, 'positively': 1, 'refused': 1, 'age,': 2, 'said.': 4, 'person': 2, 'authority': 2, '\"Sit': 1, 'enough!\"': 1, 'once,': 5, 'ring,': 2, 'middle.': 1, 'fixed': 1, 'bad': 1, 'cold': 1, 'soon.': 1, '\"Ahem!\"': 1, 'important': 3, 'air.': 6, 'ready?': 1, 'This': 14, 'driest': 1, 'Silence': 1, 'please!': 1, \"'William\": 1, 'Conqueror,': 1, 'whose': 2, 'favoured': 1, 'pope,': 1, 'submitted': 1, 'English,': 1, 'wanted': 4, 'leaders,': 1, 'accustomed': 1, 'usurpation': 1, 'conquest.': 1, 'Edwin': 1, 'Morcar,': 2, 'earls': 2, 'Mercia': 2, 'Northumbria--\\'\"': 1, '\"Ugh!\"': 1, 'shiver.': 1, 'frowning,': 1, 'politely.': 1, '\"Did': 3, 'speak?\"': 1, 'I!\"': 2, 'hastily.': 3, 'did,\"': 3, '\"--I': 1, 'proceed.': 1, \"'Edwin\": 1, 'Northumbria,': 1, 'declared': 1, 'him:': 3, 'Stigand,': 1, 'patriotic': 1, 'Archbishop': 1, 'Canterbury,': 1, 'advisable--\\'\"': 1, '\"Found': 2, '?\"': 9, 'Duck.': 1, ',\"': 14, 'replied': 13, 'crossly:': 1, '\"of': 1, \"'it'\": 2, 'means.\"': 1, 'means': 2, 'enough,': 2, 'Duck;': 1, '\"it\\'s': 6, 'frog': 1, 'worm.': 1, 'archbishop': 1, 'find?\"': 1, 'notice': 5, 'hurriedly': 2, '\"\\'--found': 1, 'advisable': 1, 'Edgar': 1, 'Atheling': 1, 'meet': 2, 'offer': 2, 'crown.': 1, \"William's\": 1, 'conduct': 1, 'moderate.': 1, 'insolence': 1, \"Normans--'\": 1, 'dear?\"': 1, 'continued,': 2, 'turning': 12, 'spoke.': 6, 'wet': 1, 'melancholy': 6, 'tone;': 3, '\"doesn\\'t': 1, 'all.\"': 2, '\"In': 5, 'case,\"': 1, 'Dodo': 9, 'solemnly,': 1, 'rising': 1, 'move': 2, 'meeting': 1, 'adjourn,': 1, 'immediate': 1, 'adoption': 1, 'energetic': 1, 'remedies----\"': 1, '\"Speak': 2, 'English!\"': 1, 'Eaglet.': 1, 'meaning': 7, 'words,': 1, \"what's\": 2, 'more,': 4, 'either!\"': 1, 'Eaglet': 1, 'bent': 1, 'hide': 1, 'smile:': 1, 'tittered': 1, 'audibly.': 1, 'say,\"': 4, '\"was': 1, 'Caucus-race.\"': 1, 'Caucus-race?\"': 1, 'paused': 1, 'speak,': 2, 'inclined': 1, 'anything.': 1, '\"Why,\"': 2, '\"the': 5, 'explain': 8, 'it.\"': 8, '(And,': 1, 'yourself': 6, 'winter': 1, 'day,': 4, 'it.)': 2, 'First': 2, 'race-course,': 1, 'circle,': 1, '(\"the': 1, 'exact': 1, 'shape': 1, 'matter,\"': 1, 'said,)': 1, 'placed': 1, 'course,': 5, 'there.': 2, '\"One,': 2, 'two,': 9, 'three,': 1, 'away,\"': 1, 'running': 8, 'liked,': 2, 'easy': 2, 'race': 2, 'hour': 2, 'over!\"': 3, 'panting,': 2, 'asking': 4, 'thought,': 6, 'stood': 8, 'pressed': 3, 'forehead': 2, '(the': 1, 'position': 2, 'Shakespeare,': 1, 'him),': 1, 'silence.': 5, '\"': 20, 'Everybody': 2, 'prizes.\"': 1, 'prizes?\"': 1, 'chorus': 2, 'asked.': 8, 'course,\"': 6, 'pointing': 3, 'finger;': 1, 'calling': 1, 'confused': 3, '\"Prizes!': 1, 'Prizes!\"': 1, 'despair': 1, 'pocket,': 2, 'pulled': 1, 'comfits': 1, '(luckily': 1, 'water': 2, 'handed': 3, 'prizes.': 1, 'exactly': 5, 'apiece': 1, 'round.': 3, 'prize': 1, 'Mouse.': 1, '\"Of': 11, 'gravely.': 1, 'pocket?\"': 1, '\"Only': 2, 'thimble,\"': 1, 'sadly.': 2, '\"Hand': 1, 'here,\"': 4, 'Dodo.': 1, 'Then': 9, 'solemnly': 2, 'presented': 1, 'thimble,': 2, 'acceptance': 1, 'elegant': 1, 'thimble;\"': 1, 'short': 4, 'speech,': 1, 'cheered.': 1, 'absurd,': 1, 'grave': 3, 'dare': 4, 'laugh;': 1, 'simply': 2, 'bowed,': 1, 'looking': 30, 'solemn': 3, 'could.': 4, 'comfits;': 1, 'caused': 2, 'noise': 3, 'confusion,': 2, 'complained': 1, 'theirs,': 1, 'ones': 1, 'choked': 3, 'patted': 1, 'back.': 2, 'last,': 5, 'begged': 1, 'more.': 1, 'promised': 1, 'hate--C': 1, 'D,\"': 1, 'added': 17, 'whisper,': 1, '\"Mine': 1, 'sad': 2, 'tale!\"': 1, 'sighing.': 1, 'certainly,\"': 3, \"Mouse's\": 1, 'tail;': 1, '\"but': 19, 'call': 5, 'sad?\"': 1, 'speaking,': 3, 'this:--': 2, '\"Fury': 1, 'met': 3, \"'Let\": 1, 'law:': 1, 'prose-': 1, 'cute': 1, '.--': 1, 'Come,': 1, 'de-': 1, 'nial:': 1, 'We': 2, 'trial;': 1, 'morn-': 1, 'ing': 2, \"do.'\": 1, 'Said': 3, 'cur,': 1, \"'Such\": 1, 'trial,': 1, 'sir,': 4, 'jury': 9, 'judge,': 3, 'wast-': 1, \"breath.'\": 1, \"'I'll\": 2, \"jury,'\": 1, 'cun-': 1, 'ning': 1, 'Fury:': 1, 'cause,': 1, 'con-': 1, 'demn': 1, \"death.'\": 1, 'attending!\"': 1, 'severely.': 1, 'of?\"': 3, 'pardon,\"': 1, 'humbly:': 1, '\"you': 8, 'fifth': 1, 'bend,': 1, 'think?\"': 2, '!\"': 3, 'angrily.': 3, 'knot!\"': 1, 'undo': 1, 'it!\"': 7, 'sort,\"': 1, 'away.': 3, 'insult': 1, 'nonsense!\"': 2, 'mean': 7, 'pleaded': 3, 'easily': 3, 'offended,': 1, 'know!\"': 2, 'growled': 1, 'reply.': 3, '\"Please': 3, 'finish': 4, 'story!\"': 2, 'others': 4, 'joined': 2, 'chorus,': 1, '\"Yes,': 8, 'please': 9, 'do!\"': 3, 'shook': 9, 'impatiently': 1, 'quicker.': 1, 'pity': 1, 'stay!\"': 1, 'sighed': 5, 'sight;': 1, 'Crab': 1, 'daughter,': 1, '\"Ah,': 2, 'lesson': 1, 'lose': 1, 'temper!\"': 1, '\"Hold': 3, 'tongue,': 1, 'Ma!\"': 1, 'young': 5, 'Crab,': 1, 'snappishly.': 1, '\"You\\'re': 6, 'patience': 1, 'oyster!\"': 1, 'Dinah': 4, 'aloud,': 1, 'addressing': 1, 'nobody': 3, 'particular.': 1, '\"She\\'d': 1, 'back!\"': 2, 'venture': 3, 'question?\"': 1, 'Lory.': 1, 'eagerly,': 3, 'pet:': 1, '\"Dinah\\'s': 1, 'cat.': 1, 'mice,': 1, \"ca'n't\": 4, 'think!': 1, 'birds!': 1, 'speech': 1, 'sensation': 1, 'party.': 1, 'Some': 2, 'Magpie': 1, 'wrapping': 1, 'itself': 8, 'carefully,': 3, 'remarking': 3, 'home;': 1, 'night-air': 1, 'suit': 3, 'throat!\"': 1, 'Canary': 1, '\"Come': 6, 'away,': 3, 'dears!': 1, \"It's\": 6, 'bed!\"': 1, 'various': 1, 'pretexts': 1, 'moved': 4, 'alone.': 1, 'mentioned': 3, 'Dinah!\"': 1, 'tone.': 10, '\"Nobody': 2, 'world!': 1, 'Dinah!': 1, 'more!\"': 1, 'lonely': 2, 'low-spirited.': 1, 'footsteps': 1, 'mind,': 2, 'story.': 1, 'IV': 1, 'sends': 1, 'Little': 1, 'Bill': 2, 'IT': 1, 'Rabbit,': 8, 'went,': 2, 'lost': 1, 'something;': 1, 'paws!': 1, 'whiskers!': 1, \"She'll\": 1, 'executed,': 2, 'ferrets': 1, 'ferrets!': 1, 'Where': 3, 'guessed': 3, 'good-naturedly': 1, 'hunting': 3, 'nowhere': 2, 'seen--everything': 1, 'swim': 3, 'vanished': 3, 'completely.': 1, 'Very': 1, 'here?': 3, 'Run': 1, 'fan!': 1, 'Quick,': 1, 'now!\"': 3, 'direction': 2, 'pointed': 1, 'mistake': 2, 'made.': 1, '\"He': 5, 'housemaid,\"': 1, 'ran.': 1, \"he'll\": 1, 'finds': 1, 'am!': 1, \"I'd\": 7, 'better': 11, 'gloves--that': 1, 'them.\"': 2, 'neat': 1, 'brass': 1, 'plate': 2, '\"W.': 1, 'RABBIT\"': 1, 'engraved': 1, 'knocking,': 1, 'stairs,': 1, 'lest': 1, 'real': 3, 'gloves.': 1, '\"]': 1, 'seems,\"': 1, 'messages': 2, 'rabbit!': 1, 'suppose': 8, \"Dinah'll\": 1, 'next!\"': 1, 'fancying': 1, 'happen:': 1, '\"\\'Miss': 1, 'Come': 4, 'directly,': 1, \"walk!'\": 1, \"'Coming\": 1, 'minute,': 4, 'nurse!': 1, 'mouse-hole': 1, 'back,': 4, \"out.'\": 1, 'Only': 1, 'think,\"': 2, '\"that': 7, \"they'd\": 3, 'stop': 3, 'ordering': 2, 'tidy': 1, 'room': 8, 'window,': 5, 'hoped)': 1, 'pairs': 1, 'gloves:': 1, 'room,': 1, 'looking-glass.': 1, 'label': 1, 'ME,\"': 1, 'nevertheless': 1, 'uncorked': 1, 'lips.': 1, 'interesting': 3, 'happen,\"': 1, '\"whenever': 1, 'does.': 1, 'thing!\"': 6, 'indeed,': 1, 'expected:': 1, 'drunk': 2, 'bottle,': 2, 'pressing': 1, 'ceiling,': 1, 'stoop': 1, 'broken.': 1, 'enough--I': 1, 'more--As': 1, 'door--I': 1, 'Alas!': 1, 'that!': 2, 'kneel': 1, 'floor:': 1, 'minute': 15, 'effect': 1, 'elbow': 2, 'arm': 7, 'curled': 2, 'head.': 5, 'Still': 1, 'resource,': 1, 'chimney,': 2, '\"Now': 5, 'whatever': 2, 'happens.': 1, 'What': 6, 'become': 6, 'Luckily': 1, 'magic': 1, 'full': 6, 'effect,': 1, 'larger:': 1, 'uncomfortable,': 1, 'chance': 4, 'unhappy.': 1, 'pleasanter': 1, 'home,\"': 1, '\"when': 2, \"wasn't\": 11, 'ordered': 2, 'rabbits.': 1, 'gone': 8, 'rabbit-hole--and': 1, 'yet--and': 1, \"yet--it's\": 1, 'curious,': 1, 'life!': 1, 'fairy-tales,': 1, 'fancied': 2, 'middle': 3, 'one!': 1, 'me,': 3, 'ought!': 1, 'write': 5, 'one--but': 1, 'grown': 7, '\"at': 2, 'least': 7, '.\"': 6, 'then,\"': 6, '\"shall': 1, 'now?': 1, \"That'll\": 1, 'comfort,': 1, 'way--never': 1, 'woman--but': 1, 'then--always': 1, \"shouldn't\": 5, 'foolish': 1, 'Alice!\"': 1, 'answered': 3, 'learn': 4, 'lesson-books!\"': 1, 'taking': 5, 'conversation': 4, 'altogether;': 1, 'outside,': 1, 'stopped': 3, 'listen.': 2, '\"Mary': 1, 'Ann!': 1, 'Ann!\"': 1, '\"Fetch': 1, 'moment!\"': 1, 'stairs.': 1, 'trembled': 2, 'forgetting': 3, 'reason': 8, 'inwards,': 1, 'attempt': 2, 'proved': 2, 'failure.': 1, '\"Then': 11, 'window.\"': 1, 'won\\'t\"': 1, 'spread': 2, 'hand,': 5, 'snatch': 2, 'anything,': 1, 'shriek': 3, 'fall,': 1, 'crash': 1, 'broken': 5, 'concluded': 2, 'possible': 1, 'cucumber-frame,': 1, 'sort.': 1, 'Next': 2, 'voice--the': 1, 'Rabbit\\'s--\"Pat!': 1, 'Pat!': 1, 'you?\"': 6, '\"Sure': 1, 'Digging': 1, 'apples,': 2, 'yer': 4, 'honour!\"': 1, '\"Digging': 1, '\"Here!': 2, '(Sounds': 1, 'glass.)': 1, 'Pat,': 1, 'window?\"': 1, '\"Sure,': 3, 'arm,': 5, 'honour.\"': 1, '(He': 1, 'pronounced': 1, '\"arrum.\")': 1, '\"An': 1, 'goose!': 1, 'size?': 1, 'fills': 1, 'window!\"': 1, 'does,': 1, 'honour?': 1, 'that.\"': 3, 'business': 2, 'there,': 1, 'rate:': 1, 'away!\"': 2, 'whispers': 1, 'honour,': 1, 'all!\"': 1, 'coward!\"': 1, 'shrieks,': 1, 'sounds': 3, 'glass.': 1, 'cucumber-frames': 1, 'be!\"': 1, 'next!': 2, 'pulling': 1, '!': 1, 'longer!\"': 1, 'hearing': 3, 'more:': 1, 'rumbling': 1, 'cart-wheels,': 1, 'together:': 1, 'words:': 3, '\"Where\\'s': 1, 'ladder?--Why': 1, \"Bill's\": 4, 'other--Bill!': 1, 'Fetch': 1, 'lad!--Here,': 1, \"'em\": 3, 'corner--No,': 1, 'tie': 1, 'together': 2, 'first--they': 1, 'yet--Oh!': 1, 'enough;': 2, 'particular--Here,': 1, 'Bill!': 3, 'rope--Will': 1, 'bear?--Mind': 1, 'loose': 1, 'slate--Oh,': 1, 'Heads': 1, 'below!\"': 1, '(a': 1, 'loud': 3, 'crash)--\"Now,': 1, 'that?--It': 1, 'Bill,': 3, \"fancy--Who's\": 1, 'chimney?--Nay,': 1, \"sha'n't!\": 1, 'You': 9, 'it!--': 1, \"won't,\": 1, 'then!': 1, 'down--Here,': 1, 'master': 2, \"you've\": 6, 'chimney!\"': 1, 'he?\"': 1, 'place': 6, 'deal:': 1, 'fireplace': 1, 'narrow,': 1, 'sure;': 1, 'kick': 2, 'little!\"': 1, 'chimney': 2, 'animal': 1, 'guess': 2, 'was)': 1, 'scratching': 1, 'scrambling': 1, 'above': 3, '\"This': 2, 'Bill,\"': 2, 'sharp': 6, 'kick,': 1, 'Bill!\"': 1, 'alone--\"Catch': 1, 'him,': 4, 'hedge!\"': 1, 'silence,': 2, 'confusion': 3, 'voices--\"Hold': 1, 'head--Brandy': 1, \"now--Don't\": 1, 'choke': 1, 'him--How': 1, 'fellow?': 1, 'you?': 3, 'feeble,': 1, 'squeaking': 2, '(\"That\\'s': 1, 'know--No': 1, 'thank': 1, 'ye;': 1, 'now--but': 1, 'flustered': 1, 'you--all': 1, 'Jack-in-the-box,': 1, 'sky-rocket!\"': 1, '\"So': 4, 'did,': 3, 'fellow!\"': 1, 'others.': 2, 'down!\"': 1, 'dead': 5, 'instantly,': 2, 'If': 4, 'sense,': 2, 'off.\"': 1, 'barrowful': 2, 'with.\"': 1, 'doubt,': 2, 'shower': 2, 'pebbles': 2, 'rattling': 2, 'hit': 2, 'face.': 3, '\"I\\'ll': 5, 'this,\"': 1, 'shouted': 9, '\"You\\'d': 1, 'produced': 1, 'surprise': 1, 'cakes': 1, 'lay': 4, 'floor,': 2, 'cakes,\"': 1, 'suppose.\"': 1, 'swallowed': 1, 'cakes,': 1, 'delighted': 2, 'directly.': 1, 'crowd': 4, 'outside.': 1, 'Lizard,': 2, 'held': 4, 'guinea-pigs,': 2, 'giving': 2, 'bottle.': 1, 'rush': 2, 'appeared;': 1, 'safe': 2, 'thick': 1, 'wood.': 3, 'do,\"': 4, 'wandered': 2, 'wood,': 1, '\"is': 1, 'again;': 2, 'plan.\"': 1, 'excellent': 2, 'plan,': 1, 'arranged;': 1, 'difficulty': 3, 'smallest': 2, 'peering': 1, 'trees,': 2, 'bark': 2, 'enormous': 1, 'puppy': 5, 'feebly': 1, 'stretching': 1, 'paw,': 2, 'touch': 1, '\"Poor': 1, 'coaxing': 1, 'whistle': 1, 'terribly': 1, 'hungry,': 1, 'spite': 1, 'coaxing.': 1, 'Hardly': 1, 'picked': 3, 'stick,': 4, 'puppy;': 1, 'whereupon': 1, 'air': 2, 'yelp': 1, 'delight,': 2, 'rushed': 1, 'worry': 1, 'dodged': 1, 'thistle,': 1, 'keep': 8, 'run': 3, 'over;': 1, 'appeared': 3, 'tumbled': 1, 'heels': 1, 'cart-horse,': 1, 'trampled': 1, 'thistle': 1, 'series': 1, 'charges': 1, 'forwards': 1, 'each': 7, 'barking': 1, 'hoarsely': 1, 'tongue': 1, 'mouth,': 2, 'shut.': 1, 'escape;': 1, 'breath,': 3, \"puppy's\": 1, 'faint': 1, 'distance.': 2, 'was!\"': 1, 'leant': 1, 'buttercup': 1, 'fanned': 1, 'leaves.': 2, 'liked': 3, 'teaching': 1, 'tricks': 1, 'much,': 2, 'if--if': 1, 'it!': 1, 'again!': 1, 'see--how': 1, 'managed?': 1, 'other;': 2, 'what?\"': 1, 'what?': 1, 'blades': 1, 'grass,': 2, 'circumstances.': 1, 'mushroom': 4, 'height': 4, 'herself;': 3, 'stretched': 2, 'tiptoe,': 2, 'edge': 3, 'mushroom,': 3, 'immediately': 3, 'blue': 1, 'caterpillar,': 1, 'folded,': 2, 'quietly': 4, 'smoking': 2, 'hookah,': 1, 'else.': 2, 'V': 1, 'silence:': 1, 'hookah': 4, 'addressed': 2, 'languid,': 1, '\"Who': 6, 'Caterpillar.': 12, 'encouraging': 2, 'replied,': 5, 'shyly,': 1, 'present--at': 1, 'morning,': 2, 'then.\"': 2, 'sternly.': 1, '\"Explain': 2, 'yourself!\"': 1, 'sir,\"': 2, '\"because': 3, 'myself,': 1, 'see.\"': 1, 'see,\"': 1, 'clearly,\"': 1, 'politely,': 3, 'with;': 1, 'different': 4, 'sizes': 1, 'confusing.\"': 1, 'isn\\'t,\"': 1, \"haven't\": 7, 'yet,\"': 4, 'turn': 6, 'chrysalis--you': 1, 'know--and': 1, 'butterfly,': 1, 'queer,': 1, 'bit,\"': 2, 'feelings': 1, 'different,\"': 1, '\"all': 1, '\"You!\"': 1, 'contemptuously.': 2, 'brought': 3, 'irritated': 1, \"Caterpillar's\": 1, 'remarks,': 1, 'gravely,': 2, 'are,': 2, 'first.\"': 1, '\"Why?\"': 2, 'question;': 1, 'reason,': 1, 'state': 1, '\"I\\'ve': 13, 'say!\"': 1, 'promising,': 1, 'certainly:': 2, '\"Keep': 1, 'temper,\"': 1, '\"Is': 3, 'all?\"': 2, 'swallowing': 1, 'anger': 1, '\"No,\"': 2, 'wait,': 1, 'hearing.': 1, 'puffed': 1, 'unfolded': 2, 'arms,': 1, 'mouth': 7, 'changed,': 1, 'am,': 1, 'used--and': 1, 'together!\"': 1, '\"Can\\'t': 1, 'things?\"': 1, 'busy': 2, 'bee': 1, \",'\": 2, 'different!\"': 2, '\"Repeat': 1, 'old,': 3, 'Father': 4, ',\\'\"': 3, 'folded': 1, 'began:--': 1, 'William,\"': 1, 'man': 1, 'white;': 1, 'incessantly': 1, 'stand': 4, 'head--': 1, 'think,': 1, 'right?\"': 1, 'youth,\"': 3, 'son,': 1, 'feared': 1, 'injure': 1, 'brain;': 1, 'But,': 2, 'perfectly': 4, 'none,': 1, 'old,\"': 3, 'youth,': 3, '\"as': 4, 'most': 8, 'uncommonly': 1, 'fat;': 1, 'back-somersault': 1, 'door--': 1, 'Pray,': 2, 'sage,': 1, 'grey': 1, 'locks,': 1, 'limbs': 1, 'supple': 1, 'ointment--one': 1, 'shilling': 1, 'box--': 1, 'Allow': 1, 'sell': 1, 'couple?\"': 1, 'jaws': 1, 'tougher': 1, 'suet;': 1, 'goose,': 1, 'bones': 1, 'beak--': 1, 'it?\"': 11, 'father,': 1, 'law': 1, 'argued': 1, 'wife;': 1, 'muscular': 1, 'strength,': 1, 'jaw,': 1, 'lasted': 1, 'life.\"': 2, '\"one': 1, 'steady': 1, 'ever;': 1, 'balanced': 1, 'eel': 1, 'nose--': 1, 'awfully': 1, 'clever?\"': 1, 'questions,': 1, 'enough,\"': 1, 'father;': 1, 'airs!': 1, 'stuff?': 1, 'Be': 1, 'stairs!\"': 1, 'right,\"': 3, 'right,': 3, 'afraid,\"': 1, 'timidly;': 1, '\"some': 1, 'altered.\"': 1, 'wrong': 2, 'end,\"': 1, 'Caterpillar,': 3, 'decidedly,': 3, 'minutes.': 2, 'speak.': 1, 'be?\"': 2, 'particular': 1, 'size,\"': 1, 'replied;': 4, '\"only': 2, 'changing': 2, 'often,': 2, 'know.\"': 9, 'nothing:': 1, 'contradicted': 1, 'losing': 1, 'temper.': 1, 'content': 1, 'now?\"': 2, 'mind,\"': 1, 'Alice:': 7, '\"three': 1, 'wretched': 2, 'be.\"': 1, 'angrily,': 3, 'rearing': 1, 'upright': 1, 'spoke': 4, 'high).': 1, 'piteous': 1, 'creatures': 6, 'offended!\"': 1, '\"You\\'ll': 2, 'time,\"': 5, 'Caterpillar;': 1, 'patiently': 1, 'chose': 1, 'yawned': 2, 'twice,': 3, 'itself.': 1, 'crawled': 1, 'merely': 2, '\"One': 2, 'taller,': 1, 'shorter.\"': 1, '?': 1, 'mushroom,\"': 1, 'asked': 9, 'aloud;': 1, 'sight.': 1, 'thoughtfully': 1, 'difficult': 2, 'question.': 3, 'broke': 2, 'hand.': 1, 'which?\"': 1, 'nibbled': 2, 'right-hand': 2, 'effect:': 1, 'violent': 2, 'blow': 2, 'underneath': 1, 'chin:': 1, 'foot!': 1, 'lost,': 1, 'rapidly;': 1, 'work': 7, 'bit.': 2, 'closely': 1, 'mouth;': 1, 'swallow': 1, 'morsel': 1, 'left-hand': 2, \"head's\": 1, 'free': 2, 'last!\"': 1, 'shoulders': 2, 'found:': 1, 'immense': 1, 'length': 1, 'neck,': 1, 'rise': 1, 'stalk': 1, 'sea': 2, 'green': 3, 'leaves': 2, 'below': 1, 'stuff': 1, 'to?': 1, 'spoke,': 5, 'result': 1, 'follow,': 1, 'except': 3, 'shaking': 3, 'distant': 2, 'head,': 4, 'bend': 1, 'direction,': 1, 'serpent.': 1, 'succeeded': 3, 'curving': 1, 'graceful': 1, 'zigzag,': 1, 'dive': 1, 'tops': 1, 'trees': 5, 'wandering,': 1, 'hiss': 1, 'draw': 4, 'hurry:': 2, 'pigeon': 1, 'flown': 1, 'face,': 3, 'beating': 1, 'wings.': 1, '\"Serpent!\"': 1, 'screamed': 4, 'Pigeon.': 2, 'serpent!\"': 1, 'indignantly.': 3, 'alone!\"': 1, '\"Serpent,': 1, 'repeated': 8, 'Pigeon,': 2, 'subdued': 1, 'sob,': 1, 'about,\"': 1, 'roots': 1, 'banks,': 1, 'hedges,\"': 1, 'Pigeon': 5, 'attending': 2, 'her;': 3, 'serpents!': 1, \"There's\": 1, 'pleasing': 1, 'puzzled,': 1, 'finished.': 1, 'hatching': 1, 'eggs,\"': 1, 'Pigeon;': 2, 'look-out': 1, 'serpents': 2, 'night': 1, 'day!': 1, 'sleep': 4, 'weeks!\"': 1, 'sorry': 1, 'annoyed,\"': 1, 'meaning.': 1, 'taken': 4, 'highest': 1, 'tree': 3, 'wood,\"': 1, 'continued': 5, 'raising': 1, 'shriek,': 2, 'needs': 1, 'wriggling': 1, 'sky!': 1, 'Ugh,': 1, 'Serpent!\"': 1, 'serpent,': 2, 'a----': 1, '----\"': 2, '\"Well!': 2, 'invent': 1, 'something!\"': 1, '\"I--I\\'m': 1, 'girl,\"': 1, 'doubtfully,': 1, 'changes': 2, 'day.': 3, 'deepest': 1, 'contempt.': 1, 'girls': 3, 'no!': 2, \"You're\": 2, 'serpent;': 1, 'denying': 1, 'telling': 2, 'tasted': 2, 'egg!\"': 1, 'eggs,': 3, 'truthful': 1, 'child;': 1, 'eggs': 1, \"they're\": 9, 'say.\"': 2, 'silent': 3, 'adding,': 1, 'does': 4, 'serpent?\"': 1, 'matters': 2, 'hastily;': 1, 'happens;': 1, 'yours': 2, ':': 2, 'raw.\"': 1, 'then!\"': 2, 'sulky': 2, 'settled': 3, 'nest.': 1, 'crouched': 1, 'entangled': 2, 'branches,': 1, 'untwist': 1, 'pieces': 2, 'nibbling': 3, 'taller': 1, 'shorter,': 1, 'bringing': 3, 'usual': 1, 'height.': 1, 'size,': 1, 'strange': 4, 'first;': 2, 'minutes,': 2, 'plan': 1, 'now!': 1, 'are!': 1, 'be,': 2, 'another!': 1, 'size:': 2, 'beautiful': 8, 'garden--how': 1, 'place,': 2, '\"Whoever': 1, 'lives': 1, 'there,\"': 2, '\"it\\'ll': 1, 'why,': 2, 'frighten': 1, 'wits!\"': 1, 'VI': 1, 'Pig': 1, 'Pepper': 1, 'FOR': 1, 'next,': 2, 'footman': 3, 'livery': 1, 'wood--(she': 1, 'considered': 3, 'livery:': 1, 'otherwise,': 1, 'judging': 1, 'only,': 1, 'fish)--and': 1, 'rapped': 1, 'loudly': 2, 'knuckles.': 1, 'livery,': 1, 'frog;': 1, 'footmen,': 1, 'noticed,': 1, 'powdered': 1, 'heads.': 1, 'crept': 1, 'wood': 2, 'Fish-Footman': 2, 'producing': 1, 'letter,': 2, 'himself,': 1, '\"For': 1, 'Duchess.': 3, 'invitation': 2, 'croquet.\"': 2, 'Frog-Footman': 1, 'repeated,': 1, 'order': 2, 'little,': 3, '\"From': 1, 'Queen.': 10, 'Duchess': 15, 'bowed': 3, 'curls': 1, 'together.': 2, 'laughed': 1, 'gone,': 4, 'ground': 2, 'staring': 3, 'stupidly': 1, 'sky.': 2, 'timidly': 2, 'knocked.': 1, '\"There\\'s': 7, 'knocking,\"': 2, 'Footman,': 2, 'reasons.': 1, 'are;': 1, 'secondly,': 2, 'inside,': 1, 'you.\"': 1, 'extraordinary': 2, 'within--a': 1, 'constant': 2, 'howling': 3, 'sneezing,': 1, 'crash,': 1, 'dish': 3, 'kettle': 1, 'pieces.': 1, '\"Please,': 1, '\"how': 1, 'in?\"': 3, 'sense': 1, 'Footman': 4, '\"if': 7, 'between': 5, 'us.': 1, 'instance,': 3, 'inside': 1, 'knock,': 1, 'sky': 1, 'decidedly': 1, 'uncivil.': 1, 'herself:': 1, '\"his': 1, 'questions.': 1, 'remarked,': 1, '\"till': 2, 'to-morrow----\"': 1, 'opened,': 1, 'skimming': 1, \"Footman's\": 1, 'head:': 1, 'grazed': 1, 'nose,': 3, 'him.': 2, '\"----or': 1, 'maybe,\"': 1, 'happened.': 1, 'louder': 1, 'Are': 1, 'Footman.': 1, 'doubt:': 1, 'told': 6, 'so.': 3, '\"It\\'s': 17, 'dreadful,\"': 1, 'muttered': 2, 'argue.': 1, 'drive': 1, 'crazy!\"': 1, 'consider': 2, 'repeating': 3, 'remark,': 3, 'variations.': 1, '\"on': 1, 'days': 2, 'days.\"': 1, 'do?\"': 1, '\"Anything': 1, 'like,\"': 3, 'whistling.': 1, 'him,\"': 2, 'desperately:': 1, '\"he\\'s': 1, 'idiotic!\"': 1, 'in.': 1, 'kitchen,': 1, 'smoke': 1, 'stool': 1, 'nursing': 3, 'baby,': 3, 'cook': 8, 'leaning': 2, 'stirring': 2, 'cauldron': 2, 'soup.': 1, 'pepper': 5, 'soup!\"': 1, 'sneezing.': 1, 'Even': 1, 'sneezed': 1, 'occasionally;': 1, 'baby': 7, 'sneezing': 4, 'alternately': 1, \"moment's\": 2, 'pause.': 1, 'kitchen': 2, 'sneeze,': 1, 'cook,': 2, 'hearth': 1, 'grinning': 1, 'ear': 2, 'ear.': 3, 'timidly,': 4, 'manners': 1, '\"why': 2, 'grins': 1, 'Cheshire': 6, 'cat,\"': 1, 'why.': 1, 'Pig!\"': 1, 'word': 7, 'violence': 1, 'jumped;': 1, 'courage,': 1, 'grinned;': 1, 'grin.\"': 1, 'can,\"': 1, 'Duchess;': 4, 'do.\"': 2, 'pleased': 5, 'much,\"': 5, 'fact.\"': 1, 'introduce': 2, 'fix': 1, 'soup': 1, 'throwing': 2, 'within': 1, 'baby--the': 1, 'fire-irons': 1, 'saucepans,': 1, 'plates,': 1, 'dishes.': 1, 'already,': 1, 'impossible': 2, 'blows': 1, 'not.': 2, 'doing!\"': 1, 'jumping': 4, 'agony': 1, 'terror.': 1, 'precious': 1, 'nose\";': 1, 'everybody': 5, 'minded': 1, 'business,\"': 1, 'growl,': 2, 'faster': 1, 'does.\"': 1, 'advantage,\"': 1, 'knowledge.': 1, '\"Just': 2, 'night!': 1, 'earth': 1, 'takes': 2, 'twenty-four': 1, 'hours': 3, 'axis----\"': 1, '\"Talking': 1, 'axes,\"': 1, '\"chop': 1, 'head.\"': 1, 'glanced': 1, 'meant': 4, 'hint;': 1, 'busily': 4, 'engaged': 2, 'soup,': 1, '\"Twenty-four': 1, 'hours,': 1, ';': 1, 'twelve?': 1, 'I----\"': 1, 'bother': 1, 'abide': 1, 'figures!\"': 1, 'singing': 2, 'lullaby': 1, 'shake': 1, 'line:': 1, 'roughly': 1, 'boy,': 2, 'beat': 4, 'sneezes:': 1, 'annoy,': 1, 'Because': 1, 'teases.\"': 1, 'CHORUS': 1, '(In': 1, 'joined):': 1, '\"Wow!': 2, 'wow!': 2, 'wow!\"': 2, 'sang': 2, 'verse': 1, 'song,': 4, 'tossing': 3, 'howled': 1, 'sneezes;': 1, 'thoroughly': 2, 'enjoy': 1, 'pleases!\"': 1, 'CHORUS.': 1, 'nurse': 1, 'like!\"': 1, 'flinging': 1, 'Queen,\"': 1, 'room.': 1, 'threw': 2, 'frying-pan': 1, 'missed': 2, 'caught': 3, 'difficulty,': 1, 'queer-shaped': 1, 'creature,': 2, 'directions,': 2, '\"just': 1, 'star-fish,\"': 1, 'snorting': 1, 'steam-engine': 1, 'doubling': 1, 'straightening': 1, 'proper': 3, '(which': 1, 'twist': 2, 'knot,': 1, 'tight': 1, 'foot,': 1, 'prevent': 1, 'undoing': 1, 'itself,)': 1, '\"they\\'re': 1, 'kill': 1, 'two:': 1, 'murder': 1, 'behind?\"': 1, 'loud,': 2, 'reply': 1, 'time).': 2, '\"Don\\'t': 4, 'grunt,\"': 1, '\"that\\'s': 1, 'expressing': 1, 'yourself.\"': 2, 'doubt': 1, 'turn-up': 1, 'snout': 1, 'nose;': 1, 'also': 1, 'extremely': 1, 'baby:': 1, 'altogether': 1, 'all.': 4, 'sobbing,\"': 1, 'tears.': 2, 'pig,': 4, 'dear,\"': 1, 'seriously,': 1, 'you.': 1, 'Mind': 1, 'sobbed': 1, '(or': 1, 'grunted,': 1, 'which),': 1, 'creature': 2, 'home?\"': 1, 'alarm.': 1, 'neither': 2, 'less': 4, 'absurd': 1, 'carry': 1, 'further.': 1, 'relieved': 1, 'trot': 1, 'up,\"': 2, 'dreadfully': 6, 'ugly': 1, 'child:': 1, 'handsome': 1, 'think.\"': 1, 'knew,': 1, 'pigs,': 1, 'them----\"': 1, 'startled': 2, 'seeing': 1, 'Cat': 9, 'bough': 1, 'yards': 1, 'grinned': 2, 'good-natured,': 1, 'thought:': 1, 'claws': 1, 'teeth,': 1, 'treated': 1, 'respect.': 1, '\"Cheshire': 1, 'Puss,\"': 1, 'name:': 1, 'wider.': 1, 'far,\"': 2, 'depends': 1, 'to,\"': 1, 'Cat.': 5, 'where----\"': 1, 'go,\"': 2, '\"----': 1, 'explanation.': 1, 'that,\"': 9, 'Cat,': 6, 'enough.\"': 1, 'denied,': 1, 'direction,\"': 2, 'waving': 5, 'paw': 1, '\"lives': 2, 'Hatter:': 5, 'March': 31, 'Hare.': 11, 'Visit': 1, 'like:': 1, 'mad.\"': 3, 'mad': 5, 'people,\"': 1, 'remarked.': 5, 'Cat:': 2, '\"we\\'re': 1, 'here.': 2, 'mad.': 2, 'mad?\"': 2, 'be,\"': 3, 'here.\"': 2, '\"To': 1, 'with,\"': 2, \"dog's\": 1, 'grant': 1, 'so,\"': 6, 'growls': 1, 'angry,': 1, 'wags': 1, 'tail': 3, 'pleased.': 1, 'Now': 2, 'growl': 1, 'pleased,': 1, 'wag': 1, 'angry.': 1, 'Therefore': 1, 'purring,': 1, 'growling,\"': 1, '\"Call': 4, 'to-day?\"': 1, 'invited': 1, 'yet.\"': 2, 'vanished.': 1, 'happening.': 1, 'been,': 1, '\"By-the-bye,': 1, 'became': 2, 'baby?\"': 1, '\"I\\'d': 4, 'ask.\"': 1, 'pig,\"': 2, 'would,\"': 1, 'appear,': 1, 'Hare': 16, 'live.': 1, 'hatters': 1, 'interesting,': 1, 'May,': 1, 'raving': 2, 'mad--at': 1, 'March.\"': 1, 'branch': 1, 'tree.': 1, 'fig?\"': 1, 'appearing': 1, 'vanishing': 1, 'suddenly:': 2, 'giddy.\"': 2, '\"All': 2, 'Cat;': 1, 'ending': 1, 'gone.': 1, 'often': 3, 'grin,\"': 1, 'grin': 1, 'cat!': 1, 'farther': 1, 'sight': 2, 'Hare:': 1, 'chimneys': 1, 'shaped': 2, 'thatched': 1, 'fur.': 1, 'raised': 2, 'towards': 1, '\"Suppose': 2, 'all!': 1, 'Hatter': 24, 'instead!\"': 1, 'VII': 1, 'Tea-party': 1, 'THERE': 1, 'front': 2, 'tea': 4, 'Dormouse': 23, 'fast': 4, 'asleep,': 2, 'using': 2, 'cushion': 1, 'resting': 2, 'elbows': 1, '\"Very': 3, 'uncomfortable': 1, 'Dormouse,\"': 2, 'mind.\"': 1, 'corner': 1, '\"No': 1, 'room!': 1, 'No': 2, 'room!\"': 2, 'indignantly,': 1, 'arm-chair': 1, 'table.': 3, '\"Have': 3, 'wine,\"': 2, 'tea.': 1, \"isn't\": 6, 'any,\"': 1, 'civil': 2, 'invited,\"': 1, 'table,\"': 1, 'laid': 2, 'three.\"': 1, '\"Your': 2, 'wants': 2, 'cutting,\"': 1, 'Hatter.': 13, 'speech.': 1, 'personal': 2, 'remarks,\"': 1, 'severity;': 1, 'rude.\"': 1, 'wide': 1, 'this;': 1, '\"Why': 6, 'raven': 1, 'writing-desk?\"': 1, 'fun': 1, \"they've\": 1, 'riddles.--I': 1, '\"Exactly': 2, 'mean,\"': 2, 'least--at': 1, \"say--that's\": 1, 'bit!\"': 1, \"'I\": 6, \"eat'\": 1, 'see\\'!\"': 1, 'Hare,': 2, \"get'\": 1, 'like\\'!\"': 1, 'Dormouse,': 6, 'sleep,': 1, 'breathe': 1, \"sleep'\": 1, 'breathe\\'!\"': 1, 'you,\"': 4, 'Hatter;': 3, 'dropped,': 1, 'ravens': 1, 'writing-desks,': 1, 'much.': 1, 'Tea': 1, 'Party': 1, 'break': 1, 'month': 1, 'uneasily,': 1, 'fourth.\"': 1, '\"Two': 2, 'wrong!\"': 1, 'butter': 1, 'works!\"': 1, 'added,': 5, 'butter,\"': 1, 'meekly': 1, 'replied.': 4, 'crumbs': 1, 'well,\"': 2, 'grumbled:': 1, 'bread-knife.\"': 1, 'gloomily:': 1, 'cup': 1, 'tea,': 1, 'butter,': 1, 'shoulder': 3, 'curiosity.': 3, 'watch!\"': 1, 'tells': 2, 'month,': 1, \"o'clock\": 3, '\"Does': 2, 'year': 2, 'is?\"': 1, 'readily:': 1, 'stays': 1, 'together.\"': 1, 'puzzled.': 2, \"Hatter's\": 1, 'remark': 3, 'English.': 1, 'understand,\"': 1, 'politely': 1, 'asleep': 4, 'again,\"': 1, 'Hatter,': 9, 'poured': 1, 'nose.': 1, 'impatiently,': 1, 'course;': 1, 'myself.\"': 1, 'riddle': 1, 'yet?\"': 2, 'replied:': 3, '\"what\\'s': 1, 'answer?\"': 1, 'slightest': 1, 'idea,\"': 1, '\"Nor': 1, 'I,\"': 1, 'wearily.': 1, '\"than': 1, 'wasting': 2, 'riddles': 1, 'answers.\"': 1, 'Time': 1, '.': 3, 'don\\'t!\"': 1, 'Time!\"': 1, 'cautiously': 2, 'music.\"': 2, '\"Ah!': 2, 'accounts': 1, 'beating.': 1, 'Now,': 1, 'terms': 1, \"he'd\": 1, 'clock.': 1, 'lessons:': 1, 'whisper': 1, 'hint': 1, 'Time,': 1, 'clock': 1, 'twinkling!': 1, 'Half-past': 1, 'dinner!\"': 1, '(\"I': 2, 'was,\"': 3, 'whisper.)': 1, 'grand,': 1, 'thoughtfully:': 1, 'then--I': 1, 'hungry': 2, 'perhaps,\"': 1, 'half-past': 1, 'liked.\"': 1, 'manage?\"': 1, 'mournfully.': 1, 'quarrelled': 1, 'March----just': 1, 'mad,': 1, 'know----\"': 4, '(pointing': 1, 'teaspoon': 1, 'Hare),': 1, 'concert': 1, 'given': 1, 'Hearts,': 5, 'sing': 3, \"'Twinkle,\": 1, 'twinkle,': 3, 'bat!': 1, \"at!'\": 1, 'perhaps?\"': 1, 'way:--': 1, \"'Up\": 1, 'fly,': 1, 'tea-tray': 1, 'Twinkle,': 2, 'twinkle----\\'\"': 1, 'twinkle': 1, 'pinch': 1, 'stop.': 1, 'verse,\"': 2, 'bawled': 1, \"'He's\": 1, 'murdering': 1, 'time!': 2, 'Off': 2, 'head!\\'\"': 1, 'savage!\"': 1, 'exclaimed': 4, 'mournful': 1, '\"he': 2, 'ask!': 1, 'now.\"': 4, 'tea-things': 1, 'sigh:': 2, 'tea-time,': 1, \"we've\": 2, 'wash': 2, 'whiles.\"': 1, 'suppose?\"': 2, 'up.\"': 2, 'again?\"': 2, 'ask.': 1, 'subject,\"': 1, 'interrupted,': 2, 'yawning.': 1, 'this.': 1, 'vote': 1, 'lady': 2, 'story.\"': 1, 'one,\"': 3, 'alarmed': 1, 'proposal.': 1, 'shall!\"': 1, '\"Wake': 2, 'Dormouse!\"': 1, 'pinched': 2, 'once.': 2, 'eyes.': 3, 'asleep,\"': 1, 'hoarse,': 1, 'feeble': 1, 'voice:': 2, 'fellows': 1, 'saying.\"': 1, '\"Tell': 2, 'quick': 1, 'done.\"': 1, '\"Once': 1, 'sisters,\"': 1, 'hurry;': 1, 'names': 1, 'Elsie,': 1, 'Lacie,': 1, 'Tillie;': 1, 'lived': 3, 'bottom': 4, 'well----\"': 1, 'on?\"': 2, 'interest': 1, 'questions': 2, 'eating': 1, 'drinking.': 1, 'treacle,\"': 1, 'two.': 1, 'remarked;': 1, '\"they\\'d': 1, 'ill.\"': 2, 'were,\"': 2, 'Dormouse;': 3, 'living': 1, 'like,': 2, 'puzzled': 5, 'on:': 2, 'well?\"': 2, '\"Take': 2, 'tea,\"': 3, 'earnestly.': 1, '\"so': 3, 'more.\"': 1, 'nothing.\"': 1, 'opinion,\"': 1, '\"Who\\'s': 1, 'remarks': 1, 'triumphantly.': 1, 'helped': 1, 'bread-and-butter,': 2, 'treacle-well.\"': 1, '\"Sh!': 1, 'sh!\"': 1, 'sulkily': 2, 'remarked:': 2, 'civil,': 1, 'on!\"': 6, 'humbly.': 1, 'interrupt': 1, 'consented': 1, 'sisters--they': 1, 'learning': 2, 'draw,': 1, 'draw?\"': 1, 'promise.': 1, '\"Treacle,\"': 2, 'time.': 2, 'clean': 1, 'cup,\"': 1, 'interrupted': 5, '\"let\\'s': 1, 'on.\"': 2, \"Dormouse's\": 1, 'unwillingly': 1, 'advantage': 2, 'change:': 1, 'upset': 2, 'milk-jug': 1, 'plate.': 1, 'offend': 1, 'cautiously:': 1, 'understand.': 1, 'treacle': 2, 'from?\"': 1, 'water-well,\"': 1, 'treacle-well--eh,': 1, 'stupid!\"': 1, 'choosing': 1, 'remark.': 4, '\"----well': 1, 'in.\"': 1, 'interrupting': 2, 'draw,\"': 1, 'yawning': 1, 'rubbing': 2, 'sleepy;': 1, 'manner': 1, 'things--everything': 1, 'begins': 4, 'M----\"': 1, 'M?\"': 1, 'not?\"': 1, 'silent.': 2, 'closed': 2, 'dose;': 1, 'woke': 1, '\"----that': 1, 'M,': 1, 'mouse-traps,': 1, 'moon,': 1, 'memory,': 1, 'muchness--you': 1, \"'much\": 1, \"muchness'--did\": 1, 'drawing': 1, 'muchness?\"': 1, '\"Really,': 2, 'confused,': 1, 'think----\"': 1, 'talk,\"': 1, 'piece': 5, 'rudeness': 1, 'bear:': 1, 'disgust': 1, 'off;': 1, 'going,': 1, 'teapot.': 1, '\"At': 1, 'stupidest': 1, 'tea-party': 1, 'life!\"': 1, 'leading': 1, 'curious!\"': 1, \"everything's\": 1, 'to-day.': 1, 'once.\"': 2, 'Once': 1, 'unlocking': 1, 'pocket)': 1, 'passage:': 1, '--she': 1, 'flower-beds': 1, 'fountains.': 1, 'VIII': 1, \"Queen's\": 7, 'Croquet-Ground': 1, 'LARGE': 1, 'rose-tree': 1, 'entrance': 1, 'garden:': 1, 'roses': 1, 'white,': 1, 'gardeners': 4, 'painting': 2, 'red.': 1, '\"Look': 1, 'Five!': 2, 'paint': 1, 'Five,': 2, '\"Seven': 1, 'jogged': 1, 'elbow.\"': 1, 'Seven': 3, 'Always': 1, 'blame': 1, 'others!\"': 1, \"You'd\": 1, 'talk!\"': 1, 'Five.': 2, 'deserved': 1, 'beheaded!\"': 2, 'for?\"': 2, 'spoken.': 1, 'none': 3, 'business,': 1, 'Two!\"': 1, 'Seven.': 1, 'business!\"': 2, 'him--it': 1, 'tulip-roots': 1, 'instead': 2, 'onions.\"': 1, 'flung': 1, 'brush,': 1, 'unjust': 1, 'things----\"': 1, 'chanced': 1, 'watching': 3, 'checked': 3, 'also,': 1, 'low.': 1, 'roses?\"': 1, 'Five': 1, 'nothing,': 2, 'Two.': 1, 'Two': 1, 'Miss,': 2, 'red': 1, 'rose-tree,': 2, 'mistake;': 1, \"we're\": 1, 'best,': 2, 'afore': 1, 'comes,': 1, 'to----\"': 1, 'Queen!': 1, 'Queen!\"': 1, 'instantly': 3, 'themselves': 2, 'flat': 1, 'faces.': 1, 'footsteps,': 1, 'eager': 3, 'soldiers': 8, 'carrying': 2, 'clubs;': 1, 'gardeners,': 4, 'oblong': 1, 'flat,': 1, 'corners:': 1, 'courtiers;': 1, 'ornamented': 2, 'diamonds,': 1, 'did.': 1, 'royal': 2, 'children;': 1, 'dears': 1, 'merrily': 1, 'couples;': 1, 'hearts.': 1, 'guests,': 1, 'mostly': 1, 'Kings': 1, 'Queens,': 1, 'recognised': 1, 'Rabbit:': 1, 'hurried,': 1, 'manner,': 1, 'noticing': 1, 'Knave': 7, \"King's\": 2, 'crown': 2, 'crimson': 2, 'velvet': 1, 'cushion;': 1, 'procession,': 2, 'KING': 1, 'QUEEN': 1, 'HEARTS.': 1, 'doubtful': 2, 'lie': 2, 'rule': 2, 'processions;': 1, 'besides,': 1, 'procession,\"': 1, 'faces,': 2, 'waited.': 2, 'procession': 2, 'opposite': 1, 'severely,': 1, 'this?\"': 1, 'smiled': 2, '\"Idiot!\"': 1, 'Queen,': 17, 'impatiently;': 1, '\"What\\'s': 2, 'name,': 1, 'child?\"': 1, '\"My': 2, 'Majesty,\"': 7, 'politely;': 1, 'cards,': 1, \"needn't\": 3, 'rose-tree;': 1, 'pattern': 1, 'backs': 1, 'pack,': 1, 'soldiers,': 2, 'courtiers,': 1, 'children.': 1, 'know?\"': 2, 'courage.': 1, 'fury,': 1, 'glaring': 1, 'beast,': 1, 'head!': 1, 'Off----\"': 1, '\"Nonsense!\"': 1, 'King': 27, '\"Consider': 3, 'dear:': 1, 'child!\"': 2, 'foot.': 1, '\"Get': 2, 'up!\"': 1, 'bowing': 1, 'King,': 14, 'children,': 2, '\"Leave': 1, '\"May': 1, 'Two,': 1, 'humble': 1, 'knee': 1, '\"we': 3, 'trying----\"': 1, 'see!\"': 1, 'meanwhile': 1, 'examining': 1, 'roses.': 1, 'heads!\"': 1, 'remaining': 1, 'execute': 1, 'unfortunate': 3, 'protection.': 1, \"shan't\": 1, 'flower-pot': 1, 'near.': 1, 'marched': 1, 'off?\"': 1, '\"Their': 1, 'Majesty!\"': 2, 'right!\"': 1, '\"Can': 1, 'croquet?\"': 1, 'silent,': 2, 'evidently': 1, '\"Yes!\"': 1, 'roared': 1, '\"It\\'s--it\\'s': 1, 'fine': 2, 'day!\"': 1, 'side.': 2, 'peeping': 1, '\"Very,\"': 1, '\"----where\\'s': 1, 'Duchess?\"': 1, '\"Hush!': 1, 'Hush!\"': 1, 'ear,': 1, 'whispered': 4, '\"She\\'s': 2, 'execution.\"': 1, \"'What\": 2, 'pity!\\'?\"': 1, 'didn\\'t,\"': 1, 'pity.': 1, 'for?\\'\"': 1, '\"She': 2, 'boxed': 1, 'ears--\"': 1, 'began.': 3, 'scream': 1, 'laughter.': 1, 'hush!\"': 1, 'late,': 1, 'said----\"': 3, 'places!\"': 1, 'thunder,': 1, 'croquet-ground': 1, 'life;': 1, 'ridges': 1, 'furrows;': 1, 'balls': 1, 'hedgehogs,': 1, 'mallets': 1, 'flamingoes,': 1, 'double': 1, 'arches.': 1, 'chief': 1, 'managing': 1, 'flamingo;': 1, 'body': 2, 'tucked': 3, 'comfortably': 1, 'generally,': 2, 'straightened': 1, 'hedgehog': 5, 'expression': 1, 'bursting': 1, 'laughing:': 1, 'provoking': 1, 'unrolled': 2, 'act': 1, 'crawling': 1, 'away:': 1, 'besides': 1, 'ridge': 1, 'furrow': 1, 'send': 1, 'doubled-up': 1, 'parts': 1, 'ground,': 1, 'conclusion': 1, 'indeed.': 1, 'players': 2, 'played': 1, 'turns,': 2, 'fighting': 1, 'hedgehogs;': 1, 'furious': 1, 'stamping': 2, 'uneasy:': 1, 'dispute': 2, '\"what': 2, 'me?': 1, \"They're\": 1, 'beheading': 1, 'here:': 1, 'alive!\"': 1, 'escape,': 1, 'seen,': 1, 'appearance': 1, 'air:': 1, 'to.\"': 1, 'with.': 1, 'appeared,': 3, 'nodded.': 1, 'come,': 2, 'flamingo,': 1, 'account': 1, 'game,': 2, 'appeared.': 1, 'fairly,\"': 1, 'complaining': 1, 'quarrel': 1, 'oneself': 1, 'speak--and': 1, 'particular;': 1, 'least,': 1, 'attends': 1, 'confusing': 2, 'alive;': 1, 'arch': 1, 'ground--and': 1, 'croqueted': 1, 'coming!\"': 1, 'Queen?\"': 1, 'all,\"': 3, '\"she\\'s': 1, 'extremely----\"': 1, 'listening:': 1, '\"----likely': 1, 'win,': 1, 'finishing': 1, 'game.\"': 1, 'passed': 4, \"Cat's\": 2, 'friend': 2, 'mine--a': 1, 'Cat,\"': 1, '\"allow': 1, 'King:': 2, '\"however,': 1, 'kiss': 1, 'likes.\"': 1, 'impertinent,\"': 1, 'king,\"': 1, 'book,': 2, 'where.\"': 1, 'removed,\"': 1, 'passing': 1, 'removed!\"': 1, 'settling': 1, 'difficulties,': 1, 'small.': 1, 'executioner': 3, 'myself,\"': 2, 'screaming': 1, 'passion.': 1, 'already': 1, 'executed': 3, 'search': 1, 'hedgehog.': 1, 'fight': 2, 'hedgehog,': 1, 'croqueting': 1, 'flamingo': 2, 'helpless': 1, 'fly': 1, 'trees.': 1, 'hedgehogs': 1, 'sight:': 2, 'arches': 3, 'ground.\"': 1, 'escape': 1, 'friend.': 1, 'collected': 2, 'executioner,': 1, 'appealed': 1, 'settle': 1, 'arguments': 1, 'though,': 1, \"executioner's\": 1, 'unless': 1, 'from:': 1, 'beheaded,': 1, \"weren't\": 1, 'nonsense.': 1, \"she'd\": 1, '(It': 1, 'anxious.)': 1, 'Duchess:': 4, 'prison,\"': 1, 'executioner;': 1, '\"fetch': 1, 'arrow.': 1, 'fading': 1, 'entirely': 2, 'disappeared;': 1, 'wildly': 2, 'game.': 1, 'IX': 1, \"Turtle's\": 2, 'Story': 1, '\"YOU': 1, 'affectionately': 1, \"Alice's,\": 1, 'pleasant': 1, 'temper,': 1, 'kitchen.': 1, '\"When': 3, 'Duchess,\"': 1, '(not': 1, 'hopeful': 1, 'though),': 1, 'Soup': 5, 'without--Maybe': 1, 'hot-tempered,\"': 1, 'rule,': 1, 'vinegar': 1, 'sour--and': 1, 'camomile': 1, 'bitter--and--barley-sugar': 1, 'sweet-tempered.': 1, 'stingy': 1, 'something,': 1, 'forget': 2, 'talk.': 1, 'moral': 6, 'bit.\"': 1, \"hasn't\": 2, '\"Tut,': 1, 'tut,': 1, '\"Every': 1, \"thing's\": 1, 'moral,': 1, 'squeezed': 1, 'closer': 1, 'keeping': 2, 'ugly;': 1, 'shoulder,': 1, 'uncomfortably': 1, 'chin.': 2, 'rude,': 1, 'bore': 1, \"game's\": 1, 'little.': 1, '\"\\'Tis': 2, \"is--'Oh,\": 1, \"'tis\": 2, 'love,': 2, 'round!\\'\"': 1, '\"Somebody': 1, 'said,\"': 1, 'whispered,': 1, 'minding': 1, 'well!': 1, \"is--'Take\": 1, 'themselves.\\'\"': 1, 'morals': 1, 'things!\"': 4, 'waist,\"': 1, 'pause:': 1, 'temper': 1, 'flamingo.': 1, 'Shall': 1, 'experiment?\"': 1, 'bite,\"': 1, 'anxious': 2, 'experiment': 1, 'tried.': 1, 'true,\"': 1, '\"flamingoes': 1, 'mustard': 2, 'bite.': 1, \"is--'Birds\": 1, 'feather': 1, 'flock': 1, 'together.\\'\"': 1, 'bird,\"': 1, '\"Right,': 1, 'usual,\"': 1, 'mineral,': 1, 'is,\"': 2, 'agree': 2, 'said:': 4, '\"there\\'s': 1, 'mustard-mine': 1, \"is--'The\": 1, 'mine,': 1, 'yours.\\'\"': 1, 'attended': 1, 'vegetable.': 1, 'is.\"': 3, \"is--'Be\": 1, \"be'--or\": 1, \"simply--'Never\": 1, 'imagine': 1, 'otherwise': 2, 'appear': 1, 'otherwise.\\'\"': 1, 'better,\"': 1, 'down:': 1, 'follow': 1, 'chose,\"': 1, '\"Pray': 1, 'trouble!\"': 1, 'present': 1, 'cheap': 1, 'present!\"': 1, 'birthday': 1, 'loud.': 1, '\"Thinking': 1, 'dig': 1, 'sharply,': 1, 'worried.': 1, 'pigs': 1, 'fly;': 1, 'm----\"': 1, 'surprise,': 2, \"Duchess's\": 2, 'died': 1, 'favourite': 1, '\"moral,\"': 1, 'linked': 1, 'hers': 3, 'tremble.': 1, 'frowning': 3, 'thunderstorm.': 1, 'fair': 1, 'warning,\"': 1, 'spoke;': 1, '\"either': 1, 'Take': 1, 'choice!\"': 1, 'choice,': 1, 'moment.': 1, '\"Let\\'s': 1, 'game,\"': 1, 'word,': 2, 'croquet-ground.': 1, 'guests': 2, 'absence,': 1, 'shade:': 1, 'delay': 1, 'cost': 1, 'lives.': 1, 'Those': 1, 'whom': 1, 'sentenced': 1, 'custody': 2, 'left,': 1, 'execution.': 1, 'from,\"': 1, 'history.\"': 1, 'together,': 1, 'company': 1, 'pardoned.\"': 1, 'unhappy': 1, 'executions': 2, 'ordered.': 1, 'Gryphon,': 14, '(If': 1, 'Gryphon': 20, 'picture.)': 1, '\"Up,': 1, 'lazy': 1, 'Turtle,': 7, 'history.': 1, 'ordered,\"': 1, 'leaving': 1, 'Gryphon.': 17, 'Queen:': 2, 'rubbed': 1, 'eyes:': 1, 'watched': 2, 'chuckled.': 1, 'fun!\"': 1, 'fun?\"': 1, 'fancy,': 2, 'that:': 2, 'executes': 1, 'nobody,': 2, '\"Everybody': 1, \"'come\": 1, \"on!'\": 1, 'never!\"': 1, 'ledge': 1, 'rock,': 1, 'nearer,': 1, 'sighing': 2, 'heart': 2, 'break.': 1, 'pitied': 1, 'deeply.': 1, 'sorrow?\"': 1, 'answered,': 1, 'sorrow,': 1, 'lady,\"': 1, '\"she': 1, 'her,\"': 1, 'hollow': 1, '\"sit': 1, 'finished.\"': 1, 'finish,': 1, 'patiently.': 1, '\"Once,\"': 1, 'sigh,': 1, 'Turtle.\"': 1, 'These': 1, 'occasional': 1, 'exclamation': 1, '\"Hjckrrh!\"': 1, 'heavy': 2, 'sobbing': 2, 'Turtle.': 9, '\"Thank': 3, 'story,\"': 1, 'little,\"': 1, 'calmly,': 1, 'school': 4, 'sea.': 3, 'Turtle--we': 1, 'Tortoise----\"': 1, 'Tortoise,': 1, 'one?\"': 1, 'Tortoise': 1, 'us,\"': 1, 'angrily:': 1, '\"really': 1, 'dull!\"': 1, 'question,\"': 1, 'Gryphon;': 1, 'sink': 1, '\"Drive': 1, 'fellow.': 1, \"mayn't\": 1, 'it----\"': 1, 'didn\\'t!\"': 2, 'tongue!\"': 2, 'on:--': 1, 'educations--in': 1, 'day----\"': 1, 'day-school,': 1, 'too,\"': 1, 'proud': 2, '\"With': 1, 'extras?\"': 1, 'anxiously.': 1, '\"Yes,\"': 3, 'learned': 1, 'washing?\"': 1, '\"Certainly': 1, 'not!\"': 1, 'school,\"': 1, 'relief.': 2, 'ours': 1, 'bill,': 1, \"'French,\": 1, 'music,': 1, '--extra.\\'\"': 1, '\"living': 1, 'sea.\"': 1, 'afford': 1, 'sigh.': 1, 'regular': 2, 'course.\"': 1, 'inquired': 1, '\"Reeling': 1, 'Writhing,': 1, 'branches': 1, 'Arithmetic--Ambition,': 1, 'Distraction,': 1, 'Uglification,': 1, 'Derision.\"': 1, '\\'Uglification,\\'\"': 1, 'say.': 1, 'lifted': 1, 'surprise.': 2, '\"Never': 2, 'uglifying!\"': 1, 'exclaimed.': 1, 'beautify': 1, 'doubtfully:': 1, 'means--to--make--anything--prettier.\"': 1, 'uglify': 1, 'simpleton.\"': 1, 'encouraged': 1, 'learn?\"': 1, 'Mystery,\"': 1, 'counting': 1, 'subjects': 1, 'flappers,': 1, '\"--Mystery,': 1, 'ancient': 1, 'modern,': 1, 'Seaography:': 1, 'Drawling--the': 1, 'Drawling-master': 1, 'conger-eel,': 1, 'week:': 1, 'Drawling,': 1, 'Stretching,': 1, 'Fainting': 1, 'Coils.\"': 1, 'like?\"': 1, 'stiff.': 1, '\"Hadn\\'t': 1, 'Gryphon:': 3, 'Classical': 1, 'master,': 1, 'though.': 1, 'crab,': 1, 'was.\"': 1, 'Laughing': 1, 'Grief,': 1, 'turn;': 1, 'hid': 1, 'faces': 2, 'paws.': 1, 'lessons?\"': 1, 'subject.': 2, '\"Ten': 1, 'day,\"': 1, 'Turtle:': 4, '\"nine': 1, 'plan!\"': 1, 'lessons,\"': 2, 'lessen': 1, 'day.\"': 1, 'eleventh': 1, 'holiday.\"': 1, 'twelfth?\"': 1, 'eagerly.': 1, '\"tell': 1, 'games': 1, 'X': 1, 'Lobster': 4, 'Quadrille': 2, 'deeply,': 2, 'flapper': 1, 'sobs': 2, '\"Same': 1, 'bone': 1, 'throat,\"': 1, 'punching': 1, 'recovered': 2, 'cheeks,': 1, 'sea--\"': 1, 'haven\\'t,\"': 1, 'Alice)': 1, 'introduced': 1, 'lobster--\"': 1, 'tasted----\"': 1, 'never\")': 1, '\"--so': 1, 'delightful': 2, 'indeed,\"': 2, 'dance': 2, 'form': 1, 'line': 1, 'sea-shore----\"': 1, 'lines!\"': 1, '\"Seals,': 1, 'turtles,': 1, 'on;': 1, 'cleared': 1, 'jelly-fish': 1, 'way----\"': 1, '\"--you': 1, 'advance': 1, 'twice----\"': 1, '\"Each': 1, 'lobster': 1, 'partner!\"': 1, '\"advance': 1, 'partners----\"': 1, '\"--change': 1, 'lobsters,': 3, 'retire': 1, 'order,\"': 1, '\"Then,': 1, 'the----\"': 1, 'lobsters!\"': 1, 'bound': 1, '\"--as': 1, 'can----\"': 1, '\"Swim,': 1, 'somersault': 1, 'sea!\"': 2, 'capering': 1, 'about.': 1, '\"Change': 1, 'lobsters': 3, 'yelled': 1, '\"Back': 1, \"and--that's\": 1, 'figure,\"': 1, 'dropping': 1, 'voice;': 1, 'creatures,': 1, 'quietly,': 1, 'pretty': 1, 'dance,\"': 1, 'timidly.': 1, 'figure!\"': 1, 'sing?\"': 1, 'sing,\"': 1, 'words.\"': 1, 'dancing': 1, 'treading': 2, 'toes': 1, 'close,': 1, 'forepaws': 1, 'mark': 2, 'sadly:--': 1, '\"Will': 1, 'faster?\"': 1, 'whiting': 3, 'snail,': 2, 'porpoise': 1, 'us,': 2, \"he's\": 1, 'See': 1, 'eagerly': 3, 'turtles': 1, 'advance!': 1, 'shingle--will': 1, 'join': 9, 'dance?': 4, 'Will': 4, 'snail': 1, '\"Too': 1, 'far,': 1, 'far!\"': 1, 'askance--': 1, 'thanked': 1, 'kindly,': 1, 'dance.': 5, 'go?\"': 1, 'scaly': 1, 'further': 1, 'England': 1, 'France--': 1, 'pale,': 2, 'beloved': 1, 'dance?\"': 1, 'watch,\"': 1, 'last:': 1, 'song': 1, 'whiting!\"': 1, 'whiting,\"': 2, '\"they--you\\'ve': 1, 'course?\"': 1, 'dinn----\"': 1, 'Dinn': 1, 'like.\"': 1, 'thoughtfully.': 2, 'tails': 3, 'mouths--and': 1, 'crumbs.\"': 1, 'crumbs,\"': 1, '\"crumbs': 1, 'mouths;': 1, 'is--\"': 1, 'thrown': 1, 'mouths.': 1, \"That's\": 1, 'interesting.': 1, 'before.\"': 1, 'whiting?\"': 1, 'solemnly.': 1, 'shoes!\"': 1, 'with?\"': 1, 'mean,': 1, 'shiny?\"': 1, 'answer.': 1, '\"They\\'re': 2, 'blacking,': 1, 'believe.\"': 1, '\"Boots': 1, 'sea,\"': 1, '\"are': 1, 'whiting.': 1, '\"Soles': 1, 'eels,': 1, 'impatiently:': 1, '\"any': 1, 'shrimp': 1, 'thoughts': 2, 'porpoise,': 1, \"'Keep\": 1, 'please:': 1, 'us!\\'\"': 1, 'obliged': 3, '\"no': 1, 'fish': 2, 'anywhere': 1, 'porpoise.\"': 1, '\"Wouldn\\'t': 1, 'really?\"': 1, '\"why,': 1, 'journey,': 1, \"'With\": 1, 'porpoise?\\'\"': 1, '\\'purpose\\'?\"': 1, 'adventures.\"': 1, 'adventures--beginning': 1, 'morning,\"': 1, 'timidly:': 1, 'yesterday,': 1, 'adventures': 2, 'impatient': 1, '\"explanations': 1, 'dreadful': 1, 'time.\"': 1, 'Rabbit.': 1, 'mouths': 1, 'wide,': 1, 'gained': 1, 'courage': 1, 'listeners': 1, 'different,': 1, 'curious.\"': 1, 'now.': 1, '\"Stand': 1, 'sluggard': 1, 'lessons!\"': 1, 'Quadrille,': 1, 'indeed:--': 1, 'Lobster;': 1, 'declare,': 1, \"'You\": 1, 'baked': 1, 'brown,': 1, 'sugar': 1, \"hair.'\": 1, 'duck': 1, 'eyelids,': 1, 'nose': 1, 'Trims': 1, 'belt': 1, 'buttons,': 1, 'turns': 1, 'toes.': 1, 'sands': 1, 'dry,': 1, 'gay': 1, 'lark,': 1, 'contemptuous': 1, 'tones': 2, 'Shark:': 1, 'tide': 1, 'rises': 1, 'sharks': 1, 'around,': 1, 'His': 1, 'tremulous': 1, 'sound.\"': 1, 'child,\"': 1, 'uncommon': 1, 'nonsense.\"': 1, 'nothing;': 1, 'explained,\"': 1, '\"Go': 2, 'verse.\"': 1, 'toes?\"': 1, 'persisted.': 1, 'dancing,\"': 1, 'said;': 1, 'repeated:': 1, '.\\'\"': 1, 'disobey,': 1, 'marked,': 1, 'eye,': 1, 'Owl': 2, 'Panther': 3, 'sharing': 1, 'pie:': 1, 'pie-crust,': 1, 'gravy,': 1, 'meat,': 1, 'share': 1, 'treat.': 1, 'pie': 1, 'finished,': 2, 'Owl,': 1, 'boon,': 1, 'Was': 1, 'kindly': 1, 'permitted': 1, 'pocket': 1, 'spoon:': 1, 'received': 1, 'knife': 1, 'fork': 1, 'banquet': 1, 'by----\"': 1, 'stuff,\"': 1, 'on?': 1, 'heard!\"': 1, 'off,\"': 1, '\"Shall': 1, 'figure': 1, 'Quadrille?\"': 1, '\"Or': 1, 'song?\"': 1, 'kind,\"': 1, '\"H\\'m!': 1, 'accounting': 1, 'tastes!': 1, 'Sing': 1, 'fellow?\"': 1, 'sobs,': 1, '\"Beautiful': 2, 'Soup,': 1, 'rich': 1, 'green,': 1, 'Waiting': 1, 'tureen!': 1, 'dainties': 1, 'stoop?': 1, 'evening,': 2, 'Soup!': 4, 'Beau--ootiful': 4, 'Soo--oop!': 4, 'Soo--oop': 2, 'e--e--evening,': 3, 'Beautiful,': 3, 'cares': 2, 'fish,': 1, 'Game,': 1, 'dish?': 1, 'Pennyworth': 2, 'Soup?': 2, 'beauti--FUL': 1, 'SOUP!\"': 1, '\"Chorus': 1, \"trial's\": 3, 'beginning!\"': 1, 'song.': 1, 'trial': 4, 'panted': 1, 'ran;': 1, 'faster,': 1, 'breeze': 1, 'words:--': 1, '\"Soo--oop': 1, 'Soup!\"': 1, 'XI': 1, 'Stole': 1, 'Hearts': 1, 'seated': 1, 'throne': 1, 'arrived,': 1, 'them--all': 1, 'cards:': 1, 'standing': 1, 'chains,': 1, 'soldier': 1, 'guard': 1, 'him;': 1, 'trumpet': 1, 'scroll': 1, 'parchment': 2, 'other.': 2, 'court': 5, 'tarts': 3, 'good,': 1, 'them--\"I': 1, 'done,\"': 2, 'refreshments!\"': 1, 'pass': 1, 'justice': 1, 'books,': 1, 'judge,\"': 1, 'wig.\"': 1, 'King;': 4, 'wore': 1, 'wig,': 1, 'comfortable,': 1, 'becoming.': 1, 'jury-box,\"': 1, 'twelve': 2, 'creatures,\"': 1, '\"creatures,\"': 1, 'animals,': 1, 'birds,)': 1, 'jurors.\"': 1, 'rightly': 1, 'too,': 1, '\"jurymen\"': 1, 'jurors': 3, 'writing': 4, 'slates.': 1, 'doing?\"': 1, 'yet,': 3, 'begun.\"': 1, 'tarts?': 1, 'names,\"': 1, 'reply,': 1, 'trial.\"': 1, '\"Stupid': 1, 'indignant': 1, '\"Silence': 1, 'court!\"': 1, 'spectacles': 1, 'shoulders,': 1, '\"stupid': 1, 'slates,': 4, 'spell': 1, '\"stupid,\"': 1, 'neighbour': 1, 'muddle': 1, 'slates': 2, 'One': 1, 'pencil': 1, 'squeaked.': 1, 'This,': 1, 'stand,': 1, 'quickly': 2, 'juror': 1, 'Lizard)': 1, 'day;': 1, 'use,': 1, 'slate.': 1, '\"Herald,': 1, 'accusation!\"': 1, 'King.': 12, 'blew': 2, 'blasts': 2, 'trumpet,': 2, 'scroll,': 1, 'follows:': 1, 'tarts,': 3, 'summer': 2, 'day:': 1, 'verdict,\"': 3, 'jury.': 2, 'yet!\"': 1, 'interrupted.': 1, 'witness,\"': 1, '\"First': 1, 'witness!\"': 2, 'witness': 4, 'teacup': 3, 'bread-and-butter': 2, 'pardon,': 1, 'in;': 1, 'sent': 2, 'for.\"': 1, 'finished,\"': 1, 'begin?\"': 1, 'court,': 6, 'arm-in-arm': 1, 'Dormouse.': 3, '\"Fourteenth': 1, 'March,': 1, '\"Fifteenth,\"': 1, '\"Sixteenth,\"': 1, '\"Write': 1, 'down,\"': 3, 'jury,': 4, 'wrote': 3, 'dates': 1, 'reduced': 1, 'shillings': 1, 'pence.': 1, 'hat,\"': 1, 'mine,\"': 1, 'Stolen!': 1, 'exclaimed,': 1, 'memorandum': 1, 'fact.': 1, 'sell,\"': 1, 'explanation:': 1, 'own.': 1, 'hatter.\"': 1, 'spectacles,': 1, 'fidgeted.': 1, '\"Give': 3, 'evidence,\"': 3, 'nervous,': 1, 'spot.\"': 1, 'encourage': 1, 'all:': 2, 'shifting': 1, 'uneasily': 1, 'bread-and-butter.': 1, 'sensation,': 1, 'court;': 1, 'remain': 1, 'squeeze': 1, 'breathe.\"': 1, 'meekly:': 1, 'growing.\"': 1, '\"You\\'ve': 1, 'nonsense,\"': 1, 'boldly:': 1, 'too.\"': 1, 'reasonable': 1, 'pace,\"': 1, '\"not': 2, 'ridiculous': 1, 'fashion.\"': 1, 'court.': 4, 'officers': 3, '\"Bring': 1, 'list': 2, 'singers': 1, 'concert!\"': 1, 'shoes.': 1, 'man,': 2, '\"--and': 2, 'tea--not': 1, 'week': 2, 'so--and': 1, 'thin--and': 1, 'twinkling': 3, 'tea----\"': 1, 'T!\"': 1, 'dunce?': 1, 'Go': 1, 'man,\"': 1, 'twinkled': 1, 'that--only': 1, 'did!\"': 1, 'deny': 2, 'denies': 1, '\"leave': 1, 'part.\"': 1, 'too:': 1, 'denied': 1, 'asleep.': 1, 'bread-and-butter----\"': 1, 'say?\"': 1, 'remember,\"': 2, 'remarked': 1, 'executed.\"': 1, 'miserable': 2, 'knee.': 1, 'speaker': 1, 'guinea-pigs': 1, 'cheered,': 2, 'suppressed': 3, '(As': 1, 'done.': 1, 'canvas': 1, 'bag,': 1, 'strings:': 1, 'guinea-pig,': 1, 'newspapers,': 1, 'trials,': 1, \"'There\": 1, 'applause,': 1, \"court,'\": 1, 'understood': 1, 'lower,\"': 1, 'guinea-pig': 1, 'suppressed.': 1, 'finishes': 1, 'guinea-pigs!\"': 1, 'better.\"': 1, 'reading': 2, 'singers.': 1, 'outside,\"': 1, 'officers;': 1, 'officer': 1, 'cook.': 3, 'pepper-box': 1, '\"Sha\\'n\\'t,\"': 1, 'Majesty': 2, 'cross-examine': 2, 'witness.\"': 2, 'must,': 1, 'must,\"': 1, 'folding': 1, '\"Pepper,': 1, 'mostly,\"': 1, '\"Collar': 1, 'shrieked': 1, '\"Behead': 1, 'Dormouse!': 1, 'Turn': 1, 'court!': 1, 'Suppress': 1, 'him!': 2, 'Pinch': 1, 'whiskers.\"': 1, 'disappeared.': 1, 'mind!\"': 1, 'undertone': 1, 'witness.': 1, 'ache!\"': 1, 'fumbled': 1, 'list,': 1, '\"--for': 1, 'evidence': 3, 'Imagine': 1, 'shrill': 3, '\"Alice!\"': 1, 'XII': 1, 'Evidence': 1, '\"HERE!\"': 1, 'flurry': 1, 'tipped': 1, 'jury-box': 1, 'skirt,': 1, 'upsetting': 1, 'jurymen': 2, 'below,': 1, 'sprawling': 1, 'reminding': 1, 'globe': 1, 'gold-fish': 2, 'accidentally': 1, 'before.': 2, 'dismay,': 1, 'accident': 1, 'vague': 1, 'jury-box,': 2, 'die.': 1, 'cannot': 1, 'proceed,\"': 1, '\"until': 1, 'places--': 1, 'emphasis,': 1, 'haste,': 1, 'Lizard': 2, 'downwards,': 1, 'unable': 1, 'move.': 1, 'right;': 1, 'signifies': 1, 'other.\"': 1, 'shock': 1, 'upset,': 1, 'pencils': 1, 'diligently': 1, 'history': 1, 'accident,': 1, 'overcome': 1, 'open,': 1, 'gazing': 1, 'business?\"': 1, '\"Nothing,\"': 1, '\"Nothing': 3, 'persisted': 1, 'whatever,\"': 1, 'important,\"': 1, 'interrupted:': 1, 'Un': 2, 'important,': 2, 'means,': 1, 'respectful': 1, 'meant,\"': 1, 'undertone,\"important--unimportant--unimportant--important----\"': 1, 'best.': 1, '\"important,\"': 1, '\"unimportant.\"': 1, 'slates;': 1, 'note-book,': 1, '\"Silence!\"': 1, '\"Rule': 1, 'Forty-two.': 1, 'persons': 1, 'mile': 2, 'high,\"': 2, 'are,\"': 1, '\"Nearly': 1, 'rate,\"': 1, '\"besides,': 1, 'rule:': 1, 'invented': 1, 'oldest': 1, 'Number': 1, 'One,\"': 1, 'note-book': 1, '\"this': 1, 'prisoner': 1, 'to--to': 1, 'somebody.\"': 1, '\"unless': 1, 'usual,': 1, 'directed': 2, 'jurymen.': 2, 'Rabbit;': 1, 'outside': 1, 'letter': 1, 'verses.\"': 1, \"prisoner's\": 1, 'handwriting?\"': 1, 'queerest': 1, '(The': 3, 'puzzled.)': 1, 'imitated': 1, \"else's\": 1, 'hand,\"': 1, 'again.)': 1, 'prove': 2, 'did:': 1, 'signed': 2, 'end.\"': 1, 'sign': 1, 'worse.': 1, 'mischief,': 1, 'honest': 1, 'man.\"': 1, 'clapping': 1, 'clever': 1, 'proves': 1, 'guilt,': 1, '\"so,': 1, 'with----\"': 1, 'sort!\"': 1, 'about!\"': 1, '\"Read': 1, 'spectacles.': 1, '\"Where': 1, 'begin,': 1, 'Majesty?\"': 1, '\"Begin': 1, 'beginning,\"': 1, 'end;': 1, 'stop.\"': 1, 'whilst': 1, 'verses:--': 1, 'character,': 1, 'swim.': 1, '(We': 1, 'true):': 1, 'push': 2, 'more;': 1, 'returned': 2, 'Though': 1, 'Involved': 1, 'affair,': 1, 'trusts': 1, 'free,': 1, 'Exactly': 1, 'were.': 1, 'My': 1, '(Before': 1, 'fit)': 1, 'obstacle': 1, 'Him,': 1, 'ourselves,': 1, 'secret,': 1, 'rest,': 1, 'Between': 1, 'me.\"': 1, 'hands;': 1, 'jury----\"': 1, 'him,)': 1, 'sixpence.': 1, 'atom': 2, 'attempted': 1, 'paper.': 1, 'saves': 1, 'trouble,': 1, 'any.': 1, 'spreading': 1, 'verses': 2, 'knee,': 3, \"'----\": 1, \"--'\": 4, 'Knave.': 1, 'cardboard.)': 1, 'himself:': 1, '\"\\'': 1, 'true': 1, \"course--'\": 1, \"'--that\": 1, \"Queen--'\": 1, \"'--What,\": 1, \"indeed!--'\": 1, 'are!\"': 1, 'triumphantly,': 1, 'clearer': 1, \"again--'\": 1, 'fit': 2, 'fits': 1, '\"Never!\"': 1, 'furiously,': 1, 'inkstand': 1, 'slate': 1, 'finger,': 1, 'mark;': 1, 'ink,': 1, 'trickling': 1, 'lasted.)': 1, 'smile.': 1, 'pun!\"': 1, 'laughed.': 1, 'twentieth': 1, 'no!\"': 1, '\"Sentence': 1, 'first--verdict': 1, 'afterwards.\"': 1, '\"Stuff': 1, 'loudly.': 1, 'first!\"': 1, 'purple.': 1, 'won\\'t!\"': 1, 'Nobody': 1, 'moved.': 1, 'cards!\"': 1, 'scream,': 1, 'fright': 1, 'anger,': 1, 'sister,': 2, 'brushing': 1, 'fluttered': 1, 'sister.': 1, 'had!\"': 1, 'dream!\"': 1, 'about;': 1, 'kissed': 1, 'dream,': 1, 'tea;': 1, 'late.\"': 1, 'ran,': 1, 'might,': 1, 'wonderful': 2, 'been.': 1, 'BUT': 1, 'sun,': 1, 'Adventures,': 1, 'dreaming': 1, 'fashion,': 1, 'dream:': 1, 'dreamed': 1, 'clasped': 1, 'hers--she': 1, 'toss': 1, 'wandering': 1, 'eyes--and': 1, 'listened,': 1, 'listen,': 1, 'around': 2, 'alive': 1, \"sister's\": 1, 'dream.': 1, 'grass': 2, 'rustled': 1, 'by--the': 1, 'splashed': 1, 'neighbouring': 1, 'pool--she': 1, 'rattle': 1, 'teacups': 2, 'shared': 1, 'never-ending': 1, 'meal,': 1, 'execution--once': 1, 'pig-baby': 1, \"Duchess'\": 1, 'plates': 1, 'dishes': 1, 'crashed': 1, 'it--once': 1, \"Lizard's\": 1, 'slate-pencil,': 1, 'choking': 1, 'believed': 1, 'reality--the': 1, 'rustling': 1, 'rippling': 1, 'reeds--the': 1, 'tinkling': 1, 'sheep-bells,': 1, 'cries': 1, 'shepherd': 1, 'boy--and': 1, 'sneeze': 1, 'noises,': 1, 'knew)': 1, 'clamour': 1, 'farm-yard--while': 1, 'lowing': 1, 'cattle': 1, 'distance': 1, 'sobs.': 1, 'Lastly,': 1, 'pictured': 1, 'would,': 1, 'after-time,': 1, 'woman;': 1, 'keep,': 1, 'riper': 1, 'years,': 1, 'loving': 1, 'childhood:': 1, 'gather': 1, 'tale,': 1, 'Wonderland': 1, 'ago:': 1, 'sorrows,': 1, 'joys,': 1, 'remembering': 1, 'child-life,': 1, 'days.': 1, 'END': 1, 'ILLUSTRATIONS': 1, 'REPRODUCED': 1, 'HENTSCHEL': 1, 'COLOURTYPE': 1, 'TEXT': 1, 'BALLANTYNE': 2, '&': 1, 'COMPANY': 1, 'LTD': 1, 'AT': 1, 'PRESS': 1, 'TAVISTOCK': 1, 'STREET': 1, 'LONDON': 1, 'End': 1, 'Project': 1}\n"
     ]
    }
   ],
   "source": [
    "from operator import itemgetter\n",
    "with open('alice.txt') as fin:\n",
    "    word_freq = {}\n",
    "    text = fin.read()\n",
    "    text = text.split()\n",
    "    for word in text:\n",
    "        if word not in word_freq:\n",
    "            word_freq[word] = 1\n",
    "            \n",
    "        else:\n",
    "            word_freq[word]+=1\n",
    "            \n",
    "print(word_freq)\n",
    "\n",
    "with open('sortedallice.txt','w') as fout:\n",
    "    sortfreq = sorted(word_freq.items(),key = itemgetter(1),reverse = True)\n",
    "    for element in sortfreq:\n",
    "        fout.write(str(element[1])+' '+element[0]+'\\n')  \n",
    "    "
   ]
  },
  {
   "cell_type": "markdown",
   "metadata": {},
   "source": [
    "#### metode .get(key,[defaultvalue])\n",
    "\n",
    "hvis man vil spørge på en key som ikke findes i dict så givet det fejl"
   ]
  },
  {
   "cell_type": "code",
   "execution_count": 92,
   "metadata": {},
   "outputs": [],
   "source": [
    "words = {'the':70, 'and':35, 'of':28}"
   ]
  },
  {
   "cell_type": "code",
   "execution_count": 93,
   "metadata": {},
   "outputs": [
    {
     "data": {
      "text/plain": [
       "0"
      ]
     },
     "execution_count": 93,
     "metadata": {},
     "output_type": "execute_result"
    }
   ],
   "source": [
    "words.get('peter',0)"
   ]
  },
  {
   "cell_type": "code",
   "execution_count": 97,
   "metadata": {},
   "outputs": [
    {
     "data": {
      "text/plain": [
       "70"
      ]
     },
     "execution_count": 97,
     "metadata": {},
     "output_type": "execute_result"
    }
   ],
   "source": [
    "words.get('the',0)"
   ]
  },
  {
   "cell_type": "code",
   "execution_count": 98,
   "metadata": {},
   "outputs": [],
   "source": [
    "#det betyder at man kan spørge en dict om noget der ikke findes\n"
   ]
  },
  {
   "cell_type": "code",
   "execution_count": 99,
   "metadata": {},
   "outputs": [],
   "source": [
    "# nu prøver vi at gøre det samme med alice.txt men bruger metoden get"
   ]
  },
  {
   "cell_type": "code",
   "execution_count": 101,
   "metadata": {},
   "outputs": [
    {
     "name": "stdout",
     "output_type": "stream",
     "text": [
      "{'\\ufeffProject': 1, \"Gutenberg's\": 2, \"Alice's\": 12, 'Adventures': 3, 'in': 350, 'Wonderland,': 3, 'by': 58, 'Lewis': 2, 'Carroll': 2, '***': 2, 'START': 1, 'OF': 4, 'THIS': 1, 'PROJECT': 1, 'GUTENBERG': 1, 'EBOOK': 1, \"ALICE'S\": 3, 'ADVENTURES': 2, 'IN': 4, 'WONDERLAND': 2, \"ALICE'S·ADVENTURES\": 1, 'IN·WONDERLAND': 1, 'BY·LEWIS·CARROLL': 1, 'ILLUSTRATED·BY': 1, 'ARTHUR·RACKHAM': 1, 'WITH': 1, 'A': 14, 'PROEM': 1, 'BY': 3, 'AUSTIN': 2, 'DOBSON': 1, 'LONDON·WILLIAM·HEINEMANN': 1, 'NEW·YORK·DOUBLEDAY·PAGE·&·Co]': 1, 'PRINTED': 2, 'ENGLAND': 1, \"'Tis\": 2, 'two': 23, 'score': 1, 'years': 1, 'since': 5, \"CARROLL'S\": 1, 'art,': 1, 'With': 3, 'topsy-turvy': 1, 'magic,': 1, 'Sent': 1, 'ALICE': 2, 'wondering': 8, 'through': 15, 'a': 621, 'part': 3, 'Half-comic': 1, 'and': 726, 'half-tragic.': 1, 'Enchanting': 1, 'ALICE!': 1, 'Black-and-white': 1, 'Has': 2, 'made': 30, 'your': 61, 'deeds': 1, 'perennial;': 1, 'And': 59, 'naught': 1, 'save': 2, '\"Chaos': 1, 'old': 14, 'Night\"': 1, 'Can': 1, 'you': 268, 'now': 25, 'from': 37, 'TENNIEL;': 1, 'But': 16, 'still': 13, 'are': 45, 'Type,': 1, 'based': 1, 'In': 12, 'Truth,': 1, 'like': 75, 'LEAR': 1, 'HAMLET;': 1, 'Types': 1, 'may': 13, 'be': 140, 're-draped': 1, 'to': 714, 'taste': 3, 'cloth-of-gold': 1, 'or': 70, 'camlet.': 1, 'Here': 6, 'comes': 3, 'afresh': 1, 'Costumier,': 1, 'then;': 2, 'That': 7, 'Taste': 1, 'gain': 1, 'wrinkle': 1, 'From': 1, 'him': 27, 'who': 51, 'drew': 8, 'with': 179, 'such': 43, 'deft': 1, 'pen': 1, 'The': 97, 'rags': 1, 'of': 497, 'RIP': 1, 'VAN': 1, 'WINKLE!': 1, 'DOBSON.': 1, 'All': 5, 'the': 1530, 'golden': 8, 'afternoon': 1, 'Full': 1, 'leisurely': 1, 'we': 17, 'glide;': 1, 'For': 10, 'both': 15, 'our': 8, 'oars,': 1, 'little': 123, 'skill,': 1, 'By': 4, 'arms': 6, 'plied,': 1, 'While': 7, 'hands': 7, 'make': 26, 'vain': 1, 'pretence': 1, 'Our': 2, 'wanderings': 1, 'guide.': 1, 'Ah,': 2, 'cruel': 1, 'Three!': 1, 'an': 53, 'hour,': 1, 'Beneath': 2, 'dreamy': 2, 'weather,': 1, 'To': 4, 'beg': 9, 'tale': 5, 'breath': 3, 'too': 23, 'weak': 3, 'stir': 1, 'tiniest': 1, 'feather!': 1, 'Yet': 4, 'what': 96, 'can': 32, 'one': 84, 'poor': 26, 'voice': 19, 'avail': 1, 'Against': 1, 'three': 24, 'tongues': 1, 'together?': 1, 'Imperious': 1, 'Prima': 1, 'flashes': 1, 'forth': 1, 'Her': 4, 'edict': 1, '\"to': 5, 'begin': 8, 'it\"--': 1, 'gentler': 1, 'tone': 9, 'Secunda': 1, 'hopes': 1, '\"There': 6, 'will': 29, 'nonsense': 2, 'it!\"--': 1, 'Tertia': 1, 'interrupts': 1, 'Not': 1, 'more': 40, 'than': 24, 'once': 19, 'minute.': 2, 'Anon,': 1, 'sudden': 6, 'silence': 5, 'won,': 2, 'fancy': 5, 'they': 110, 'pursue': 1, 'dream-child': 1, 'moving': 4, 'land': 2, 'Of': 1, 'wonders': 1, 'wild': 3, 'new,': 1, 'friendly': 1, 'chat': 1, 'bird': 2, 'beast--': 1, 'half': 22, 'believe': 9, 'it': 357, 'true.': 1, 'ever,': 1, 'as': 236, 'story': 4, 'drained': 1, 'wells': 1, 'dry.': 1, 'faintly': 2, 'strove': 1, 'that': 226, 'weary': 1, 'put': 32, 'subject': 3, 'by,': 1, '\"The': 16, 'rest': 10, 'next': 22, 'time--\"': 1, '\"It': 25, 'is': 74, 'time!\"': 1, 'happy': 2, 'voices': 3, 'cry.': 1, 'Thus': 2, 'grew': 2, 'Wonderland:': 1, 'slowly,': 3, 'one,': 8, 'Its': 1, 'quaint': 1, 'events': 1, 'were': 82, 'hammered': 1, 'out--': 1, 'done,': 2, 'home': 2, 'steer,': 1, 'merry': 1, 'crew,': 1, 'setting': 2, 'sun.': 2, 'Alice!': 4, 'childish': 1, 'take,': 1, 'gentle': 1, 'hand': 12, 'Lay': 1, 'where': 8, \"Childhood's\": 1, 'dreams': 1, 'twined': 1, \"Memory's\": 1, 'mystic': 1, 'band,': 1, 'Like': 2, \"pilgrim's\": 1, \"wither'd\": 1, 'wreath': 1, 'flowers': 3, \"Pluck'd\": 1, 'far-off': 1, 'land.': 1, 'CONTENTS': 1, 'PAGE': 1, 'I.': 1, 'DOWN': 1, 'THE': 14, 'RABBIT-HOLE': 1, '1': 1, 'II.': 1, 'POOL': 1, 'TEARS': 1, '13': 1, 'III.': 1, 'CAUCUS-RACE': 1, 'AND': 4, 'LONG': 1, 'TALE': 1, '24': 1, 'IV.': 1, 'RABBIT': 1, 'SENDS': 1, 'LITTLE': 1, 'BILL': 1, '35': 1, 'V.': 1, 'ADVICE': 1, 'FROM': 1, 'CATERPILLAR': 1, '49': 1, 'VI.': 1, 'PIG': 1, 'PEPPER': 1, '64': 1, 'VII.': 1, 'MAD': 1, 'TEA-PARTY': 1, '82': 1, 'VIII.': 1, \"QUEEN'S\": 1, 'CROQUET-GROUND': 1, '96': 1, 'IX.': 1, 'MOCK': 1, \"TURTLE'S\": 1, 'STORY': 1, '111': 1, 'X.': 1, 'LOBSTER': 1, 'QUADRILLE': 1, '126': 1, 'XI.': 1, 'WHO': 1, 'STOLE': 1, 'TARTS?': 1, '139': 1, 'XII.': 1, 'EVIDENCE': 1, '150': 1, 'LIST': 1, 'PLATES': 1, 'face': 11, 'page': 1, 'Alice': 224, 'Frontispiece': 1, 'Pool': 3, 'Tears': 3, '22': 1, 'They': 10, 'all': 156, 'crowded': 7, 'round': 32, 'panting': 2, 'asking,': 2, '\"But': 22, 'has': 8, 'won?\"': 3, '28': 1, '\"Why,': 12, 'Mary': 5, 'Ann,': 4, 'doing': 5, 'out': 102, 'here?\"': 5, '36': 1, 'Advice': 3, 'Caterpillar': 12, '50': 1, 'An': 6, 'unusually': 3, 'large': 33, 'saucepan': 3, 'flew': 3, 'close': 14, 'it,': 39, 'very': 141, 'nearly': 12, 'carried': 6, 'off': 44, '70': 1, 'It': 17, 'grunted': 5, 'again': 16, 'so': 106, 'violently': 4, 'she': 490, 'looked': 47, 'down': 81, 'into': 72, 'its': 59, 'some': 51, 'alarm': 3, '74': 1, 'Mad': 3, 'Tea-Party': 1, '84': 1, 'Queen': 38, 'turned': 18, 'angrily': 4, 'away': 16, 'said': 423, 'Knave,': 3, '\"Turn': 4, 'them': 52, 'over\"': 2, '100': 1, 'never': 41, 'left': 15, 'quarrelling': 4, 'other': 28, 'players,': 4, 'shouting': 4, '\"Off': 12, 'his': 96, 'head!\"': 10, 'or,': 2, 'her': 209, '116': 1, 'Mock': 58, 'Turtle': 37, 'long': 31, 'said,': 27, '\"That\\'s': 16, 'curious\"': 2, '132': 1, 'Who': 7, 'stole': 3, 'Tarts?': 2, '140': 1, 'At': 11, 'this': 93, 'whole': 15, 'pack': 6, 'rose': 3, 'up': 84, 'air,': 6, 'came': 40, 'flying': 3, 'upon': 28, '158': 1, 'CHAPTER': 12, 'I': 266, '[Sidenote:': 12, 'Down': 1, 'Rabbit-Hole': 1, ']': 22, 'was': 334, 'beginning': 11, 'get': 43, 'tired': 7, 'sitting': 10, 'sister': 5, 'on': 138, 'bank,': 2, 'having': 10, 'nothing': 21, 'do:': 1, 'twice': 1, 'had': 177, 'peeped': 3, 'book': 3, 'reading,': 1, 'but': 101, 'no': 65, 'pictures': 4, 'conversations': 1, '\"and': 38, 'use': 17, 'book,\"': 2, 'thought': 62, 'Alice,': 73, '\"without': 1, 'conversations?\"': 1, 'So': 23, 'considering': 3, 'own': 9, 'mind': 4, '(as': 2, 'well': 28, 'could,': 7, 'for': 122, 'hot': 4, 'day': 11, 'feel': 8, 'sleepy': 3, 'stupid)': 1, 'whether': 11, 'pleasure': 2, 'making': 8, 'daisy-chain': 1, 'would': 75, 'worth': 4, 'trouble': 4, 'getting': 21, 'picking': 2, 'daisies,': 1, 'when': 66, 'suddenly': 9, 'White': 21, 'Rabbit': 29, 'pink': 1, 'eyes': 18, 'ran': 13, 'her.': 13, 'There': 19, 'remarkable': 2, 'that;': 1, 'nor': 2, 'did': 49, 'think': 40, 'much': 40, 'way': 38, 'hear': 14, 'say': 34, 'itself,': 4, '\"Oh': 2, 'dear!': 8, 'Oh': 4, 'shall': 21, 'late!\"': 1, '(when': 1, 'over': 31, 'afterwards,': 1, 'occurred': 2, 'ought': 13, 'have': 76, 'wondered': 1, 'at': 193, 'this,': 17, 'time': 45, 'seemed': 27, 'quite': 55, 'natural);': 1, 'actually': 1, 'took': 24, 'watch': 7, 'waistcoat-pocket': 1, ',': 8, 'then': 51, 'hurried': 10, 'on,': 24, 'started': 2, 'feet,': 6, 'flashed': 1, 'across': 5, 'before': 20, 'seen': 12, 'rabbit': 1, 'either': 5, 'waistcoat-pocket,': 1, 'take': 18, 'burning': 1, 'curiosity,': 2, 'field': 1, 'after': 35, 'just': 43, 'see': 49, 'pop': 1, 'rabbit-hole': 2, 'under': 16, 'hedge.': 1, 'another': 22, 'moment': 20, 'went': 77, 'how': 36, 'world': 6, 'again.': 16, 'straight': 2, 'tunnel': 1, 'way,': 7, 'dipped': 2, 'down,': 11, 'not': 111, 'about': 84, 'stopping': 1, 'herself': 40, 'found': 28, 'falling': 2, 'deep': 5, 'well.': 2, '[Illustration]': 14, 'Either': 1, 'deep,': 2, 'fell': 6, 'plenty': 2, 'look': 25, 'her,': 18, 'wonder': 15, 'going': 25, 'happen': 5, 'next.': 3, 'First,': 4, 'tried': 18, 'coming': 6, 'to,': 3, 'dark': 3, 'anything;': 2, 'sides': 4, 'noticed': 7, 'filled': 3, 'cupboards': 2, 'book-shelves:': 1, 'here': 16, 'there': 45, 'saw': 13, 'maps': 1, 'hung': 1, 'pegs.': 1, 'She': 34, 'jar': 2, 'shelves': 1, 'passed;': 1, 'labelled': 1, '\"ORANGE': 1, 'MARMALADE,\"': 1, 'disappointment': 1, 'empty;': 1, 'drop': 1, 'fear': 4, 'killing': 1, 'somebody': 5, 'underneath,': 1, 'managed': 3, 'past': 1, 'it.': 17, '\"Well!\"': 1, 'herself.': 9, '\"After': 2, 'fall': 6, 'tumbling': 2, 'stairs!': 1, 'How': 12, 'brave': 1, \"they'll\": 4, 'me': 49, 'home!': 1, 'Why,': 7, \"wouldn't\": 11, 'anything': 15, 'even': 16, 'if': 68, 'top': 7, 'house!\"': 1, '(Which': 2, 'likely': 4, 'true.)': 1, 'Down,': 2, 'down.': 3, 'Would': 3, 'come': 22, 'end?': 1, '\"I': 120, 'many': 12, 'miles': 3, \"I've\": 21, 'fallen': 4, 'time?\"': 1, 'aloud.': 3, 'must': 43, 'somewhere': 2, 'near': 14, 'centre': 1, 'earth.': 2, 'Let': 6, 'see:': 3, 'four': 6, 'thousand': 2, 'think--\"': 2, '(for,': 1, 'see,': 9, 'learnt': 2, 'several': 4, 'things': 19, 'sort': 14, 'lessons': 4, 'schoolroom,': 1, 'though': 6, 'good': 23, 'opportunity': 8, 'showing': 2, 'knowledge,': 1, 'listen': 4, 'practice': 1, 'over)': 1, '\"--yes,': 1, \"that's\": 15, 'right': 20, 'distance--but': 1, 'Latitude': 2, 'Longitude': 2, 'got': 45, 'to?\"': 3, '(Alice': 4, 'idea': 15, 'was,': 13, 'either,': 2, 'nice': 6, 'grand': 2, 'words': 14, 'say.)': 1, 'Presently': 2, 'began': 47, 'earth!': 1, 'funny': 3, \"it'll\": 5, 'seem': 8, 'among': 12, 'people': 10, 'walk': 4, 'their': 51, 'heads': 7, 'downwards!': 1, 'Antipathies,': 1, '(she': 9, 'rather': 26, 'glad': 11, 'listening,': 2, 'time,': 7, \"didn't\": 11, 'sound': 3, 'word)': 1, '\"--but': 1, 'ask': 7, 'name': 8, 'country': 1, 'is,': 15, 'know.': 8, 'Please,': 1, \"Ma'am,\": 1, 'New': 1, 'Zealand': 1, 'Australia?\"': 1, '(and': 1, 'curtsey': 1, 'spoke--fancy': 1, 'curtseying': 1, \"you're\": 14, 'air!': 1, 'Do': 5, 'could': 67, 'manage': 6, 'it?)': 1, '\"And': 18, 'ignorant': 1, 'girl': 3, \"she'll\": 2, 'me!': 4, 'No,': 4, 'do': 46, 'ask:': 1, 'perhaps': 12, 'written': 6, 'somewhere.\"': 1, 'else': 8, 'do,': 8, 'soon': 23, 'talking': 12, '\"Dinah\\'ll': 1, 'miss': 1, 'to-night,': 1, 'should': 28, 'think!\"': 1, '(Dinah': 1, 'cat.)': 1, 'hope': 3, 'remember': 12, 'saucer': 1, 'milk': 1, 'tea-time.': 1, 'Dinah,': 4, 'my': 55, 'dear,': 7, 'wish': 21, 'mice': 2, \"I'm\": 39, 'afraid,': 2, 'might': 27, 'catch': 3, 'bat,': 1, 'mouse,': 3, 'cats': 9, 'eat': 16, 'bats,': 1, 'wonder?\"': 3, 'sleepy,': 1, 'saying': 11, 'herself,': 30, '\"Do': 8, 'bats?': 1, 'bats?\"': 1, 'sometimes,': 1, 'bats': 1, 'cats?\"': 1, 'for,': 2, \"couldn't\": 9, 'answer': 6, 'question,': 4, 'matter': 9, 'which': 38, 'felt': 23, 'dozing': 1, 'off,': 14, 'begun': 6, 'dream': 3, 'walking': 5, 'earnestly,': 1, '\"Now,': 3, 'tell': 26, 'truth:': 1, 'ever': 18, 'bat?\"': 1, 'suddenly,': 1, 'thump!': 2, 'heap': 1, 'sticks': 1, 'dry': 7, 'leaves,': 2, 'over.': 2, 'bit': 9, 'hurt,': 1, 'jumped': 5, 'feet': 11, 'moment:': 1, 'up,': 9, 'overhead;': 1, 'passage,': 2, 'sight,': 4, 'hurrying': 1, 'lost:': 1, 'wind,': 2, 'say,': 5, 'corner,': 2, 'ears': 4, 'whiskers,': 1, 'late': 3, \"it's\": 25, 'getting!\"': 1, 'behind': 12, 'longer': 2, 'seen:': 1, 'long,': 1, 'low': 9, 'hall,': 5, 'lit': 1, 'row': 2, 'lamps': 1, 'hanging': 3, 'roof.': 1, 'doors': 2, 'locked;': 1, 'been': 36, 'side': 12, 'other,': 5, 'trying': 11, 'every': 12, 'door,': 8, 'walked': 10, 'sadly': 2, 'middle,': 3, 'Suddenly': 1, 'three-legged': 2, 'table,': 5, 'solid': 1, 'glass;': 1, 'tiny': 4, 'key,': 3, 'first': 29, 'belong': 1, 'hall;': 1, 'but,': 6, 'alas!': 2, 'locks': 1, 'large,': 1, 'key': 5, 'small,': 1, 'any': 37, 'rate': 4, 'open': 6, 'them.': 2, 'However,': 13, 'second': 4, 'round,': 7, 'curtain': 1, 'before,': 11, 'door': 16, 'fifteen': 1, 'inches': 6, 'high:': 3, 'lock,': 1, 'great': 37, 'delight': 1, 'fitted!': 1, 'opened': 9, 'led': 4, 'small': 8, 'larger': 3, 'rat-hole:': 1, 'knelt': 1, 'along': 5, 'passage': 1, 'loveliest': 1, 'garden': 5, 'saw.': 1, 'longed': 2, 'wander': 1, 'those': 9, 'beds': 1, 'bright': 7, 'cool': 2, 'fountains,': 1, 'head': 28, 'doorway;': 1, 'go': 39, 'through,\"': 1, '\"it': 5, 'without': 24, 'shoulders.': 1, 'Oh,': 4, 'shut': 4, 'telescope!': 1, 'only': 43, 'knew': 13, 'begin.\"': 3, 'For,': 1, 'out-of-the-way': 3, 'happened': 3, 'lately,': 1, 'few': 9, 'indeed': 3, 'really': 9, 'impossible.': 1, 'waiting': 7, 'back': 30, 'hoping': 3, 'find': 20, 'rules': 3, 'shutting': 2, 'telescopes:': 1, 'bottle': 7, '(\"which': 1, 'certainly': 8, 'before,\"': 3, 'Alice,)': 2, 'tied': 2, 'neck': 6, 'paper': 3, 'label,': 1, '\"DRINK': 2, 'ME\"': 2, 'beautifully': 2, 'printed': 1, 'letters.': 1, '\"Drink': 1, 'me,\"': 5, 'wise': 2, 'hurry.': 3, '\"No,': 9, \"I'll\": 24, 'first,\"': 2, 'marked': 5, \"'\": 9, 'poison': 1, 'not;\"': 1, 'read': 10, 'stories': 1, 'children': 6, 'burnt,': 1, 'eaten': 1, 'beasts,': 2, 'unpleasant': 2, 'things,': 2, 'because': 11, 'simple': 5, 'friends': 2, 'taught': 4, 'them:': 1, 'as,': 2, 'red-hot': 1, 'poker': 1, 'burn': 2, 'hold': 6, 'long;': 1, 'that,': 6, 'cut': 5, 'finger': 3, 'deeply': 1, 'knife,': 1, 'usually': 2, 'bleeds;': 1, 'forgotten': 6, 'drink': 4, '\"poison,\"': 2, 'almost': 6, 'certain': 2, 'disagree': 1, 'you,': 25, 'sooner': 2, 'later.': 1, 'ventured': 5, 'finding': 3, '(it': 4, 'had,': 1, 'fact,': 4, 'mixed': 2, 'flavour': 1, 'cherry-tart,': 1, 'custard,': 1, 'pineapple,': 1, 'roast': 1, 'turkey,': 1, 'coffee,': 1, 'buttered': 1, 'toast,)': 1, 'finished': 6, 'off.': 4, '*': 15, '\"What': 33, 'curious': 16, 'feeling!\"': 1, 'Alice.': 58, 'telescope.\"': 1, 'indeed:': 1, 'ten': 5, 'high,': 3, 'brightened': 2, 'size': 6, 'lovely': 2, 'garden.': 3, 'however,': 6, 'waited': 9, 'minutes': 7, 'shrink': 1, 'further:': 1, 'nervous': 4, 'this:': 3, '\"for': 6, 'end,': 1, 'know,\"': 8, '\"in': 3, 'altogether,': 2, 'candle.': 1, 'then?\"': 1, 'flame': 1, 'candle': 2, 'looks': 1, 'blown': 1, 'out,': 9, 'thing.': 1, 'After': 5, 'while,': 4, 'happened,': 2, 'decided': 3, 'once;': 2, 'alas': 1, 'table': 7, 'possibly': 3, 'reach': 4, 'it:': 8, 'plainly': 1, 'glass,': 2, 'best': 9, 'climb': 1, 'legs': 3, 'slippery;': 1, 'trying,': 1, 'thing': 35, 'sat': 16, 'cried.': 2, '\"Come,': 9, \"there's\": 15, 'crying': 2, 'that!\"': 7, 'sharply.': 2, 'advise': 1, 'leave': 7, 'minute!\"': 1, 'generally': 5, 'gave': 15, 'advice': 1, '(though': 1, 'seldom': 1, 'followed': 8, 'it),': 2, 'sometimes': 3, 'scolded': 1, 'severely': 2, 'bring': 2, 'tears': 4, 'eyes;': 1, 'remembered': 5, 'box': 3, 'cheated': 1, 'game': 6, 'croquet': 3, 'playing': 2, 'against': 9, 'child': 3, 'fond': 3, 'pretending': 1, 'people.': 1, 'now,\"': 4, 'pretend': 1, 'people!': 1, 'Why': 1, 'hardly': 11, 'enough': 10, 'respectable': 1, 'person!\"': 1, 'Soon': 1, 'eye': 4, 'glass': 4, 'lying': 8, 'table:': 1, 'cake,': 2, '\"EAT': 1, 'currants.': 1, '\"Well,': 20, 'it,\"': 19, 'makes': 11, 'grow': 13, 'larger,': 3, 'key;': 1, 'smaller,': 3, 'creep': 1, 'door;': 1, 'garden,': 5, \"don't\": 49, 'care': 4, 'happens!\"': 1, 'ate': 1, 'bit,': 1, 'anxiously': 13, '\"Which': 3, 'way?': 1, 'Which': 3, 'way?\"': 1, 'holding': 2, 'growing,': 4, 'surprised': 6, 'remained': 3, 'same': 21, 'size;': 2, 'sure,': 1, 'happens': 2, 'eats': 1, 'expecting': 3, 'happen,': 1, 'dull': 2, 'stupid': 1, 'life': 2, 'common': 1, 'way.': 3, 'set': 15, 'work,': 1, 'cake.': 1, 'II': 1, '\"CURIOUSER': 1, 'curiouser!\"': 1, 'cried': 18, 'surprised,': 1, 'forgot': 2, 'speak': 8, 'English);': 1, '\"now': 1, 'opening': 3, 'largest': 1, 'telescope': 1, 'was!': 1, 'Good-bye,': 1, 'feet!\"': 1, '(for': 1, 'far': 9, 'off).': 1, '\"Oh,': 19, 'shoes': 5, 'stockings': 1, 'now,': 6, 'dears?': 1, 'sure': 17, \"sha'n't\": 3, 'able!': 1, 'deal': 11, 'myself': 3, 'you:': 1, 'can--but': 1, 'kind': 6, 'them,\"': 3, '\"or': 5, \"won't\": 21, 'want': 8, 'go!': 1, 'give': 9, 'new': 4, 'pair': 5, 'boots': 3, 'Christmas.\"': 1, 'planning': 1, '\"They': 9, 'carrier,\"': 1, 'thought;': 1, 'seem,': 1, 'sending': 2, 'presents': 2, \"one's\": 1, 'feet!': 1, 'odd': 1, 'directions': 1, 'look!': 1, 'Right': 1, 'Foot,': 1, 'Esq.': 1, 'Hearthrug,': 1, 'Fender,': 1, '(with': 2, 'love).': 1, 'talking!\"': 1, 'Just': 5, 'struck': 2, 'roof': 5, 'hall:': 1, 'fact': 2, 'nine': 4, 'door.': 2, 'Poor': 1, 'side,': 3, 'eye;': 2, 'hopeless': 1, 'ever:': 1, 'cry': 3, '\"You': 29, 'ashamed': 2, 'yourself,\"': 1, '\"a': 2, 'you\"': 1, 'this),': 1, 'way!': 1, 'Stop': 1, 'moment,': 6, 'you!\"': 3, 'same,': 2, 'shedding': 1, 'gallons': 1, 'tears,': 3, 'until': 4, 'pool': 6, 'reaching': 1, 'hall.': 1, '[Illustration:': 12, 'CURIOUSER': 1, 'CURIOUSER]': 1, 'heard': 29, 'pattering': 3, 'distance,': 4, 'hastily': 8, 'dried': 1, 'coming.': 2, 'returning,': 1, 'splendidly': 1, 'dressed,': 1, 'white': 6, 'kid': 5, 'gloves': 5, 'fan': 8, 'other:': 3, 'he': 94, 'trotting': 2, 'hurry,': 1, 'muttering': 3, 'himself': 4, 'came,': 2, '\"Oh!': 2, 'Duchess,': 8, 'Duchess!': 3, 'Oh!': 1, 'savage': 3, 'kept': 13, 'waiting!\"': 1, 'desperate': 1, 'ready': 7, 'help': 9, 'one;': 2, 'so,': 7, 'began,': 6, 'low,': 4, 'timid': 3, 'voice,': 15, '\"If': 14, 'please,': 3, 'sir----\"': 1, 'violently,': 2, 'dropped': 4, 'fan,': 1, 'scurried': 1, 'darkness': 1, 'hard': 9, 'go.': 1, 'gloves,': 3, 'and,': 21, 'hall': 1, 'hot,': 1, 'fanning': 1, 'talking!': 1, '\"Dear,': 1, 'queer': 9, 'everything': 8, 'to-day!': 1, 'yesterday': 2, 'usual.': 2, 'changed': 7, 'during': 1, 'night?': 1, 'think:': 1, 'morning?': 1, 'feeling': 6, 'different.': 1, 'question': 7, 'am': 13, 'I?': 1, 'puzzle!\"': 1, 'thinking': 10, 'age': 2, '\"I\\'m': 19, 'Ada,\"': 1, 'hair': 5, 'goes': 7, 'ringlets,': 1, 'mine': 5, \"doesn't\": 16, 'ringlets': 1, 'all;': 2, \"can't\": 23, 'Mabel,': 3, 'know': 45, 'sorts': 3, 'she,': 4, 'oh!': 2, 'knows': 2, 'little!': 1, 'Besides,': 1, \"she's\": 4, 'I,': 1, 'and--oh': 2, 'puzzling': 4, 'is!': 1, 'try': 11, 'used': 12, 'times': 6, 'five': 1, 'twelve,': 1, 'six': 2, 'thirteen,': 1, 'seven': 1, 'is--oh': 1, 'twenty': 1, 'rate!': 1, 'Multiplication': 1, 'Table': 1, 'signify:': 1, \"let's\": 3, 'Geography.': 1, 'London': 1, 'capital': 4, 'Paris,': 1, 'Paris': 1, 'Rome,': 1, 'Rome--no,': 1, 'wrong,': 2, 'certain!': 1, 'Mabel!': 1, 'doth': 3, 'little----': 1, '\\'\"': 1, 'crossed': 3, 'lap': 2, 'lessons,': 1, 'repeat': 6, 'sounded': 5, 'hoarse': 2, 'strange,': 1, 'do:--': 1, '\"How': 15, 'crocodile': 1, 'Improve': 1, 'shining': 1, 'tail,': 3, 'pour': 1, 'waters': 1, 'Nile': 1, 'On': 4, 'scale!': 1, 'cheerfully': 1, 'seems': 4, 'grin,': 3, 'neatly': 2, 'spreads': 1, 'claws,': 1, 'welcomes': 1, 'fishes': 1, 'in,': 1, 'gently': 3, 'smiling': 2, 'jaws!\"': 1, 'words,\"': 1, 'on.': 9, 'all,': 3, 'live': 7, 'poky': 1, 'house,': 9, 'toys': 1, 'play': 8, 'with,': 1, 'learn!': 2, 'it;': 8, 'stay': 4, 'here!': 2, \"It'll\": 1, 'putting': 3, 'saying,': 3, \"'Come\": 1, 'again,': 30, \"dear!'\": 1, \"'Who\": 1, 'then?': 1, 'Tell': 3, 'first,': 7, 'then,': 6, 'being': 19, 'person,': 1, 'up:': 1, 'not,': 9, 'till': 20, \"else'--but,\": 1, 'oh': 1, 'dear!\"': 3, 'burst': 1, 'down!': 2, 'alone': 2, 'here!\"': 1, 'As': 12, 'hands,': 5, \"Rabbit's\": 3, 'while': 15, 'talking.': 2, 'done': 10, 'that?\"': 6, 'thought.': 2, 'growing': 6, 'again.\"': 2, 'measure': 1, 'guess,': 1, 'shrinking': 4, 'rapidly:': 1, 'cause': 2, 'holding,': 1, 'hastily,': 4, 'avoid': 1, 'altogether.': 1, '\"That': 6, 'narrow': 1, 'escape!\"': 1, 'frightened': 7, 'change,': 2, 'existence;': 1, 'garden!\"': 1, 'speed': 1, 'door:': 1, 'worse': 2, 'ever,\"': 2, 'child,': 1, 'never!': 1, 'declare': 1, 'bad,': 1, 'is!\"': 3, 'these': 13, 'foot': 6, 'slipped,': 1, 'splash!': 1, 'chin': 4, 'salt': 2, 'water.': 1, 'somehow': 1, 'sea,': 3, 'case': 4, 'railway,\"': 1, 'seaside': 1, 'life,': 2, 'general': 3, 'conclusion,': 1, 'wherever': 2, 'English': 1, 'coast': 1, 'number': 4, 'bathing': 1, 'machines': 1, 'digging': 2, 'sand': 1, 'wooden': 1, 'spades,': 1, 'lodging': 1, 'houses,': 1, 'railway': 1, 'station.)': 1, 'wept': 1, 'high.': 3, \"hadn't\": 7, 'much!\"': 2, 'swam': 5, 'about,': 6, 'out.': 2, 'punished': 1, 'suppose,': 1, 'drowned': 1, 'tears!': 1, 'thing,': 4, 'sure!': 1, 'to-day.\"': 1, 'something': 15, 'splashing': 2, 'nearer': 4, 'was:': 2, 'walrus': 1, 'hippopotamus,': 1, 'mouse': 3, 'slipped': 2, '\"Would': 5, 'mouse?': 1, 'Everything': 1, 'here,': 6, 'talk:': 1, 'rate,': 2, 'harm': 1, 'trying.\"': 1, 'began:': 1, '\"O': 1, 'Mouse,': 9, 'pool?': 1, 'swimming': 2, 'O': 1, 'Mouse!\"': 1, 'speaking': 2, 'mouse;': 1, \"brother's\": 1, 'Latin': 1, 'Grammar,': 1, '\"A': 9, 'mouse--of': 1, 'mouse--to': 1, 'mouse--a': 1, 'mouse--O': 1, 'mouse!\")': 1, 'Mouse': 17, 'inquisitively,': 1, 'wink': 2, 'eyes,': 5, 'nothing.': 3, '\"Perhaps': 3, 'understand': 4, 'English,\"': 1, 'Alice;': 12, 'daresay': 2, 'French': 3, 'William': 5, 'Conqueror.\"': 1, '(For,': 1, 'knowledge': 1, 'history,': 4, 'clear': 2, 'notion': 3, 'ago': 1, 'happened.)': 1, 'again:': 6, '\"Où': 1, 'est': 1, 'ma': 1, 'chatte?\"': 1, 'sentence': 5, 'lesson-book.': 1, 'leap': 1, 'water,': 1, 'quiver': 1, 'fright.': 1, 'pardon!\"': 4, 'afraid': 9, 'hurt': 2, \"animal's\": 1, 'feelings.': 1, 'cats.\"': 1, '\"Not': 9, 'cats!\"': 1, 'shrill,': 2, 'passionate': 1, 'voice.': 10, 'me?\"': 2, 'not,\"': 6, 'soothing': 1, 'tone:': 3, '\"don\\'t': 2, 'angry': 4, 'yet': 7, 'show': 3, 'cat': 7, 'Dinah:': 1, \"you'd\": 8, 'dear': 6, 'quiet': 2, 'thing,\"': 3, 'lazily': 1, 'pool,': 2, 'sits': 1, 'purring': 1, 'nicely': 2, 'fire,': 3, 'licking': 1, 'paws': 2, 'washing': 2, 'face--and': 1, 'soft': 1, 'nurse--and': 1, 'catching': 2, 'mice----oh,': 1, 'bristling': 1, 'over,': 2, 'offended.': 1, '\"We': 7, 'talk': 10, 'not.\"': 2, '\"We,': 1, 'indeed!\"': 6, 'trembling': 6, 'end': 12, 'tail.': 2, '\"As': 3, 'subject!': 1, 'family': 1, 'always': 11, 'hated': 1, 'cats:': 1, 'nasty,': 1, 'vulgar': 1, 'things!': 1, \"Don't\": 4, 'let': 7, 'again!\"': 7, 'hurry': 4, 'change': 9, 'conversation.': 5, '\"Are': 5, 'you--are': 1, 'fond--of--of': 1, 'dogs?\"': 1, 'answer,': 1, 'eagerly:': 1, 'dog': 2, 'house': 8, 'you!': 2, 'bright-eyed': 1, 'terrier,': 1, 'know,': 7, 'oh,': 3, 'curly': 1, 'brown': 1, 'hair!': 1, 'fetch': 4, 'throw': 3, 'them,': 20, 'sit': 6, 'dinner,': 1, 'things--I': 1, 'them--and': 2, 'belongs': 2, 'farmer,': 1, 'says': 4, 'useful,': 2, 'hundred': 1, 'pounds!': 1, 'He': 14, 'kills': 1, 'rats': 1, 'sorrowful': 2, 'tone,': 16, 'offended': 6, 'go,': 4, 'commotion': 1, 'went.': 2, 'called': 16, 'softly': 1, '\"Mouse': 1, 'dogs': 1, 'them!\"': 5, 'When': 7, 'slowly': 6, 'her:': 5, 'pale': 2, 'passion,': 2, 'thought),': 1, '\"Let': 3, 'us': 9, 'shore,': 2, \"you'll\": 4, 'why': 7, 'hate': 1, 'dogs.\"': 1, 'high': 4, 'birds': 7, 'animals': 3, 'Duck': 1, 'Dodo,': 3, 'Lory': 3, 'Eaglet,': 1, 'creatures.': 1, 'party': 7, 'shore.': 1, 'III': 1, 'Caucus-race': 1, 'Long': 1, 'Tale': 1, 'THEY': 1, 'queer-looking': 1, 'assembled': 2, 'bank--the': 1, 'draggled': 1, 'feathers,': 1, 'fur': 2, 'clinging': 1, 'dripping': 1, 'wet,': 1, 'cross,': 1, 'uncomfortable.': 2, 'course': 11, 'consultation': 1, 'natural': 3, 'familiarly': 1, 'known': 1, 'life.': 2, 'Indeed,': 1, 'argument': 4, 'Lory,': 3, 'last': 26, 'sulky,': 1, 'older': 2, 'better;\"': 1, 'allow': 1, 'knowing': 2, 'positively': 1, 'refused': 1, 'age,': 2, 'said.': 4, 'person': 2, 'authority': 2, '\"Sit': 1, 'enough!\"': 1, 'once,': 5, 'ring,': 2, 'middle.': 1, 'fixed': 1, 'bad': 1, 'cold': 1, 'soon.': 1, '\"Ahem!\"': 1, 'important': 3, 'air.': 6, 'ready?': 1, 'This': 14, 'driest': 1, 'Silence': 1, 'please!': 1, \"'William\": 1, 'Conqueror,': 1, 'whose': 2, 'favoured': 1, 'pope,': 1, 'submitted': 1, 'English,': 1, 'wanted': 4, 'leaders,': 1, 'accustomed': 1, 'usurpation': 1, 'conquest.': 1, 'Edwin': 1, 'Morcar,': 2, 'earls': 2, 'Mercia': 2, 'Northumbria--\\'\"': 1, '\"Ugh!\"': 1, 'shiver.': 1, 'frowning,': 1, 'politely.': 1, '\"Did': 3, 'speak?\"': 1, 'I!\"': 2, 'hastily.': 3, 'did,\"': 3, '\"--I': 1, 'proceed.': 1, \"'Edwin\": 1, 'Northumbria,': 1, 'declared': 1, 'him:': 3, 'Stigand,': 1, 'patriotic': 1, 'Archbishop': 1, 'Canterbury,': 1, 'advisable--\\'\"': 1, '\"Found': 2, '?\"': 9, 'Duck.': 1, ',\"': 14, 'replied': 13, 'crossly:': 1, '\"of': 1, \"'it'\": 2, 'means.\"': 1, 'means': 2, 'enough,': 2, 'Duck;': 1, '\"it\\'s': 6, 'frog': 1, 'worm.': 1, 'archbishop': 1, 'find?\"': 1, 'notice': 5, 'hurriedly': 2, '\"\\'--found': 1, 'advisable': 1, 'Edgar': 1, 'Atheling': 1, 'meet': 2, 'offer': 2, 'crown.': 1, \"William's\": 1, 'conduct': 1, 'moderate.': 1, 'insolence': 1, \"Normans--'\": 1, 'dear?\"': 1, 'continued,': 2, 'turning': 12, 'spoke.': 6, 'wet': 1, 'melancholy': 6, 'tone;': 3, '\"doesn\\'t': 1, 'all.\"': 2, '\"In': 5, 'case,\"': 1, 'Dodo': 9, 'solemnly,': 1, 'rising': 1, 'move': 2, 'meeting': 1, 'adjourn,': 1, 'immediate': 1, 'adoption': 1, 'energetic': 1, 'remedies----\"': 1, '\"Speak': 2, 'English!\"': 1, 'Eaglet.': 1, 'meaning': 7, 'words,': 1, \"what's\": 2, 'more,': 4, 'either!\"': 1, 'Eaglet': 1, 'bent': 1, 'hide': 1, 'smile:': 1, 'tittered': 1, 'audibly.': 1, 'say,\"': 4, '\"was': 1, 'Caucus-race.\"': 1, 'Caucus-race?\"': 1, 'paused': 1, 'speak,': 2, 'inclined': 1, 'anything.': 1, '\"Why,\"': 2, '\"the': 5, 'explain': 8, 'it.\"': 8, '(And,': 1, 'yourself': 6, 'winter': 1, 'day,': 4, 'it.)': 2, 'First': 2, 'race-course,': 1, 'circle,': 1, '(\"the': 1, 'exact': 1, 'shape': 1, 'matter,\"': 1, 'said,)': 1, 'placed': 1, 'course,': 5, 'there.': 2, '\"One,': 2, 'two,': 9, 'three,': 1, 'away,\"': 1, 'running': 8, 'liked,': 2, 'easy': 2, 'race': 2, 'hour': 2, 'over!\"': 3, 'panting,': 2, 'asking': 4, 'thought,': 6, 'stood': 8, 'pressed': 3, 'forehead': 2, '(the': 1, 'position': 2, 'Shakespeare,': 1, 'him),': 1, 'silence.': 5, '\"': 20, 'Everybody': 2, 'prizes.\"': 1, 'prizes?\"': 1, 'chorus': 2, 'asked.': 8, 'course,\"': 6, 'pointing': 3, 'finger;': 1, 'calling': 1, 'confused': 3, '\"Prizes!': 1, 'Prizes!\"': 1, 'despair': 1, 'pocket,': 2, 'pulled': 1, 'comfits': 1, '(luckily': 1, 'water': 2, 'handed': 3, 'prizes.': 1, 'exactly': 5, 'apiece': 1, 'round.': 3, 'prize': 1, 'Mouse.': 1, '\"Of': 11, 'gravely.': 1, 'pocket?\"': 1, '\"Only': 2, 'thimble,\"': 1, 'sadly.': 2, '\"Hand': 1, 'here,\"': 4, 'Dodo.': 1, 'Then': 9, 'solemnly': 2, 'presented': 1, 'thimble,': 2, 'acceptance': 1, 'elegant': 1, 'thimble;\"': 1, 'short': 4, 'speech,': 1, 'cheered.': 1, 'absurd,': 1, 'grave': 3, 'dare': 4, 'laugh;': 1, 'simply': 2, 'bowed,': 1, 'looking': 30, 'solemn': 3, 'could.': 4, 'comfits;': 1, 'caused': 2, 'noise': 3, 'confusion,': 2, 'complained': 1, 'theirs,': 1, 'ones': 1, 'choked': 3, 'patted': 1, 'back.': 2, 'last,': 5, 'begged': 1, 'more.': 1, 'promised': 1, 'hate--C': 1, 'D,\"': 1, 'added': 17, 'whisper,': 1, '\"Mine': 1, 'sad': 2, 'tale!\"': 1, 'sighing.': 1, 'certainly,\"': 3, \"Mouse's\": 1, 'tail;': 1, '\"but': 19, 'call': 5, 'sad?\"': 1, 'speaking,': 3, 'this:--': 2, '\"Fury': 1, 'met': 3, \"'Let\": 1, 'law:': 1, 'prose-': 1, 'cute': 1, '.--': 1, 'Come,': 1, 'de-': 1, 'nial:': 1, 'We': 2, 'trial;': 1, 'morn-': 1, 'ing': 2, \"do.'\": 1, 'Said': 3, 'cur,': 1, \"'Such\": 1, 'trial,': 1, 'sir,': 4, 'jury': 9, 'judge,': 3, 'wast-': 1, \"breath.'\": 1, \"'I'll\": 2, \"jury,'\": 1, 'cun-': 1, 'ning': 1, 'Fury:': 1, 'cause,': 1, 'con-': 1, 'demn': 1, \"death.'\": 1, 'attending!\"': 1, 'severely.': 1, 'of?\"': 3, 'pardon,\"': 1, 'humbly:': 1, '\"you': 8, 'fifth': 1, 'bend,': 1, 'think?\"': 2, '!\"': 3, 'angrily.': 3, 'knot!\"': 1, 'undo': 1, 'it!\"': 7, 'sort,\"': 1, 'away.': 3, 'insult': 1, 'nonsense!\"': 2, 'mean': 7, 'pleaded': 3, 'easily': 3, 'offended,': 1, 'know!\"': 2, 'growled': 1, 'reply.': 3, '\"Please': 3, 'finish': 4, 'story!\"': 2, 'others': 4, 'joined': 2, 'chorus,': 1, '\"Yes,': 8, 'please': 9, 'do!\"': 3, 'shook': 9, 'impatiently': 1, 'quicker.': 1, 'pity': 1, 'stay!\"': 1, 'sighed': 5, 'sight;': 1, 'Crab': 1, 'daughter,': 1, '\"Ah,': 2, 'lesson': 1, 'lose': 1, 'temper!\"': 1, '\"Hold': 3, 'tongue,': 1, 'Ma!\"': 1, 'young': 5, 'Crab,': 1, 'snappishly.': 1, '\"You\\'re': 6, 'patience': 1, 'oyster!\"': 1, 'Dinah': 4, 'aloud,': 1, 'addressing': 1, 'nobody': 3, 'particular.': 1, '\"She\\'d': 1, 'back!\"': 2, 'venture': 3, 'question?\"': 1, 'Lory.': 1, 'eagerly,': 3, 'pet:': 1, '\"Dinah\\'s': 1, 'cat.': 1, 'mice,': 1, \"ca'n't\": 4, 'think!': 1, 'birds!': 1, 'speech': 1, 'sensation': 1, 'party.': 1, 'Some': 2, 'Magpie': 1, 'wrapping': 1, 'itself': 8, 'carefully,': 3, 'remarking': 3, 'home;': 1, 'night-air': 1, 'suit': 3, 'throat!\"': 1, 'Canary': 1, '\"Come': 6, 'away,': 3, 'dears!': 1, \"It's\": 6, 'bed!\"': 1, 'various': 1, 'pretexts': 1, 'moved': 4, 'alone.': 1, 'mentioned': 3, 'Dinah!\"': 1, 'tone.': 10, '\"Nobody': 2, 'world!': 1, 'Dinah!': 1, 'more!\"': 1, 'lonely': 2, 'low-spirited.': 1, 'footsteps': 1, 'mind,': 2, 'story.': 1, 'IV': 1, 'sends': 1, 'Little': 1, 'Bill': 2, 'IT': 1, 'Rabbit,': 8, 'went,': 2, 'lost': 1, 'something;': 1, 'paws!': 1, 'whiskers!': 1, \"She'll\": 1, 'executed,': 2, 'ferrets': 1, 'ferrets!': 1, 'Where': 3, 'guessed': 3, 'good-naturedly': 1, 'hunting': 3, 'nowhere': 2, 'seen--everything': 1, 'swim': 3, 'vanished': 3, 'completely.': 1, 'Very': 1, 'here?': 3, 'Run': 1, 'fan!': 1, 'Quick,': 1, 'now!\"': 3, 'direction': 2, 'pointed': 1, 'mistake': 2, 'made.': 1, '\"He': 5, 'housemaid,\"': 1, 'ran.': 1, \"he'll\": 1, 'finds': 1, 'am!': 1, \"I'd\": 7, 'better': 11, 'gloves--that': 1, 'them.\"': 2, 'neat': 1, 'brass': 1, 'plate': 2, '\"W.': 1, 'RABBIT\"': 1, 'engraved': 1, 'knocking,': 1, 'stairs,': 1, 'lest': 1, 'real': 3, 'gloves.': 1, '\"]': 1, 'seems,\"': 1, 'messages': 2, 'rabbit!': 1, 'suppose': 8, \"Dinah'll\": 1, 'next!\"': 1, 'fancying': 1, 'happen:': 1, '\"\\'Miss': 1, 'Come': 4, 'directly,': 1, \"walk!'\": 1, \"'Coming\": 1, 'minute,': 4, 'nurse!': 1, 'mouse-hole': 1, 'back,': 4, \"out.'\": 1, 'Only': 1, 'think,\"': 2, '\"that': 7, \"they'd\": 3, 'stop': 3, 'ordering': 2, 'tidy': 1, 'room': 8, 'window,': 5, 'hoped)': 1, 'pairs': 1, 'gloves:': 1, 'room,': 1, 'looking-glass.': 1, 'label': 1, 'ME,\"': 1, 'nevertheless': 1, 'uncorked': 1, 'lips.': 1, 'interesting': 3, 'happen,\"': 1, '\"whenever': 1, 'does.': 1, 'thing!\"': 6, 'indeed,': 1, 'expected:': 1, 'drunk': 2, 'bottle,': 2, 'pressing': 1, 'ceiling,': 1, 'stoop': 1, 'broken.': 1, 'enough--I': 1, 'more--As': 1, 'door--I': 1, 'Alas!': 1, 'that!': 2, 'kneel': 1, 'floor:': 1, 'minute': 15, 'effect': 1, 'elbow': 2, 'arm': 7, 'curled': 2, 'head.': 5, 'Still': 1, 'resource,': 1, 'chimney,': 2, '\"Now': 5, 'whatever': 2, 'happens.': 1, 'What': 6, 'become': 6, 'Luckily': 1, 'magic': 1, 'full': 6, 'effect,': 1, 'larger:': 1, 'uncomfortable,': 1, 'chance': 4, 'unhappy.': 1, 'pleasanter': 1, 'home,\"': 1, '\"when': 2, \"wasn't\": 11, 'ordered': 2, 'rabbits.': 1, 'gone': 8, 'rabbit-hole--and': 1, 'yet--and': 1, \"yet--it's\": 1, 'curious,': 1, 'life!': 1, 'fairy-tales,': 1, 'fancied': 2, 'middle': 3, 'one!': 1, 'me,': 3, 'ought!': 1, 'write': 5, 'one--but': 1, 'grown': 7, '\"at': 2, 'least': 7, '.\"': 6, 'then,\"': 6, '\"shall': 1, 'now?': 1, \"That'll\": 1, 'comfort,': 1, 'way--never': 1, 'woman--but': 1, 'then--always': 1, \"shouldn't\": 5, 'foolish': 1, 'Alice!\"': 1, 'answered': 3, 'learn': 4, 'lesson-books!\"': 1, 'taking': 5, 'conversation': 4, 'altogether;': 1, 'outside,': 1, 'stopped': 3, 'listen.': 2, '\"Mary': 1, 'Ann!': 1, 'Ann!\"': 1, '\"Fetch': 1, 'moment!\"': 1, 'stairs.': 1, 'trembled': 2, 'forgetting': 3, 'reason': 8, 'inwards,': 1, 'attempt': 2, 'proved': 2, 'failure.': 1, '\"Then': 11, 'window.\"': 1, 'won\\'t\"': 1, 'spread': 2, 'hand,': 5, 'snatch': 2, 'anything,': 1, 'shriek': 3, 'fall,': 1, 'crash': 1, 'broken': 5, 'concluded': 2, 'possible': 1, 'cucumber-frame,': 1, 'sort.': 1, 'Next': 2, 'voice--the': 1, 'Rabbit\\'s--\"Pat!': 1, 'Pat!': 1, 'you?\"': 6, '\"Sure': 1, 'Digging': 1, 'apples,': 2, 'yer': 4, 'honour!\"': 1, '\"Digging': 1, '\"Here!': 2, '(Sounds': 1, 'glass.)': 1, 'Pat,': 1, 'window?\"': 1, '\"Sure,': 3, 'arm,': 5, 'honour.\"': 1, '(He': 1, 'pronounced': 1, '\"arrum.\")': 1, '\"An': 1, 'goose!': 1, 'size?': 1, 'fills': 1, 'window!\"': 1, 'does,': 1, 'honour?': 1, 'that.\"': 3, 'business': 2, 'there,': 1, 'rate:': 1, 'away!\"': 2, 'whispers': 1, 'honour,': 1, 'all!\"': 1, 'coward!\"': 1, 'shrieks,': 1, 'sounds': 3, 'glass.': 1, 'cucumber-frames': 1, 'be!\"': 1, 'next!': 2, 'pulling': 1, '!': 1, 'longer!\"': 1, 'hearing': 3, 'more:': 1, 'rumbling': 1, 'cart-wheels,': 1, 'together:': 1, 'words:': 3, '\"Where\\'s': 1, 'ladder?--Why': 1, \"Bill's\": 4, 'other--Bill!': 1, 'Fetch': 1, 'lad!--Here,': 1, \"'em\": 3, 'corner--No,': 1, 'tie': 1, 'together': 2, 'first--they': 1, 'yet--Oh!': 1, 'enough;': 2, 'particular--Here,': 1, 'Bill!': 3, 'rope--Will': 1, 'bear?--Mind': 1, 'loose': 1, 'slate--Oh,': 1, 'Heads': 1, 'below!\"': 1, '(a': 1, 'loud': 3, 'crash)--\"Now,': 1, 'that?--It': 1, 'Bill,': 3, \"fancy--Who's\": 1, 'chimney?--Nay,': 1, \"sha'n't!\": 1, 'You': 9, 'it!--': 1, \"won't,\": 1, 'then!': 1, 'down--Here,': 1, 'master': 2, \"you've\": 6, 'chimney!\"': 1, 'he?\"': 1, 'place': 6, 'deal:': 1, 'fireplace': 1, 'narrow,': 1, 'sure;': 1, 'kick': 2, 'little!\"': 1, 'chimney': 2, 'animal': 1, 'guess': 2, 'was)': 1, 'scratching': 1, 'scrambling': 1, 'above': 3, '\"This': 2, 'Bill,\"': 2, 'sharp': 6, 'kick,': 1, 'Bill!\"': 1, 'alone--\"Catch': 1, 'him,': 4, 'hedge!\"': 1, 'silence,': 2, 'confusion': 3, 'voices--\"Hold': 1, 'head--Brandy': 1, \"now--Don't\": 1, 'choke': 1, 'him--How': 1, 'fellow?': 1, 'you?': 3, 'feeble,': 1, 'squeaking': 2, '(\"That\\'s': 1, 'know--No': 1, 'thank': 1, 'ye;': 1, 'now--but': 1, 'flustered': 1, 'you--all': 1, 'Jack-in-the-box,': 1, 'sky-rocket!\"': 1, '\"So': 4, 'did,': 3, 'fellow!\"': 1, 'others.': 2, 'down!\"': 1, 'dead': 5, 'instantly,': 2, 'If': 4, 'sense,': 2, 'off.\"': 1, 'barrowful': 2, 'with.\"': 1, 'doubt,': 2, 'shower': 2, 'pebbles': 2, 'rattling': 2, 'hit': 2, 'face.': 3, '\"I\\'ll': 5, 'this,\"': 1, 'shouted': 9, '\"You\\'d': 1, 'produced': 1, 'surprise': 1, 'cakes': 1, 'lay': 4, 'floor,': 2, 'cakes,\"': 1, 'suppose.\"': 1, 'swallowed': 1, 'cakes,': 1, 'delighted': 2, 'directly.': 1, 'crowd': 4, 'outside.': 1, 'Lizard,': 2, 'held': 4, 'guinea-pigs,': 2, 'giving': 2, 'bottle.': 1, 'rush': 2, 'appeared;': 1, 'safe': 2, 'thick': 1, 'wood.': 3, 'do,\"': 4, 'wandered': 2, 'wood,': 1, '\"is': 1, 'again;': 2, 'plan.\"': 1, 'excellent': 2, 'plan,': 1, 'arranged;': 1, 'difficulty': 3, 'smallest': 2, 'peering': 1, 'trees,': 2, 'bark': 2, 'enormous': 1, 'puppy': 5, 'feebly': 1, 'stretching': 1, 'paw,': 2, 'touch': 1, '\"Poor': 1, 'coaxing': 1, 'whistle': 1, 'terribly': 1, 'hungry,': 1, 'spite': 1, 'coaxing.': 1, 'Hardly': 1, 'picked': 3, 'stick,': 4, 'puppy;': 1, 'whereupon': 1, 'air': 2, 'yelp': 1, 'delight,': 2, 'rushed': 1, 'worry': 1, 'dodged': 1, 'thistle,': 1, 'keep': 8, 'run': 3, 'over;': 1, 'appeared': 3, 'tumbled': 1, 'heels': 1, 'cart-horse,': 1, 'trampled': 1, 'thistle': 1, 'series': 1, 'charges': 1, 'forwards': 1, 'each': 7, 'barking': 1, 'hoarsely': 1, 'tongue': 1, 'mouth,': 2, 'shut.': 1, 'escape;': 1, 'breath,': 3, \"puppy's\": 1, 'faint': 1, 'distance.': 2, 'was!\"': 1, 'leant': 1, 'buttercup': 1, 'fanned': 1, 'leaves.': 2, 'liked': 3, 'teaching': 1, 'tricks': 1, 'much,': 2, 'if--if': 1, 'it!': 1, 'again!': 1, 'see--how': 1, 'managed?': 1, 'other;': 2, 'what?\"': 1, 'what?': 1, 'blades': 1, 'grass,': 2, 'circumstances.': 1, 'mushroom': 4, 'height': 4, 'herself;': 3, 'stretched': 2, 'tiptoe,': 2, 'edge': 3, 'mushroom,': 3, 'immediately': 3, 'blue': 1, 'caterpillar,': 1, 'folded,': 2, 'quietly': 4, 'smoking': 2, 'hookah,': 1, 'else.': 2, 'V': 1, 'silence:': 1, 'hookah': 4, 'addressed': 2, 'languid,': 1, '\"Who': 6, 'Caterpillar.': 12, 'encouraging': 2, 'replied,': 5, 'shyly,': 1, 'present--at': 1, 'morning,': 2, 'then.\"': 2, 'sternly.': 1, '\"Explain': 2, 'yourself!\"': 1, 'sir,\"': 2, '\"because': 3, 'myself,': 1, 'see.\"': 1, 'see,\"': 1, 'clearly,\"': 1, 'politely,': 3, 'with;': 1, 'different': 4, 'sizes': 1, 'confusing.\"': 1, 'isn\\'t,\"': 1, \"haven't\": 7, 'yet,\"': 4, 'turn': 6, 'chrysalis--you': 1, 'know--and': 1, 'butterfly,': 1, 'queer,': 1, 'bit,\"': 2, 'feelings': 1, 'different,\"': 1, '\"all': 1, '\"You!\"': 1, 'contemptuously.': 2, 'brought': 3, 'irritated': 1, \"Caterpillar's\": 1, 'remarks,': 1, 'gravely,': 2, 'are,': 2, 'first.\"': 1, '\"Why?\"': 2, 'question;': 1, 'reason,': 1, 'state': 1, '\"I\\'ve': 13, 'say!\"': 1, 'promising,': 1, 'certainly:': 2, '\"Keep': 1, 'temper,\"': 1, '\"Is': 3, 'all?\"': 2, 'swallowing': 1, 'anger': 1, '\"No,\"': 2, 'wait,': 1, 'hearing.': 1, 'puffed': 1, 'unfolded': 2, 'arms,': 1, 'mouth': 7, 'changed,': 1, 'am,': 1, 'used--and': 1, 'together!\"': 1, '\"Can\\'t': 1, 'things?\"': 1, 'busy': 2, 'bee': 1, \",'\": 2, 'different!\"': 2, '\"Repeat': 1, 'old,': 3, 'Father': 4, ',\\'\"': 3, 'folded': 1, 'began:--': 1, 'William,\"': 1, 'man': 1, 'white;': 1, 'incessantly': 1, 'stand': 4, 'head--': 1, 'think,': 1, 'right?\"': 1, 'youth,\"': 3, 'son,': 1, 'feared': 1, 'injure': 1, 'brain;': 1, 'But,': 2, 'perfectly': 4, 'none,': 1, 'old,\"': 3, 'youth,': 3, '\"as': 4, 'most': 8, 'uncommonly': 1, 'fat;': 1, 'back-somersault': 1, 'door--': 1, 'Pray,': 2, 'sage,': 1, 'grey': 1, 'locks,': 1, 'limbs': 1, 'supple': 1, 'ointment--one': 1, 'shilling': 1, 'box--': 1, 'Allow': 1, 'sell': 1, 'couple?\"': 1, 'jaws': 1, 'tougher': 1, 'suet;': 1, 'goose,': 1, 'bones': 1, 'beak--': 1, 'it?\"': 11, 'father,': 1, 'law': 1, 'argued': 1, 'wife;': 1, 'muscular': 1, 'strength,': 1, 'jaw,': 1, 'lasted': 1, 'life.\"': 2, '\"one': 1, 'steady': 1, 'ever;': 1, 'balanced': 1, 'eel': 1, 'nose--': 1, 'awfully': 1, 'clever?\"': 1, 'questions,': 1, 'enough,\"': 1, 'father;': 1, 'airs!': 1, 'stuff?': 1, 'Be': 1, 'stairs!\"': 1, 'right,\"': 3, 'right,': 3, 'afraid,\"': 1, 'timidly;': 1, '\"some': 1, 'altered.\"': 1, 'wrong': 2, 'end,\"': 1, 'Caterpillar,': 3, 'decidedly,': 3, 'minutes.': 2, 'speak.': 1, 'be?\"': 2, 'particular': 1, 'size,\"': 1, 'replied;': 4, '\"only': 2, 'changing': 2, 'often,': 2, 'know.\"': 9, 'nothing:': 1, 'contradicted': 1, 'losing': 1, 'temper.': 1, 'content': 1, 'now?\"': 2, 'mind,\"': 1, 'Alice:': 7, '\"three': 1, 'wretched': 2, 'be.\"': 1, 'angrily,': 3, 'rearing': 1, 'upright': 1, 'spoke': 4, 'high).': 1, 'piteous': 1, 'creatures': 6, 'offended!\"': 1, '\"You\\'ll': 2, 'time,\"': 5, 'Caterpillar;': 1, 'patiently': 1, 'chose': 1, 'yawned': 2, 'twice,': 3, 'itself.': 1, 'crawled': 1, 'merely': 2, '\"One': 2, 'taller,': 1, 'shorter.\"': 1, '?': 1, 'mushroom,\"': 1, 'asked': 9, 'aloud;': 1, 'sight.': 1, 'thoughtfully': 1, 'difficult': 2, 'question.': 3, 'broke': 2, 'hand.': 1, 'which?\"': 1, 'nibbled': 2, 'right-hand': 2, 'effect:': 1, 'violent': 2, 'blow': 2, 'underneath': 1, 'chin:': 1, 'foot!': 1, 'lost,': 1, 'rapidly;': 1, 'work': 7, 'bit.': 2, 'closely': 1, 'mouth;': 1, 'swallow': 1, 'morsel': 1, 'left-hand': 2, \"head's\": 1, 'free': 2, 'last!\"': 1, 'shoulders': 2, 'found:': 1, 'immense': 1, 'length': 1, 'neck,': 1, 'rise': 1, 'stalk': 1, 'sea': 2, 'green': 3, 'leaves': 2, 'below': 1, 'stuff': 1, 'to?': 1, 'spoke,': 5, 'result': 1, 'follow,': 1, 'except': 3, 'shaking': 3, 'distant': 2, 'head,': 4, 'bend': 1, 'direction,': 1, 'serpent.': 1, 'succeeded': 3, 'curving': 1, 'graceful': 1, 'zigzag,': 1, 'dive': 1, 'tops': 1, 'trees': 5, 'wandering,': 1, 'hiss': 1, 'draw': 4, 'hurry:': 2, 'pigeon': 1, 'flown': 1, 'face,': 3, 'beating': 1, 'wings.': 1, '\"Serpent!\"': 1, 'screamed': 4, 'Pigeon.': 2, 'serpent!\"': 1, 'indignantly.': 3, 'alone!\"': 1, '\"Serpent,': 1, 'repeated': 8, 'Pigeon,': 2, 'subdued': 1, 'sob,': 1, 'about,\"': 1, 'roots': 1, 'banks,': 1, 'hedges,\"': 1, 'Pigeon': 5, 'attending': 2, 'her;': 3, 'serpents!': 1, \"There's\": 1, 'pleasing': 1, 'puzzled,': 1, 'finished.': 1, 'hatching': 1, 'eggs,\"': 1, 'Pigeon;': 2, 'look-out': 1, 'serpents': 2, 'night': 1, 'day!': 1, 'sleep': 4, 'weeks!\"': 1, 'sorry': 1, 'annoyed,\"': 1, 'meaning.': 1, 'taken': 4, 'highest': 1, 'tree': 3, 'wood,\"': 1, 'continued': 5, 'raising': 1, 'shriek,': 2, 'needs': 1, 'wriggling': 1, 'sky!': 1, 'Ugh,': 1, 'Serpent!\"': 1, 'serpent,': 2, 'a----': 1, '----\"': 2, '\"Well!': 2, 'invent': 1, 'something!\"': 1, '\"I--I\\'m': 1, 'girl,\"': 1, 'doubtfully,': 1, 'changes': 2, 'day.': 3, 'deepest': 1, 'contempt.': 1, 'girls': 3, 'no!': 2, \"You're\": 2, 'serpent;': 1, 'denying': 1, 'telling': 2, 'tasted': 2, 'egg!\"': 1, 'eggs,': 3, 'truthful': 1, 'child;': 1, 'eggs': 1, \"they're\": 9, 'say.\"': 2, 'silent': 3, 'adding,': 1, 'does': 4, 'serpent?\"': 1, 'matters': 2, 'hastily;': 1, 'happens;': 1, 'yours': 2, ':': 2, 'raw.\"': 1, 'then!\"': 2, 'sulky': 2, 'settled': 3, 'nest.': 1, 'crouched': 1, 'entangled': 2, 'branches,': 1, 'untwist': 1, 'pieces': 2, 'nibbling': 3, 'taller': 1, 'shorter,': 1, 'bringing': 3, 'usual': 1, 'height.': 1, 'size,': 1, 'strange': 4, 'first;': 2, 'minutes,': 2, 'plan': 1, 'now!': 1, 'are!': 1, 'be,': 2, 'another!': 1, 'size:': 2, 'beautiful': 8, 'garden--how': 1, 'place,': 2, '\"Whoever': 1, 'lives': 1, 'there,\"': 2, '\"it\\'ll': 1, 'why,': 2, 'frighten': 1, 'wits!\"': 1, 'VI': 1, 'Pig': 1, 'Pepper': 1, 'FOR': 1, 'next,': 2, 'footman': 3, 'livery': 1, 'wood--(she': 1, 'considered': 3, 'livery:': 1, 'otherwise,': 1, 'judging': 1, 'only,': 1, 'fish)--and': 1, 'rapped': 1, 'loudly': 2, 'knuckles.': 1, 'livery,': 1, 'frog;': 1, 'footmen,': 1, 'noticed,': 1, 'powdered': 1, 'heads.': 1, 'crept': 1, 'wood': 2, 'Fish-Footman': 2, 'producing': 1, 'letter,': 2, 'himself,': 1, '\"For': 1, 'Duchess.': 3, 'invitation': 2, 'croquet.\"': 2, 'Frog-Footman': 1, 'repeated,': 1, 'order': 2, 'little,': 3, '\"From': 1, 'Queen.': 10, 'Duchess': 15, 'bowed': 3, 'curls': 1, 'together.': 2, 'laughed': 1, 'gone,': 4, 'ground': 2, 'staring': 3, 'stupidly': 1, 'sky.': 2, 'timidly': 2, 'knocked.': 1, '\"There\\'s': 7, 'knocking,\"': 2, 'Footman,': 2, 'reasons.': 1, 'are;': 1, 'secondly,': 2, 'inside,': 1, 'you.\"': 1, 'extraordinary': 2, 'within--a': 1, 'constant': 2, 'howling': 3, 'sneezing,': 1, 'crash,': 1, 'dish': 3, 'kettle': 1, 'pieces.': 1, '\"Please,': 1, '\"how': 1, 'in?\"': 3, 'sense': 1, 'Footman': 4, '\"if': 7, 'between': 5, 'us.': 1, 'instance,': 3, 'inside': 1, 'knock,': 1, 'sky': 1, 'decidedly': 1, 'uncivil.': 1, 'herself:': 1, '\"his': 1, 'questions.': 1, 'remarked,': 1, '\"till': 2, 'to-morrow----\"': 1, 'opened,': 1, 'skimming': 1, \"Footman's\": 1, 'head:': 1, 'grazed': 1, 'nose,': 3, 'him.': 2, '\"----or': 1, 'maybe,\"': 1, 'happened.': 1, 'louder': 1, 'Are': 1, 'Footman.': 1, 'doubt:': 1, 'told': 6, 'so.': 3, '\"It\\'s': 17, 'dreadful,\"': 1, 'muttered': 2, 'argue.': 1, 'drive': 1, 'crazy!\"': 1, 'consider': 2, 'repeating': 3, 'remark,': 3, 'variations.': 1, '\"on': 1, 'days': 2, 'days.\"': 1, 'do?\"': 1, '\"Anything': 1, 'like,\"': 3, 'whistling.': 1, 'him,\"': 2, 'desperately:': 1, '\"he\\'s': 1, 'idiotic!\"': 1, 'in.': 1, 'kitchen,': 1, 'smoke': 1, 'stool': 1, 'nursing': 3, 'baby,': 3, 'cook': 8, 'leaning': 2, 'stirring': 2, 'cauldron': 2, 'soup.': 1, 'pepper': 5, 'soup!\"': 1, 'sneezing.': 1, 'Even': 1, 'sneezed': 1, 'occasionally;': 1, 'baby': 7, 'sneezing': 4, 'alternately': 1, \"moment's\": 2, 'pause.': 1, 'kitchen': 2, 'sneeze,': 1, 'cook,': 2, 'hearth': 1, 'grinning': 1, 'ear': 2, 'ear.': 3, 'timidly,': 4, 'manners': 1, '\"why': 2, 'grins': 1, 'Cheshire': 6, 'cat,\"': 1, 'why.': 1, 'Pig!\"': 1, 'word': 7, 'violence': 1, 'jumped;': 1, 'courage,': 1, 'grinned;': 1, 'grin.\"': 1, 'can,\"': 1, 'Duchess;': 4, 'do.\"': 2, 'pleased': 5, 'much,\"': 5, 'fact.\"': 1, 'introduce': 2, 'fix': 1, 'soup': 1, 'throwing': 2, 'within': 1, 'baby--the': 1, 'fire-irons': 1, 'saucepans,': 1, 'plates,': 1, 'dishes.': 1, 'already,': 1, 'impossible': 2, 'blows': 1, 'not.': 2, 'doing!\"': 1, 'jumping': 4, 'agony': 1, 'terror.': 1, 'precious': 1, 'nose\";': 1, 'everybody': 5, 'minded': 1, 'business,\"': 1, 'growl,': 2, 'faster': 1, 'does.\"': 1, 'advantage,\"': 1, 'knowledge.': 1, '\"Just': 2, 'night!': 1, 'earth': 1, 'takes': 2, 'twenty-four': 1, 'hours': 3, 'axis----\"': 1, '\"Talking': 1, 'axes,\"': 1, '\"chop': 1, 'head.\"': 1, 'glanced': 1, 'meant': 4, 'hint;': 1, 'busily': 4, 'engaged': 2, 'soup,': 1, '\"Twenty-four': 1, 'hours,': 1, ';': 1, 'twelve?': 1, 'I----\"': 1, 'bother': 1, 'abide': 1, 'figures!\"': 1, 'singing': 2, 'lullaby': 1, 'shake': 1, 'line:': 1, 'roughly': 1, 'boy,': 2, 'beat': 4, 'sneezes:': 1, 'annoy,': 1, 'Because': 1, 'teases.\"': 1, 'CHORUS': 1, '(In': 1, 'joined):': 1, '\"Wow!': 2, 'wow!': 2, 'wow!\"': 2, 'sang': 2, 'verse': 1, 'song,': 4, 'tossing': 3, 'howled': 1, 'sneezes;': 1, 'thoroughly': 2, 'enjoy': 1, 'pleases!\"': 1, 'CHORUS.': 1, 'nurse': 1, 'like!\"': 1, 'flinging': 1, 'Queen,\"': 1, 'room.': 1, 'threw': 2, 'frying-pan': 1, 'missed': 2, 'caught': 3, 'difficulty,': 1, 'queer-shaped': 1, 'creature,': 2, 'directions,': 2, '\"just': 1, 'star-fish,\"': 1, 'snorting': 1, 'steam-engine': 1, 'doubling': 1, 'straightening': 1, 'proper': 3, '(which': 1, 'twist': 2, 'knot,': 1, 'tight': 1, 'foot,': 1, 'prevent': 1, 'undoing': 1, 'itself,)': 1, '\"they\\'re': 1, 'kill': 1, 'two:': 1, 'murder': 1, 'behind?\"': 1, 'loud,': 2, 'reply': 1, 'time).': 2, '\"Don\\'t': 4, 'grunt,\"': 1, '\"that\\'s': 1, 'expressing': 1, 'yourself.\"': 2, 'doubt': 1, 'turn-up': 1, 'snout': 1, 'nose;': 1, 'also': 1, 'extremely': 1, 'baby:': 1, 'altogether': 1, 'all.': 4, 'sobbing,\"': 1, 'tears.': 2, 'pig,': 4, 'dear,\"': 1, 'seriously,': 1, 'you.': 1, 'Mind': 1, 'sobbed': 1, '(or': 1, 'grunted,': 1, 'which),': 1, 'creature': 2, 'home?\"': 1, 'alarm.': 1, 'neither': 2, 'less': 4, 'absurd': 1, 'carry': 1, 'further.': 1, 'relieved': 1, 'trot': 1, 'up,\"': 2, 'dreadfully': 6, 'ugly': 1, 'child:': 1, 'handsome': 1, 'think.\"': 1, 'knew,': 1, 'pigs,': 1, 'them----\"': 1, 'startled': 2, 'seeing': 1, 'Cat': 9, 'bough': 1, 'yards': 1, 'grinned': 2, 'good-natured,': 1, 'thought:': 1, 'claws': 1, 'teeth,': 1, 'treated': 1, 'respect.': 1, '\"Cheshire': 1, 'Puss,\"': 1, 'name:': 1, 'wider.': 1, 'far,\"': 2, 'depends': 1, 'to,\"': 1, 'Cat.': 5, 'where----\"': 1, 'go,\"': 2, '\"----': 1, 'explanation.': 1, 'that,\"': 9, 'Cat,': 6, 'enough.\"': 1, 'denied,': 1, 'direction,\"': 2, 'waving': 5, 'paw': 1, '\"lives': 2, 'Hatter:': 5, 'March': 31, 'Hare.': 11, 'Visit': 1, 'like:': 1, 'mad.\"': 3, 'mad': 5, 'people,\"': 1, 'remarked.': 5, 'Cat:': 2, '\"we\\'re': 1, 'here.': 2, 'mad.': 2, 'mad?\"': 2, 'be,\"': 3, 'here.\"': 2, '\"To': 1, 'with,\"': 2, \"dog's\": 1, 'grant': 1, 'so,\"': 6, 'growls': 1, 'angry,': 1, 'wags': 1, 'tail': 3, 'pleased.': 1, 'Now': 2, 'growl': 1, 'pleased,': 1, 'wag': 1, 'angry.': 1, 'Therefore': 1, 'purring,': 1, 'growling,\"': 1, '\"Call': 4, 'to-day?\"': 1, 'invited': 1, 'yet.\"': 2, 'vanished.': 1, 'happening.': 1, 'been,': 1, '\"By-the-bye,': 1, 'became': 2, 'baby?\"': 1, '\"I\\'d': 4, 'ask.\"': 1, 'pig,\"': 2, 'would,\"': 1, 'appear,': 1, 'Hare': 16, 'live.': 1, 'hatters': 1, 'interesting,': 1, 'May,': 1, 'raving': 2, 'mad--at': 1, 'March.\"': 1, 'branch': 1, 'tree.': 1, 'fig?\"': 1, 'appearing': 1, 'vanishing': 1, 'suddenly:': 2, 'giddy.\"': 2, '\"All': 2, 'Cat;': 1, 'ending': 1, 'gone.': 1, 'often': 3, 'grin,\"': 1, 'grin': 1, 'cat!': 1, 'farther': 1, 'sight': 2, 'Hare:': 1, 'chimneys': 1, 'shaped': 2, 'thatched': 1, 'fur.': 1, 'raised': 2, 'towards': 1, '\"Suppose': 2, 'all!': 1, 'Hatter': 24, 'instead!\"': 1, 'VII': 1, 'Tea-party': 1, 'THERE': 1, 'front': 2, 'tea': 4, 'Dormouse': 23, 'fast': 4, 'asleep,': 2, 'using': 2, 'cushion': 1, 'resting': 2, 'elbows': 1, '\"Very': 3, 'uncomfortable': 1, 'Dormouse,\"': 2, 'mind.\"': 1, 'corner': 1, '\"No': 1, 'room!': 1, 'No': 2, 'room!\"': 2, 'indignantly,': 1, 'arm-chair': 1, 'table.': 3, '\"Have': 3, 'wine,\"': 2, 'tea.': 1, \"isn't\": 6, 'any,\"': 1, 'civil': 2, 'invited,\"': 1, 'table,\"': 1, 'laid': 2, 'three.\"': 1, '\"Your': 2, 'wants': 2, 'cutting,\"': 1, 'Hatter.': 13, 'speech.': 1, 'personal': 2, 'remarks,\"': 1, 'severity;': 1, 'rude.\"': 1, 'wide': 1, 'this;': 1, '\"Why': 6, 'raven': 1, 'writing-desk?\"': 1, 'fun': 1, \"they've\": 1, 'riddles.--I': 1, '\"Exactly': 2, 'mean,\"': 2, 'least--at': 1, \"say--that's\": 1, 'bit!\"': 1, \"'I\": 6, \"eat'\": 1, 'see\\'!\"': 1, 'Hare,': 2, \"get'\": 1, 'like\\'!\"': 1, 'Dormouse,': 6, 'sleep,': 1, 'breathe': 1, \"sleep'\": 1, 'breathe\\'!\"': 1, 'you,\"': 4, 'Hatter;': 3, 'dropped,': 1, 'ravens': 1, 'writing-desks,': 1, 'much.': 1, 'Tea': 1, 'Party': 1, 'break': 1, 'month': 1, 'uneasily,': 1, 'fourth.\"': 1, '\"Two': 2, 'wrong!\"': 1, 'butter': 1, 'works!\"': 1, 'added,': 5, 'butter,\"': 1, 'meekly': 1, 'replied.': 4, 'crumbs': 1, 'well,\"': 2, 'grumbled:': 1, 'bread-knife.\"': 1, 'gloomily:': 1, 'cup': 1, 'tea,': 1, 'butter,': 1, 'shoulder': 3, 'curiosity.': 3, 'watch!\"': 1, 'tells': 2, 'month,': 1, \"o'clock\": 3, '\"Does': 2, 'year': 2, 'is?\"': 1, 'readily:': 1, 'stays': 1, 'together.\"': 1, 'puzzled.': 2, \"Hatter's\": 1, 'remark': 3, 'English.': 1, 'understand,\"': 1, 'politely': 1, 'asleep': 4, 'again,\"': 1, 'Hatter,': 9, 'poured': 1, 'nose.': 1, 'impatiently,': 1, 'course;': 1, 'myself.\"': 1, 'riddle': 1, 'yet?\"': 2, 'replied:': 3, '\"what\\'s': 1, 'answer?\"': 1, 'slightest': 1, 'idea,\"': 1, '\"Nor': 1, 'I,\"': 1, 'wearily.': 1, '\"than': 1, 'wasting': 2, 'riddles': 1, 'answers.\"': 1, 'Time': 1, '.': 3, 'don\\'t!\"': 1, 'Time!\"': 1, 'cautiously': 2, 'music.\"': 2, '\"Ah!': 2, 'accounts': 1, 'beating.': 1, 'Now,': 1, 'terms': 1, \"he'd\": 1, 'clock.': 1, 'lessons:': 1, 'whisper': 1, 'hint': 1, 'Time,': 1, 'clock': 1, 'twinkling!': 1, 'Half-past': 1, 'dinner!\"': 1, '(\"I': 2, 'was,\"': 3, 'whisper.)': 1, 'grand,': 1, 'thoughtfully:': 1, 'then--I': 1, 'hungry': 2, 'perhaps,\"': 1, 'half-past': 1, 'liked.\"': 1, 'manage?\"': 1, 'mournfully.': 1, 'quarrelled': 1, 'March----just': 1, 'mad,': 1, 'know----\"': 4, '(pointing': 1, 'teaspoon': 1, 'Hare),': 1, 'concert': 1, 'given': 1, 'Hearts,': 5, 'sing': 3, \"'Twinkle,\": 1, 'twinkle,': 3, 'bat!': 1, \"at!'\": 1, 'perhaps?\"': 1, 'way:--': 1, \"'Up\": 1, 'fly,': 1, 'tea-tray': 1, 'Twinkle,': 2, 'twinkle----\\'\"': 1, 'twinkle': 1, 'pinch': 1, 'stop.': 1, 'verse,\"': 2, 'bawled': 1, \"'He's\": 1, 'murdering': 1, 'time!': 2, 'Off': 2, 'head!\\'\"': 1, 'savage!\"': 1, 'exclaimed': 4, 'mournful': 1, '\"he': 2, 'ask!': 1, 'now.\"': 4, 'tea-things': 1, 'sigh:': 2, 'tea-time,': 1, \"we've\": 2, 'wash': 2, 'whiles.\"': 1, 'suppose?\"': 2, 'up.\"': 2, 'again?\"': 2, 'ask.': 1, 'subject,\"': 1, 'interrupted,': 2, 'yawning.': 1, 'this.': 1, 'vote': 1, 'lady': 2, 'story.\"': 1, 'one,\"': 3, 'alarmed': 1, 'proposal.': 1, 'shall!\"': 1, '\"Wake': 2, 'Dormouse!\"': 1, 'pinched': 2, 'once.': 2, 'eyes.': 3, 'asleep,\"': 1, 'hoarse,': 1, 'feeble': 1, 'voice:': 2, 'fellows': 1, 'saying.\"': 1, '\"Tell': 2, 'quick': 1, 'done.\"': 1, '\"Once': 1, 'sisters,\"': 1, 'hurry;': 1, 'names': 1, 'Elsie,': 1, 'Lacie,': 1, 'Tillie;': 1, 'lived': 3, 'bottom': 4, 'well----\"': 1, 'on?\"': 2, 'interest': 1, 'questions': 2, 'eating': 1, 'drinking.': 1, 'treacle,\"': 1, 'two.': 1, 'remarked;': 1, '\"they\\'d': 1, 'ill.\"': 2, 'were,\"': 2, 'Dormouse;': 3, 'living': 1, 'like,': 2, 'puzzled': 5, 'on:': 2, 'well?\"': 2, '\"Take': 2, 'tea,\"': 3, 'earnestly.': 1, '\"so': 3, 'more.\"': 1, 'nothing.\"': 1, 'opinion,\"': 1, '\"Who\\'s': 1, 'remarks': 1, 'triumphantly.': 1, 'helped': 1, 'bread-and-butter,': 2, 'treacle-well.\"': 1, '\"Sh!': 1, 'sh!\"': 1, 'sulkily': 2, 'remarked:': 2, 'civil,': 1, 'on!\"': 6, 'humbly.': 1, 'interrupt': 1, 'consented': 1, 'sisters--they': 1, 'learning': 2, 'draw,': 1, 'draw?\"': 1, 'promise.': 1, '\"Treacle,\"': 2, 'time.': 2, 'clean': 1, 'cup,\"': 1, 'interrupted': 5, '\"let\\'s': 1, 'on.\"': 2, \"Dormouse's\": 1, 'unwillingly': 1, 'advantage': 2, 'change:': 1, 'upset': 2, 'milk-jug': 1, 'plate.': 1, 'offend': 1, 'cautiously:': 1, 'understand.': 1, 'treacle': 2, 'from?\"': 1, 'water-well,\"': 1, 'treacle-well--eh,': 1, 'stupid!\"': 1, 'choosing': 1, 'remark.': 4, '\"----well': 1, 'in.\"': 1, 'interrupting': 2, 'draw,\"': 1, 'yawning': 1, 'rubbing': 2, 'sleepy;': 1, 'manner': 1, 'things--everything': 1, 'begins': 4, 'M----\"': 1, 'M?\"': 1, 'not?\"': 1, 'silent.': 2, 'closed': 2, 'dose;': 1, 'woke': 1, '\"----that': 1, 'M,': 1, 'mouse-traps,': 1, 'moon,': 1, 'memory,': 1, 'muchness--you': 1, \"'much\": 1, \"muchness'--did\": 1, 'drawing': 1, 'muchness?\"': 1, '\"Really,': 2, 'confused,': 1, 'think----\"': 1, 'talk,\"': 1, 'piece': 5, 'rudeness': 1, 'bear:': 1, 'disgust': 1, 'off;': 1, 'going,': 1, 'teapot.': 1, '\"At': 1, 'stupidest': 1, 'tea-party': 1, 'life!\"': 1, 'leading': 1, 'curious!\"': 1, \"everything's\": 1, 'to-day.': 1, 'once.\"': 2, 'Once': 1, 'unlocking': 1, 'pocket)': 1, 'passage:': 1, '--she': 1, 'flower-beds': 1, 'fountains.': 1, 'VIII': 1, \"Queen's\": 7, 'Croquet-Ground': 1, 'LARGE': 1, 'rose-tree': 1, 'entrance': 1, 'garden:': 1, 'roses': 1, 'white,': 1, 'gardeners': 4, 'painting': 2, 'red.': 1, '\"Look': 1, 'Five!': 2, 'paint': 1, 'Five,': 2, '\"Seven': 1, 'jogged': 1, 'elbow.\"': 1, 'Seven': 3, 'Always': 1, 'blame': 1, 'others!\"': 1, \"You'd\": 1, 'talk!\"': 1, 'Five.': 2, 'deserved': 1, 'beheaded!\"': 2, 'for?\"': 2, 'spoken.': 1, 'none': 3, 'business,': 1, 'Two!\"': 1, 'Seven.': 1, 'business!\"': 2, 'him--it': 1, 'tulip-roots': 1, 'instead': 2, 'onions.\"': 1, 'flung': 1, 'brush,': 1, 'unjust': 1, 'things----\"': 1, 'chanced': 1, 'watching': 3, 'checked': 3, 'also,': 1, 'low.': 1, 'roses?\"': 1, 'Five': 1, 'nothing,': 2, 'Two.': 1, 'Two': 1, 'Miss,': 2, 'red': 1, 'rose-tree,': 2, 'mistake;': 1, \"we're\": 1, 'best,': 2, 'afore': 1, 'comes,': 1, 'to----\"': 1, 'Queen!': 1, 'Queen!\"': 1, 'instantly': 3, 'themselves': 2, 'flat': 1, 'faces.': 1, 'footsteps,': 1, 'eager': 3, 'soldiers': 8, 'carrying': 2, 'clubs;': 1, 'gardeners,': 4, 'oblong': 1, 'flat,': 1, 'corners:': 1, 'courtiers;': 1, 'ornamented': 2, 'diamonds,': 1, 'did.': 1, 'royal': 2, 'children;': 1, 'dears': 1, 'merrily': 1, 'couples;': 1, 'hearts.': 1, 'guests,': 1, 'mostly': 1, 'Kings': 1, 'Queens,': 1, 'recognised': 1, 'Rabbit:': 1, 'hurried,': 1, 'manner,': 1, 'noticing': 1, 'Knave': 7, \"King's\": 2, 'crown': 2, 'crimson': 2, 'velvet': 1, 'cushion;': 1, 'procession,': 2, 'KING': 1, 'QUEEN': 1, 'HEARTS.': 1, 'doubtful': 2, 'lie': 2, 'rule': 2, 'processions;': 1, 'besides,': 1, 'procession,\"': 1, 'faces,': 2, 'waited.': 2, 'procession': 2, 'opposite': 1, 'severely,': 1, 'this?\"': 1, 'smiled': 2, '\"Idiot!\"': 1, 'Queen,': 17, 'impatiently;': 1, '\"What\\'s': 2, 'name,': 1, 'child?\"': 1, '\"My': 2, 'Majesty,\"': 7, 'politely;': 1, 'cards,': 1, \"needn't\": 3, 'rose-tree;': 1, 'pattern': 1, 'backs': 1, 'pack,': 1, 'soldiers,': 2, 'courtiers,': 1, 'children.': 1, 'know?\"': 2, 'courage.': 1, 'fury,': 1, 'glaring': 1, 'beast,': 1, 'head!': 1, 'Off----\"': 1, '\"Nonsense!\"': 1, 'King': 27, '\"Consider': 3, 'dear:': 1, 'child!\"': 2, 'foot.': 1, '\"Get': 2, 'up!\"': 1, 'bowing': 1, 'King,': 14, 'children,': 2, '\"Leave': 1, '\"May': 1, 'Two,': 1, 'humble': 1, 'knee': 1, '\"we': 3, 'trying----\"': 1, 'see!\"': 1, 'meanwhile': 1, 'examining': 1, 'roses.': 1, 'heads!\"': 1, 'remaining': 1, 'execute': 1, 'unfortunate': 3, 'protection.': 1, \"shan't\": 1, 'flower-pot': 1, 'near.': 1, 'marched': 1, 'off?\"': 1, '\"Their': 1, 'Majesty!\"': 2, 'right!\"': 1, '\"Can': 1, 'croquet?\"': 1, 'silent,': 2, 'evidently': 1, '\"Yes!\"': 1, 'roared': 1, '\"It\\'s--it\\'s': 1, 'fine': 2, 'day!\"': 1, 'side.': 2, 'peeping': 1, '\"Very,\"': 1, '\"----where\\'s': 1, 'Duchess?\"': 1, '\"Hush!': 1, 'Hush!\"': 1, 'ear,': 1, 'whispered': 4, '\"She\\'s': 2, 'execution.\"': 1, \"'What\": 2, 'pity!\\'?\"': 1, 'didn\\'t,\"': 1, 'pity.': 1, 'for?\\'\"': 1, '\"She': 2, 'boxed': 1, 'ears--\"': 1, 'began.': 3, 'scream': 1, 'laughter.': 1, 'hush!\"': 1, 'late,': 1, 'said----\"': 3, 'places!\"': 1, 'thunder,': 1, 'croquet-ground': 1, 'life;': 1, 'ridges': 1, 'furrows;': 1, 'balls': 1, 'hedgehogs,': 1, 'mallets': 1, 'flamingoes,': 1, 'double': 1, 'arches.': 1, 'chief': 1, 'managing': 1, 'flamingo;': 1, 'body': 2, 'tucked': 3, 'comfortably': 1, 'generally,': 2, 'straightened': 1, 'hedgehog': 5, 'expression': 1, 'bursting': 1, 'laughing:': 1, 'provoking': 1, 'unrolled': 2, 'act': 1, 'crawling': 1, 'away:': 1, 'besides': 1, 'ridge': 1, 'furrow': 1, 'send': 1, 'doubled-up': 1, 'parts': 1, 'ground,': 1, 'conclusion': 1, 'indeed.': 1, 'players': 2, 'played': 1, 'turns,': 2, 'fighting': 1, 'hedgehogs;': 1, 'furious': 1, 'stamping': 2, 'uneasy:': 1, 'dispute': 2, '\"what': 2, 'me?': 1, \"They're\": 1, 'beheading': 1, 'here:': 1, 'alive!\"': 1, 'escape,': 1, 'seen,': 1, 'appearance': 1, 'air:': 1, 'to.\"': 1, 'with.': 1, 'appeared,': 3, 'nodded.': 1, 'come,': 2, 'flamingo,': 1, 'account': 1, 'game,': 2, 'appeared.': 1, 'fairly,\"': 1, 'complaining': 1, 'quarrel': 1, 'oneself': 1, 'speak--and': 1, 'particular;': 1, 'least,': 1, 'attends': 1, 'confusing': 2, 'alive;': 1, 'arch': 1, 'ground--and': 1, 'croqueted': 1, 'coming!\"': 1, 'Queen?\"': 1, 'all,\"': 3, '\"she\\'s': 1, 'extremely----\"': 1, 'listening:': 1, '\"----likely': 1, 'win,': 1, 'finishing': 1, 'game.\"': 1, 'passed': 4, \"Cat's\": 2, 'friend': 2, 'mine--a': 1, 'Cat,\"': 1, '\"allow': 1, 'King:': 2, '\"however,': 1, 'kiss': 1, 'likes.\"': 1, 'impertinent,\"': 1, 'king,\"': 1, 'book,': 2, 'where.\"': 1, 'removed,\"': 1, 'passing': 1, 'removed!\"': 1, 'settling': 1, 'difficulties,': 1, 'small.': 1, 'executioner': 3, 'myself,\"': 2, 'screaming': 1, 'passion.': 1, 'already': 1, 'executed': 3, 'search': 1, 'hedgehog.': 1, 'fight': 2, 'hedgehog,': 1, 'croqueting': 1, 'flamingo': 2, 'helpless': 1, 'fly': 1, 'trees.': 1, 'hedgehogs': 1, 'sight:': 2, 'arches': 3, 'ground.\"': 1, 'escape': 1, 'friend.': 1, 'collected': 2, 'executioner,': 1, 'appealed': 1, 'settle': 1, 'arguments': 1, 'though,': 1, \"executioner's\": 1, 'unless': 1, 'from:': 1, 'beheaded,': 1, \"weren't\": 1, 'nonsense.': 1, \"she'd\": 1, '(It': 1, 'anxious.)': 1, 'Duchess:': 4, 'prison,\"': 1, 'executioner;': 1, '\"fetch': 1, 'arrow.': 1, 'fading': 1, 'entirely': 2, 'disappeared;': 1, 'wildly': 2, 'game.': 1, 'IX': 1, \"Turtle's\": 2, 'Story': 1, '\"YOU': 1, 'affectionately': 1, \"Alice's,\": 1, 'pleasant': 1, 'temper,': 1, 'kitchen.': 1, '\"When': 3, 'Duchess,\"': 1, '(not': 1, 'hopeful': 1, 'though),': 1, 'Soup': 5, 'without--Maybe': 1, 'hot-tempered,\"': 1, 'rule,': 1, 'vinegar': 1, 'sour--and': 1, 'camomile': 1, 'bitter--and--barley-sugar': 1, 'sweet-tempered.': 1, 'stingy': 1, 'something,': 1, 'forget': 2, 'talk.': 1, 'moral': 6, 'bit.\"': 1, \"hasn't\": 2, '\"Tut,': 1, 'tut,': 1, '\"Every': 1, \"thing's\": 1, 'moral,': 1, 'squeezed': 1, 'closer': 1, 'keeping': 2, 'ugly;': 1, 'shoulder,': 1, 'uncomfortably': 1, 'chin.': 2, 'rude,': 1, 'bore': 1, \"game's\": 1, 'little.': 1, '\"\\'Tis': 2, \"is--'Oh,\": 1, \"'tis\": 2, 'love,': 2, 'round!\\'\"': 1, '\"Somebody': 1, 'said,\"': 1, 'whispered,': 1, 'minding': 1, 'well!': 1, \"is--'Take\": 1, 'themselves.\\'\"': 1, 'morals': 1, 'things!\"': 4, 'waist,\"': 1, 'pause:': 1, 'temper': 1, 'flamingo.': 1, 'Shall': 1, 'experiment?\"': 1, 'bite,\"': 1, 'anxious': 2, 'experiment': 1, 'tried.': 1, 'true,\"': 1, '\"flamingoes': 1, 'mustard': 2, 'bite.': 1, \"is--'Birds\": 1, 'feather': 1, 'flock': 1, 'together.\\'\"': 1, 'bird,\"': 1, '\"Right,': 1, 'usual,\"': 1, 'mineral,': 1, 'is,\"': 2, 'agree': 2, 'said:': 4, '\"there\\'s': 1, 'mustard-mine': 1, \"is--'The\": 1, 'mine,': 1, 'yours.\\'\"': 1, 'attended': 1, 'vegetable.': 1, 'is.\"': 3, \"is--'Be\": 1, \"be'--or\": 1, \"simply--'Never\": 1, 'imagine': 1, 'otherwise': 2, 'appear': 1, 'otherwise.\\'\"': 1, 'better,\"': 1, 'down:': 1, 'follow': 1, 'chose,\"': 1, '\"Pray': 1, 'trouble!\"': 1, 'present': 1, 'cheap': 1, 'present!\"': 1, 'birthday': 1, 'loud.': 1, '\"Thinking': 1, 'dig': 1, 'sharply,': 1, 'worried.': 1, 'pigs': 1, 'fly;': 1, 'm----\"': 1, 'surprise,': 2, \"Duchess's\": 2, 'died': 1, 'favourite': 1, '\"moral,\"': 1, 'linked': 1, 'hers': 3, 'tremble.': 1, 'frowning': 3, 'thunderstorm.': 1, 'fair': 1, 'warning,\"': 1, 'spoke;': 1, '\"either': 1, 'Take': 1, 'choice!\"': 1, 'choice,': 1, 'moment.': 1, '\"Let\\'s': 1, 'game,\"': 1, 'word,': 2, 'croquet-ground.': 1, 'guests': 2, 'absence,': 1, 'shade:': 1, 'delay': 1, 'cost': 1, 'lives.': 1, 'Those': 1, 'whom': 1, 'sentenced': 1, 'custody': 2, 'left,': 1, 'execution.': 1, 'from,\"': 1, 'history.\"': 1, 'together,': 1, 'company': 1, 'pardoned.\"': 1, 'unhappy': 1, 'executions': 2, 'ordered.': 1, 'Gryphon,': 14, '(If': 1, 'Gryphon': 20, 'picture.)': 1, '\"Up,': 1, 'lazy': 1, 'Turtle,': 7, 'history.': 1, 'ordered,\"': 1, 'leaving': 1, 'Gryphon.': 17, 'Queen:': 2, 'rubbed': 1, 'eyes:': 1, 'watched': 2, 'chuckled.': 1, 'fun!\"': 1, 'fun?\"': 1, 'fancy,': 2, 'that:': 2, 'executes': 1, 'nobody,': 2, '\"Everybody': 1, \"'come\": 1, \"on!'\": 1, 'never!\"': 1, 'ledge': 1, 'rock,': 1, 'nearer,': 1, 'sighing': 2, 'heart': 2, 'break.': 1, 'pitied': 1, 'deeply.': 1, 'sorrow?\"': 1, 'answered,': 1, 'sorrow,': 1, 'lady,\"': 1, '\"she': 1, 'her,\"': 1, 'hollow': 1, '\"sit': 1, 'finished.\"': 1, 'finish,': 1, 'patiently.': 1, '\"Once,\"': 1, 'sigh,': 1, 'Turtle.\"': 1, 'These': 1, 'occasional': 1, 'exclamation': 1, '\"Hjckrrh!\"': 1, 'heavy': 2, 'sobbing': 2, 'Turtle.': 9, '\"Thank': 3, 'story,\"': 1, 'little,\"': 1, 'calmly,': 1, 'school': 4, 'sea.': 3, 'Turtle--we': 1, 'Tortoise----\"': 1, 'Tortoise,': 1, 'one?\"': 1, 'Tortoise': 1, 'us,\"': 1, 'angrily:': 1, '\"really': 1, 'dull!\"': 1, 'question,\"': 1, 'Gryphon;': 1, 'sink': 1, '\"Drive': 1, 'fellow.': 1, \"mayn't\": 1, 'it----\"': 1, 'didn\\'t!\"': 2, 'tongue!\"': 2, 'on:--': 1, 'educations--in': 1, 'day----\"': 1, 'day-school,': 1, 'too,\"': 1, 'proud': 2, '\"With': 1, 'extras?\"': 1, 'anxiously.': 1, '\"Yes,\"': 3, 'learned': 1, 'washing?\"': 1, '\"Certainly': 1, 'not!\"': 1, 'school,\"': 1, 'relief.': 2, 'ours': 1, 'bill,': 1, \"'French,\": 1, 'music,': 1, '--extra.\\'\"': 1, '\"living': 1, 'sea.\"': 1, 'afford': 1, 'sigh.': 1, 'regular': 2, 'course.\"': 1, 'inquired': 1, '\"Reeling': 1, 'Writhing,': 1, 'branches': 1, 'Arithmetic--Ambition,': 1, 'Distraction,': 1, 'Uglification,': 1, 'Derision.\"': 1, '\\'Uglification,\\'\"': 1, 'say.': 1, 'lifted': 1, 'surprise.': 2, '\"Never': 2, 'uglifying!\"': 1, 'exclaimed.': 1, 'beautify': 1, 'doubtfully:': 1, 'means--to--make--anything--prettier.\"': 1, 'uglify': 1, 'simpleton.\"': 1, 'encouraged': 1, 'learn?\"': 1, 'Mystery,\"': 1, 'counting': 1, 'subjects': 1, 'flappers,': 1, '\"--Mystery,': 1, 'ancient': 1, 'modern,': 1, 'Seaography:': 1, 'Drawling--the': 1, 'Drawling-master': 1, 'conger-eel,': 1, 'week:': 1, 'Drawling,': 1, 'Stretching,': 1, 'Fainting': 1, 'Coils.\"': 1, 'like?\"': 1, 'stiff.': 1, '\"Hadn\\'t': 1, 'Gryphon:': 3, 'Classical': 1, 'master,': 1, 'though.': 1, 'crab,': 1, 'was.\"': 1, 'Laughing': 1, 'Grief,': 1, 'turn;': 1, 'hid': 1, 'faces': 2, 'paws.': 1, 'lessons?\"': 1, 'subject.': 2, '\"Ten': 1, 'day,\"': 1, 'Turtle:': 4, '\"nine': 1, 'plan!\"': 1, 'lessons,\"': 2, 'lessen': 1, 'day.\"': 1, 'eleventh': 1, 'holiday.\"': 1, 'twelfth?\"': 1, 'eagerly.': 1, '\"tell': 1, 'games': 1, 'X': 1, 'Lobster': 4, 'Quadrille': 2, 'deeply,': 2, 'flapper': 1, 'sobs': 2, '\"Same': 1, 'bone': 1, 'throat,\"': 1, 'punching': 1, 'recovered': 2, 'cheeks,': 1, 'sea--\"': 1, 'haven\\'t,\"': 1, 'Alice)': 1, 'introduced': 1, 'lobster--\"': 1, 'tasted----\"': 1, 'never\")': 1, '\"--so': 1, 'delightful': 2, 'indeed,\"': 2, 'dance': 2, 'form': 1, 'line': 1, 'sea-shore----\"': 1, 'lines!\"': 1, '\"Seals,': 1, 'turtles,': 1, 'on;': 1, 'cleared': 1, 'jelly-fish': 1, 'way----\"': 1, '\"--you': 1, 'advance': 1, 'twice----\"': 1, '\"Each': 1, 'lobster': 1, 'partner!\"': 1, '\"advance': 1, 'partners----\"': 1, '\"--change': 1, 'lobsters,': 3, 'retire': 1, 'order,\"': 1, '\"Then,': 1, 'the----\"': 1, 'lobsters!\"': 1, 'bound': 1, '\"--as': 1, 'can----\"': 1, '\"Swim,': 1, 'somersault': 1, 'sea!\"': 2, 'capering': 1, 'about.': 1, '\"Change': 1, 'lobsters': 3, 'yelled': 1, '\"Back': 1, \"and--that's\": 1, 'figure,\"': 1, 'dropping': 1, 'voice;': 1, 'creatures,': 1, 'quietly,': 1, 'pretty': 1, 'dance,\"': 1, 'timidly.': 1, 'figure!\"': 1, 'sing?\"': 1, 'sing,\"': 1, 'words.\"': 1, 'dancing': 1, 'treading': 2, 'toes': 1, 'close,': 1, 'forepaws': 1, 'mark': 2, 'sadly:--': 1, '\"Will': 1, 'faster?\"': 1, 'whiting': 3, 'snail,': 2, 'porpoise': 1, 'us,': 2, \"he's\": 1, 'See': 1, 'eagerly': 3, 'turtles': 1, 'advance!': 1, 'shingle--will': 1, 'join': 9, 'dance?': 4, 'Will': 4, 'snail': 1, '\"Too': 1, 'far,': 1, 'far!\"': 1, 'askance--': 1, 'thanked': 1, 'kindly,': 1, 'dance.': 5, 'go?\"': 1, 'scaly': 1, 'further': 1, 'England': 1, 'France--': 1, 'pale,': 2, 'beloved': 1, 'dance?\"': 1, 'watch,\"': 1, 'last:': 1, 'song': 1, 'whiting!\"': 1, 'whiting,\"': 2, '\"they--you\\'ve': 1, 'course?\"': 1, 'dinn----\"': 1, 'Dinn': 1, 'like.\"': 1, 'thoughtfully.': 2, 'tails': 3, 'mouths--and': 1, 'crumbs.\"': 1, 'crumbs,\"': 1, '\"crumbs': 1, 'mouths;': 1, 'is--\"': 1, 'thrown': 1, 'mouths.': 1, \"That's\": 1, 'interesting.': 1, 'before.\"': 1, 'whiting?\"': 1, 'solemnly.': 1, 'shoes!\"': 1, 'with?\"': 1, 'mean,': 1, 'shiny?\"': 1, 'answer.': 1, '\"They\\'re': 2, 'blacking,': 1, 'believe.\"': 1, '\"Boots': 1, 'sea,\"': 1, '\"are': 1, 'whiting.': 1, '\"Soles': 1, 'eels,': 1, 'impatiently:': 1, '\"any': 1, 'shrimp': 1, 'thoughts': 2, 'porpoise,': 1, \"'Keep\": 1, 'please:': 1, 'us!\\'\"': 1, 'obliged': 3, '\"no': 1, 'fish': 2, 'anywhere': 1, 'porpoise.\"': 1, '\"Wouldn\\'t': 1, 'really?\"': 1, '\"why,': 1, 'journey,': 1, \"'With\": 1, 'porpoise?\\'\"': 1, '\\'purpose\\'?\"': 1, 'adventures.\"': 1, 'adventures--beginning': 1, 'morning,\"': 1, 'timidly:': 1, 'yesterday,': 1, 'adventures': 2, 'impatient': 1, '\"explanations': 1, 'dreadful': 1, 'time.\"': 1, 'Rabbit.': 1, 'mouths': 1, 'wide,': 1, 'gained': 1, 'courage': 1, 'listeners': 1, 'different,': 1, 'curious.\"': 1, 'now.': 1, '\"Stand': 1, 'sluggard': 1, 'lessons!\"': 1, 'Quadrille,': 1, 'indeed:--': 1, 'Lobster;': 1, 'declare,': 1, \"'You\": 1, 'baked': 1, 'brown,': 1, 'sugar': 1, \"hair.'\": 1, 'duck': 1, 'eyelids,': 1, 'nose': 1, 'Trims': 1, 'belt': 1, 'buttons,': 1, 'turns': 1, 'toes.': 1, 'sands': 1, 'dry,': 1, 'gay': 1, 'lark,': 1, 'contemptuous': 1, 'tones': 2, 'Shark:': 1, 'tide': 1, 'rises': 1, 'sharks': 1, 'around,': 1, 'His': 1, 'tremulous': 1, 'sound.\"': 1, 'child,\"': 1, 'uncommon': 1, 'nonsense.\"': 1, 'nothing;': 1, 'explained,\"': 1, '\"Go': 2, 'verse.\"': 1, 'toes?\"': 1, 'persisted.': 1, 'dancing,\"': 1, 'said;': 1, 'repeated:': 1, '.\\'\"': 1, 'disobey,': 1, 'marked,': 1, 'eye,': 1, 'Owl': 2, 'Panther': 3, 'sharing': 1, 'pie:': 1, 'pie-crust,': 1, 'gravy,': 1, 'meat,': 1, 'share': 1, 'treat.': 1, 'pie': 1, 'finished,': 2, 'Owl,': 1, 'boon,': 1, 'Was': 1, 'kindly': 1, 'permitted': 1, 'pocket': 1, 'spoon:': 1, 'received': 1, 'knife': 1, 'fork': 1, 'banquet': 1, 'by----\"': 1, 'stuff,\"': 1, 'on?': 1, 'heard!\"': 1, 'off,\"': 1, '\"Shall': 1, 'figure': 1, 'Quadrille?\"': 1, '\"Or': 1, 'song?\"': 1, 'kind,\"': 1, '\"H\\'m!': 1, 'accounting': 1, 'tastes!': 1, 'Sing': 1, 'fellow?\"': 1, 'sobs,': 1, '\"Beautiful': 2, 'Soup,': 1, 'rich': 1, 'green,': 1, 'Waiting': 1, 'tureen!': 1, 'dainties': 1, 'stoop?': 1, 'evening,': 2, 'Soup!': 4, 'Beau--ootiful': 4, 'Soo--oop!': 4, 'Soo--oop': 2, 'e--e--evening,': 3, 'Beautiful,': 3, 'cares': 2, 'fish,': 1, 'Game,': 1, 'dish?': 1, 'Pennyworth': 2, 'Soup?': 2, 'beauti--FUL': 1, 'SOUP!\"': 1, '\"Chorus': 1, \"trial's\": 3, 'beginning!\"': 1, 'song.': 1, 'trial': 4, 'panted': 1, 'ran;': 1, 'faster,': 1, 'breeze': 1, 'words:--': 1, '\"Soo--oop': 1, 'Soup!\"': 1, 'XI': 1, 'Stole': 1, 'Hearts': 1, 'seated': 1, 'throne': 1, 'arrived,': 1, 'them--all': 1, 'cards:': 1, 'standing': 1, 'chains,': 1, 'soldier': 1, 'guard': 1, 'him;': 1, 'trumpet': 1, 'scroll': 1, 'parchment': 2, 'other.': 2, 'court': 5, 'tarts': 3, 'good,': 1, 'them--\"I': 1, 'done,\"': 2, 'refreshments!\"': 1, 'pass': 1, 'justice': 1, 'books,': 1, 'judge,\"': 1, 'wig.\"': 1, 'King;': 4, 'wore': 1, 'wig,': 1, 'comfortable,': 1, 'becoming.': 1, 'jury-box,\"': 1, 'twelve': 2, 'creatures,\"': 1, '\"creatures,\"': 1, 'animals,': 1, 'birds,)': 1, 'jurors.\"': 1, 'rightly': 1, 'too,': 1, '\"jurymen\"': 1, 'jurors': 3, 'writing': 4, 'slates.': 1, 'doing?\"': 1, 'yet,': 3, 'begun.\"': 1, 'tarts?': 1, 'names,\"': 1, 'reply,': 1, 'trial.\"': 1, '\"Stupid': 1, 'indignant': 1, '\"Silence': 1, 'court!\"': 1, 'spectacles': 1, 'shoulders,': 1, '\"stupid': 1, 'slates,': 4, 'spell': 1, '\"stupid,\"': 1, 'neighbour': 1, 'muddle': 1, 'slates': 2, 'One': 1, 'pencil': 1, 'squeaked.': 1, 'This,': 1, 'stand,': 1, 'quickly': 2, 'juror': 1, 'Lizard)': 1, 'day;': 1, 'use,': 1, 'slate.': 1, '\"Herald,': 1, 'accusation!\"': 1, 'King.': 12, 'blew': 2, 'blasts': 2, 'trumpet,': 2, 'scroll,': 1, 'follows:': 1, 'tarts,': 3, 'summer': 2, 'day:': 1, 'verdict,\"': 3, 'jury.': 2, 'yet!\"': 1, 'interrupted.': 1, 'witness,\"': 1, '\"First': 1, 'witness!\"': 2, 'witness': 4, 'teacup': 3, 'bread-and-butter': 2, 'pardon,': 1, 'in;': 1, 'sent': 2, 'for.\"': 1, 'finished,\"': 1, 'begin?\"': 1, 'court,': 6, 'arm-in-arm': 1, 'Dormouse.': 3, '\"Fourteenth': 1, 'March,': 1, '\"Fifteenth,\"': 1, '\"Sixteenth,\"': 1, '\"Write': 1, 'down,\"': 3, 'jury,': 4, 'wrote': 3, 'dates': 1, 'reduced': 1, 'shillings': 1, 'pence.': 1, 'hat,\"': 1, 'mine,\"': 1, 'Stolen!': 1, 'exclaimed,': 1, 'memorandum': 1, 'fact.': 1, 'sell,\"': 1, 'explanation:': 1, 'own.': 1, 'hatter.\"': 1, 'spectacles,': 1, 'fidgeted.': 1, '\"Give': 3, 'evidence,\"': 3, 'nervous,': 1, 'spot.\"': 1, 'encourage': 1, 'all:': 2, 'shifting': 1, 'uneasily': 1, 'bread-and-butter.': 1, 'sensation,': 1, 'court;': 1, 'remain': 1, 'squeeze': 1, 'breathe.\"': 1, 'meekly:': 1, 'growing.\"': 1, '\"You\\'ve': 1, 'nonsense,\"': 1, 'boldly:': 1, 'too.\"': 1, 'reasonable': 1, 'pace,\"': 1, '\"not': 2, 'ridiculous': 1, 'fashion.\"': 1, 'court.': 4, 'officers': 3, '\"Bring': 1, 'list': 2, 'singers': 1, 'concert!\"': 1, 'shoes.': 1, 'man,': 2, '\"--and': 2, 'tea--not': 1, 'week': 2, 'so--and': 1, 'thin--and': 1, 'twinkling': 3, 'tea----\"': 1, 'T!\"': 1, 'dunce?': 1, 'Go': 1, 'man,\"': 1, 'twinkled': 1, 'that--only': 1, 'did!\"': 1, 'deny': 2, 'denies': 1, '\"leave': 1, 'part.\"': 1, 'too:': 1, 'denied': 1, 'asleep.': 1, 'bread-and-butter----\"': 1, 'say?\"': 1, 'remember,\"': 2, 'remarked': 1, 'executed.\"': 1, 'miserable': 2, 'knee.': 1, 'speaker': 1, 'guinea-pigs': 1, 'cheered,': 2, 'suppressed': 3, '(As': 1, 'done.': 1, 'canvas': 1, 'bag,': 1, 'strings:': 1, 'guinea-pig,': 1, 'newspapers,': 1, 'trials,': 1, \"'There\": 1, 'applause,': 1, \"court,'\": 1, 'understood': 1, 'lower,\"': 1, 'guinea-pig': 1, 'suppressed.': 1, 'finishes': 1, 'guinea-pigs!\"': 1, 'better.\"': 1, 'reading': 2, 'singers.': 1, 'outside,\"': 1, 'officers;': 1, 'officer': 1, 'cook.': 3, 'pepper-box': 1, '\"Sha\\'n\\'t,\"': 1, 'Majesty': 2, 'cross-examine': 2, 'witness.\"': 2, 'must,': 1, 'must,\"': 1, 'folding': 1, '\"Pepper,': 1, 'mostly,\"': 1, '\"Collar': 1, 'shrieked': 1, '\"Behead': 1, 'Dormouse!': 1, 'Turn': 1, 'court!': 1, 'Suppress': 1, 'him!': 2, 'Pinch': 1, 'whiskers.\"': 1, 'disappeared.': 1, 'mind!\"': 1, 'undertone': 1, 'witness.': 1, 'ache!\"': 1, 'fumbled': 1, 'list,': 1, '\"--for': 1, 'evidence': 3, 'Imagine': 1, 'shrill': 3, '\"Alice!\"': 1, 'XII': 1, 'Evidence': 1, '\"HERE!\"': 1, 'flurry': 1, 'tipped': 1, 'jury-box': 1, 'skirt,': 1, 'upsetting': 1, 'jurymen': 2, 'below,': 1, 'sprawling': 1, 'reminding': 1, 'globe': 1, 'gold-fish': 2, 'accidentally': 1, 'before.': 2, 'dismay,': 1, 'accident': 1, 'vague': 1, 'jury-box,': 2, 'die.': 1, 'cannot': 1, 'proceed,\"': 1, '\"until': 1, 'places--': 1, 'emphasis,': 1, 'haste,': 1, 'Lizard': 2, 'downwards,': 1, 'unable': 1, 'move.': 1, 'right;': 1, 'signifies': 1, 'other.\"': 1, 'shock': 1, 'upset,': 1, 'pencils': 1, 'diligently': 1, 'history': 1, 'accident,': 1, 'overcome': 1, 'open,': 1, 'gazing': 1, 'business?\"': 1, '\"Nothing,\"': 1, '\"Nothing': 3, 'persisted': 1, 'whatever,\"': 1, 'important,\"': 1, 'interrupted:': 1, 'Un': 2, 'important,': 2, 'means,': 1, 'respectful': 1, 'meant,\"': 1, 'undertone,\"important--unimportant--unimportant--important----\"': 1, 'best.': 1, '\"important,\"': 1, '\"unimportant.\"': 1, 'slates;': 1, 'note-book,': 1, '\"Silence!\"': 1, '\"Rule': 1, 'Forty-two.': 1, 'persons': 1, 'mile': 2, 'high,\"': 2, 'are,\"': 1, '\"Nearly': 1, 'rate,\"': 1, '\"besides,': 1, 'rule:': 1, 'invented': 1, 'oldest': 1, 'Number': 1, 'One,\"': 1, 'note-book': 1, '\"this': 1, 'prisoner': 1, 'to--to': 1, 'somebody.\"': 1, '\"unless': 1, 'usual,': 1, 'directed': 2, 'jurymen.': 2, 'Rabbit;': 1, 'outside': 1, 'letter': 1, 'verses.\"': 1, \"prisoner's\": 1, 'handwriting?\"': 1, 'queerest': 1, '(The': 3, 'puzzled.)': 1, 'imitated': 1, \"else's\": 1, 'hand,\"': 1, 'again.)': 1, 'prove': 2, 'did:': 1, 'signed': 2, 'end.\"': 1, 'sign': 1, 'worse.': 1, 'mischief,': 1, 'honest': 1, 'man.\"': 1, 'clapping': 1, 'clever': 1, 'proves': 1, 'guilt,': 1, '\"so,': 1, 'with----\"': 1, 'sort!\"': 1, 'about!\"': 1, '\"Read': 1, 'spectacles.': 1, '\"Where': 1, 'begin,': 1, 'Majesty?\"': 1, '\"Begin': 1, 'beginning,\"': 1, 'end;': 1, 'stop.\"': 1, 'whilst': 1, 'verses:--': 1, 'character,': 1, 'swim.': 1, '(We': 1, 'true):': 1, 'push': 2, 'more;': 1, 'returned': 2, 'Though': 1, 'Involved': 1, 'affair,': 1, 'trusts': 1, 'free,': 1, 'Exactly': 1, 'were.': 1, 'My': 1, '(Before': 1, 'fit)': 1, 'obstacle': 1, 'Him,': 1, 'ourselves,': 1, 'secret,': 1, 'rest,': 1, 'Between': 1, 'me.\"': 1, 'hands;': 1, 'jury----\"': 1, 'him,)': 1, 'sixpence.': 1, 'atom': 2, 'attempted': 1, 'paper.': 1, 'saves': 1, 'trouble,': 1, 'any.': 1, 'spreading': 1, 'verses': 2, 'knee,': 3, \"'----\": 1, \"--'\": 4, 'Knave.': 1, 'cardboard.)': 1, 'himself:': 1, '\"\\'': 1, 'true': 1, \"course--'\": 1, \"'--that\": 1, \"Queen--'\": 1, \"'--What,\": 1, \"indeed!--'\": 1, 'are!\"': 1, 'triumphantly,': 1, 'clearer': 1, \"again--'\": 1, 'fit': 2, 'fits': 1, '\"Never!\"': 1, 'furiously,': 1, 'inkstand': 1, 'slate': 1, 'finger,': 1, 'mark;': 1, 'ink,': 1, 'trickling': 1, 'lasted.)': 1, 'smile.': 1, 'pun!\"': 1, 'laughed.': 1, 'twentieth': 1, 'no!\"': 1, '\"Sentence': 1, 'first--verdict': 1, 'afterwards.\"': 1, '\"Stuff': 1, 'loudly.': 1, 'first!\"': 1, 'purple.': 1, 'won\\'t!\"': 1, 'Nobody': 1, 'moved.': 1, 'cards!\"': 1, 'scream,': 1, 'fright': 1, 'anger,': 1, 'sister,': 2, 'brushing': 1, 'fluttered': 1, 'sister.': 1, 'had!\"': 1, 'dream!\"': 1, 'about;': 1, 'kissed': 1, 'dream,': 1, 'tea;': 1, 'late.\"': 1, 'ran,': 1, 'might,': 1, 'wonderful': 2, 'been.': 1, 'BUT': 1, 'sun,': 1, 'Adventures,': 1, 'dreaming': 1, 'fashion,': 1, 'dream:': 1, 'dreamed': 1, 'clasped': 1, 'hers--she': 1, 'toss': 1, 'wandering': 1, 'eyes--and': 1, 'listened,': 1, 'listen,': 1, 'around': 2, 'alive': 1, \"sister's\": 1, 'dream.': 1, 'grass': 2, 'rustled': 1, 'by--the': 1, 'splashed': 1, 'neighbouring': 1, 'pool--she': 1, 'rattle': 1, 'teacups': 2, 'shared': 1, 'never-ending': 1, 'meal,': 1, 'execution--once': 1, 'pig-baby': 1, \"Duchess'\": 1, 'plates': 1, 'dishes': 1, 'crashed': 1, 'it--once': 1, \"Lizard's\": 1, 'slate-pencil,': 1, 'choking': 1, 'believed': 1, 'reality--the': 1, 'rustling': 1, 'rippling': 1, 'reeds--the': 1, 'tinkling': 1, 'sheep-bells,': 1, 'cries': 1, 'shepherd': 1, 'boy--and': 1, 'sneeze': 1, 'noises,': 1, 'knew)': 1, 'clamour': 1, 'farm-yard--while': 1, 'lowing': 1, 'cattle': 1, 'distance': 1, 'sobs.': 1, 'Lastly,': 1, 'pictured': 1, 'would,': 1, 'after-time,': 1, 'woman;': 1, 'keep,': 1, 'riper': 1, 'years,': 1, 'loving': 1, 'childhood:': 1, 'gather': 1, 'tale,': 1, 'Wonderland': 1, 'ago:': 1, 'sorrows,': 1, 'joys,': 1, 'remembering': 1, 'child-life,': 1, 'days.': 1, 'END': 1, 'ILLUSTRATIONS': 1, 'REPRODUCED': 1, 'HENTSCHEL': 1, 'COLOURTYPE': 1, 'TEXT': 1, 'BALLANTYNE': 2, '&': 1, 'COMPANY': 1, 'LTD': 1, 'AT': 1, 'PRESS': 1, 'TAVISTOCK': 1, 'STREET': 1, 'LONDON': 1, 'End': 1, 'Project': 1}\n"
     ]
    }
   ],
   "source": [
    "from operator import itemgetter\n",
    "with open('alice.txt') as fin:\n",
    "    word_freq = {}\n",
    "    text = fin.read()\n",
    "    text = text.split()\n",
    "    for word in text:\n",
    "        word_freq[word] = word_freq.get(word,0)+1\n",
    "        \n",
    "print(word_freq)\n",
    "       "
   ]
  },
  {
   "cell_type": "markdown",
   "metadata": {},
   "source": []
  }
 ],
 "metadata": {
  "kernelspec": {
   "display_name": "Python 3",
   "language": "python",
   "name": "python3"
  },
  "language_info": {
   "codemirror_mode": {
    "name": "ipython",
    "version": 3
   },
   "file_extension": ".py",
   "mimetype": "text/x-python",
   "name": "python",
   "nbconvert_exporter": "python",
   "pygments_lexer": "ipython3",
   "version": "3.8.3"
  }
 },
 "nbformat": 4,
 "nbformat_minor": 4
}
